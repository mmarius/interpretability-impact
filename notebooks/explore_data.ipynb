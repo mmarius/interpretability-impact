{
 "cells": [
  {
   "cell_type": "code",
   "execution_count": 3,
   "metadata": {},
   "outputs": [],
   "source": [
    "import os, sys\n",
    "sys.path.append(os.path.dirname(os.getcwd()))"
   ]
  },
  {
   "cell_type": "code",
   "execution_count": 5,
   "metadata": {},
   "outputs": [
    {
     "data": {
      "text/html": [
       "<pre style=\"white-space:pre;overflow-x:auto;line-height:normal;font-family:Menlo,'DejaVu Sans Mono',consolas,'Courier New',monospace\">\n",
       "</pre>\n"
      ],
      "text/plain": [
       "\n"
      ]
     },
     "metadata": {},
     "output_type": "display_data"
    }
   ],
   "source": [
    "from utils import *\n",
    "\n",
    "import pandas as pd"
   ]
  },
  {
   "cell_type": "code",
   "execution_count": 9,
   "metadata": {},
   "outputs": [],
   "source": [
    "df = pd.read_csv(\"../data/emnlp2021.tsv\", sep=\"\\t\")"
   ]
  },
  {
   "cell_type": "code",
   "execution_count": 10,
   "metadata": {},
   "outputs": [
    {
     "data": {
      "text/html": [
       "<div>\n",
       "<style scoped>\n",
       "    .dataframe tbody tr th:only-of-type {\n",
       "        vertical-align: middle;\n",
       "    }\n",
       "\n",
       "    .dataframe tbody tr th {\n",
       "        vertical-align: top;\n",
       "    }\n",
       "\n",
       "    .dataframe thead th {\n",
       "        text-align: right;\n",
       "    }\n",
       "</style>\n",
       "<table border=\"1\" class=\"dataframe\">\n",
       "  <thead>\n",
       "    <tr style=\"text-align: right;\">\n",
       "      <th></th>\n",
       "      <th>Track</th>\n",
       "      <th>Title</th>\n",
       "      <th>Authors</th>\n",
       "      <th>Acceptance_Status</th>\n",
       "    </tr>\n",
       "  </thead>\n",
       "  <tbody>\n",
       "    <tr>\n",
       "      <th>0</th>\n",
       "      <td>Computational Social Science and Cultural Anal...</td>\n",
       "      <td>How Does Counterfactually Augmented Data Impac...</td>\n",
       "      <td>Indira Sen, Mattia Samory, Fabian Flöck, Claud...</td>\n",
       "      <td>Accept-Oral</td>\n",
       "    </tr>\n",
       "    <tr>\n",
       "      <th>1</th>\n",
       "      <td>Computational Social Science and Cultural Anal...</td>\n",
       "      <td>Mining the Cause of Political Decision-Making ...</td>\n",
       "      <td>Zhijing Jin, Zeyu Peng, Tejas Vaidhya, Bernhar...</td>\n",
       "      <td>Accept-Findings</td>\n",
       "    </tr>\n",
       "    <tr>\n",
       "      <th>2</th>\n",
       "      <td>Computational Social Science and Cultural Anal...</td>\n",
       "      <td>{WHOS}e {H}eritage: {C}lassification of {UNESC...</td>\n",
       "      <td>Nan Bai, Renqian Luo, Pirouz Nourian and Ana P...</td>\n",
       "      <td>Accept-Findings</td>\n",
       "    </tr>\n",
       "    <tr>\n",
       "      <th>3</th>\n",
       "      <td>Computational Social Science and Cultural Anal...</td>\n",
       "      <td>To Protect and To Serve? Analyzing Entity-Cent...</td>\n",
       "      <td>Caleb Ziems and Diyi Yang</td>\n",
       "      <td>Accept-Findings</td>\n",
       "    </tr>\n",
       "    <tr>\n",
       "      <th>4</th>\n",
       "      <td>Computational Social Science and Cultural Anal...</td>\n",
       "      <td>An unsupervised framework for tracing textual ...</td>\n",
       "      <td>Aida Ramezani, Zining Zhu, Frank Rudzicz and Y...</td>\n",
       "      <td>Accept-Findings</td>\n",
       "    </tr>\n",
       "  </tbody>\n",
       "</table>\n",
       "</div>"
      ],
      "text/plain": [
       "                                               Track  \\\n",
       "0  Computational Social Science and Cultural Anal...   \n",
       "1  Computational Social Science and Cultural Anal...   \n",
       "2  Computational Social Science and Cultural Anal...   \n",
       "3  Computational Social Science and Cultural Anal...   \n",
       "4  Computational Social Science and Cultural Anal...   \n",
       "\n",
       "                                               Title  \\\n",
       "0  How Does Counterfactually Augmented Data Impac...   \n",
       "1  Mining the Cause of Political Decision-Making ...   \n",
       "2  {WHOS}e {H}eritage: {C}lassification of {UNESC...   \n",
       "3  To Protect and To Serve? Analyzing Entity-Cent...   \n",
       "4  An unsupervised framework for tracing textual ...   \n",
       "\n",
       "                                             Authors Acceptance_Status  \n",
       "0  Indira Sen, Mattia Samory, Fabian Flöck, Claud...       Accept-Oral  \n",
       "1  Zhijing Jin, Zeyu Peng, Tejas Vaidhya, Bernhar...   Accept-Findings  \n",
       "2  Nan Bai, Renqian Luo, Pirouz Nourian and Ana P...   Accept-Findings  \n",
       "3                          Caleb Ziems and Diyi Yang   Accept-Findings  \n",
       "4  Aida Ramezani, Zining Zhu, Frank Rudzicz and Y...   Accept-Findings  "
      ]
     },
     "execution_count": 10,
     "metadata": {},
     "output_type": "execute_result"
    }
   ],
   "source": [
    "df.head()"
   ]
  },
  {
   "cell_type": "code",
   "execution_count": 11,
   "metadata": {},
   "outputs": [],
   "source": [
    "df_filtered = filter_df(df, Track=\"Interpretability and Analysis of Models for NLP\", Acceptance_Status=\"Accept-Oral\")"
   ]
  },
  {
   "cell_type": "code",
   "execution_count": 12,
   "metadata": {},
   "outputs": [
    {
     "name": "stdout",
     "output_type": "stream",
     "text": [
      "narrative theory for computational narrative understanding\n"
     ]
    }
   ],
   "source": [
    "title = df_filtered.iloc[1].Title\n",
    "print(str(title).lower())"
   ]
  },
  {
   "cell_type": "code",
   "execution_count": 13,
   "metadata": {},
   "outputs": [],
   "source": [
    "doi = get_acl_anthology_doi(title)"
   ]
  },
  {
   "cell_type": "code",
   "execution_count": 14,
   "metadata": {},
   "outputs": [
    {
     "data": {
      "text/plain": [
       "'10.18653/v1/2021.emnlp-main.26'"
      ]
     },
     "execution_count": 14,
     "metadata": {},
     "output_type": "execute_result"
    }
   ],
   "source": [
    "doi"
   ]
  }
 ],
 "metadata": {
  "kernelspec": {
   "display_name": "semanticscholarapi",
   "language": "python",
   "name": "python3"
  },
  "language_info": {
   "codemirror_mode": {
    "name": "ipython",
    "version": 3
   },
   "file_extension": ".py",
   "mimetype": "text/x-python",
   "name": "python",
   "nbconvert_exporter": "python",
   "pygments_lexer": "ipython3",
   "version": "3.11.5"
  }
 },
 "nbformat": 4,
 "nbformat_minor": 2
}
