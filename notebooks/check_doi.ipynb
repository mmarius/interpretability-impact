{
 "cells": [
  {
   "cell_type": "code",
   "execution_count": 50,
   "metadata": {},
   "outputs": [],
   "source": [
    "import os, sys\n",
    "sys.path.append(os.path.dirname(os.getcwd()))"
   ]
  },
  {
   "cell_type": "code",
   "execution_count": 51,
   "metadata": {},
   "outputs": [
    {
     "data": {
      "text/html": [
       "<pre style=\"white-space:pre;overflow-x:auto;line-height:normal;font-family:Menlo,'DejaVu Sans Mono',consolas,'Courier New',monospace\">\n",
       "</pre>\n"
      ],
      "text/plain": [
       "\n"
      ]
     },
     "metadata": {},
     "output_type": "display_data"
    }
   ],
   "source": [
    "from acl_anthology import Anthology\n",
    "# Instantiate the Anthology from the official repository\n",
    "# This will download the Anthology once at the beginning\n",
    "anthology = Anthology.from_repo()"
   ]
  },
  {
   "cell_type": "code",
   "execution_count": 52,
   "metadata": {},
   "outputs": [],
   "source": [
    "from utils import *\n",
    "\n",
    "import matplotlib.pyplot as plt\n",
    "import pandas as pd"
   ]
  },
  {
   "cell_type": "code",
   "execution_count": 53,
   "metadata": {},
   "outputs": [],
   "source": [
    "from difflib import SequenceMatcher\n",
    "\n",
    "def similar(a, b):\n",
    "    return SequenceMatcher(None, a, b).ratio()"
   ]
  },
  {
   "cell_type": "code",
   "execution_count": 54,
   "metadata": {},
   "outputs": [
    {
     "name": "stdout",
     "output_type": "stream",
     "text": [
      "9282\n"
     ]
    }
   ],
   "source": [
    "df = pd.read_csv(\"../data/parsed_data.csv\", sep=\",\", index_col=0)\n",
    "print(len(df))"
   ]
  },
  {
   "cell_type": "code",
   "execution_count": 55,
   "metadata": {},
   "outputs": [
    {
     "data": {
      "text/html": [
       "<div>\n",
       "<style scoped>\n",
       "    .dataframe tbody tr th:only-of-type {\n",
       "        vertical-align: middle;\n",
       "    }\n",
       "\n",
       "    .dataframe tbody tr th {\n",
       "        vertical-align: top;\n",
       "    }\n",
       "\n",
       "    .dataframe thead th {\n",
       "        text-align: right;\n",
       "    }\n",
       "</style>\n",
       "<table border=\"1\" class=\"dataframe\">\n",
       "  <thead>\n",
       "    <tr style=\"text-align: right;\">\n",
       "      <th></th>\n",
       "      <th>id</th>\n",
       "      <th>title</th>\n",
       "      <th>area</th>\n",
       "      <th>interpretability</th>\n",
       "      <th>doi</th>\n",
       "      <th>source</th>\n",
       "    </tr>\n",
       "  </thead>\n",
       "  <tbody>\n",
       "    <tr>\n",
       "      <th>0</th>\n",
       "      <td>main.8</td>\n",
       "      <td>Large Scale Multi-Actor Generative Dialog Mode...</td>\n",
       "      <td>Dialogue and Interactive Systems</td>\n",
       "      <td>False</td>\n",
       "      <td>10.18653/v1/2020.acl-main.8</td>\n",
       "      <td>ACL2020</td>\n",
       "    </tr>\n",
       "    <tr>\n",
       "      <th>1</th>\n",
       "      <td>main.52</td>\n",
       "      <td>CDL: Curriculum Dual Learning for Emotion-Cont...</td>\n",
       "      <td>Dialogue and Interactive Systems</td>\n",
       "      <td>False</td>\n",
       "      <td>10.18653/v1/2020.acl-main.52</td>\n",
       "      <td>ACL2020</td>\n",
       "    </tr>\n",
       "    <tr>\n",
       "      <th>2</th>\n",
       "      <td>main.46</td>\n",
       "      <td>Emergence of Syntax Needs Minimal Supervision</td>\n",
       "      <td>Theory and Formalism in NLP (Linguistic and Ma...</td>\n",
       "      <td>False</td>\n",
       "      <td>10.18653/v1/2020.acl-main.46</td>\n",
       "      <td>ACL2020</td>\n",
       "    </tr>\n",
       "    <tr>\n",
       "      <th>3</th>\n",
       "      <td>main.359</td>\n",
       "      <td>Selecting Backtranslated Data from Multiple So...</td>\n",
       "      <td>Machine Translation</td>\n",
       "      <td>False</td>\n",
       "      <td>10.18653/v1/2020.acl-main.359</td>\n",
       "      <td>ACL2020</td>\n",
       "    </tr>\n",
       "    <tr>\n",
       "      <th>4</th>\n",
       "      <td>main.417</td>\n",
       "      <td>ParaCrawl: Web-Scale Acquisition of Parallel C...</td>\n",
       "      <td>Resources and Evaluation</td>\n",
       "      <td>False</td>\n",
       "      <td>10.18653/v1/2020.acl-main.417</td>\n",
       "      <td>ACL2020</td>\n",
       "    </tr>\n",
       "  </tbody>\n",
       "</table>\n",
       "</div>"
      ],
      "text/plain": [
       "         id                                              title  \\\n",
       "0    main.8  Large Scale Multi-Actor Generative Dialog Mode...   \n",
       "1   main.52  CDL: Curriculum Dual Learning for Emotion-Cont...   \n",
       "2   main.46      Emergence of Syntax Needs Minimal Supervision   \n",
       "3  main.359  Selecting Backtranslated Data from Multiple So...   \n",
       "4  main.417  ParaCrawl: Web-Scale Acquisition of Parallel C...   \n",
       "\n",
       "                                                area interpretability  \\\n",
       "0                   Dialogue and Interactive Systems            False   \n",
       "1                   Dialogue and Interactive Systems            False   \n",
       "2  Theory and Formalism in NLP (Linguistic and Ma...            False   \n",
       "3                                Machine Translation            False   \n",
       "4                           Resources and Evaluation            False   \n",
       "\n",
       "                             doi   source  \n",
       "0    10.18653/v1/2020.acl-main.8  ACL2020  \n",
       "1   10.18653/v1/2020.acl-main.52  ACL2020  \n",
       "2   10.18653/v1/2020.acl-main.46  ACL2020  \n",
       "3  10.18653/v1/2020.acl-main.359  ACL2020  \n",
       "4  10.18653/v1/2020.acl-main.417  ACL2020  "
      ]
     },
     "execution_count": 55,
     "metadata": {},
     "output_type": "execute_result"
    }
   ],
   "source": [
    "df.head()"
   ]
  },
  {
   "cell_type": "code",
   "execution_count": 56,
   "metadata": {},
   "outputs": [
    {
     "data": {
      "text/html": [
       "<div>\n",
       "<style scoped>\n",
       "    .dataframe tbody tr th:only-of-type {\n",
       "        vertical-align: middle;\n",
       "    }\n",
       "\n",
       "    .dataframe tbody tr th {\n",
       "        vertical-align: top;\n",
       "    }\n",
       "\n",
       "    .dataframe thead th {\n",
       "        text-align: right;\n",
       "    }\n",
       "</style>\n",
       "<table border=\"1\" class=\"dataframe\">\n",
       "  <thead>\n",
       "    <tr style=\"text-align: right;\">\n",
       "      <th></th>\n",
       "      <th>id</th>\n",
       "      <th>title</th>\n",
       "      <th>area</th>\n",
       "      <th>interpretability</th>\n",
       "      <th>doi</th>\n",
       "      <th>source</th>\n",
       "    </tr>\n",
       "  </thead>\n",
       "  <tbody>\n",
       "  </tbody>\n",
       "</table>\n",
       "</div>"
      ],
      "text/plain": [
       "Empty DataFrame\n",
       "Columns: [id, title, area, interpretability, doi, source]\n",
       "Index: []"
      ]
     },
     "execution_count": 56,
     "metadata": {},
     "output_type": "execute_result"
    }
   ],
   "source": [
    "df_no_doi = df[df['doi'].isna()]\n",
    "df_no_doi"
   ]
  },
  {
   "cell_type": "code",
   "execution_count": 31,
   "metadata": {},
   "outputs": [
    {
     "data": {
      "text/plain": [
       "source\n",
       "EMNLP2018    60\n",
       "EMNLP2020    48\n",
       "ACL2018      24\n",
       "EMNLP2022    22\n",
       "ACL2019      18\n",
       "Name: count, dtype: int64"
      ]
     },
     "execution_count": 31,
     "metadata": {},
     "output_type": "execute_result"
    }
   ],
   "source": [
    "df_no_doi['source'].value_counts()"
   ]
  },
  {
   "cell_type": "code",
   "execution_count": 32,
   "metadata": {},
   "outputs": [
    {
     "name": "stderr",
     "output_type": "stream",
     "text": [
      "100%|█████████████████████████████████████████████████████████████████████████████████████████████████████████████████████████████████████████████████████████████████████████████████████████████████████████████████████████████████████████| 9282/9282 [15:52<00:00,  9.75it/s]\n"
     ]
    }
   ],
   "source": [
    "titles_and_dois = [(row['title'], row['doi']) for index, row in df.iterrows()]\n",
    "\n",
    "def find_anthology_title_and_doi(title):\n",
    "    threshold = 0.9\n",
    "    for paper in anthology.papers():\n",
    "        if similar(title, str(paper.title)) >= threshold:\n",
    "            return title, paper.doi\n",
    "    return None, None\n",
    "\n",
    "updates = {}\n",
    "for idx, (title, doi) in enumerate(tqdm(titles_and_dois)):\n",
    "    if type(doi) == str:\n",
    "        continue\n",
    "\n",
    "    updated_title, doi = find_anthology_title_and_doi(title)\n",
    "    if updated_title is not None and doi is not None:\n",
    "        updates[idx] = {'title': updated_title, 'doi': doi}\n",
    "\n",
    "for index, update in updates.items():\n",
    "    df.at[index, 'doi'] = update['doi']\n"
   ]
  },
  {
   "cell_type": "code",
   "execution_count": 33,
   "metadata": {},
   "outputs": [
    {
     "data": {
      "text/plain": [
       "137"
      ]
     },
     "execution_count": 33,
     "metadata": {},
     "output_type": "execute_result"
    }
   ],
   "source": [
    "len(updates)"
   ]
  },
  {
   "cell_type": "code",
   "execution_count": 45,
   "metadata": {},
   "outputs": [
    {
     "name": "stdout",
     "output_type": "stream",
     "text": [
      "0\n"
     ]
    },
    {
     "data": {
      "text/plain": [
       "[]"
      ]
     },
     "execution_count": 45,
     "metadata": {},
     "output_type": "execute_result"
    }
   ],
   "source": [
    "df_no_doi = df[df['doi'].isna()]\n",
    "print(len(df_no_doi))\n",
    "list(df_no_doi['title'])"
   ]
  },
  {
   "cell_type": "code",
   "execution_count": 49,
   "metadata": {},
   "outputs": [],
   "source": [
    "manual_title_to_doi = {\n",
    "    'Learning Neural Embeddings for CLIR with Adversarial Framework': '10.18653/v1/D18-1212',\n",
    "    'Modeling Inter-Aspect Relation in Aspect-Based Sentiment Analysis': '10.18653/v1/N18-2043',\n",
    "    'Interpretable Emoji Prediction via Multi-Attention LSTMs': '10.18653/v1/D18-1508',\n",
    "    'Variational Sequential Labelers for Semi-Supervised Sequence Labeling': '10.18653/v1/D18-1020',\n",
    "    'Neural Latent Relational Analysis to Capture Lexical Semantic Relation': '10.18653/v1/D18-1058',\n",
    "    'Sentence Editing under Quantifiable Guidance': '10.18653/v1/D18-1420',\n",
    "    'Multi-Reference Training with Pseudo-Reference Generation for Text Generation': '10.18653/v1/D18-1357',\n",
    "    '$\\infty$-former: Infinite Memory Transformer': '10.18653/v1/2022.acl-long.375',\n",
    "    'Adaptive Multi-pass Decoder for Neural Machine Translation with Reinforcement Learning': '10.18653/v1/D18-1048',\n",
    "    'Context-Attentive Embeddings for Improved Sentence Representations': '10.18653/v1/D18-1176',\n",
    "    'The Importance of Joint Multilingual Supervision for Cross-lingual Entity Linking': '10.18653/v1/D18-1270',\n",
    "    'Modeling Game-Based Video-Context Dialogue': '10.18653/v1/D18-1012',\n",
    "    'Cube Pruning for Neural Machine Translation': '10.18653/v1/D18-1460',\n",
    "    'Noise Contrastive Estimation for Conditional Models: Consistency and Statistical Efficiency': '10.18653/v1/D18-1405',\n",
    "    ' Do \"Undocumented Workers\" == \"Illegal Aliens\"? Differentiating Denotation and Connotation in Vector Spaces ': '10.18653/v1/2020.emnlp-main.335',\n",
    "    'Consistent Unsupervised Estimators for Anchored PCFGs': '10.1162/tacl_a_00323',\n",
    "    'Suspense in Short Stories is Predicted By Uncertainty Reduction over Neural Story Representation': '10.18653/v1/2020.acl-main.161',\n",
    "    'Boosting Neural Machine Translation with Similar Translations': '10.18653/v1/2020.acl-main.144',\n",
    "    '{A} {T}hree-{S}tage {L}earning {F}ramework for {L}ow-{R}esource {K}nowledge-{G}rounded {D}ialogue {G}eneration': '10.18653/v1/2021.emnlp-main.173',\n",
    "    \"{T}he {W}orld of an {O}ctopus: {H}ow {R}eporting {B}ias {I}nfluences a {L}anguage {M}odel's {P}erception of {C}olor\": '10.18653/v1/2021.emnlp-main.63',\n",
    "    'Role of {L}anguage {R}elatedness in {M}ultilingual {F}ine\\xad-tuning of {L}anguage {M}odels: {A} {C}ase {S}tudy in {I}ndo-\\xad{A}ryan {L}anguages': '10.18653/v1/2021.emnlp-main.675',\n",
    "    '{MLEC-QA}: {A} {C}hinese {M}ulti-{C}hoice {B}iomedical {Q}uestion {A}nswering {D}ataset': '10.18653/v1/2021.emnlp-main.698',\n",
    "    '{N}ews{CLIP}pings: {A}utomatic {G}eneration of {O}ut-of-{C}ontext {M}ultimodal {M}edia': '10.18653/v1/2021.emnlp-main.545',\n",
    "    'Mapping Text to Knowledge Graph Entities by Vector Space Transformation': '10.18653/v1/D18-1221',\n",
    "    'Deep and Wide Reader: Effective Memory Augmenting Method for Large-Scale Reading Comprehension': '10.18653/v1/D18-1237',\n",
    "    'Improving Author Attribute Prediction by Retrofitting Linguistic Representations with Homophily': '10.18653/v1/D18-1070',\n",
    "    'Part-of-Speech Tagging for Twitter by Different Expression Styles': '10.18653/v1/D18-1275',\n",
    "    'Card-660: A Reliable Evaluation Framework for Rare Word Representation Models': '10.18653/v1/D18-1169',\n",
    "    'Spider: A Large-Scale Complex Human-Labeled SQL Corpus for Semantic Parsing and Text-to-SQL Generation': '10.18653/v1/D18-1425',\n",
    "    'Process Paragraph Comprehension using World Knowledge': '10.18653/v1/D18-1006',\n",
    "    'TwoWingOS: Claim Entailment with Precise Evidence via a Two-Wing Optimization Strategy': '10.18653/v1/D18-1010',\n",
    "    'Commonsense Action Explanation in Human-Agent Communication': '10.18653/v1/D18-1283',\n",
    "    'Text, Visual and Acoustic are Friends! A Multi-Modal Attention Framework for Utterance-Level Sentiment Prediction': '10.18653/v1/D18-1382',\n",
    "    'Task Oriented Parsing': '10.18653/v1/D18-1300',\n",
    "    'Crosslingual Sense Embeddings in One Space': '10.18653/v1/D18-1025',\n",
    "    'XNLI: Cross-lingual Sentence Understanding through Inference': '10.18653/v1/D18-1269',\n",
    "    'Training RNNs as Fast as CNNs': '10.18653/v1/D18-1477',\n",
    "    'Natural Language Processing Not-At-All from Scratch: Evaluating The Utility of Hand-crafted Features in Deep Learning': '10.18653/v1/D18-1310',\n",
    "    'Order-Theoretic Structured Prediction: Partially Ordering Tokens within a String': '10.18653/v1/2023.emnlp-main.52',\n",
    "    'Enhancing Long-form Text Generation Efficacy with Task-adaptive Tokenization': '10.18653/v1/2023.emnlp-main.944',\n",
    "    'DUMB: A Dutch Model Benchmark': '10.18653/v1/2023.emnlp-main.447',\n",
    "    'The Generalized Left-Corner Transformation': '10.18653/v1/2023.emnlp-main.827',\n",
    "    'PhenotypeCLIP: Phenotype-based Contrastive Learning for Medical Imaging Report Generation': '10.18653/v1/2023.emnlp-main.989',\n",
    "    'MemPrompt: Memory-assisted Prompt Editing with User Feedback': '10.18653/v1/2022.emnlp-main.183',\n",
    "    'Kernelized Concept Erasure': '10.18653/v1/2022.emnlp-main.405',\n",
    "    'High probability or low information? The probability–quality paradox in language generation': '10.18653/v1/2022.acl-short.5',\n",
    "    'Probing as Quantifying the Inductive Bias of Pre-trained Representations': '10.18653/v1/2022.acl-long.129',\n",
    "    'Causal Probing for Grammatical Number: From Encoding to Usage': '10.18653/v1/2022.acl-long.603',\n",
    "    'Comprehensive Investigation of Multi-task Argument Mining': '10.1162/tacl_a_00481',\n",
    "    'Computational Modeling of Review Helpfulness': '10.18653/v1/P18-1065',\n",
    "    'Distilled Language Models are economically efficient for the enterprise. ...mostly.': '10.18653/v1/2023.acl-industry.24',\n",
    "    'Computational Modeling of Review Helpfulness': '10.18653/v1/P18-1065',\n",
    "    'ProtAugment: Intent Detection Meta-Learning through Unsupervised Diverse Paraphrasing': '10.18653/v1/2021.acl-long.191',\n",
    "    \"Let’s Play mono-poly: BERT Can Reveal Words’ Degree of Polysemy\": '10.1162/tacl_a_00400',\n",
    "    'Multi-task Learning with Task, Group, and Universe Feature Learning': '10.18653/v1/P19-1079',\n",
    "    'Modeling Visual Relationships in Language': '10.18653/v1/P19-1182',\n",
    "    'No word is an island - a transformation weighting model for semantic composition': '10.1162/tacl_a_00275',\n",
    "    # the following are papers which have multiple versions/dois in EMNLP 2023\n",
    "    'MarkQA: A large scale KBQA dataset with numerical reasoning': '10.18653/v1/2023.emnlp-main.633',\n",
    "    'A Framework for Vision-Language Warm-up Tasks in Multimodal Dialogue Models': '10.18653/v1/2023.emnlp-main.167',\n",
    "    'Multi-Source Multi-Type Knowledge Exploration and Exploitation for Dialogue Generation': '10.18653/v1/2023.emnlp-main.771',\n",
    "    'An Investigation of LLMs’ Inefficacy in Understanding Converse Relations': '10.18653/v1/2023.emnlp-main.429',\n",
    "    'Character-LLM: A Trainable Agent for Role-Playing': '10.18653/v1/2023.emnlp-main.814',\n",
    "    'SeqXGPT: Sentence-Level AI-Generated Text Detection': '10.18653/v1/2023.emnlp-main.73'\n",
    "}\n",
    "\n",
    "for title, doi in manual_title_to_doi.items():\n",
    "    #assert len(df[df['title'] == title]) == 1\n",
    "    df.loc[df['title'] == title, 'doi'] = doi\n"
   ]
  },
  {
   "cell_type": "code",
   "execution_count": 46,
   "metadata": {},
   "outputs": [],
   "source": [
    "# this paper has been withdrawn from everywhere, even arxiv\n",
    "df = df[df['title'] != 'Speaker-Oriented Latent Structures for Dialogue-Based Relation Extraction']"
   ]
  },
  {
   "cell_type": "code",
   "execution_count": 47,
   "metadata": {},
   "outputs": [],
   "source": [
    "df.to_csv('../data/parsed_data.csv')"
   ]
  },
  {
   "cell_type": "code",
   "execution_count": 48,
   "metadata": {},
   "outputs": [
    {
     "data": {
      "text/plain": [
       "source\n",
       "ACL2023      1201\n",
       "EMNLP2023    1047\n",
       "EMNLP2021     839\n",
       "EMNLP2022     828\n",
       "ACL2020       816\n",
       "EMNLP2020     809\n",
       "ACL2021       742\n",
       "ACL2022       739\n",
       "EMNLP2019     736\n",
       "ACL2019       680\n",
       "EMNLP2018     444\n",
       "ACL2018       401\n",
       "Name: count, dtype: int64"
      ]
     },
     "execution_count": 48,
     "metadata": {},
     "output_type": "execute_result"
    }
   ],
   "source": [
    "df['source'].value_counts()"
   ]
  }
 ],
 "metadata": {
  "kernelspec": {
   "display_name": "Python 3 (ipykernel)",
   "language": "python",
   "name": "python3"
  },
  "language_info": {
   "codemirror_mode": {
    "name": "ipython",
    "version": 3
   },
   "file_extension": ".py",
   "mimetype": "text/x-python",
   "name": "python",
   "nbconvert_exporter": "python",
   "pygments_lexer": "ipython3",
   "version": "3.11.8"
  }
 },
 "nbformat": 4,
 "nbformat_minor": 4
}
