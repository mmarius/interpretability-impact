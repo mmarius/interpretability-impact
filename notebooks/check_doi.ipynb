{
 "cells": [
  {
   "cell_type": "code",
   "execution_count": 37,
   "metadata": {},
   "outputs": [],
   "source": [
    "import os, sys\n",
    "sys.path.append(os.path.dirname(os.getcwd()))"
   ]
  },
  {
   "cell_type": "code",
   "execution_count": 38,
   "metadata": {},
   "outputs": [
    {
     "data": {
      "text/html": [
       "<pre style=\"white-space:pre;overflow-x:auto;line-height:normal;font-family:Menlo,'DejaVu Sans Mono',consolas,'Courier New',monospace\">\n",
       "</pre>\n"
      ],
      "text/plain": [
       "\n"
      ]
     },
     "metadata": {},
     "output_type": "display_data"
    }
   ],
   "source": [
    "from acl_anthology import Anthology\n",
    "# Instantiate the Anthology from the official repository\n",
    "# This will download the Anthology once at the beginning\n",
    "anthology = Anthology.from_repo()"
   ]
  },
  {
   "cell_type": "code",
   "execution_count": 39,
   "metadata": {},
   "outputs": [],
   "source": [
    "from utils import *\n",
    "\n",
    "import matplotlib.pyplot as plt\n",
    "import pandas as pd"
   ]
  },
  {
   "cell_type": "code",
   "execution_count": 40,
   "metadata": {},
   "outputs": [],
   "source": [
    "from difflib import SequenceMatcher\n",
    "\n",
    "def similar(a, b):\n",
    "    return SequenceMatcher(None, a, b).ratio()"
   ]
  },
  {
   "cell_type": "code",
   "execution_count": 82,
   "metadata": {},
   "outputs": [
    {
     "name": "stdout",
     "output_type": "stream",
     "text": [
      "8347\n"
     ]
    }
   ],
   "source": [
    "df = pd.read_csv(\"../data/parsed_data.csv\", sep=\",\", index_col=0)\n",
    "print(len(df))"
   ]
  },
  {
   "cell_type": "code",
   "execution_count": 84,
   "metadata": {},
   "outputs": [
    {
     "data": {
      "text/html": [
       "<div>\n",
       "<style scoped>\n",
       "    .dataframe tbody tr th:only-of-type {\n",
       "        vertical-align: middle;\n",
       "    }\n",
       "\n",
       "    .dataframe tbody tr th {\n",
       "        vertical-align: top;\n",
       "    }\n",
       "\n",
       "    .dataframe thead th {\n",
       "        text-align: right;\n",
       "    }\n",
       "</style>\n",
       "<table border=\"1\" class=\"dataframe\">\n",
       "  <thead>\n",
       "    <tr style=\"text-align: right;\">\n",
       "      <th></th>\n",
       "      <th>id</th>\n",
       "      <th>title</th>\n",
       "      <th>area</th>\n",
       "      <th>interpretability</th>\n",
       "      <th>doi</th>\n",
       "      <th>source</th>\n",
       "    </tr>\n",
       "  </thead>\n",
       "  <tbody>\n",
       "    <tr>\n",
       "      <th>0</th>\n",
       "      <td>187</td>\n",
       "      <td>Probabilistic FastText for Multi-Sense Word Em...</td>\n",
       "      <td>Word Semantics</td>\n",
       "      <td>NaN</td>\n",
       "      <td>10.18653/v1/P18-1001</td>\n",
       "      <td>ACL2018</td>\n",
       "    </tr>\n",
       "    <tr>\n",
       "      <th>1</th>\n",
       "      <td>1520</td>\n",
       "      <td>A La Carte Embedding: Cheap but Effective Indu...</td>\n",
       "      <td>Word Semantics</td>\n",
       "      <td>NaN</td>\n",
       "      <td>10.18653/v1/P18-1002</td>\n",
       "      <td>ACL2018</td>\n",
       "    </tr>\n",
       "    <tr>\n",
       "      <th>2</th>\n",
       "      <td>707</td>\n",
       "      <td>Unsupervised Learning of Distributional Relati...</td>\n",
       "      <td>Word Semantics</td>\n",
       "      <td>NaN</td>\n",
       "      <td>10.18653/v1/P18-1003</td>\n",
       "      <td>ACL2018</td>\n",
       "    </tr>\n",
       "    <tr>\n",
       "      <th>3</th>\n",
       "      <td>1553</td>\n",
       "      <td>Explicit Retrofitting of Distributional Word V...</td>\n",
       "      <td>Word Semantics</td>\n",
       "      <td>NaN</td>\n",
       "      <td>10.18653/v1/P18-1004</td>\n",
       "      <td>ACL2018</td>\n",
       "    </tr>\n",
       "    <tr>\n",
       "      <th>4</th>\n",
       "      <td>76</td>\n",
       "      <td>Unsupervised Neural Machine Translation with W...</td>\n",
       "      <td>Machine Translation</td>\n",
       "      <td>NaN</td>\n",
       "      <td>10.18653/v1/P18-1005</td>\n",
       "      <td>ACL2018</td>\n",
       "    </tr>\n",
       "  </tbody>\n",
       "</table>\n",
       "</div>"
      ],
      "text/plain": [
       "     id                                              title  \\\n",
       "0   187  Probabilistic FastText for Multi-Sense Word Em...   \n",
       "1  1520  A La Carte Embedding: Cheap but Effective Indu...   \n",
       "2   707  Unsupervised Learning of Distributional Relati...   \n",
       "3  1553  Explicit Retrofitting of Distributional Word V...   \n",
       "4    76  Unsupervised Neural Machine Translation with W...   \n",
       "\n",
       "                  area interpretability                   doi   source  \n",
       "0       Word Semantics              NaN  10.18653/v1/P18-1001  ACL2018  \n",
       "1       Word Semantics              NaN  10.18653/v1/P18-1002  ACL2018  \n",
       "2       Word Semantics              NaN  10.18653/v1/P18-1003  ACL2018  \n",
       "3       Word Semantics              NaN  10.18653/v1/P18-1004  ACL2018  \n",
       "4  Machine Translation              NaN  10.18653/v1/P18-1005  ACL2018  "
      ]
     },
     "execution_count": 84,
     "metadata": {},
     "output_type": "execute_result"
    }
   ],
   "source": [
    "df.head()"
   ]
  },
  {
   "cell_type": "code",
   "execution_count": 85,
   "metadata": {},
   "outputs": [
    {
     "data": {
      "text/html": [
       "<div>\n",
       "<style scoped>\n",
       "    .dataframe tbody tr th:only-of-type {\n",
       "        vertical-align: middle;\n",
       "    }\n",
       "\n",
       "    .dataframe tbody tr th {\n",
       "        vertical-align: top;\n",
       "    }\n",
       "\n",
       "    .dataframe thead th {\n",
       "        text-align: right;\n",
       "    }\n",
       "</style>\n",
       "<table border=\"1\" class=\"dataframe\">\n",
       "  <thead>\n",
       "    <tr style=\"text-align: right;\">\n",
       "      <th></th>\n",
       "      <th>id</th>\n",
       "      <th>title</th>\n",
       "      <th>area</th>\n",
       "      <th>interpretability</th>\n",
       "      <th>doi</th>\n",
       "      <th>source</th>\n",
       "    </tr>\n",
       "  </thead>\n",
       "  <tbody>\n",
       "    <tr>\n",
       "      <th>8041</th>\n",
       "      <td>1661</td>\n",
       "      <td>Computational Modeling of Review Helpfulness</td>\n",
       "      <td>Summarization, Social Media</td>\n",
       "      <td>NaN</td>\n",
       "      <td>NaN</td>\n",
       "      <td>ACL2019</td>\n",
       "    </tr>\n",
       "    <tr>\n",
       "      <th>8088</th>\n",
       "      <td>141</td>\n",
       "      <td>Taylor's law for Human Linguistic Sequences</td>\n",
       "      <td>Linguistics, Psycholinguistics and Cognitive M...</td>\n",
       "      <td>NaN</td>\n",
       "      <td>NaN</td>\n",
       "      <td>ACL2019</td>\n",
       "    </tr>\n",
       "    <tr>\n",
       "      <th>8292</th>\n",
       "      <td>NaN</td>\n",
       "      <td>Bootstrap Domain-Specific Sentiment Classifier...</td>\n",
       "      <td>Sentiment Analysis and Argument Mining</td>\n",
       "      <td>NaN</td>\n",
       "      <td>NaN</td>\n",
       "      <td>ACL2019</td>\n",
       "    </tr>\n",
       "    <tr>\n",
       "      <th>8343</th>\n",
       "      <td>1603</td>\n",
       "      <td>Lighter' Can Still Be Dark: Modeling Comparati...</td>\n",
       "      <td>Best Paper Session</td>\n",
       "      <td>NaN</td>\n",
       "      <td>NaN</td>\n",
       "      <td>ACL2019</td>\n",
       "    </tr>\n",
       "    <tr>\n",
       "      <th>8346</th>\n",
       "      <td>1348</td>\n",
       "      <td>Let's do it ``again'': A First Computational A...</td>\n",
       "      <td>Best Paper Session</td>\n",
       "      <td>NaN</td>\n",
       "      <td>NaN</td>\n",
       "      <td>ACL2019</td>\n",
       "    </tr>\n",
       "  </tbody>\n",
       "</table>\n",
       "</div>"
      ],
      "text/plain": [
       "        id                                              title  \\\n",
       "8041  1661       Computational Modeling of Review Helpfulness   \n",
       "8088   141        Taylor's law for Human Linguistic Sequences   \n",
       "8292   NaN  Bootstrap Domain-Specific Sentiment Classifier...   \n",
       "8343  1603  Lighter' Can Still Be Dark: Modeling Comparati...   \n",
       "8346  1348  Let's do it ``again'': A First Computational A...   \n",
       "\n",
       "                                                   area interpretability  doi  \\\n",
       "8041                        Summarization, Social Media              NaN  NaN   \n",
       "8088  Linguistics, Psycholinguistics and Cognitive M...              NaN  NaN   \n",
       "8292             Sentiment Analysis and Argument Mining              NaN  NaN   \n",
       "8343                                 Best Paper Session              NaN  NaN   \n",
       "8346                                 Best Paper Session              NaN  NaN   \n",
       "\n",
       "       source  \n",
       "8041  ACL2019  \n",
       "8088  ACL2019  \n",
       "8292  ACL2019  \n",
       "8343  ACL2019  \n",
       "8346  ACL2019  "
      ]
     },
     "execution_count": 85,
     "metadata": {},
     "output_type": "execute_result"
    }
   ],
   "source": [
    "df_no_doi = df[df['doi'].isna()]\n",
    "df_no_doi"
   ]
  },
  {
   "cell_type": "code",
   "execution_count": 86,
   "metadata": {},
   "outputs": [
    {
     "data": {
      "text/plain": [
       "source\n",
       "ACL2019    5\n",
       "Name: count, dtype: int64"
      ]
     },
     "execution_count": 86,
     "metadata": {},
     "output_type": "execute_result"
    }
   ],
   "source": [
    "df_no_doi['source'].value_counts()"
   ]
  },
  {
   "cell_type": "code",
   "execution_count": 87,
   "metadata": {},
   "outputs": [
    {
     "name": "stdout",
     "output_type": "stream",
     "text": [
      "8342\n"
     ]
    },
    {
     "data": {
      "text/html": [
       "<div>\n",
       "<style scoped>\n",
       "    .dataframe tbody tr th:only-of-type {\n",
       "        vertical-align: middle;\n",
       "    }\n",
       "\n",
       "    .dataframe tbody tr th {\n",
       "        vertical-align: top;\n",
       "    }\n",
       "\n",
       "    .dataframe thead th {\n",
       "        text-align: right;\n",
       "    }\n",
       "</style>\n",
       "<table border=\"1\" class=\"dataframe\">\n",
       "  <thead>\n",
       "    <tr style=\"text-align: right;\">\n",
       "      <th></th>\n",
       "      <th>id</th>\n",
       "      <th>title</th>\n",
       "      <th>area</th>\n",
       "      <th>interpretability</th>\n",
       "      <th>doi</th>\n",
       "      <th>source</th>\n",
       "    </tr>\n",
       "  </thead>\n",
       "  <tbody>\n",
       "    <tr>\n",
       "      <th>0</th>\n",
       "      <td>187</td>\n",
       "      <td>Probabilistic FastText for Multi-Sense Word Em...</td>\n",
       "      <td>Word Semantics</td>\n",
       "      <td>NaN</td>\n",
       "      <td>10.18653/v1/P18-1001</td>\n",
       "      <td>ACL2018</td>\n",
       "    </tr>\n",
       "    <tr>\n",
       "      <th>1</th>\n",
       "      <td>1520</td>\n",
       "      <td>A La Carte Embedding: Cheap but Effective Indu...</td>\n",
       "      <td>Word Semantics</td>\n",
       "      <td>NaN</td>\n",
       "      <td>10.18653/v1/P18-1002</td>\n",
       "      <td>ACL2018</td>\n",
       "    </tr>\n",
       "    <tr>\n",
       "      <th>2</th>\n",
       "      <td>707</td>\n",
       "      <td>Unsupervised Learning of Distributional Relati...</td>\n",
       "      <td>Word Semantics</td>\n",
       "      <td>NaN</td>\n",
       "      <td>10.18653/v1/P18-1003</td>\n",
       "      <td>ACL2018</td>\n",
       "    </tr>\n",
       "    <tr>\n",
       "      <th>3</th>\n",
       "      <td>1553</td>\n",
       "      <td>Explicit Retrofitting of Distributional Word V...</td>\n",
       "      <td>Word Semantics</td>\n",
       "      <td>NaN</td>\n",
       "      <td>10.18653/v1/P18-1004</td>\n",
       "      <td>ACL2018</td>\n",
       "    </tr>\n",
       "    <tr>\n",
       "      <th>4</th>\n",
       "      <td>76</td>\n",
       "      <td>Unsupervised Neural Machine Translation with W...</td>\n",
       "      <td>Machine Translation</td>\n",
       "      <td>NaN</td>\n",
       "      <td>10.18653/v1/P18-1005</td>\n",
       "      <td>ACL2018</td>\n",
       "    </tr>\n",
       "  </tbody>\n",
       "</table>\n",
       "</div>"
      ],
      "text/plain": [
       "     id                                              title  \\\n",
       "0   187  Probabilistic FastText for Multi-Sense Word Em...   \n",
       "1  1520  A La Carte Embedding: Cheap but Effective Indu...   \n",
       "2   707  Unsupervised Learning of Distributional Relati...   \n",
       "3  1553  Explicit Retrofitting of Distributional Word V...   \n",
       "4    76  Unsupervised Neural Machine Translation with W...   \n",
       "\n",
       "                  area interpretability                   doi   source  \n",
       "0       Word Semantics              NaN  10.18653/v1/P18-1001  ACL2018  \n",
       "1       Word Semantics              NaN  10.18653/v1/P18-1002  ACL2018  \n",
       "2       Word Semantics              NaN  10.18653/v1/P18-1003  ACL2018  \n",
       "3       Word Semantics              NaN  10.18653/v1/P18-1004  ACL2018  \n",
       "4  Machine Translation              NaN  10.18653/v1/P18-1005  ACL2018  "
      ]
     },
     "execution_count": 87,
     "metadata": {},
     "output_type": "execute_result"
    }
   ],
   "source": [
    "df_doi = df[df['doi'].notna()]\n",
    "print(len(df_doi))\n",
    "df_doi.head()"
   ]
  },
  {
   "cell_type": "code",
   "execution_count": 88,
   "metadata": {},
   "outputs": [
    {
     "name": "stderr",
     "output_type": "stream",
     "text": [
      "100%|██████████████████████████████████████████████████████████████████████████████████████████████████████████████████████████████████████████████████████████████████████████████████████████████| 8347/8347 [00:30<00:00, 271.37it/s]\n"
     ]
    }
   ],
   "source": [
    "titles_and_dois = [(row['title'], row['doi']) for index, row in df.iterrows()]\n",
    "\n",
    "def find_anthology_title_and_doi(title):\n",
    "    threshold = 0.9\n",
    "    for paper in anthology.papers():\n",
    "        if similar(title, str(paper.title)) >= threshold:\n",
    "            return paper.title, paper.doi\n",
    "    return None, None\n",
    "\n",
    "updates = {}\n",
    "for idx, (title, doi) in enumerate(tqdm(titles_and_dois)):\n",
    "    if type(doi) == str:\n",
    "        continue\n",
    "\n",
    "    updated_title, doi = find_anthology_title_and_doi(title)\n",
    "    if updated_title is not None and doi is not None:\n",
    "        updates[idx] = {'title': updated_title, 'doi': doi}\n",
    "\n",
    "for index, update in updates.items():\n",
    "    df.at[index, 'doi'] = update['doi']\n"
   ]
  },
  {
   "cell_type": "code",
   "execution_count": 89,
   "metadata": {},
   "outputs": [
    {
     "data": {
      "text/plain": [
       "4"
      ]
     },
     "execution_count": 89,
     "metadata": {},
     "output_type": "execute_result"
    }
   ],
   "source": [
    "len(updates)"
   ]
  },
  {
   "cell_type": "code",
   "execution_count": 93,
   "metadata": {},
   "outputs": [
    {
     "name": "stdout",
     "output_type": "stream",
     "text": [
      "0\n"
     ]
    },
    {
     "data": {
      "text/plain": [
       "[]"
      ]
     },
     "execution_count": 93,
     "metadata": {},
     "output_type": "execute_result"
    }
   ],
   "source": [
    "df_no_doi = df[df['doi'].isna()]\n",
    "print(len(df_no_doi))\n",
    "list(df_no_doi['title'])"
   ]
  },
  {
   "cell_type": "code",
   "execution_count": 92,
   "metadata": {},
   "outputs": [],
   "source": [
    "manual_title_to_doi = {\n",
    "    'Learning Neural Embeddings for CLIR with Adversarial Framework': '10.18653/v1/D18-1212',\n",
    "    'Modeling Inter-Aspect Relation in Aspect-Based Sentiment Analysis': '10.18653/v1/N18-2043',\n",
    "    'Interpretable Emoji Prediction via Multi-Attention LSTMs': '10.18653/v1/D18-1508',\n",
    "    'Variational Sequential Labelers for Semi-Supervised Sequence Labeling': '10.18653/v1/D18-1020',\n",
    "    'Neural Latent Relational Analysis to Capture Lexical Semantic Relation': '10.18653/v1/D18-1058',\n",
    "    'Sentence Editing under Quantifiable Guidance': '10.18653/v1/D18-1420',\n",
    "    'Multi-Reference Training with Pseudo-Reference Generation for Text Generation': '10.18653/v1/D18-1357',\n",
    "    '$\\infty$-former: Infinite Memory Transformer': '10.18653/v1/2022.acl-long.375',\n",
    "    'Adaptive Multi-pass Decoder for Neural Machine Translation with Reinforcement Learning': '10.18653/v1/D18-1048',\n",
    "    'Context-Attentive Embeddings for Improved Sentence Representations': '10.18653/v1/D18-1176',\n",
    "    'The Importance of Joint Multilingual Supervision for Cross-lingual Entity Linking': '10.18653/v1/D18-1270',\n",
    "    'Modeling Game-Based Video-Context Dialogue': '10.18653/v1/D18-1012',\n",
    "    'Cube Pruning for Neural Machine Translation': '10.18653/v1/D18-1460',\n",
    "    'Noise Contrastive Estimation for Conditional Models: Consistency and Statistical Efficiency': '10.18653/v1/D18-1405',\n",
    "    ' Do \"Undocumented Workers\" == \"Illegal Aliens\"? Differentiating Denotation and Connotation in Vector Spaces ': '10.18653/v1/2020.emnlp-main.335',\n",
    "    'Consistent Unsupervised Estimators for Anchored PCFGs': '10.1162/tacl_a_00323',\n",
    "    'Suspense in Short Stories is Predicted By Uncertainty Reduction over Neural Story Representation': '10.18653/v1/2020.acl-main.161',\n",
    "    'Boosting Neural Machine Translation with Similar Translations': '10.18653/v1/2020.acl-main.144',\n",
    "    '{A} {T}hree-{S}tage {L}earning {F}ramework for {L}ow-{R}esource {K}nowledge-{G}rounded {D}ialogue {G}eneration': '10.18653/v1/2021.emnlp-main.173',\n",
    "    \"{T}he {W}orld of an {O}ctopus: {H}ow {R}eporting {B}ias {I}nfluences a {L}anguage {M}odel's {P}erception of {C}olor\": '10.18653/v1/2021.emnlp-main.63',\n",
    "    'Role of {L}anguage {R}elatedness in {M}ultilingual {F}ine\\xad-tuning of {L}anguage {M}odels: {A} {C}ase {S}tudy in {I}ndo-\\xad{A}ryan {L}anguages': '10.18653/v1/2021.emnlp-main.675',\n",
    "    '{MLEC-QA}: {A} {C}hinese {M}ulti-{C}hoice {B}iomedical {Q}uestion {A}nswering {D}ataset': '10.18653/v1/2021.emnlp-main.698',\n",
    "    '{N}ews{CLIP}pings: {A}utomatic {G}eneration of {O}ut-of-{C}ontext {M}ultimodal {M}edia': '10.18653/v1/2021.emnlp-main.545',\n",
    "    'Mapping Text to Knowledge Graph Entities by Vector Space Transformation': '10.18653/v1/D18-1221',\n",
    "    'Deep and Wide Reader: Effective Memory Augmenting Method for Large-Scale Reading Comprehension': '10.18653/v1/D18-1237',\n",
    "    'Improving Author Attribute Prediction by Retrofitting Linguistic Representations with Homophily': '10.18653/v1/D18-1070',\n",
    "    'Part-of-Speech Tagging for Twitter by Different Expression Styles': '10.18653/v1/D18-1275',\n",
    "    'Card-660: A Reliable Evaluation Framework for Rare Word Representation Models': '10.18653/v1/D18-1169',\n",
    "    'Spider: A Large-Scale Complex Human-Labeled SQL Corpus for Semantic Parsing and Text-to-SQL Generation': '10.18653/v1/D18-1425',\n",
    "    'Process Paragraph Comprehension using World Knowledge': '10.18653/v1/D18-1006',\n",
    "    'TwoWingOS: Claim Entailment with Precise Evidence via a Two-Wing Optimization Strategy': '10.18653/v1/D18-1010',\n",
    "    'Commonsense Action Explanation in Human-Agent Communication': '10.18653/v1/D18-1283',\n",
    "    'Text, Visual and Acoustic are Friends! A Multi-Modal Attention Framework for Utterance-Level Sentiment Prediction': '10.18653/v1/D18-1382',\n",
    "    'Task Oriented Parsing': '10.18653/v1/D18-1300',\n",
    "    'Crosslingual Sense Embeddings in One Space': '10.18653/v1/D18-1025',\n",
    "    'XNLI: Cross-lingual Sentence Understanding through Inference': '10.18653/v1/D18-1269',\n",
    "    'Training RNNs as Fast as CNNs': '10.18653/v1/D18-1477',\n",
    "    'Natural Language Processing Not-At-All from Scratch: Evaluating The Utility of Hand-crafted Features in Deep Learning': '10.18653/v1/D18-1310',\n",
    "    'A* Beam Search': '10.18653/v1/2020.emnlp-main.170',\n",
    "    'Order-Theoretic Structured Prediction: Partially Ordering Tokens within a String': '10.18653/v1/2023.emnlp-main.52',\n",
    "    'Enhancing Long-form Text Generation Efficacy with Task-adaptive Tokenization': '10.18653/v1/2023.emnlp-main.944',\n",
    "    'DUMB: A Dutch Model Benchmark': '10.18653/v1/2023.emnlp-main.447',\n",
    "    'The Generalized Left-Corner Transformation': '10.18653/v1/2023.emnlp-main.827',\n",
    "    'PhenotypeCLIP: Phenotype-based Contrastive Learning for Medical Imaging Report Generation': '10.18653/v1/2023.emnlp-main.989',\n",
    "    'MemPrompt: Memory-assisted Prompt Editing with User Feedback': '10.18653/v1/2022.emnlp-main.183',\n",
    "    'Kernelized Concept Erasure': '10.18653/v1/2022.emnlp-main.405',\n",
    "    'High probability or low information? The probability–quality paradox in language generation': '10.18653/v1/2022.acl-short.5',\n",
    "    'Probing as Quantifying the Inductive Bias of Pre-trained Representations': '10.18653/v1/2022.acl-long.129',\n",
    "    'Causal Probing for Grammatical Number: From Encoding to Usage': '10.18653/v1/2022.acl-long.603',\n",
    "    'Comprehensive Investigation of Multi-task Argument Mining': '10.1162/tacl_a_00481',\n",
    "    'Computational Modeling of Review Helpfulness': '10.18653/v1/P18-1065',\n",
    "    'Distilled Language Models are economically efficient for the enterprise. ...mostly.': '10.18653/v1/2023.acl-industry.24',\n",
    "    'Computational Modeling of Review Helpfulness': '10.18653/v1/P18-1065',\n",
    "    # the following are papers which have multiple versions/dois in EMNLP 2023\n",
    "    'MarkQA: A large scale KBQA dataset with numerical reasoning': '10.18653/v1/2023.emnlp-main.633',\n",
    "    'A Framework for Vision-Language Warm-up Tasks in Multimodal Dialogue Models': '10.18653/v1/2023.emnlp-main.167',\n",
    "    'Multi-Source Multi-Type Knowledge Exploration and Exploitation for Dialogue Generation': '10.18653/v1/2023.emnlp-main.771',\n",
    "    'An Investigation of LLMs’ Inefficacy in Understanding Converse Relations': '10.18653/v1/2023.emnlp-main.429',\n",
    "    'Character-LLM: A Trainable Agent for Role-Playing': '10.18653/v1/2023.emnlp-main.814',\n",
    "    'SeqXGPT: Sentence-Level AI-Generated Text Detection': '10.18653/v1/2023.emnlp-main.73'\n",
    "}\n",
    "\n",
    "for title, doi in manual_title_to_doi.items():\n",
    "    assert len(df[df['title'] == title]) == 1\n",
    "    df.loc[df['title'] == title, 'doi'] = doi\n"
   ]
  },
  {
   "cell_type": "code",
   "execution_count": 64,
   "metadata": {},
   "outputs": [],
   "source": [
    "# this paper has been withdrawn from everywhere, even arxiv\n",
    "df = df[df['title'] != 'Speaker-Oriented Latent Structures for Dialogue-Based Relation Extraction']"
   ]
  },
  {
   "cell_type": "code",
   "execution_count": 95,
   "metadata": {},
   "outputs": [],
   "source": [
    "df.to_csv('../data/clean_data.csv')"
   ]
  },
  {
   "cell_type": "code",
   "execution_count": 98,
   "metadata": {},
   "outputs": [
    {
     "data": {
      "text/plain": [
       "source\n",
       "ACL2023      1201\n",
       "EMNLP2023    1047\n",
       "EMNLP2021     839\n",
       "EMNLP2022     829\n",
       "ACL2020       816\n",
       "EMNLP2020     810\n",
       "ACL2022       739\n",
       "EMNLP2019     736\n",
       "EMNLP2018     463\n",
       "ACL2018       401\n",
       "ACL2019       401\n",
       "ACL2021        65\n",
       "Name: count, dtype: int64"
      ]
     },
     "execution_count": 98,
     "metadata": {},
     "output_type": "execute_result"
    }
   ],
   "source": [
    "df['source'].value_counts()"
   ]
  }
 ],
 "metadata": {
  "kernelspec": {
   "display_name": "Python 3 (ipykernel)",
   "language": "python",
   "name": "python3"
  },
  "language_info": {
   "codemirror_mode": {
    "name": "ipython",
    "version": 3
   },
   "file_extension": ".py",
   "mimetype": "text/x-python",
   "name": "python",
   "nbconvert_exporter": "python",
   "pygments_lexer": "ipython3",
   "version": "3.11.3"
  }
 },
 "nbformat": 4,
 "nbformat_minor": 4
}
