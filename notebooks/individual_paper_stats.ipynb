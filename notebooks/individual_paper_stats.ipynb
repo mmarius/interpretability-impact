{
 "cells": [
  {
   "cell_type": "code",
   "execution_count": 1,
   "metadata": {},
   "outputs": [],
   "source": [
    "import os, sys\n",
    "sys.path.append(os.path.dirname(os.getcwd()))"
   ]
  },
  {
   "cell_type": "code",
   "execution_count": 32,
   "metadata": {},
   "outputs": [],
   "source": [
    "from utils import get_paper_details\n",
    "\n",
    "import matplotlib.pyplot as plt\n",
    "import numpy as np\n",
    "import pandas as pd"
   ]
  },
  {
   "cell_type": "markdown",
   "metadata": {},
   "source": [
    "----"
   ]
  },
  {
   "cell_type": "markdown",
   "metadata": {},
   "source": [
    "### Get citation graph for an individual paper"
   ]
  },
  {
   "cell_type": "code",
   "execution_count": 3,
   "metadata": {},
   "outputs": [],
   "source": [
    "paper_id = \"10.18653/v1/2021.emnlp-main.446\" # Transformer Feed-Forward Layers Are Key-Value Memories\n",
    "\n",
    "paper = get_paper_details(paper_id)"
   ]
  },
  {
   "cell_type": "code",
   "execution_count": 4,
   "metadata": {},
   "outputs": [
    {
     "data": {
      "text/html": [
       "<div>\n",
       "<style scoped>\n",
       "    .dataframe tbody tr th:only-of-type {\n",
       "        vertical-align: middle;\n",
       "    }\n",
       "\n",
       "    .dataframe tbody tr th {\n",
       "        vertical-align: top;\n",
       "    }\n",
       "\n",
       "    .dataframe thead th {\n",
       "        text-align: right;\n",
       "    }\n",
       "</style>\n",
       "<table border=\"1\" class=\"dataframe\">\n",
       "  <thead>\n",
       "    <tr style=\"text-align: right;\">\n",
       "      <th></th>\n",
       "      <th>paper_id</th>\n",
       "      <th>title</th>\n",
       "      <th>venue</th>\n",
       "      <th>year</th>\n",
       "      <th>citation_count</th>\n",
       "      <th>influential_citation_count</th>\n",
       "      <th>embedding</th>\n",
       "    </tr>\n",
       "  </thead>\n",
       "  <tbody>\n",
       "    <tr>\n",
       "      <th>0</th>\n",
       "      <td>10.18653/v1/2021.emnlp-main.446</td>\n",
       "      <td>Transformer Feed-Forward Layers Are Key-Value ...</td>\n",
       "      <td>Conference on Empirical Methods in Natural Lan...</td>\n",
       "      <td>2020</td>\n",
       "      <td>233</td>\n",
       "      <td>29</td>\n",
       "      <td>[-1.698096752166748, -0.04015412926673889, 2.0...</td>\n",
       "    </tr>\n",
       "  </tbody>\n",
       "</table>\n",
       "</div>"
      ],
      "text/plain": [
       "                          paper_id  \\\n",
       "0  10.18653/v1/2021.emnlp-main.446   \n",
       "\n",
       "                                               title  \\\n",
       "0  Transformer Feed-Forward Layers Are Key-Value ...   \n",
       "\n",
       "                                               venue  year  citation_count  \\\n",
       "0  Conference on Empirical Methods in Natural Lan...  2020             233   \n",
       "\n",
       "   influential_citation_count  \\\n",
       "0                          29   \n",
       "\n",
       "                                           embedding  \n",
       "0  [-1.698096752166748, -0.04015412926673889, 2.0...  "
      ]
     },
     "execution_count": 4,
     "metadata": {},
     "output_type": "execute_result"
    }
   ],
   "source": [
    "paper.to_df()"
   ]
  },
  {
   "cell_type": "code",
   "execution_count": 5,
   "metadata": {},
   "outputs": [],
   "source": [
    "paper.retrieve_citations(limit=1000) # 1000 is the maximum"
   ]
  },
  {
   "cell_type": "code",
   "execution_count": 8,
   "metadata": {},
   "outputs": [
    {
     "data": {
      "text/plain": [
       "233"
      ]
     },
     "execution_count": 8,
     "metadata": {},
     "output_type": "execute_result"
    }
   ],
   "source": [
    "len(paper.citations)"
   ]
  },
  {
   "cell_type": "code",
   "execution_count": 6,
   "metadata": {},
   "outputs": [
    {
     "data": {
      "text/html": [
       "<div>\n",
       "<style scoped>\n",
       "    .dataframe tbody tr th:only-of-type {\n",
       "        vertical-align: middle;\n",
       "    }\n",
       "\n",
       "    .dataframe tbody tr th {\n",
       "        vertical-align: top;\n",
       "    }\n",
       "\n",
       "    .dataframe thead th {\n",
       "        text-align: right;\n",
       "    }\n",
       "</style>\n",
       "<table border=\"1\" class=\"dataframe\">\n",
       "  <thead>\n",
       "    <tr style=\"text-align: right;\">\n",
       "      <th></th>\n",
       "      <th>paper_id</th>\n",
       "      <th>title</th>\n",
       "      <th>venue</th>\n",
       "      <th>year</th>\n",
       "      <th>citation_count</th>\n",
       "      <th>influential_citation_count</th>\n",
       "      <th>embedding</th>\n",
       "      <th>cites_result</th>\n",
       "      <th>cites_methodology</th>\n",
       "      <th>cites_background</th>\n",
       "      <th>was_influenced</th>\n",
       "      <th>contexts</th>\n",
       "    </tr>\n",
       "  </thead>\n",
       "  <tbody>\n",
       "    <tr>\n",
       "      <th>0</th>\n",
       "      <td>7808f614d993cae3ae2cfd3afc32f8d9191f7126</td>\n",
       "      <td>Model Editing Can Hurt General Abilities of La...</td>\n",
       "      <td></td>\n",
       "      <td>2024</td>\n",
       "      <td>0</td>\n",
       "      <td>0</td>\n",
       "      <td>None</td>\n",
       "      <td>False</td>\n",
       "      <td>False</td>\n",
       "      <td>True</td>\n",
       "      <td>False</td>\n",
       "      <td>[…recently, a surge of works have investigated...</td>\n",
       "    </tr>\n",
       "  </tbody>\n",
       "</table>\n",
       "</div>"
      ],
      "text/plain": [
       "                                   paper_id  \\\n",
       "0  7808f614d993cae3ae2cfd3afc32f8d9191f7126   \n",
       "\n",
       "                                               title venue  year  \\\n",
       "0  Model Editing Can Hurt General Abilities of La...        2024   \n",
       "\n",
       "   citation_count  influential_citation_count embedding  cites_result  \\\n",
       "0               0                           0      None         False   \n",
       "\n",
       "   cites_methodology  cites_background  was_influenced  \\\n",
       "0              False              True           False   \n",
       "\n",
       "                                            contexts  \n",
       "0  […recently, a surge of works have investigated...  "
      ]
     },
     "execution_count": 6,
     "metadata": {},
     "output_type": "execute_result"
    }
   ],
   "source": [
    "paper.citations[0].to_df()"
   ]
  },
  {
   "cell_type": "code",
   "execution_count": 9,
   "metadata": {},
   "outputs": [],
   "source": [
    "citation_graph = paper.citations_to_df()"
   ]
  },
  {
   "cell_type": "code",
   "execution_count": 10,
   "metadata": {},
   "outputs": [
    {
     "data": {
      "text/html": [
       "<div>\n",
       "<style scoped>\n",
       "    .dataframe tbody tr th:only-of-type {\n",
       "        vertical-align: middle;\n",
       "    }\n",
       "\n",
       "    .dataframe tbody tr th {\n",
       "        vertical-align: top;\n",
       "    }\n",
       "\n",
       "    .dataframe thead th {\n",
       "        text-align: right;\n",
       "    }\n",
       "</style>\n",
       "<table border=\"1\" class=\"dataframe\">\n",
       "  <thead>\n",
       "    <tr style=\"text-align: right;\">\n",
       "      <th></th>\n",
       "      <th>paper_id</th>\n",
       "      <th>title</th>\n",
       "      <th>venue</th>\n",
       "      <th>year</th>\n",
       "      <th>citation_count</th>\n",
       "      <th>influential_citation_count</th>\n",
       "      <th>embedding</th>\n",
       "      <th>cites_result</th>\n",
       "      <th>cites_methodology</th>\n",
       "      <th>cites_background</th>\n",
       "      <th>was_influenced</th>\n",
       "      <th>contexts</th>\n",
       "    </tr>\n",
       "  </thead>\n",
       "  <tbody>\n",
       "    <tr>\n",
       "      <th>0</th>\n",
       "      <td>7808f614d993cae3ae2cfd3afc32f8d9191f7126</td>\n",
       "      <td>Model Editing Can Hurt General Abilities of La...</td>\n",
       "      <td></td>\n",
       "      <td>2024.0</td>\n",
       "      <td>0</td>\n",
       "      <td>0</td>\n",
       "      <td>None</td>\n",
       "      <td>False</td>\n",
       "      <td>False</td>\n",
       "      <td>True</td>\n",
       "      <td>False</td>\n",
       "      <td>[…recently, a surge of works have investigated...</td>\n",
       "    </tr>\n",
       "    <tr>\n",
       "      <th>1</th>\n",
       "      <td>b97f9c9ecd9222b74b93205ac792f8e3cad4aec3</td>\n",
       "      <td>MPN: Leveraging Multilingual Patch Neuron for ...</td>\n",
       "      <td></td>\n",
       "      <td>2024.0</td>\n",
       "      <td>0</td>\n",
       "      <td>0</td>\n",
       "      <td>None</td>\n",
       "      <td>False</td>\n",
       "      <td>False</td>\n",
       "      <td>True</td>\n",
       "      <td>True</td>\n",
       "      <td>[The structure of the FFN layer with the added...</td>\n",
       "    </tr>\n",
       "    <tr>\n",
       "      <th>2</th>\n",
       "      <td>26b2adbe089ea36617c3ec0aa009319929da0550</td>\n",
       "      <td>A Mechanistic Understanding of Alignment Algor...</td>\n",
       "      <td></td>\n",
       "      <td>2024.0</td>\n",
       "      <td>0</td>\n",
       "      <td>0</td>\n",
       "      <td>None</td>\n",
       "      <td>False</td>\n",
       "      <td>False</td>\n",
       "      <td>True</td>\n",
       "      <td>False</td>\n",
       "      <td>[The goal of mechanistic interpretability is l...</td>\n",
       "    </tr>\n",
       "    <tr>\n",
       "      <th>3</th>\n",
       "      <td>0251bb95be75d472c8d5b873751615e7fe2feb1d</td>\n",
       "      <td>A Comprehensive Study of Knowledge Editing for...</td>\n",
       "      <td>arXiv.org</td>\n",
       "      <td>2024.0</td>\n",
       "      <td>3</td>\n",
       "      <td>0</td>\n",
       "      <td>None</td>\n",
       "      <td>False</td>\n",
       "      <td>False</td>\n",
       "      <td>True</td>\n",
       "      <td>False</td>\n",
       "      <td>[Geva et al. [40] proposes that the FFN layers...</td>\n",
       "    </tr>\n",
       "    <tr>\n",
       "      <th>4</th>\n",
       "      <td>6789e0a19f70e283b120fd6a3792162d01a021d5</td>\n",
       "      <td>Do Androids Know They're Only Dreaming of Elec...</td>\n",
       "      <td></td>\n",
       "      <td>2023.0</td>\n",
       "      <td>0</td>\n",
       "      <td>0</td>\n",
       "      <td>None</td>\n",
       "      <td>False</td>\n",
       "      <td>False</td>\n",
       "      <td>True</td>\n",
       "      <td>False</td>\n",
       "      <td>[Related work has studied how transformers ret...</td>\n",
       "    </tr>\n",
       "  </tbody>\n",
       "</table>\n",
       "</div>"
      ],
      "text/plain": [
       "                                   paper_id  \\\n",
       "0  7808f614d993cae3ae2cfd3afc32f8d9191f7126   \n",
       "1  b97f9c9ecd9222b74b93205ac792f8e3cad4aec3   \n",
       "2  26b2adbe089ea36617c3ec0aa009319929da0550   \n",
       "3  0251bb95be75d472c8d5b873751615e7fe2feb1d   \n",
       "4  6789e0a19f70e283b120fd6a3792162d01a021d5   \n",
       "\n",
       "                                               title      venue    year  \\\n",
       "0  Model Editing Can Hurt General Abilities of La...             2024.0   \n",
       "1  MPN: Leveraging Multilingual Patch Neuron for ...             2024.0   \n",
       "2  A Mechanistic Understanding of Alignment Algor...             2024.0   \n",
       "3  A Comprehensive Study of Knowledge Editing for...  arXiv.org  2024.0   \n",
       "4  Do Androids Know They're Only Dreaming of Elec...             2023.0   \n",
       "\n",
       "   citation_count  influential_citation_count embedding  cites_result  \\\n",
       "0               0                           0      None         False   \n",
       "1               0                           0      None         False   \n",
       "2               0                           0      None         False   \n",
       "3               3                           0      None         False   \n",
       "4               0                           0      None         False   \n",
       "\n",
       "   cites_methodology  cites_background  was_influenced  \\\n",
       "0              False              True           False   \n",
       "1              False              True            True   \n",
       "2              False              True           False   \n",
       "3              False              True           False   \n",
       "4              False              True           False   \n",
       "\n",
       "                                            contexts  \n",
       "0  […recently, a surge of works have investigated...  \n",
       "1  [The structure of the FFN layer with the added...  \n",
       "2  [The goal of mechanistic interpretability is l...  \n",
       "3  [Geva et al. [40] proposes that the FFN layers...  \n",
       "4  [Related work has studied how transformers ret...  "
      ]
     },
     "execution_count": 10,
     "metadata": {},
     "output_type": "execute_result"
    }
   ],
   "source": [
    "citation_graph.head()"
   ]
  },
  {
   "cell_type": "code",
   "execution_count": 14,
   "metadata": {},
   "outputs": [
    {
     "data": {
      "text/plain": [
       "233"
      ]
     },
     "execution_count": 14,
     "metadata": {},
     "output_type": "execute_result"
    }
   ],
   "source": [
    "len(citation_graph)"
   ]
  },
  {
   "cell_type": "markdown",
   "metadata": {},
   "source": [
    "----"
   ]
  },
  {
   "cell_type": "markdown",
   "metadata": {},
   "source": [
    "### Visualizations"
   ]
  },
  {
   "cell_type": "code",
   "execution_count": 11,
   "metadata": {},
   "outputs": [],
   "source": [
    "citation_stats = citation_graph['citation_count']\n",
    "influential_citation_stats = citation_graph['influential_citation_count']"
   ]
  },
  {
   "cell_type": "code",
   "execution_count": 19,
   "metadata": {},
   "outputs": [
    {
     "data": {
      "image/png": "[encoded data removed]",
      "text/plain": [
       "<Figure size 640x480 with 1 Axes>"
      ]
     },
     "metadata": {},
     "output_type": "display_data"
    }
   ],
   "source": [
    "fig, axes = plt.subplots()\n",
    "\n",
    "axes.hist(citation_stats, bins=50, label=\"normal\")\n",
    "axes.hist(influential_citation_stats, bins=50, label=\"influential\")\n",
    "\n",
    "# add number of papers that cite this paper\n",
    "axes.axhline(len(citation_graph), linestyle=\"--\", color=\"red\", label=\"number of citations\")\n",
    "\n",
    "# axes.set_yscale(\"log\")\n",
    "\n",
    "axes.set_ylabel(\"Number of citing papers\")\n",
    "axes.set_xlabel(f\"with $N$ citations\")\n",
    "\n",
    "axes.set_title(paper.title)\n",
    "axes.legend(loc=\"best\");"
   ]
  },
  {
   "cell_type": "code",
   "execution_count": 22,
   "metadata": {},
   "outputs": [
    {
     "data": {
      "text/html": [
       "<div>\n",
       "<style scoped>\n",
       "    .dataframe tbody tr th:only-of-type {\n",
       "        vertical-align: middle;\n",
       "    }\n",
       "\n",
       "    .dataframe tbody tr th {\n",
       "        vertical-align: top;\n",
       "    }\n",
       "\n",
       "    .dataframe thead th {\n",
       "        text-align: right;\n",
       "    }\n",
       "</style>\n",
       "<table border=\"1\" class=\"dataframe\">\n",
       "  <thead>\n",
       "    <tr style=\"text-align: right;\">\n",
       "      <th></th>\n",
       "      <th>paper_id</th>\n",
       "      <th>title</th>\n",
       "      <th>venue</th>\n",
       "      <th>year</th>\n",
       "      <th>citation_count</th>\n",
       "      <th>influential_citation_count</th>\n",
       "      <th>embedding</th>\n",
       "      <th>cites_result</th>\n",
       "      <th>cites_methodology</th>\n",
       "      <th>cites_background</th>\n",
       "      <th>was_influenced</th>\n",
       "      <th>contexts</th>\n",
       "    </tr>\n",
       "  </thead>\n",
       "  <tbody>\n",
       "    <tr>\n",
       "      <th>1</th>\n",
       "      <td>b97f9c9ecd9222b74b93205ac792f8e3cad4aec3</td>\n",
       "      <td>MPN: Leveraging Multilingual Patch Neuron for ...</td>\n",
       "      <td></td>\n",
       "      <td>2024.0</td>\n",
       "      <td>0</td>\n",
       "      <td>0</td>\n",
       "      <td>None</td>\n",
       "      <td>False</td>\n",
       "      <td>False</td>\n",
       "      <td>True</td>\n",
       "      <td>True</td>\n",
       "      <td>[The structure of the FFN layer with the added...</td>\n",
       "    </tr>\n",
       "    <tr>\n",
       "      <th>8</th>\n",
       "      <td>3dc0cc75f32900320fcf31b4dc12c8101fe374d5</td>\n",
       "      <td>Emergence Learning: A Rising Direction from Em...</td>\n",
       "      <td></td>\n",
       "      <td>2023.0</td>\n",
       "      <td>0</td>\n",
       "      <td>0</td>\n",
       "      <td>None</td>\n",
       "      <td>False</td>\n",
       "      <td>True</td>\n",
       "      <td>True</td>\n",
       "      <td>True</td>\n",
       "      <td>[To provide interpretability in the feed-forwa...</td>\n",
       "    </tr>\n",
       "    <tr>\n",
       "      <th>23</th>\n",
       "      <td>e5379c6b2328c1d4832a2efaf276e49324fbb05a</td>\n",
       "      <td>Trends in Integration of Knowledge and Large L...</td>\n",
       "      <td>arXiv.org</td>\n",
       "      <td>2023.0</td>\n",
       "      <td>6</td>\n",
       "      <td>0</td>\n",
       "      <td>None</td>\n",
       "      <td>False</td>\n",
       "      <td>False</td>\n",
       "      <td>True</td>\n",
       "      <td>True</td>\n",
       "      <td>[Following the perspective that knowledge resi...</td>\n",
       "    </tr>\n",
       "    <tr>\n",
       "      <th>31</th>\n",
       "      <td>41a3c41ba1912e1384849e6898c241af89cc4a11</td>\n",
       "      <td>DEPN: Detecting and Editing Privacy Neurons in...</td>\n",
       "      <td>Conference on Empirical Methods in Natural Lan...</td>\n",
       "      <td>2023.0</td>\n",
       "      <td>1</td>\n",
       "      <td>0</td>\n",
       "      <td>None</td>\n",
       "      <td>False</td>\n",
       "      <td>False</td>\n",
       "      <td>True</td>\n",
       "      <td>True</td>\n",
       "      <td>[Second, the Memory-based Editing strategy (Mi...</td>\n",
       "    </tr>\n",
       "    <tr>\n",
       "      <th>32</th>\n",
       "      <td>7c57530318ae6c6e49c835f23e75affd9cf0827d</td>\n",
       "      <td>Analyzing Vision Transformers for Image Classi...</td>\n",
       "      <td>arXiv.org</td>\n",
       "      <td>2023.0</td>\n",
       "      <td>1</td>\n",
       "      <td>0</td>\n",
       "      <td>None</td>\n",
       "      <td>False</td>\n",
       "      <td>True</td>\n",
       "      <td>True</td>\n",
       "      <td>True</td>\n",
       "      <td>[For example, in NLP transformers some keys in...</td>\n",
       "    </tr>\n",
       "  </tbody>\n",
       "</table>\n",
       "</div>"
      ],
      "text/plain": [
       "                                    paper_id  \\\n",
       "1   b97f9c9ecd9222b74b93205ac792f8e3cad4aec3   \n",
       "8   3dc0cc75f32900320fcf31b4dc12c8101fe374d5   \n",
       "23  e5379c6b2328c1d4832a2efaf276e49324fbb05a   \n",
       "31  41a3c41ba1912e1384849e6898c241af89cc4a11   \n",
       "32  7c57530318ae6c6e49c835f23e75affd9cf0827d   \n",
       "\n",
       "                                                title  \\\n",
       "1   MPN: Leveraging Multilingual Patch Neuron for ...   \n",
       "8   Emergence Learning: A Rising Direction from Em...   \n",
       "23  Trends in Integration of Knowledge and Large L...   \n",
       "31  DEPN: Detecting and Editing Privacy Neurons in...   \n",
       "32  Analyzing Vision Transformers for Image Classi...   \n",
       "\n",
       "                                                venue    year  citation_count  \\\n",
       "1                                                      2024.0               0   \n",
       "8                                                      2023.0               0   \n",
       "23                                          arXiv.org  2023.0               6   \n",
       "31  Conference on Empirical Methods in Natural Lan...  2023.0               1   \n",
       "32                                          arXiv.org  2023.0               1   \n",
       "\n",
       "    influential_citation_count embedding  cites_result  cites_methodology  \\\n",
       "1                            0      None         False              False   \n",
       "8                            0      None         False               True   \n",
       "23                           0      None         False              False   \n",
       "31                           0      None         False              False   \n",
       "32                           0      None         False               True   \n",
       "\n",
       "    cites_background  was_influenced  \\\n",
       "1               True            True   \n",
       "8               True            True   \n",
       "23              True            True   \n",
       "31              True            True   \n",
       "32              True            True   \n",
       "\n",
       "                                             contexts  \n",
       "1   [The structure of the FFN layer with the added...  \n",
       "8   [To provide interpretability in the feed-forwa...  \n",
       "23  [Following the perspective that knowledge resi...  \n",
       "31  [Second, the Memory-based Editing strategy (Mi...  \n",
       "32  [For example, in NLP transformers some keys in...  "
      ]
     },
     "execution_count": 22,
     "metadata": {},
     "output_type": "execute_result"
    }
   ],
   "source": [
    "influential_papers = citation_graph[citation_graph[\"was_influenced\"]]\n",
    "influential_papers.head()"
   ]
  },
  {
   "cell_type": "code",
   "execution_count": 23,
   "metadata": {},
   "outputs": [
    {
     "data": {
      "text/html": [
       "<div>\n",
       "<style scoped>\n",
       "    .dataframe tbody tr th:only-of-type {\n",
       "        vertical-align: middle;\n",
       "    }\n",
       "\n",
       "    .dataframe tbody tr th {\n",
       "        vertical-align: top;\n",
       "    }\n",
       "\n",
       "    .dataframe thead th {\n",
       "        text-align: right;\n",
       "    }\n",
       "</style>\n",
       "<table border=\"1\" class=\"dataframe\">\n",
       "  <thead>\n",
       "    <tr style=\"text-align: right;\">\n",
       "      <th></th>\n",
       "      <th>paper_id</th>\n",
       "      <th>title</th>\n",
       "      <th>venue</th>\n",
       "      <th>year</th>\n",
       "      <th>citation_count</th>\n",
       "      <th>influential_citation_count</th>\n",
       "      <th>embedding</th>\n",
       "      <th>cites_result</th>\n",
       "      <th>cites_methodology</th>\n",
       "      <th>cites_background</th>\n",
       "      <th>was_influenced</th>\n",
       "      <th>contexts</th>\n",
       "    </tr>\n",
       "  </thead>\n",
       "  <tbody>\n",
       "    <tr>\n",
       "      <th>0</th>\n",
       "      <td>7808f614d993cae3ae2cfd3afc32f8d9191f7126</td>\n",
       "      <td>Model Editing Can Hurt General Abilities of La...</td>\n",
       "      <td></td>\n",
       "      <td>2024.0</td>\n",
       "      <td>0</td>\n",
       "      <td>0</td>\n",
       "      <td>None</td>\n",
       "      <td>False</td>\n",
       "      <td>False</td>\n",
       "      <td>True</td>\n",
       "      <td>False</td>\n",
       "      <td>[…recently, a surge of works have investigated...</td>\n",
       "    </tr>\n",
       "    <tr>\n",
       "      <th>2</th>\n",
       "      <td>26b2adbe089ea36617c3ec0aa009319929da0550</td>\n",
       "      <td>A Mechanistic Understanding of Alignment Algor...</td>\n",
       "      <td></td>\n",
       "      <td>2024.0</td>\n",
       "      <td>0</td>\n",
       "      <td>0</td>\n",
       "      <td>None</td>\n",
       "      <td>False</td>\n",
       "      <td>False</td>\n",
       "      <td>True</td>\n",
       "      <td>False</td>\n",
       "      <td>[The goal of mechanistic interpretability is l...</td>\n",
       "    </tr>\n",
       "    <tr>\n",
       "      <th>3</th>\n",
       "      <td>0251bb95be75d472c8d5b873751615e7fe2feb1d</td>\n",
       "      <td>A Comprehensive Study of Knowledge Editing for...</td>\n",
       "      <td>arXiv.org</td>\n",
       "      <td>2024.0</td>\n",
       "      <td>3</td>\n",
       "      <td>0</td>\n",
       "      <td>None</td>\n",
       "      <td>False</td>\n",
       "      <td>False</td>\n",
       "      <td>True</td>\n",
       "      <td>False</td>\n",
       "      <td>[Geva et al. [40] proposes that the FFN layers...</td>\n",
       "    </tr>\n",
       "    <tr>\n",
       "      <th>4</th>\n",
       "      <td>6789e0a19f70e283b120fd6a3792162d01a021d5</td>\n",
       "      <td>Do Androids Know They're Only Dreaming of Elec...</td>\n",
       "      <td></td>\n",
       "      <td>2023.0</td>\n",
       "      <td>0</td>\n",
       "      <td>0</td>\n",
       "      <td>None</td>\n",
       "      <td>False</td>\n",
       "      <td>False</td>\n",
       "      <td>True</td>\n",
       "      <td>False</td>\n",
       "      <td>[Related work has studied how transformers ret...</td>\n",
       "    </tr>\n",
       "    <tr>\n",
       "      <th>5</th>\n",
       "      <td>5c7a21e9262b62f0a27fefdc8b1270dfdcbd3912</td>\n",
       "      <td>The Truth is in There: Improving Reasoning in ...</td>\n",
       "      <td></td>\n",
       "      <td>2023.0</td>\n",
       "      <td>1</td>\n",
       "      <td>0</td>\n",
       "      <td>None</td>\n",
       "      <td>False</td>\n",
       "      <td>False</td>\n",
       "      <td>True</td>\n",
       "      <td>False</td>\n",
       "      <td>[Some theories posit that information about di...</td>\n",
       "    </tr>\n",
       "  </tbody>\n",
       "</table>\n",
       "</div>"
      ],
      "text/plain": [
       "                                   paper_id  \\\n",
       "0  7808f614d993cae3ae2cfd3afc32f8d9191f7126   \n",
       "2  26b2adbe089ea36617c3ec0aa009319929da0550   \n",
       "3  0251bb95be75d472c8d5b873751615e7fe2feb1d   \n",
       "4  6789e0a19f70e283b120fd6a3792162d01a021d5   \n",
       "5  5c7a21e9262b62f0a27fefdc8b1270dfdcbd3912   \n",
       "\n",
       "                                               title      venue    year  \\\n",
       "0  Model Editing Can Hurt General Abilities of La...             2024.0   \n",
       "2  A Mechanistic Understanding of Alignment Algor...             2024.0   \n",
       "3  A Comprehensive Study of Knowledge Editing for...  arXiv.org  2024.0   \n",
       "4  Do Androids Know They're Only Dreaming of Elec...             2023.0   \n",
       "5  The Truth is in There: Improving Reasoning in ...             2023.0   \n",
       "\n",
       "   citation_count  influential_citation_count embedding  cites_result  \\\n",
       "0               0                           0      None         False   \n",
       "2               0                           0      None         False   \n",
       "3               3                           0      None         False   \n",
       "4               0                           0      None         False   \n",
       "5               1                           0      None         False   \n",
       "\n",
       "   cites_methodology  cites_background  was_influenced  \\\n",
       "0              False              True           False   \n",
       "2              False              True           False   \n",
       "3              False              True           False   \n",
       "4              False              True           False   \n",
       "5              False              True           False   \n",
       "\n",
       "                                            contexts  \n",
       "0  […recently, a surge of works have investigated...  \n",
       "2  [The goal of mechanistic interpretability is l...  \n",
       "3  [Geva et al. [40] proposes that the FFN layers...  \n",
       "4  [Related work has studied how transformers ret...  \n",
       "5  [Some theories posit that information about di...  "
      ]
     },
     "execution_count": 23,
     "metadata": {},
     "output_type": "execute_result"
    }
   ],
   "source": [
    "normal_papers = citation_graph[citation_graph[\"was_influenced\"] == False]\n",
    "normal_papers.head()"
   ]
  },
  {
   "cell_type": "code",
   "execution_count": 24,
   "metadata": {},
   "outputs": [],
   "source": [
    "citation_type_influential = {r: influential_papers[r].sum() for r in [\"cites_result\", \"cites_methodology\", \"cites_background\"]}\n",
    "citation_type_normal = {r: normal_papers[r].sum() for r in [\"cites_result\", \"cites_methodology\", \"cites_background\"]}"
   ]
  },
  {
   "cell_type": "code",
   "execution_count": 25,
   "metadata": {},
   "outputs": [
    {
     "data": {
      "image/png": "[encoded data removed]",
      "text/plain": [
       "<Figure size 640x480 with 1 Axes>"
      ]
     },
     "metadata": {},
     "output_type": "display_data"
    }
   ],
   "source": [
    "fig, axes = plt.subplots()\n",
    "\n",
    "axes.bar([0.25, 1.25, 2.25], citation_type_normal.values(), width=0.2, label=\"normal\")\n",
    "axes.bar([-0.25, 0.75, 1.75], citation_type_influential.values(), width=0.2, label=\"influential\")\n",
    "\n",
    "axes.set_ylabel(\"Number of citing papers\")\n",
    "axes.set_xlabel(f\"Type of citation (intent)\")\n",
    "axes.set_xticks([0, 1, 2])\n",
    "axes.set_xticklabels(citation_type_influential.keys())\n",
    "\n",
    "axes.set_title(paper.title)\n",
    "axes.legend(loc=\"best\");\n"
   ]
  },
  {
   "cell_type": "code",
   "execution_count": 26,
   "metadata": {},
   "outputs": [],
   "source": [
    "citations_per_year = citation_graph.groupby(['year'])['year'].count()"
   ]
  },
  {
   "cell_type": "code",
   "execution_count": 35,
   "metadata": {},
   "outputs": [
    {
     "data": {
      "text/plain": [
       "year\n",
       "2020.0      2\n",
       "2021.0     17\n",
       "2022.0     44\n",
       "2023.0    162\n",
       "2024.0      4\n",
       "Name: year, dtype: int64"
      ]
     },
     "execution_count": 35,
     "metadata": {},
     "output_type": "execute_result"
    }
   ],
   "source": [
    "citations_per_year"
   ]
  },
  {
   "cell_type": "code",
   "execution_count": 33,
   "metadata": {},
   "outputs": [
    {
     "name": "stdout",
     "output_type": "stream",
     "text": [
      "229\n"
     ]
    },
    {
     "data": {
      "image/png": "[encoded data removed]",
      "text/plain": [
       "<Figure size 640x480 with 1 Axes>"
      ]
     },
     "metadata": {},
     "output_type": "display_data"
    }
   ],
   "source": [
    "fig, axes = plt.subplots()\n",
    "\n",
    "counts = citations_per_year.values\n",
    "axes.plot(counts, linewidth=2.0, label=\"all\")\n",
    "\n",
    "axes.set_ylabel(\"Number of citing papers\")\n",
    "axes.set_xlabel(f\"Year\")\n",
    "\n",
    "years = [int(year) for year in citations_per_year.index]\n",
    "axes.set_xticks(range(len(years)))\n",
    "axes.set_xticklabels(years)\n",
    "# axes.set_xticklabels(intent_influential.keys())\n",
    "\n",
    "axes.set_title(paper.title)\n",
    "axes.legend(loc=\"best\")\n",
    "\n",
    "# print(np.sum(counts))\n"
   ]
  },
  {
   "cell_type": "code",
   "execution_count": null,
   "metadata": {},
   "outputs": [],
   "source": []
  }
 ],
 "metadata": {
  "kernelspec": {
   "display_name": "semanticscholarapi",
   "language": "python",
   "name": "python3"
  },
  "language_info": {
   "codemirror_mode": {
    "name": "ipython",
    "version": 3
   },
   "file_extension": ".py",
   "mimetype": "text/x-python",
   "name": "python",
   "nbconvert_exporter": "python",
   "pygments_lexer": "ipython3",
   "version": "3.11.5"
  }
 },
 "nbformat": 4,
 "nbformat_minor": 2
}
