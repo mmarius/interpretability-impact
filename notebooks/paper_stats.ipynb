{
 "cells": [
  {
   "cell_type": "code",
   "execution_count": 1,
   "metadata": {},
   "outputs": [],
   "source": [
    "import os, sys\n",
    "sys.path.append(os.path.dirname(os.getcwd()))"
   ]
  },
  {
   "cell_type": "code",
   "execution_count": 2,
   "metadata": {},
   "outputs": [
    {
     "data": {
      "text/html": [
       "<pre style=\"white-space:pre;overflow-x:auto;line-height:normal;font-family:Menlo,'DejaVu Sans Mono',consolas,'Courier New',monospace\">\n",
       "</pre>\n"
      ],
      "text/plain": [
       "\n"
      ]
     },
     "metadata": {},
     "output_type": "display_data"
    }
   ],
   "source": [
    "from utils import get_paper_details, filter_df\n",
    "\n",
    "import matplotlib.pyplot as plt\n",
    "import pandas as pd"
   ]
  },
  {
   "cell_type": "markdown",
   "metadata": {},
   "source": [
    "----"
   ]
  },
  {
   "cell_type": "markdown",
   "metadata": {},
   "source": [
    "### Get citation graph for an individual paper"
   ]
  },
  {
   "cell_type": "code",
   "execution_count": 3,
   "metadata": {},
   "outputs": [],
   "source": [
    "paper_id = \"10.18653/v1/2021.emnlp-main.446\" # Transformer Feed-Forward Layers Are Key-Value Memories\n",
    "\n",
    "paper = get_paper_details(paper_id)"
   ]
  },
  {
   "cell_type": "code",
   "execution_count": 4,
   "metadata": {},
   "outputs": [
    {
     "data": {
      "text/html": [
       "<div>\n",
       "<style scoped>\n",
       "    .dataframe tbody tr th:only-of-type {\n",
       "        vertical-align: middle;\n",
       "    }\n",
       "\n",
       "    .dataframe tbody tr th {\n",
       "        vertical-align: top;\n",
       "    }\n",
       "\n",
       "    .dataframe thead th {\n",
       "        text-align: right;\n",
       "    }\n",
       "</style>\n",
       "<table border=\"1\" class=\"dataframe\">\n",
       "  <thead>\n",
       "    <tr style=\"text-align: right;\">\n",
       "      <th></th>\n",
       "      <th>paper_id</th>\n",
       "      <th>title</th>\n",
       "      <th>venue</th>\n",
       "      <th>year</th>\n",
       "      <th>citation_count</th>\n",
       "      <th>influential_citation_count</th>\n",
       "    </tr>\n",
       "  </thead>\n",
       "  <tbody>\n",
       "    <tr>\n",
       "      <th>0</th>\n",
       "      <td>10.18653/v1/2021.emnlp-main.446</td>\n",
       "      <td>Transformer Feed-Forward Layers Are Key-Value ...</td>\n",
       "      <td>Conference on Empirical Methods in Natural Lan...</td>\n",
       "      <td>2020</td>\n",
       "      <td>211</td>\n",
       "      <td>27</td>\n",
       "    </tr>\n",
       "  </tbody>\n",
       "</table>\n",
       "</div>"
      ],
      "text/plain": [
       "                          paper_id  \\\n",
       "0  10.18653/v1/2021.emnlp-main.446   \n",
       "\n",
       "                                               title  \\\n",
       "0  Transformer Feed-Forward Layers Are Key-Value ...   \n",
       "\n",
       "                                               venue  year  citation_count  \\\n",
       "0  Conference on Empirical Methods in Natural Lan...  2020             211   \n",
       "\n",
       "   influential_citation_count  \n",
       "0                          27  "
      ]
     },
     "execution_count": 4,
     "metadata": {},
     "output_type": "execute_result"
    }
   ],
   "source": [
    "paper.to_df()"
   ]
  },
  {
   "cell_type": "code",
   "execution_count": 5,
   "metadata": {},
   "outputs": [
    {
     "name": "stderr",
     "output_type": "stream",
     "text": [
      "Collecting citations:   3%|▎         | 7/211 [00:03<01:44,  1.95it/s]"
     ]
    },
    {
     "name": "stdout",
     "output_type": "stream",
     "text": [
      "Trying again ...\n"
     ]
    },
    {
     "name": "stderr",
     "output_type": "stream",
     "text": [
      "Collecting citations:  59%|█████▉    | 125/211 [01:41<00:55,  1.56it/s]"
     ]
    },
    {
     "name": "stdout",
     "output_type": "stream",
     "text": [
      "Trying again ...\n"
     ]
    },
    {
     "name": "stderr",
     "output_type": "stream",
     "text": [
      "Collecting citations: 100%|██████████| 211/211 [03:01<00:00,  1.16it/s]\n"
     ]
    }
   ],
   "source": [
    "paper.retrieve_citations(limit=1000) # 1000 is the maximum"
   ]
  },
  {
   "cell_type": "code",
   "execution_count": 6,
   "metadata": {},
   "outputs": [
    {
     "data": {
      "text/html": [
       "<div>\n",
       "<style scoped>\n",
       "    .dataframe tbody tr th:only-of-type {\n",
       "        vertical-align: middle;\n",
       "    }\n",
       "\n",
       "    .dataframe tbody tr th {\n",
       "        vertical-align: top;\n",
       "    }\n",
       "\n",
       "    .dataframe thead th {\n",
       "        text-align: right;\n",
       "    }\n",
       "</style>\n",
       "<table border=\"1\" class=\"dataframe\">\n",
       "  <thead>\n",
       "    <tr style=\"text-align: right;\">\n",
       "      <th></th>\n",
       "      <th>paper_id</th>\n",
       "      <th>title</th>\n",
       "      <th>venue</th>\n",
       "      <th>year</th>\n",
       "      <th>citation_count</th>\n",
       "      <th>influential_citation_count</th>\n",
       "      <th>cites_result</th>\n",
       "      <th>cites_methodology</th>\n",
       "      <th>cites_background</th>\n",
       "      <th>was_influenced</th>\n",
       "      <th>contexts</th>\n",
       "    </tr>\n",
       "  </thead>\n",
       "  <tbody>\n",
       "    <tr>\n",
       "      <th>0</th>\n",
       "      <td>be431d20e27bafc584858bb76ba41b483cfd514b</td>\n",
       "      <td>Identifying Linear Relational Concepts in Larg...</td>\n",
       "      <td>arXiv.org</td>\n",
       "      <td>2023</td>\n",
       "      <td>0</td>\n",
       "      <td>0</td>\n",
       "      <td>False</td>\n",
       "      <td>False</td>\n",
       "      <td>True</td>\n",
       "      <td>False</td>\n",
       "      <td>[Further work has shown that mid-level multi-l...</td>\n",
       "    </tr>\n",
       "  </tbody>\n",
       "</table>\n",
       "</div>"
      ],
      "text/plain": [
       "                                   paper_id  \\\n",
       "0  be431d20e27bafc584858bb76ba41b483cfd514b   \n",
       "\n",
       "                                               title      venue  year  \\\n",
       "0  Identifying Linear Relational Concepts in Larg...  arXiv.org  2023   \n",
       "\n",
       "   citation_count  influential_citation_count  cites_result  \\\n",
       "0               0                           0         False   \n",
       "\n",
       "   cites_methodology  cites_background  was_influenced  \\\n",
       "0              False              True           False   \n",
       "\n",
       "                                            contexts  \n",
       "0  [Further work has shown that mid-level multi-l...  "
      ]
     },
     "execution_count": 6,
     "metadata": {},
     "output_type": "execute_result"
    }
   ],
   "source": [
    "paper.citations[0].to_df()"
   ]
  },
  {
   "cell_type": "code",
   "execution_count": 7,
   "metadata": {},
   "outputs": [],
   "source": [
    "citation_graph = paper.citations_to_df()"
   ]
  },
  {
   "cell_type": "code",
   "execution_count": 8,
   "metadata": {},
   "outputs": [
    {
     "data": {
      "text/html": [
       "<div>\n",
       "<style scoped>\n",
       "    .dataframe tbody tr th:only-of-type {\n",
       "        vertical-align: middle;\n",
       "    }\n",
       "\n",
       "    .dataframe tbody tr th {\n",
       "        vertical-align: top;\n",
       "    }\n",
       "\n",
       "    .dataframe thead th {\n",
       "        text-align: right;\n",
       "    }\n",
       "</style>\n",
       "<table border=\"1\" class=\"dataframe\">\n",
       "  <thead>\n",
       "    <tr style=\"text-align: right;\">\n",
       "      <th></th>\n",
       "      <th>paper_id</th>\n",
       "      <th>title</th>\n",
       "      <th>venue</th>\n",
       "      <th>year</th>\n",
       "      <th>citation_count</th>\n",
       "      <th>influential_citation_count</th>\n",
       "      <th>cites_result</th>\n",
       "      <th>cites_methodology</th>\n",
       "      <th>cites_background</th>\n",
       "      <th>was_influenced</th>\n",
       "      <th>contexts</th>\n",
       "    </tr>\n",
       "  </thead>\n",
       "  <tbody>\n",
       "    <tr>\n",
       "      <th>0</th>\n",
       "      <td>be431d20e27bafc584858bb76ba41b483cfd514b</td>\n",
       "      <td>Identifying Linear Relational Concepts in Larg...</td>\n",
       "      <td>arXiv.org</td>\n",
       "      <td>2023</td>\n",
       "      <td>0</td>\n",
       "      <td>0</td>\n",
       "      <td>False</td>\n",
       "      <td>False</td>\n",
       "      <td>True</td>\n",
       "      <td>False</td>\n",
       "      <td>[Further work has shown that mid-level multi-l...</td>\n",
       "    </tr>\n",
       "    <tr>\n",
       "      <th>1</th>\n",
       "      <td>e7f7578fd671ca18d115104bcaa80c2950ab70f0</td>\n",
       "      <td>Do Localization Methods Actually Localize Memo...</td>\n",
       "      <td>arXiv.org</td>\n",
       "      <td>2023</td>\n",
       "      <td>0</td>\n",
       "      <td>0</td>\n",
       "      <td>False</td>\n",
       "      <td>False</td>\n",
       "      <td>True</td>\n",
       "      <td>False</td>\n",
       "      <td>[It is generally believed that LLMs use FFN in...</td>\n",
       "    </tr>\n",
       "    <tr>\n",
       "      <th>2</th>\n",
       "      <td>05c2e901005201438e807e061823e55fd377176c</td>\n",
       "      <td>Assessing Knowledge Editing in Language Models...</td>\n",
       "      <td>arXiv.org</td>\n",
       "      <td>2023</td>\n",
       "      <td>0</td>\n",
       "      <td>0</td>\n",
       "      <td>False</td>\n",
       "      <td>False</td>\n",
       "      <td>True</td>\n",
       "      <td>False</td>\n",
       "      <td>[Geva et al. (2020, 2022) show that feed-forwa...</td>\n",
       "    </tr>\n",
       "    <tr>\n",
       "      <th>3</th>\n",
       "      <td>50714ad97ae3a65ff15771b8ec89de47aa8311ab</td>\n",
       "      <td>The Transient Nature of Emergent In-Context Le...</td>\n",
       "      <td>arXiv.org</td>\n",
       "      <td>2023</td>\n",
       "      <td>1</td>\n",
       "      <td>0</td>\n",
       "      <td>True</td>\n",
       "      <td>False</td>\n",
       "      <td>False</td>\n",
       "      <td>False</td>\n",
       "      <td>[These results can be interpreted in light of ...</td>\n",
       "    </tr>\n",
       "    <tr>\n",
       "      <th>4</th>\n",
       "      <td>e0b3cdd6639cc702e106f708bd3ba934e646ffba</td>\n",
       "      <td>Forgetting before Learning: Utilizing Parametr...</td>\n",
       "      <td>arXiv.org</td>\n",
       "      <td>2023</td>\n",
       "      <td>0</td>\n",
       "      <td>0</td>\n",
       "      <td>False</td>\n",
       "      <td>False</td>\n",
       "      <td>True</td>\n",
       "      <td>False</td>\n",
       "      <td>[Geva et al. (Geva et al., 2021) find that the...</td>\n",
       "    </tr>\n",
       "  </tbody>\n",
       "</table>\n",
       "</div>"
      ],
      "text/plain": [
       "                                   paper_id  \\\n",
       "0  be431d20e27bafc584858bb76ba41b483cfd514b   \n",
       "1  e7f7578fd671ca18d115104bcaa80c2950ab70f0   \n",
       "2  05c2e901005201438e807e061823e55fd377176c   \n",
       "3  50714ad97ae3a65ff15771b8ec89de47aa8311ab   \n",
       "4  e0b3cdd6639cc702e106f708bd3ba934e646ffba   \n",
       "\n",
       "                                               title      venue  year  \\\n",
       "0  Identifying Linear Relational Concepts in Larg...  arXiv.org  2023   \n",
       "1  Do Localization Methods Actually Localize Memo...  arXiv.org  2023   \n",
       "2  Assessing Knowledge Editing in Language Models...  arXiv.org  2023   \n",
       "3  The Transient Nature of Emergent In-Context Le...  arXiv.org  2023   \n",
       "4  Forgetting before Learning: Utilizing Parametr...  arXiv.org  2023   \n",
       "\n",
       "   citation_count  influential_citation_count  cites_result  \\\n",
       "0               0                           0         False   \n",
       "1               0                           0         False   \n",
       "2               0                           0         False   \n",
       "3               1                           0          True   \n",
       "4               0                           0         False   \n",
       "\n",
       "   cites_methodology  cites_background  was_influenced  \\\n",
       "0              False              True           False   \n",
       "1              False              True           False   \n",
       "2              False              True           False   \n",
       "3              False             False           False   \n",
       "4              False              True           False   \n",
       "\n",
       "                                            contexts  \n",
       "0  [Further work has shown that mid-level multi-l...  \n",
       "1  [It is generally believed that LLMs use FFN in...  \n",
       "2  [Geva et al. (2020, 2022) show that feed-forwa...  \n",
       "3  [These results can be interpreted in light of ...  \n",
       "4  [Geva et al. (Geva et al., 2021) find that the...  "
      ]
     },
     "execution_count": 8,
     "metadata": {},
     "output_type": "execute_result"
    }
   ],
   "source": [
    "citation_graph.head()"
   ]
  },
  {
   "cell_type": "markdown",
   "metadata": {},
   "source": [
    "----"
   ]
  },
  {
   "cell_type": "markdown",
   "metadata": {},
   "source": [
    "### Visualizations"
   ]
  },
  {
   "cell_type": "code",
   "execution_count": 9,
   "metadata": {},
   "outputs": [],
   "source": [
    "citation_stats = citation_graph['citation_count']\n",
    "influential_citation_stats = citation_graph['influential_citation_count']"
   ]
  },
  {
   "cell_type": "code",
   "execution_count": 10,
   "metadata": {},
   "outputs": [
    {
     "data": {
      "image/png": "[encoded data removed]",
      "text/plain": [
       "<Figure size 640x480 with 1 Axes>"
      ]
     },
     "metadata": {},
     "output_type": "display_data"
    }
   ],
   "source": [
    "fig, axes = plt.subplots()\n",
    "\n",
    "axes.hist(citation_stats, bins=50, label=\"normal\")\n",
    "axes.hist(influential_citation_stats, bins=50, label=\"influential\")\n",
    "\n",
    "# axes.set_yscale(\"log\")\n",
    "\n",
    "axes.set_ylabel(\"Number of citing papers\")\n",
    "axes.set_xlabel(f\"with $N$ citations\")\n",
    "\n",
    "axes.set_title(paper.title)\n",
    "axes.legend(loc=\"best\");"
   ]
  },
  {
   "cell_type": "code",
   "execution_count": 11,
   "metadata": {},
   "outputs": [],
   "source": [
    "influential_papers = filter_df(citation_graph, was_influenced=True)\n",
    "normal_papers = filter_df(citation_graph, was_influenced=False)"
   ]
  },
  {
   "cell_type": "code",
   "execution_count": 12,
   "metadata": {},
   "outputs": [
    {
     "data": {
      "text/html": [
       "<div>\n",
       "<style scoped>\n",
       "    .dataframe tbody tr th:only-of-type {\n",
       "        vertical-align: middle;\n",
       "    }\n",
       "\n",
       "    .dataframe tbody tr th {\n",
       "        vertical-align: top;\n",
       "    }\n",
       "\n",
       "    .dataframe thead th {\n",
       "        text-align: right;\n",
       "    }\n",
       "</style>\n",
       "<table border=\"1\" class=\"dataframe\">\n",
       "  <thead>\n",
       "    <tr style=\"text-align: right;\">\n",
       "      <th></th>\n",
       "      <th>paper_id</th>\n",
       "      <th>title</th>\n",
       "      <th>venue</th>\n",
       "      <th>year</th>\n",
       "      <th>citation_count</th>\n",
       "      <th>influential_citation_count</th>\n",
       "      <th>cites_result</th>\n",
       "      <th>cites_methodology</th>\n",
       "      <th>cites_background</th>\n",
       "      <th>was_influenced</th>\n",
       "      <th>contexts</th>\n",
       "    </tr>\n",
       "  </thead>\n",
       "  <tbody>\n",
       "    <tr>\n",
       "      <th>6</th>\n",
       "      <td>e5379c6b2328c1d4832a2efaf276e49324fbb05a</td>\n",
       "      <td>Trends in Integration of Knowledge and Large L...</td>\n",
       "      <td>arXiv.org</td>\n",
       "      <td>2023</td>\n",
       "      <td>0</td>\n",
       "      <td>0</td>\n",
       "      <td>False</td>\n",
       "      <td>False</td>\n",
       "      <td>True</td>\n",
       "      <td>True</td>\n",
       "      <td>[Following the perspective that knowledge resi...</td>\n",
       "    </tr>\n",
       "    <tr>\n",
       "      <th>14</th>\n",
       "      <td>41a3c41ba1912e1384849e6898c241af89cc4a11</td>\n",
       "      <td>DEPN: Detecting and Editing Privacy Neurons in...</td>\n",
       "      <td>arXiv.org</td>\n",
       "      <td>2023</td>\n",
       "      <td>0</td>\n",
       "      <td>0</td>\n",
       "      <td>False</td>\n",
       "      <td>False</td>\n",
       "      <td>True</td>\n",
       "      <td>True</td>\n",
       "      <td>[Second, the Memory-based Editing strategy (Mi...</td>\n",
       "    </tr>\n",
       "    <tr>\n",
       "      <th>15</th>\n",
       "      <td>7c57530318ae6c6e49c835f23e75affd9cf0827d</td>\n",
       "      <td>Analyzing Vision Transformers for Image Classi...</td>\n",
       "      <td>arXiv.org</td>\n",
       "      <td>2023</td>\n",
       "      <td>0</td>\n",
       "      <td>0</td>\n",
       "      <td>False</td>\n",
       "      <td>True</td>\n",
       "      <td>True</td>\n",
       "      <td>True</td>\n",
       "      <td>[For example, in NLP transformers some keys in...</td>\n",
       "    </tr>\n",
       "    <tr>\n",
       "      <th>17</th>\n",
       "      <td>9f20b0aa426c18512e820d1c1311378f71114d8a</td>\n",
       "      <td>Codebook Features: Sparse and Discrete Interpr...</td>\n",
       "      <td>arXiv.org</td>\n",
       "      <td>2023</td>\n",
       "      <td>0</td>\n",
       "      <td>0</td>\n",
       "      <td>False</td>\n",
       "      <td>False</td>\n",
       "      <td>True</td>\n",
       "      <td>True</td>\n",
       "      <td>[…2021; Bau et al., 2020b) and algorithms (Giu...</td>\n",
       "    </tr>\n",
       "    <tr>\n",
       "      <th>38</th>\n",
       "      <td>4941b37136cdf1836b78ddb6cee65a28c3ce45f0</td>\n",
       "      <td>ChatKBQA: A Generate-then-Retrieve Framework f...</td>\n",
       "      <td>arXiv.org</td>\n",
       "      <td>2023</td>\n",
       "      <td>0</td>\n",
       "      <td>0</td>\n",
       "      <td>False</td>\n",
       "      <td>True</td>\n",
       "      <td>True</td>\n",
       "      <td>True</td>\n",
       "      <td>[Freeze (Geva et al., 2021) speeds up the mode...</td>\n",
       "    </tr>\n",
       "  </tbody>\n",
       "</table>\n",
       "</div>"
      ],
      "text/plain": [
       "                                    paper_id  \\\n",
       "6   e5379c6b2328c1d4832a2efaf276e49324fbb05a   \n",
       "14  41a3c41ba1912e1384849e6898c241af89cc4a11   \n",
       "15  7c57530318ae6c6e49c835f23e75affd9cf0827d   \n",
       "17  9f20b0aa426c18512e820d1c1311378f71114d8a   \n",
       "38  4941b37136cdf1836b78ddb6cee65a28c3ce45f0   \n",
       "\n",
       "                                                title      venue  year  \\\n",
       "6   Trends in Integration of Knowledge and Large L...  arXiv.org  2023   \n",
       "14  DEPN: Detecting and Editing Privacy Neurons in...  arXiv.org  2023   \n",
       "15  Analyzing Vision Transformers for Image Classi...  arXiv.org  2023   \n",
       "17  Codebook Features: Sparse and Discrete Interpr...  arXiv.org  2023   \n",
       "38  ChatKBQA: A Generate-then-Retrieve Framework f...  arXiv.org  2023   \n",
       "\n",
       "    citation_count  influential_citation_count  cites_result  \\\n",
       "6                0                           0         False   \n",
       "14               0                           0         False   \n",
       "15               0                           0         False   \n",
       "17               0                           0         False   \n",
       "38               0                           0         False   \n",
       "\n",
       "    cites_methodology  cites_background  was_influenced  \\\n",
       "6               False              True            True   \n",
       "14              False              True            True   \n",
       "15               True              True            True   \n",
       "17              False              True            True   \n",
       "38               True              True            True   \n",
       "\n",
       "                                             contexts  \n",
       "6   [Following the perspective that knowledge resi...  \n",
       "14  [Second, the Memory-based Editing strategy (Mi...  \n",
       "15  [For example, in NLP transformers some keys in...  \n",
       "17  […2021; Bau et al., 2020b) and algorithms (Giu...  \n",
       "38  [Freeze (Geva et al., 2021) speeds up the mode...  "
      ]
     },
     "execution_count": 12,
     "metadata": {},
     "output_type": "execute_result"
    }
   ],
   "source": [
    "influential_papers.head()"
   ]
  },
  {
   "cell_type": "code",
   "execution_count": 13,
   "metadata": {},
   "outputs": [],
   "source": [
    "intent_influential = {r: influential_papers[r].sum() for r in [\"cites_result\", \"cites_methodology\", \"cites_background\"]}\n",
    "intent_normal = {r: normal_papers[r].sum() for r in [\"cites_result\", \"cites_methodology\", \"cites_background\"]}"
   ]
  },
  {
   "cell_type": "code",
   "execution_count": 14,
   "metadata": {},
   "outputs": [
    {
     "data": {
      "image/png": "[encoded data removed]",
      "text/plain": [
       "<Figure size 640x480 with 1 Axes>"
      ]
     },
     "metadata": {},
     "output_type": "display_data"
    }
   ],
   "source": [
    "fig, axes = plt.subplots()\n",
    "\n",
    "axes.bar([0.25, 1.25, 2.25], intent_normal.values(), width=0.2, label=\"normal\")\n",
    "axes.bar([-0.25, 0.75, 1.75], intent_influential.values(), width=0.2, label=\"influential\")\n",
    "\n",
    "axes.set_ylabel(\"Number of citing papers\")\n",
    "axes.set_xlabel(f\"Type of citation (intent)\")\n",
    "axes.set_xticks([0, 1, 2])\n",
    "axes.set_xticklabels(intent_influential.keys())\n",
    "\n",
    "axes.set_title(paper.title)\n",
    "axes.legend(loc=\"best\");\n"
   ]
  },
  {
   "cell_type": "code",
   "execution_count": 15,
   "metadata": {},
   "outputs": [],
   "source": [
    "citations_per_year = citation_graph.groupby(['year'])['year'].count()"
   ]
  },
  {
   "cell_type": "code",
   "execution_count": 16,
   "metadata": {},
   "outputs": [
    {
     "data": {
      "text/plain": [
       "year\n",
       "2020      2\n",
       "2021     17\n",
       "2022     44\n",
       "2023    148\n",
       "Name: year, dtype: int64"
      ]
     },
     "execution_count": 16,
     "metadata": {},
     "output_type": "execute_result"
    }
   ],
   "source": [
    "citations_per_year"
   ]
  },
  {
   "cell_type": "code",
   "execution_count": 17,
   "metadata": {},
   "outputs": [
    {
     "data": {
      "image/png": "[encoded data removed]",
      "text/plain": [
       "<Figure size 640x480 with 1 Axes>"
      ]
     },
     "metadata": {},
     "output_type": "display_data"
    }
   ],
   "source": [
    "fig, axes = plt.subplots()\n",
    "\n",
    "axes.plot(citations_per_year.values, linewidth=2.0, label=\"all\")\n",
    "\n",
    "axes.set_ylabel(\"Number of citing papers\")\n",
    "axes.set_xlabel(f\"Year\")\n",
    "axes.set_xticks(range(len(citations_per_year.index)))\n",
    "axes.set_xticklabels(citations_per_year.index)\n",
    "# axes.set_xticklabels(intent_influential.keys())\n",
    "\n",
    "axes.set_title(paper.title)\n",
    "axes.legend(loc=\"best\");\n"
   ]
  },
  {
   "cell_type": "code",
   "execution_count": null,
   "metadata": {},
   "outputs": [],
   "source": []
  }
 ],
 "metadata": {
  "kernelspec": {
   "display_name": "semanticscholarapi",
   "language": "python",
   "name": "python3"
  },
  "language_info": {
   "codemirror_mode": {
    "name": "ipython",
    "version": 3
   },
   "file_extension": ".py",
   "mimetype": "text/x-python",
   "name": "python",
   "nbconvert_exporter": "python",
   "pygments_lexer": "ipython3",
   "version": "3.11.5"
  }
 },
 "nbformat": 4,
 "nbformat_minor": 2
}
