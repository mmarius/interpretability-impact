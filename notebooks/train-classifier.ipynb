{
 "cells": [
  {
   "cell_type": "code",
   "execution_count": 1,
   "id": "11c8f6ca-f866-4034-99b2-9b86bc24d0af",
   "metadata": {},
   "outputs": [],
   "source": [
    "import os, sys\n",
    "sys.path.append(os.path.dirname(os.getcwd()))\n",
    "import pandas as pd\n",
    "from sklearn.model_selection import train_test_split\n",
    "import numpy as np\n",
    "import torch\n",
    "import matplotlib.pyplot as plt\n",
    "import seaborn as sns\n",
    "from sklearn.metrics import confusion_matrix\n",
    "from tqdm import tqdm\n"
   ]
  },
  {
   "cell_type": "code",
   "execution_count": 2,
   "id": "53e79626-891d-4029-afc3-d2c23edfd426",
   "metadata": {},
   "outputs": [
    {
     "data": {
      "text/html": [
       "<div>\n",
       "<style scoped>\n",
       "    .dataframe tbody tr th:only-of-type {\n",
       "        vertical-align: middle;\n",
       "    }\n",
       "\n",
       "    .dataframe tbody tr th {\n",
       "        vertical-align: top;\n",
       "    }\n",
       "\n",
       "    .dataframe thead th {\n",
       "        text-align: right;\n",
       "    }\n",
       "</style>\n",
       "<table border=\"1\" class=\"dataframe\">\n",
       "  <thead>\n",
       "    <tr style=\"text-align: right;\">\n",
       "      <th></th>\n",
       "      <th>id</th>\n",
       "      <th>title</th>\n",
       "      <th>area</th>\n",
       "      <th>source</th>\n",
       "      <th>year</th>\n",
       "      <th>doi</th>\n",
       "      <th>abstract</th>\n",
       "      <th>semantic_scholar_id</th>\n",
       "    </tr>\n",
       "  </thead>\n",
       "  <tbody>\n",
       "    <tr>\n",
       "      <th>0</th>\n",
       "      <td>main.1004</td>\n",
       "      <td>AnswerFact: Fact Checking in Product Question ...</td>\n",
       "      <td>Question Answering</td>\n",
       "      <td>EMNLP</td>\n",
       "      <td>2020</td>\n",
       "      <td>10.18653/v1/2020.emnlp-main.188</td>\n",
       "      <td>Product-related question answering platforms n...</td>\n",
       "      <td>4c61df1b4b9a164fec1a34587b4fffae029cd18c</td>\n",
       "    </tr>\n",
       "    <tr>\n",
       "      <th>1</th>\n",
       "      <td>main.1006</td>\n",
       "      <td>Knowledge-Grounded Dialogue Generation with Pr...</td>\n",
       "      <td>Dialog and Interactive Systems</td>\n",
       "      <td>EMNLP</td>\n",
       "      <td>2020</td>\n",
       "      <td>10.18653/v1/2020.emnlp-main.272</td>\n",
       "      <td>We study knowledge-grounded dialogue generatio...</td>\n",
       "      <td>3447a432f724aa36595643446acda5b78943db19</td>\n",
       "    </tr>\n",
       "    <tr>\n",
       "      <th>2</th>\n",
       "      <td>main.1009</td>\n",
       "      <td>BiST: Bi-directional Spatio-Temporal Reasoning...</td>\n",
       "      <td>Dialog and Interactive Systems</td>\n",
       "      <td>EMNLP</td>\n",
       "      <td>2020</td>\n",
       "      <td>10.18653/v1/2020.emnlp-main.145</td>\n",
       "      <td>Video-grounded dialogues are very challenging ...</td>\n",
       "      <td>f4a2acfeb1705df3f430cc53ace26e1dbbbcbd16</td>\n",
       "    </tr>\n",
       "    <tr>\n",
       "      <th>3</th>\n",
       "      <td>main.1010</td>\n",
       "      <td>A Knowledge-Aware Sequence-to-Tree Network for...</td>\n",
       "      <td>NLP Applications</td>\n",
       "      <td>EMNLP</td>\n",
       "      <td>2020</td>\n",
       "      <td>10.18653/v1/2020.emnlp-main.579</td>\n",
       "      <td>With the advancements in natural language proc...</td>\n",
       "      <td>24ed85ad966823868c1694a19385d01c6ad71008</td>\n",
       "    </tr>\n",
       "    <tr>\n",
       "      <th>4</th>\n",
       "      <td>main.1011</td>\n",
       "      <td>Knowledge Association with Hyperbolic Knowledg...</td>\n",
       "      <td>Information Extraction</td>\n",
       "      <td>EMNLP</td>\n",
       "      <td>2020</td>\n",
       "      <td>10.18653/v1/2020.emnlp-main.460</td>\n",
       "      <td>Capturing associations for knowledge graphs (K...</td>\n",
       "      <td>3d61a28b9429fc8f7047fc379a0134a3765edbcb</td>\n",
       "    </tr>\n",
       "    <tr>\n",
       "      <th>...</th>\n",
       "      <td>...</td>\n",
       "      <td>...</td>\n",
       "      <td>...</td>\n",
       "      <td>...</td>\n",
       "      <td>...</td>\n",
       "      <td>...</td>\n",
       "      <td>...</td>\n",
       "      <td>...</td>\n",
       "    </tr>\n",
       "    <tr>\n",
       "      <th>9250</th>\n",
       "      <td>T4773</td>\n",
       "      <td>Rank-Aware Negative Training for Semi-Supervis...</td>\n",
       "      <td>Machine Learning for NLP</td>\n",
       "      <td>ACL</td>\n",
       "      <td>2023</td>\n",
       "      <td>10.1162/tacl_a_00574</td>\n",
       "      <td>Abstract Semi-supervised text classification-b...</td>\n",
       "      <td>79a502caa0b12573f56a7e8948459722aa891479</td>\n",
       "    </tr>\n",
       "    <tr>\n",
       "      <th>9251</th>\n",
       "      <td>T4777</td>\n",
       "      <td>Transparency Helps Reveal When Language Models...</td>\n",
       "      <td>Linguistic Theories, Cognitive Modeling, and P...</td>\n",
       "      <td>ACL</td>\n",
       "      <td>2023</td>\n",
       "      <td>10.1162/tacl_a_00565</td>\n",
       "      <td>Many current NLP systems are built from langua...</td>\n",
       "      <td>eee70790ced38b0fcf50351dbb3dcbdb582467e8</td>\n",
       "    </tr>\n",
       "    <tr>\n",
       "      <th>9252</th>\n",
       "      <td>T4803</td>\n",
       "      <td>Design Choices for Crowdsourcing Implicit Disc...</td>\n",
       "      <td>Discourse and Pragmatics</td>\n",
       "      <td>ACL</td>\n",
       "      <td>2023</td>\n",
       "      <td>10.1162/tacl_a_00586</td>\n",
       "      <td>Abstract Disagreement in natural language anno...</td>\n",
       "      <td>bf65a1b637e0f253abb8402fc9d0ab80db79aa92</td>\n",
       "    </tr>\n",
       "    <tr>\n",
       "      <th>9253</th>\n",
       "      <td>T4929</td>\n",
       "      <td>Time-and-Space-Efficient Weighted Deduction</td>\n",
       "      <td>Semantics: Sentence-level Semantics, Textual I...</td>\n",
       "      <td>ACL</td>\n",
       "      <td>2023</td>\n",
       "      <td>10.1162/tacl_a_00588</td>\n",
       "      <td>Abstract Many NLP algorithms have been describ...</td>\n",
       "      <td>f1803d124e5af7263ce656f7ccf3219eacc62b1c</td>\n",
       "    </tr>\n",
       "    <tr>\n",
       "      <th>9254</th>\n",
       "      <td>T5043</td>\n",
       "      <td>Collective Human Opinions in Semantic Textual ...</td>\n",
       "      <td>Semantics: Sentence-level Semantics, Textual I...</td>\n",
       "      <td>ACL</td>\n",
       "      <td>2023</td>\n",
       "      <td>10.1162/tacl_a_00584</td>\n",
       "      <td>Abstract Despite the subjective nature of sema...</td>\n",
       "      <td>1fc4e904ed92da4b9af30e2eb5224ebe29e470b3</td>\n",
       "    </tr>\n",
       "  </tbody>\n",
       "</table>\n",
       "<p>9255 rows × 8 columns</p>\n",
       "</div>"
      ],
      "text/plain": [
       "             id                                              title  \\\n",
       "0     main.1004  AnswerFact: Fact Checking in Product Question ...   \n",
       "1     main.1006  Knowledge-Grounded Dialogue Generation with Pr...   \n",
       "2     main.1009  BiST: Bi-directional Spatio-Temporal Reasoning...   \n",
       "3     main.1010  A Knowledge-Aware Sequence-to-Tree Network for...   \n",
       "4     main.1011  Knowledge Association with Hyperbolic Knowledg...   \n",
       "...         ...                                                ...   \n",
       "9250      T4773  Rank-Aware Negative Training for Semi-Supervis...   \n",
       "9251      T4777  Transparency Helps Reveal When Language Models...   \n",
       "9252      T4803  Design Choices for Crowdsourcing Implicit Disc...   \n",
       "9253      T4929        Time-and-Space-Efficient Weighted Deduction   \n",
       "9254      T5043  Collective Human Opinions in Semantic Textual ...   \n",
       "\n",
       "                                                   area source  year  \\\n",
       "0                                    Question Answering  EMNLP  2020   \n",
       "1                        Dialog and Interactive Systems  EMNLP  2020   \n",
       "2                        Dialog and Interactive Systems  EMNLP  2020   \n",
       "3                                      NLP Applications  EMNLP  2020   \n",
       "4                                Information Extraction  EMNLP  2020   \n",
       "...                                                 ...    ...   ...   \n",
       "9250                           Machine Learning for NLP    ACL  2023   \n",
       "9251  Linguistic Theories, Cognitive Modeling, and P...    ACL  2023   \n",
       "9252                           Discourse and Pragmatics    ACL  2023   \n",
       "9253  Semantics: Sentence-level Semantics, Textual I...    ACL  2023   \n",
       "9254  Semantics: Sentence-level Semantics, Textual I...    ACL  2023   \n",
       "\n",
       "                                  doi  \\\n",
       "0     10.18653/v1/2020.emnlp-main.188   \n",
       "1     10.18653/v1/2020.emnlp-main.272   \n",
       "2     10.18653/v1/2020.emnlp-main.145   \n",
       "3     10.18653/v1/2020.emnlp-main.579   \n",
       "4     10.18653/v1/2020.emnlp-main.460   \n",
       "...                               ...   \n",
       "9250             10.1162/tacl_a_00574   \n",
       "9251             10.1162/tacl_a_00565   \n",
       "9252             10.1162/tacl_a_00586   \n",
       "9253             10.1162/tacl_a_00588   \n",
       "9254             10.1162/tacl_a_00584   \n",
       "\n",
       "                                               abstract  \\\n",
       "0     Product-related question answering platforms n...   \n",
       "1     We study knowledge-grounded dialogue generatio...   \n",
       "2     Video-grounded dialogues are very challenging ...   \n",
       "3     With the advancements in natural language proc...   \n",
       "4     Capturing associations for knowledge graphs (K...   \n",
       "...                                                 ...   \n",
       "9250  Abstract Semi-supervised text classification-b...   \n",
       "9251  Many current NLP systems are built from langua...   \n",
       "9252  Abstract Disagreement in natural language anno...   \n",
       "9253  Abstract Many NLP algorithms have been describ...   \n",
       "9254  Abstract Despite the subjective nature of sema...   \n",
       "\n",
       "                           semantic_scholar_id  \n",
       "0     4c61df1b4b9a164fec1a34587b4fffae029cd18c  \n",
       "1     3447a432f724aa36595643446acda5b78943db19  \n",
       "2     f4a2acfeb1705df3f430cc53ace26e1dbbbcbd16  \n",
       "3     24ed85ad966823868c1694a19385d01c6ad71008  \n",
       "4     3d61a28b9429fc8f7047fc379a0134a3765edbcb  \n",
       "...                                        ...  \n",
       "9250  79a502caa0b12573f56a7e8948459722aa891479  \n",
       "9251  eee70790ced38b0fcf50351dbb3dcbdb582467e8  \n",
       "9252  bf65a1b637e0f253abb8402fc9d0ab80db79aa92  \n",
       "9253  f1803d124e5af7263ce656f7ccf3219eacc62b1c  \n",
       "9254  1fc4e904ed92da4b9af30e2eb5224ebe29e470b3  \n",
       "\n",
       "[9255 rows x 8 columns]"
      ]
     },
     "execution_count": 2,
     "metadata": {},
     "output_type": "execute_result"
    }
   ],
   "source": [
    "df = pd.read_csv('../data/cl_papers.csv', index_col=0)\n",
    "df"
   ]
  },
  {
   "cell_type": "code",
   "execution_count": 13,
   "id": "8f972d23-ab29-4a67-9c78-f18f4fdb2461",
   "metadata": {},
   "outputs": [],
   "source": [
    "def is_interpretability(row):\n",
    "    if row['year'] < 2020:\n",
    "        # interpretability and analysis track started in 2020\n",
    "        return None\n",
    "\n",
    "    area = row['area'].lower()\n",
    "    if 'interpretability' in area or 'analysis of language models' in area:\n",
    "        return True\n",
    "    \n",
    "    return False\n",
    "\n",
    "df['interpretability'] = df.apply(is_interpretability, axis=1)"
   ]
  },
  {
   "cell_type": "code",
   "execution_count": 14,
   "id": "58e92c7b-d919-49a3-905b-f0dee3c611f2",
   "metadata": {},
   "outputs": [
    {
     "data": {
      "text/html": [
       "<div>\n",
       "<style scoped>\n",
       "    .dataframe tbody tr th:only-of-type {\n",
       "        vertical-align: middle;\n",
       "    }\n",
       "\n",
       "    .dataframe tbody tr th {\n",
       "        vertical-align: top;\n",
       "    }\n",
       "\n",
       "    .dataframe thead th {\n",
       "        text-align: right;\n",
       "    }\n",
       "</style>\n",
       "<table border=\"1\" class=\"dataframe\">\n",
       "  <thead>\n",
       "    <tr style=\"text-align: right;\">\n",
       "      <th></th>\n",
       "      <th>id</th>\n",
       "      <th>title</th>\n",
       "      <th>area</th>\n",
       "      <th>source</th>\n",
       "      <th>year</th>\n",
       "      <th>doi</th>\n",
       "      <th>abstract</th>\n",
       "      <th>semantic_scholar_id</th>\n",
       "      <th>track</th>\n",
       "      <th>interpretability</th>\n",
       "    </tr>\n",
       "  </thead>\n",
       "  <tbody>\n",
       "    <tr>\n",
       "      <th>0</th>\n",
       "      <td>main.1004</td>\n",
       "      <td>AnswerFact: Fact Checking in Product Question ...</td>\n",
       "      <td>Question Answering</td>\n",
       "      <td>EMNLP</td>\n",
       "      <td>2020</td>\n",
       "      <td>10.18653/v1/2020.emnlp-main.188</td>\n",
       "      <td>Product-related question answering platforms n...</td>\n",
       "      <td>4c61df1b4b9a164fec1a34587b4fffae029cd18c</td>\n",
       "      <td>Question Answering</td>\n",
       "      <td>False</td>\n",
       "    </tr>\n",
       "    <tr>\n",
       "      <th>1</th>\n",
       "      <td>main.1006</td>\n",
       "      <td>Knowledge-Grounded Dialogue Generation with Pr...</td>\n",
       "      <td>Dialog and Interactive Systems</td>\n",
       "      <td>EMNLP</td>\n",
       "      <td>2020</td>\n",
       "      <td>10.18653/v1/2020.emnlp-main.272</td>\n",
       "      <td>We study knowledge-grounded dialogue generatio...</td>\n",
       "      <td>3447a432f724aa36595643446acda5b78943db19</td>\n",
       "      <td>Dialogue</td>\n",
       "      <td>False</td>\n",
       "    </tr>\n",
       "    <tr>\n",
       "      <th>2</th>\n",
       "      <td>main.1009</td>\n",
       "      <td>BiST: Bi-directional Spatio-Temporal Reasoning...</td>\n",
       "      <td>Dialog and Interactive Systems</td>\n",
       "      <td>EMNLP</td>\n",
       "      <td>2020</td>\n",
       "      <td>10.18653/v1/2020.emnlp-main.145</td>\n",
       "      <td>Video-grounded dialogues are very challenging ...</td>\n",
       "      <td>f4a2acfeb1705df3f430cc53ace26e1dbbbcbd16</td>\n",
       "      <td>Dialogue</td>\n",
       "      <td>False</td>\n",
       "    </tr>\n",
       "    <tr>\n",
       "      <th>3</th>\n",
       "      <td>main.1010</td>\n",
       "      <td>A Knowledge-Aware Sequence-to-Tree Network for...</td>\n",
       "      <td>NLP Applications</td>\n",
       "      <td>EMNLP</td>\n",
       "      <td>2020</td>\n",
       "      <td>10.18653/v1/2020.emnlp-main.579</td>\n",
       "      <td>With the advancements in natural language proc...</td>\n",
       "      <td>24ed85ad966823868c1694a19385d01c6ad71008</td>\n",
       "      <td>None</td>\n",
       "      <td>False</td>\n",
       "    </tr>\n",
       "    <tr>\n",
       "      <th>4</th>\n",
       "      <td>main.1011</td>\n",
       "      <td>Knowledge Association with Hyperbolic Knowledg...</td>\n",
       "      <td>Information Extraction</td>\n",
       "      <td>EMNLP</td>\n",
       "      <td>2020</td>\n",
       "      <td>10.18653/v1/2020.emnlp-main.460</td>\n",
       "      <td>Capturing associations for knowledge graphs (K...</td>\n",
       "      <td>3d61a28b9429fc8f7047fc379a0134a3765edbcb</td>\n",
       "      <td>Information Extraction</td>\n",
       "      <td>False</td>\n",
       "    </tr>\n",
       "    <tr>\n",
       "      <th>...</th>\n",
       "      <td>...</td>\n",
       "      <td>...</td>\n",
       "      <td>...</td>\n",
       "      <td>...</td>\n",
       "      <td>...</td>\n",
       "      <td>...</td>\n",
       "      <td>...</td>\n",
       "      <td>...</td>\n",
       "      <td>...</td>\n",
       "      <td>...</td>\n",
       "    </tr>\n",
       "    <tr>\n",
       "      <th>9250</th>\n",
       "      <td>T4773</td>\n",
       "      <td>Rank-Aware Negative Training for Semi-Supervis...</td>\n",
       "      <td>Machine Learning for NLP</td>\n",
       "      <td>ACL</td>\n",
       "      <td>2023</td>\n",
       "      <td>10.1162/tacl_a_00574</td>\n",
       "      <td>Abstract Semi-supervised text classification-b...</td>\n",
       "      <td>79a502caa0b12573f56a7e8948459722aa891479</td>\n",
       "      <td>None</td>\n",
       "      <td>False</td>\n",
       "    </tr>\n",
       "    <tr>\n",
       "      <th>9251</th>\n",
       "      <td>T4777</td>\n",
       "      <td>Transparency Helps Reveal When Language Models...</td>\n",
       "      <td>Linguistic Theories, Cognitive Modeling, and P...</td>\n",
       "      <td>ACL</td>\n",
       "      <td>2023</td>\n",
       "      <td>10.1162/tacl_a_00565</td>\n",
       "      <td>Many current NLP systems are built from langua...</td>\n",
       "      <td>eee70790ced38b0fcf50351dbb3dcbdb582467e8</td>\n",
       "      <td>None</td>\n",
       "      <td>False</td>\n",
       "    </tr>\n",
       "    <tr>\n",
       "      <th>9252</th>\n",
       "      <td>T4803</td>\n",
       "      <td>Design Choices for Crowdsourcing Implicit Disc...</td>\n",
       "      <td>Discourse and Pragmatics</td>\n",
       "      <td>ACL</td>\n",
       "      <td>2023</td>\n",
       "      <td>10.1162/tacl_a_00586</td>\n",
       "      <td>Abstract Disagreement in natural language anno...</td>\n",
       "      <td>bf65a1b637e0f253abb8402fc9d0ab80db79aa92</td>\n",
       "      <td>None</td>\n",
       "      <td>False</td>\n",
       "    </tr>\n",
       "    <tr>\n",
       "      <th>9253</th>\n",
       "      <td>T4929</td>\n",
       "      <td>Time-and-Space-Efficient Weighted Deduction</td>\n",
       "      <td>Semantics: Sentence-level Semantics, Textual I...</td>\n",
       "      <td>ACL</td>\n",
       "      <td>2023</td>\n",
       "      <td>10.1162/tacl_a_00588</td>\n",
       "      <td>Abstract Many NLP algorithms have been describ...</td>\n",
       "      <td>f1803d124e5af7263ce656f7ccf3219eacc62b1c</td>\n",
       "      <td>Semantics</td>\n",
       "      <td>False</td>\n",
       "    </tr>\n",
       "    <tr>\n",
       "      <th>9254</th>\n",
       "      <td>T5043</td>\n",
       "      <td>Collective Human Opinions in Semantic Textual ...</td>\n",
       "      <td>Semantics: Sentence-level Semantics, Textual I...</td>\n",
       "      <td>ACL</td>\n",
       "      <td>2023</td>\n",
       "      <td>10.1162/tacl_a_00584</td>\n",
       "      <td>Abstract Despite the subjective nature of sema...</td>\n",
       "      <td>1fc4e904ed92da4b9af30e2eb5224ebe29e470b3</td>\n",
       "      <td>Semantics</td>\n",
       "      <td>False</td>\n",
       "    </tr>\n",
       "  </tbody>\n",
       "</table>\n",
       "<p>6994 rows × 10 columns</p>\n",
       "</div>"
      ],
      "text/plain": [
       "             id                                              title  \\\n",
       "0     main.1004  AnswerFact: Fact Checking in Product Question ...   \n",
       "1     main.1006  Knowledge-Grounded Dialogue Generation with Pr...   \n",
       "2     main.1009  BiST: Bi-directional Spatio-Temporal Reasoning...   \n",
       "3     main.1010  A Knowledge-Aware Sequence-to-Tree Network for...   \n",
       "4     main.1011  Knowledge Association with Hyperbolic Knowledg...   \n",
       "...         ...                                                ...   \n",
       "9250      T4773  Rank-Aware Negative Training for Semi-Supervis...   \n",
       "9251      T4777  Transparency Helps Reveal When Language Models...   \n",
       "9252      T4803  Design Choices for Crowdsourcing Implicit Disc...   \n",
       "9253      T4929        Time-and-Space-Efficient Weighted Deduction   \n",
       "9254      T5043  Collective Human Opinions in Semantic Textual ...   \n",
       "\n",
       "                                                   area source  year  \\\n",
       "0                                    Question Answering  EMNLP  2020   \n",
       "1                        Dialog and Interactive Systems  EMNLP  2020   \n",
       "2                        Dialog and Interactive Systems  EMNLP  2020   \n",
       "3                                      NLP Applications  EMNLP  2020   \n",
       "4                                Information Extraction  EMNLP  2020   \n",
       "...                                                 ...    ...   ...   \n",
       "9250                           Machine Learning for NLP    ACL  2023   \n",
       "9251  Linguistic Theories, Cognitive Modeling, and P...    ACL  2023   \n",
       "9252                           Discourse and Pragmatics    ACL  2023   \n",
       "9253  Semantics: Sentence-level Semantics, Textual I...    ACL  2023   \n",
       "9254  Semantics: Sentence-level Semantics, Textual I...    ACL  2023   \n",
       "\n",
       "                                  doi  \\\n",
       "0     10.18653/v1/2020.emnlp-main.188   \n",
       "1     10.18653/v1/2020.emnlp-main.272   \n",
       "2     10.18653/v1/2020.emnlp-main.145   \n",
       "3     10.18653/v1/2020.emnlp-main.579   \n",
       "4     10.18653/v1/2020.emnlp-main.460   \n",
       "...                               ...   \n",
       "9250             10.1162/tacl_a_00574   \n",
       "9251             10.1162/tacl_a_00565   \n",
       "9252             10.1162/tacl_a_00586   \n",
       "9253             10.1162/tacl_a_00588   \n",
       "9254             10.1162/tacl_a_00584   \n",
       "\n",
       "                                               abstract  \\\n",
       "0     Product-related question answering platforms n...   \n",
       "1     We study knowledge-grounded dialogue generatio...   \n",
       "2     Video-grounded dialogues are very challenging ...   \n",
       "3     With the advancements in natural language proc...   \n",
       "4     Capturing associations for knowledge graphs (K...   \n",
       "...                                                 ...   \n",
       "9250  Abstract Semi-supervised text classification-b...   \n",
       "9251  Many current NLP systems are built from langua...   \n",
       "9252  Abstract Disagreement in natural language anno...   \n",
       "9253  Abstract Many NLP algorithms have been describ...   \n",
       "9254  Abstract Despite the subjective nature of sema...   \n",
       "\n",
       "                           semantic_scholar_id                   track  \\\n",
       "0     4c61df1b4b9a164fec1a34587b4fffae029cd18c      Question Answering   \n",
       "1     3447a432f724aa36595643446acda5b78943db19                Dialogue   \n",
       "2     f4a2acfeb1705df3f430cc53ace26e1dbbbcbd16                Dialogue   \n",
       "3     24ed85ad966823868c1694a19385d01c6ad71008                    None   \n",
       "4     3d61a28b9429fc8f7047fc379a0134a3765edbcb  Information Extraction   \n",
       "...                                        ...                     ...   \n",
       "9250  79a502caa0b12573f56a7e8948459722aa891479                    None   \n",
       "9251  eee70790ced38b0fcf50351dbb3dcbdb582467e8                    None   \n",
       "9252  bf65a1b637e0f253abb8402fc9d0ab80db79aa92                    None   \n",
       "9253  f1803d124e5af7263ce656f7ccf3219eacc62b1c               Semantics   \n",
       "9254  1fc4e904ed92da4b9af30e2eb5224ebe29e470b3               Semantics   \n",
       "\n",
       "     interpretability  \n",
       "0               False  \n",
       "1               False  \n",
       "2               False  \n",
       "3               False  \n",
       "4               False  \n",
       "...               ...  \n",
       "9250            False  \n",
       "9251            False  \n",
       "9252            False  \n",
       "9253            False  \n",
       "9254            False  \n",
       "\n",
       "[6994 rows x 10 columns]"
      ]
     },
     "execution_count": 14,
     "metadata": {},
     "output_type": "execute_result"
    }
   ],
   "source": [
    "df_with_interpretability = df[(df['interpretability'] == True) | (df['interpretability'] == False)]\n",
    "df_with_interpretability"
   ]
  },
  {
   "cell_type": "markdown",
   "id": "8d07a70a-de3b-45d6-b512-4ea5d76acdbc",
   "metadata": {},
   "source": [
    "# Computing embeddings"
   ]
  },
  {
   "cell_type": "code",
   "execution_count": 15,
   "id": "caa965e6-7c6b-4154-8d0d-eb12f3d890f7",
   "metadata": {},
   "outputs": [
    {
     "name": "stderr",
     "output_type": "stream",
     "text": [
      "/Users/tom/miniconda3/envs/interpretability-impact/lib/python3.11/site-packages/transformers/utils/generic.py:441: UserWarning: torch.utils._pytree._register_pytree_node is deprecated. Please use torch.utils._pytree.register_pytree_node instead.\n",
      "  _torch_pytree._register_pytree_node(\n",
      "/Users/tom/miniconda3/envs/interpretability-impact/lib/python3.11/site-packages/transformers/utils/generic.py:309: UserWarning: torch.utils._pytree._register_pytree_node is deprecated. Please use torch.utils._pytree.register_pytree_node instead.\n",
      "  _torch_pytree._register_pytree_node(\n",
      "/Users/tom/miniconda3/envs/interpretability-impact/lib/python3.11/site-packages/transformers/utils/generic.py:309: UserWarning: torch.utils._pytree._register_pytree_node is deprecated. Please use torch.utils._pytree.register_pytree_node instead.\n",
      "  _torch_pytree._register_pytree_node(\n"
     ]
    },
    {
     "data": {
      "application/vnd.jupyter.widget-view+json": {
       "model_id": "a01f2b00363d48aea073ea2132dc87cc",
       "version_major": 2,
       "version_minor": 0
      },
      "text/plain": [
       "Fetching 4 files:   0%|          | 0/4 [00:00<?, ?it/s]"
      ]
     },
     "metadata": {},
     "output_type": "display_data"
    },
    {
     "name": "stderr",
     "output_type": "stream",
     "text": [
      "100%|███████████████████████████████████████████████████████████████████████████████████████████████████████████████████████████████████████████████████████████████████████████████████████████████████████████████████████████████████████| 6994/6994 [14:11<00:00,  8.21it/s]\n",
      "/var/folders/jd/xcxq41xd1bx5jvgpwp14tr940000gn/T/ipykernel_6885/1970831043.py:23: SettingWithCopyWarning: \n",
      "A value is trying to be set on a copy of a slice from a DataFrame.\n",
      "Try using .loc[row_indexer,col_indexer] = value instead\n",
      "\n",
      "See the caveats in the documentation: https://pandas.pydata.org/pandas-docs/stable/user_guide/indexing.html#returning-a-view-versus-a-copy\n",
      "  df_with_interpretability['embedding'] = df_with_interpretability.progress_apply(get_embedding, axis=1)\n"
     ]
    }
   ],
   "source": [
    "from transformers import AutoTokenizer\n",
    "from adapters import AutoAdapterModel\n",
    "from tqdm import tqdm\n",
    "tqdm.pandas()\n",
    "\n",
    "tokenizer = AutoTokenizer.from_pretrained('allenai/specter2_base')\n",
    "\n",
    "model = AutoAdapterModel.from_pretrained(\"allenai/specter2_base\")\n",
    "adapter_name = model.load_adapter(\"allenai/specter2_classification\", source=\"hf\", set_active=True)\n",
    "\n",
    "def get_embedding(paper_row):\n",
    "    text = paper_row['title'] + tokenizer.sep_token + paper_row['abstract']\n",
    "    inputs = tokenizer(text,\n",
    "                       padding=True,\n",
    "                       truncation=True,\n",
    "                       return_tensors=\"pt\",\n",
    "                       return_token_type_ids=False,\n",
    "                       max_length=2048)\n",
    "    output = model(**inputs)\n",
    "    embeddings = output.last_hidden_state[:, 0, :][0].detach().numpy()\n",
    "    return embeddings\n",
    "\n",
    "df_with_interpretability['embedding'] = df_with_interpretability.progress_apply(get_embedding, axis=1)"
   ]
  },
  {
   "cell_type": "code",
   "execution_count": 23,
   "id": "9ea340b0-8b4c-402f-940a-d05c949ce85d",
   "metadata": {},
   "outputs": [],
   "source": [
    "from sklearn.model_selection import train_test_split\n",
    "import numpy as np\n",
    "import torch\n",
    "\n",
    "SEED = 42\n",
    "SPLIT = 0.2\n",
    "\n",
    "X = np.stack(df_with_interpretability['embedding'].values)\n",
    "\n",
    "y = df_with_interpretability['interpretability'].values\n",
    "y = torch.tensor([1 if label else 0 for label in y], dtype=torch.long)\n",
    "\n",
    "indices = np.arange(len(df_with_interpretability))\n",
    "train_indices, test_indices = train_test_split(indices, test_size=SPLIT, random_state=SEED)\n",
    "\n",
    "X_train, X_test = X[train_indices], X[test_indices]\n",
    "y_train, y_test = y[train_indices], y[test_indices]\n",
    "\n",
    "df_train, df_test = df_with_interpretability.iloc[train_indices], df_with_interpretability.iloc[test_indices]"
   ]
  },
  {
   "cell_type": "code",
   "execution_count": 24,
   "id": "9fd8d822-e49a-4025-be22-997a6a8f5402",
   "metadata": {},
   "outputs": [
    {
     "data": {
      "text/html": [
       "<div>\n",
       "<style scoped>\n",
       "    .dataframe tbody tr th:only-of-type {\n",
       "        vertical-align: middle;\n",
       "    }\n",
       "\n",
       "    .dataframe tbody tr th {\n",
       "        vertical-align: top;\n",
       "    }\n",
       "\n",
       "    .dataframe thead th {\n",
       "        text-align: right;\n",
       "    }\n",
       "</style>\n",
       "<table border=\"1\" class=\"dataframe\">\n",
       "  <thead>\n",
       "    <tr style=\"text-align: right;\">\n",
       "      <th></th>\n",
       "      <th>id</th>\n",
       "      <th>title</th>\n",
       "      <th>area</th>\n",
       "      <th>source</th>\n",
       "      <th>year</th>\n",
       "      <th>doi</th>\n",
       "      <th>abstract</th>\n",
       "      <th>semantic_scholar_id</th>\n",
       "      <th>track</th>\n",
       "      <th>interpretability</th>\n",
       "      <th>embedding</th>\n",
       "    </tr>\n",
       "  </thead>\n",
       "  <tbody>\n",
       "    <tr>\n",
       "      <th>1919</th>\n",
       "      <td>NaN</td>\n",
       "      <td>FastIF: Scalable Influence Functions for Effic...</td>\n",
       "      <td>Interpretability and Analysis of Models for NLP</td>\n",
       "      <td>EMNLP</td>\n",
       "      <td>2021</td>\n",
       "      <td>10.18653/v1/2021.emnlp-main.808</td>\n",
       "      <td>Influence functions approximate the “influence...</td>\n",
       "      <td>18fb344c9bfd019014996e57c465aa279b7e0151</td>\n",
       "      <td>Interpretability and Analysis</td>\n",
       "      <td>True</td>\n",
       "      <td>[-1.1471611, -1.6139609, -0.5785974, -0.756649...</td>\n",
       "    </tr>\n",
       "    <tr>\n",
       "      <th>2522</th>\n",
       "      <td>NaN</td>\n",
       "      <td>What Context Features Can Transformer Language...</td>\n",
       "      <td>Interpretability and Analysis of Models for NLP</td>\n",
       "      <td>ACL</td>\n",
       "      <td>2021</td>\n",
       "      <td>10.18653/v1/2021.acl-long.70</td>\n",
       "      <td>Transformer-based language models benefit from...</td>\n",
       "      <td>e1bc348fd7da000da6585e82994ecfedcecb5a4c</td>\n",
       "      <td>Interpretability and Analysis</td>\n",
       "      <td>True</td>\n",
       "      <td>[-0.372904, 0.28571808, 0.10002303, -1.258752,...</td>\n",
       "    </tr>\n",
       "    <tr>\n",
       "      <th>3274</th>\n",
       "      <td>2256</td>\n",
       "      <td>Language Model Pre-Training with Sparse Latent...</td>\n",
       "      <td>Language Modeling and Analysis of Language Models</td>\n",
       "      <td>EMNLP</td>\n",
       "      <td>2022</td>\n",
       "      <td>10.18653/v1/2022.emnlp-main.96</td>\n",
       "      <td>Modern large-scale Pre-trained Language Models...</td>\n",
       "      <td>cd16a961b16482d4aede6227acaa95183c5c555c</td>\n",
       "      <td>Interpretability and Analysis</td>\n",
       "      <td>True</td>\n",
       "      <td>[-0.48547608, -0.14370383, -0.3476556, -1.3883...</td>\n",
       "    </tr>\n",
       "    <tr>\n",
       "      <th>1897</th>\n",
       "      <td>NaN</td>\n",
       "      <td>Debiasing Methods in Natural Language Understa...</td>\n",
       "      <td>Interpretability and Analysis of Models for NLP</td>\n",
       "      <td>EMNLP</td>\n",
       "      <td>2021</td>\n",
       "      <td>10.18653/v1/2021.emnlp-main.116</td>\n",
       "      <td>Model robustness to bias is often determined b...</td>\n",
       "      <td>10bc2ba3533bca85b75cb09dcc100809fc3221ea</td>\n",
       "      <td>Interpretability and Analysis</td>\n",
       "      <td>True</td>\n",
       "      <td>[-0.31337154, 0.22950839, -0.51730245, -1.2140...</td>\n",
       "    </tr>\n",
       "    <tr>\n",
       "      <th>8911</th>\n",
       "      <td>P4975</td>\n",
       "      <td>Contrastive Error Attribution for Finetuned La...</td>\n",
       "      <td>Interpretability and Analysis of Models for NLP</td>\n",
       "      <td>ACL</td>\n",
       "      <td>2023</td>\n",
       "      <td>10.18653/v1/2023.acl-long.643</td>\n",
       "      <td>Recent work has identified noisy and misannota...</td>\n",
       "      <td>6d763d3107bed2ce5ab4a79f1857f47a2e269a41</td>\n",
       "      <td>Interpretability and Analysis</td>\n",
       "      <td>True</td>\n",
       "      <td>[-0.18097351, 0.13648665, -0.0045430805, -0.94...</td>\n",
       "    </tr>\n",
       "    <tr>\n",
       "      <th>...</th>\n",
       "      <td>...</td>\n",
       "      <td>...</td>\n",
       "      <td>...</td>\n",
       "      <td>...</td>\n",
       "      <td>...</td>\n",
       "      <td>...</td>\n",
       "      <td>...</td>\n",
       "      <td>...</td>\n",
       "      <td>...</td>\n",
       "      <td>...</td>\n",
       "      <td>...</td>\n",
       "    </tr>\n",
       "    <tr>\n",
       "      <th>1021</th>\n",
       "      <td>main.311</td>\n",
       "      <td>Roles and Utilization of Attention Heads in Tr...</td>\n",
       "      <td>Interpretability and Analysis of Models for NLP</td>\n",
       "      <td>ACL</td>\n",
       "      <td>2020</td>\n",
       "      <td>10.18653/v1/2020.acl-main.311</td>\n",
       "      <td>Sentence encoders based on the transformer arc...</td>\n",
       "      <td>5b6d03ed66473599ee31872b3cd5ad2ce282371f</td>\n",
       "      <td>Interpretability and Analysis</td>\n",
       "      <td>True</td>\n",
       "      <td>[-0.10598257, -0.115934625, 0.034281507, -1.54...</td>\n",
       "    </tr>\n",
       "    <tr>\n",
       "      <th>3943</th>\n",
       "      <td>4397</td>\n",
       "      <td>Finding Skill Neurons in Pre-trained Transform...</td>\n",
       "      <td>Language Modeling and Analysis of Language Models</td>\n",
       "      <td>EMNLP</td>\n",
       "      <td>2022</td>\n",
       "      <td>10.18653/v1/2022.emnlp-main.765</td>\n",
       "      <td>Transformer-based pre-trained language models ...</td>\n",
       "      <td>5d3cf0909ba206cd6bc2e86610f77ca25d9b2d1c</td>\n",
       "      <td>Interpretability and Analysis</td>\n",
       "      <td>True</td>\n",
       "      <td>[0.03446908, -0.49458146, -0.21544456, -1.3379...</td>\n",
       "    </tr>\n",
       "    <tr>\n",
       "      <th>1899</th>\n",
       "      <td>NaN</td>\n",
       "      <td>What’s Hidden in a One-layer Randomly Weighted...</td>\n",
       "      <td>Interpretability and Analysis of Models for NLP</td>\n",
       "      <td>EMNLP</td>\n",
       "      <td>2021</td>\n",
       "      <td>10.18653/v1/2021.emnlp-main.231</td>\n",
       "      <td>We demonstrate that, hidden within one-layer r...</td>\n",
       "      <td>cebd54ea966172111d08b4f215a73fe84350562e</td>\n",
       "      <td>Interpretability and Analysis</td>\n",
       "      <td>True</td>\n",
       "      <td>[0.10138122, 0.17559952, -0.0989433, -0.837517...</td>\n",
       "    </tr>\n",
       "    <tr>\n",
       "      <th>4843</th>\n",
       "      <td>518</td>\n",
       "      <td>ViSoBERT: A Pre-Trained Language Model for Vie...</td>\n",
       "      <td>Language Modeling and Analysis of Language Models</td>\n",
       "      <td>EMNLP</td>\n",
       "      <td>2023</td>\n",
       "      <td>10.18653/v1/2023.emnlp-main.315</td>\n",
       "      <td>English and Chinese, known as resource-rich la...</td>\n",
       "      <td>b44fbb613573f78d444361d7670c8ab130ef9174</td>\n",
       "      <td>Interpretability and Analysis</td>\n",
       "      <td>True</td>\n",
       "      <td>[-0.9606421, 0.12455705, -0.17797853, -1.30559...</td>\n",
       "    </tr>\n",
       "    <tr>\n",
       "      <th>3385</th>\n",
       "      <td>358</td>\n",
       "      <td>Knowledge Prompting in Pre-trained Language Mo...</td>\n",
       "      <td>Language Modeling and Analysis of Language Models</td>\n",
       "      <td>EMNLP</td>\n",
       "      <td>2022</td>\n",
       "      <td>10.18653/v1/2022.emnlp-main.207</td>\n",
       "      <td>Knowledge-enhanced Pre-trained Language Model ...</td>\n",
       "      <td>17dcfef70619c0423e0527f0c9d90f4858125f5f</td>\n",
       "      <td>Interpretability and Analysis</td>\n",
       "      <td>True</td>\n",
       "      <td>[-0.28602302, 0.2763134, -0.07053054, -1.50028...</td>\n",
       "    </tr>\n",
       "  </tbody>\n",
       "</table>\n",
       "<p>374 rows × 11 columns</p>\n",
       "</div>"
      ],
      "text/plain": [
       "            id                                              title  \\\n",
       "1919       NaN  FastIF: Scalable Influence Functions for Effic...   \n",
       "2522       NaN  What Context Features Can Transformer Language...   \n",
       "3274      2256  Language Model Pre-Training with Sparse Latent...   \n",
       "1897       NaN  Debiasing Methods in Natural Language Understa...   \n",
       "8911     P4975  Contrastive Error Attribution for Finetuned La...   \n",
       "...        ...                                                ...   \n",
       "1021  main.311  Roles and Utilization of Attention Heads in Tr...   \n",
       "3943      4397  Finding Skill Neurons in Pre-trained Transform...   \n",
       "1899       NaN  What’s Hidden in a One-layer Randomly Weighted...   \n",
       "4843       518  ViSoBERT: A Pre-Trained Language Model for Vie...   \n",
       "3385       358  Knowledge Prompting in Pre-trained Language Mo...   \n",
       "\n",
       "                                                   area source  year  \\\n",
       "1919    Interpretability and Analysis of Models for NLP  EMNLP  2021   \n",
       "2522    Interpretability and Analysis of Models for NLP    ACL  2021   \n",
       "3274  Language Modeling and Analysis of Language Models  EMNLP  2022   \n",
       "1897    Interpretability and Analysis of Models for NLP  EMNLP  2021   \n",
       "8911    Interpretability and Analysis of Models for NLP    ACL  2023   \n",
       "...                                                 ...    ...   ...   \n",
       "1021    Interpretability and Analysis of Models for NLP    ACL  2020   \n",
       "3943  Language Modeling and Analysis of Language Models  EMNLP  2022   \n",
       "1899    Interpretability and Analysis of Models for NLP  EMNLP  2021   \n",
       "4843  Language Modeling and Analysis of Language Models  EMNLP  2023   \n",
       "3385  Language Modeling and Analysis of Language Models  EMNLP  2022   \n",
       "\n",
       "                                  doi  \\\n",
       "1919  10.18653/v1/2021.emnlp-main.808   \n",
       "2522     10.18653/v1/2021.acl-long.70   \n",
       "3274   10.18653/v1/2022.emnlp-main.96   \n",
       "1897  10.18653/v1/2021.emnlp-main.116   \n",
       "8911    10.18653/v1/2023.acl-long.643   \n",
       "...                               ...   \n",
       "1021    10.18653/v1/2020.acl-main.311   \n",
       "3943  10.18653/v1/2022.emnlp-main.765   \n",
       "1899  10.18653/v1/2021.emnlp-main.231   \n",
       "4843  10.18653/v1/2023.emnlp-main.315   \n",
       "3385  10.18653/v1/2022.emnlp-main.207   \n",
       "\n",
       "                                               abstract  \\\n",
       "1919  Influence functions approximate the “influence...   \n",
       "2522  Transformer-based language models benefit from...   \n",
       "3274  Modern large-scale Pre-trained Language Models...   \n",
       "1897  Model robustness to bias is often determined b...   \n",
       "8911  Recent work has identified noisy and misannota...   \n",
       "...                                                 ...   \n",
       "1021  Sentence encoders based on the transformer arc...   \n",
       "3943  Transformer-based pre-trained language models ...   \n",
       "1899  We demonstrate that, hidden within one-layer r...   \n",
       "4843  English and Chinese, known as resource-rich la...   \n",
       "3385  Knowledge-enhanced Pre-trained Language Model ...   \n",
       "\n",
       "                           semantic_scholar_id                          track  \\\n",
       "1919  18fb344c9bfd019014996e57c465aa279b7e0151  Interpretability and Analysis   \n",
       "2522  e1bc348fd7da000da6585e82994ecfedcecb5a4c  Interpretability and Analysis   \n",
       "3274  cd16a961b16482d4aede6227acaa95183c5c555c  Interpretability and Analysis   \n",
       "1897  10bc2ba3533bca85b75cb09dcc100809fc3221ea  Interpretability and Analysis   \n",
       "8911  6d763d3107bed2ce5ab4a79f1857f47a2e269a41  Interpretability and Analysis   \n",
       "...                                        ...                            ...   \n",
       "1021  5b6d03ed66473599ee31872b3cd5ad2ce282371f  Interpretability and Analysis   \n",
       "3943  5d3cf0909ba206cd6bc2e86610f77ca25d9b2d1c  Interpretability and Analysis   \n",
       "1899  cebd54ea966172111d08b4f215a73fe84350562e  Interpretability and Analysis   \n",
       "4843  b44fbb613573f78d444361d7670c8ab130ef9174  Interpretability and Analysis   \n",
       "3385  17dcfef70619c0423e0527f0c9d90f4858125f5f  Interpretability and Analysis   \n",
       "\n",
       "     interpretability                                          embedding  \n",
       "1919             True  [-1.1471611, -1.6139609, -0.5785974, -0.756649...  \n",
       "2522             True  [-0.372904, 0.28571808, 0.10002303, -1.258752,...  \n",
       "3274             True  [-0.48547608, -0.14370383, -0.3476556, -1.3883...  \n",
       "1897             True  [-0.31337154, 0.22950839, -0.51730245, -1.2140...  \n",
       "8911             True  [-0.18097351, 0.13648665, -0.0045430805, -0.94...  \n",
       "...               ...                                                ...  \n",
       "1021             True  [-0.10598257, -0.115934625, 0.034281507, -1.54...  \n",
       "3943             True  [0.03446908, -0.49458146, -0.21544456, -1.3379...  \n",
       "1899             True  [0.10138122, 0.17559952, -0.0989433, -0.837517...  \n",
       "4843             True  [-0.9606421, 0.12455705, -0.17797853, -1.30559...  \n",
       "3385             True  [-0.28602302, 0.2763134, -0.07053054, -1.50028...  \n",
       "\n",
       "[374 rows x 11 columns]"
      ]
     },
     "execution_count": 24,
     "metadata": {},
     "output_type": "execute_result"
    }
   ],
   "source": [
    "df_train[df_train['interpretability'] == True]"
   ]
  },
  {
   "cell_type": "code",
   "execution_count": 25,
   "id": "0047d351-c46b-4fd4-a4c4-b9c9670b093c",
   "metadata": {},
   "outputs": [
    {
     "data": {
      "text/html": [
       "<div>\n",
       "<style scoped>\n",
       "    .dataframe tbody tr th:only-of-type {\n",
       "        vertical-align: middle;\n",
       "    }\n",
       "\n",
       "    .dataframe tbody tr th {\n",
       "        vertical-align: top;\n",
       "    }\n",
       "\n",
       "    .dataframe thead th {\n",
       "        text-align: right;\n",
       "    }\n",
       "</style>\n",
       "<table border=\"1\" class=\"dataframe\">\n",
       "  <thead>\n",
       "    <tr style=\"text-align: right;\">\n",
       "      <th></th>\n",
       "      <th>id</th>\n",
       "      <th>title</th>\n",
       "      <th>area</th>\n",
       "      <th>source</th>\n",
       "      <th>year</th>\n",
       "      <th>doi</th>\n",
       "      <th>abstract</th>\n",
       "      <th>semantic_scholar_id</th>\n",
       "      <th>track</th>\n",
       "      <th>interpretability</th>\n",
       "      <th>embedding</th>\n",
       "    </tr>\n",
       "  </thead>\n",
       "  <tbody>\n",
       "    <tr>\n",
       "      <th>8196</th>\n",
       "      <td>P1299</td>\n",
       "      <td>What Are You Token About? Dense Retrieval as D...</td>\n",
       "      <td>Information Retrieval and Text Mining</td>\n",
       "      <td>ACL</td>\n",
       "      <td>2023</td>\n",
       "      <td>10.18653/v1/2023.acl-long.140</td>\n",
       "      <td>Dual encoders are now the dominant architectur...</td>\n",
       "      <td>7c23ce3547ae837ff633b14e457a93de6d270b37</td>\n",
       "      <td>None</td>\n",
       "      <td>False</td>\n",
       "      <td>[-1.2692322, -0.4787535, -0.47741634, -1.13703...</td>\n",
       "    </tr>\n",
       "  </tbody>\n",
       "</table>\n",
       "</div>"
      ],
      "text/plain": [
       "         id                                              title  \\\n",
       "8196  P1299  What Are You Token About? Dense Retrieval as D...   \n",
       "\n",
       "                                       area source  year  \\\n",
       "8196  Information Retrieval and Text Mining    ACL  2023   \n",
       "\n",
       "                                doi  \\\n",
       "8196  10.18653/v1/2023.acl-long.140   \n",
       "\n",
       "                                               abstract  \\\n",
       "8196  Dual encoders are now the dominant architectur...   \n",
       "\n",
       "                           semantic_scholar_id track interpretability  \\\n",
       "8196  7c23ce3547ae837ff633b14e457a93de6d270b37  None            False   \n",
       "\n",
       "                                              embedding  \n",
       "8196  [-1.2692322, -0.4787535, -0.47741634, -1.13703...  "
      ]
     },
     "execution_count": 25,
     "metadata": {},
     "output_type": "execute_result"
    }
   ],
   "source": [
    "df[df['semantic_scholar_id'] == '7c23ce3547ae837ff633b14e457a93de6d270b37']"
   ]
  },
  {
   "cell_type": "code",
   "execution_count": 26,
   "id": "bc877849-a675-4b55-8da7-8cc48be61b64",
   "metadata": {},
   "outputs": [
    {
     "data": {
      "text/html": [
       "<div>\n",
       "<style scoped>\n",
       "    .dataframe tbody tr th:only-of-type {\n",
       "        vertical-align: middle;\n",
       "    }\n",
       "\n",
       "    .dataframe tbody tr th {\n",
       "        vertical-align: top;\n",
       "    }\n",
       "\n",
       "    .dataframe thead th {\n",
       "        text-align: right;\n",
       "    }\n",
       "</style>\n",
       "<table border=\"1\" class=\"dataframe\">\n",
       "  <thead>\n",
       "    <tr style=\"text-align: right;\">\n",
       "      <th></th>\n",
       "      <th>id</th>\n",
       "      <th>title</th>\n",
       "      <th>area</th>\n",
       "      <th>source</th>\n",
       "      <th>year</th>\n",
       "      <th>doi</th>\n",
       "      <th>abstract</th>\n",
       "      <th>semantic_scholar_id</th>\n",
       "      <th>track</th>\n",
       "      <th>interpretability</th>\n",
       "      <th>embedding</th>\n",
       "    </tr>\n",
       "  </thead>\n",
       "  <tbody>\n",
       "    <tr>\n",
       "      <th>8196</th>\n",
       "      <td>P1299</td>\n",
       "      <td>What Are You Token About? Dense Retrieval as D...</td>\n",
       "      <td>Information Retrieval and Text Mining</td>\n",
       "      <td>ACL</td>\n",
       "      <td>2023</td>\n",
       "      <td>10.18653/v1/2023.acl-long.140</td>\n",
       "      <td>Dual encoders are now the dominant architectur...</td>\n",
       "      <td>7c23ce3547ae837ff633b14e457a93de6d270b37</td>\n",
       "      <td>None</td>\n",
       "      <td>False</td>\n",
       "      <td>[-1.2692322, -0.4787535, -0.47741634, -1.13703...</td>\n",
       "    </tr>\n",
       "  </tbody>\n",
       "</table>\n",
       "</div>"
      ],
      "text/plain": [
       "         id                                              title  \\\n",
       "8196  P1299  What Are You Token About? Dense Retrieval as D...   \n",
       "\n",
       "                                       area source  year  \\\n",
       "8196  Information Retrieval and Text Mining    ACL  2023   \n",
       "\n",
       "                                doi  \\\n",
       "8196  10.18653/v1/2023.acl-long.140   \n",
       "\n",
       "                                               abstract  \\\n",
       "8196  Dual encoders are now the dominant architectur...   \n",
       "\n",
       "                           semantic_scholar_id track interpretability  \\\n",
       "8196  7c23ce3547ae837ff633b14e457a93de6d270b37  None            False   \n",
       "\n",
       "                                              embedding  \n",
       "8196  [-1.2692322, -0.4787535, -0.47741634, -1.13703...  "
      ]
     },
     "execution_count": 26,
     "metadata": {},
     "output_type": "execute_result"
    }
   ],
   "source": [
    "df_train[df_train['semantic_scholar_id'] == '7c23ce3547ae837ff633b14e457a93de6d270b37']"
   ]
  },
  {
   "cell_type": "code",
   "execution_count": 27,
   "id": "977477d0-68c7-41a6-83a1-ccbf7ea3c60a",
   "metadata": {},
   "outputs": [
    {
     "name": "stderr",
     "output_type": "stream",
     "text": [
      "/var/folders/jd/xcxq41xd1bx5jvgpwp14tr940000gn/T/ipykernel_6885/2530799469.py:3: UserWarning: To copy construct from a tensor, it is recommended to use sourceTensor.clone().detach() or sourceTensor.clone().detach().requires_grad_(True), rather than torch.tensor(sourceTensor).\n",
      "  y_train = torch.tensor(y_train, dtype=torch.long)\n",
      "/var/folders/jd/xcxq41xd1bx5jvgpwp14tr940000gn/T/ipykernel_6885/2530799469.py:4: UserWarning: To copy construct from a tensor, it is recommended to use sourceTensor.clone().detach() or sourceTensor.clone().detach().requires_grad_(True), rather than torch.tensor(sourceTensor).\n",
      "  y_test = torch.tensor(y_test, dtype=torch.long)\n"
     ]
    }
   ],
   "source": [
    "X_train = torch.tensor(X_train, dtype=torch.float32)\n",
    "X_test = torch.tensor(X_test, dtype=torch.float32)\n",
    "y_train = torch.tensor(y_train, dtype=torch.long)\n",
    "y_test = torch.tensor(y_test, dtype=torch.long)\n",
    "\n",
    "\n",
    "# we are augmenting the test data with blackboxnlp papers\n",
    "blackbox_df = pd.read_csv('../data/blackbox_papers.csv', index_col=0)\n",
    "\n",
    "X_blackbox = np.stack(blackbox_df['embedding'].values) \n",
    "X_blackbox = torch.stack([torch.tensor(np.fromstring(x[1:-1], sep='\\n'), dtype=torch.float32) for x in X_blackbox])\n",
    "y_blackbox = blackbox_df['interpretability'].values\n",
    "y_blackbox = torch.tensor([1 if label else 0 for label in y_blackbox], dtype=torch.long)\n",
    "X_augmented_train = torch.cat((X_train, X_blackbox), dim=0)\n",
    "y_augmented_train = torch.cat((y_train, y_blackbox), dim=0)\n"
   ]
  },
  {
   "cell_type": "code",
   "execution_count": 28,
   "id": "61dc547d-18d1-4041-91cf-d6805ad0d807",
   "metadata": {},
   "outputs": [],
   "source": [
    "import torch\n",
    "import torch.nn as nn\n",
    "import torch.optim as optim\n",
    "\n",
    "\n",
    "class MLPClassifier(nn.Module):\n",
    "    def __init__(self, input_size, hidden_size, num_classes):\n",
    "        super(MLPClassifier, self).__init__()\n",
    "        self.fc1 = nn.Linear(input_size, hidden_size)\n",
    "        self.relu = nn.ReLU()\n",
    "        self.fc2 = nn.Linear(hidden_size, num_classes)\n",
    "\n",
    "\n",
    "    def forward(self, x):\n",
    "        out = self.fc1(x)\n",
    "        out = self.relu(out)\n",
    "        out = self.fc2(out)\n",
    "        out = torch.softmax(out, dim=-1)\n",
    "        return out\n"
   ]
  },
  {
   "cell_type": "code",
   "execution_count": 29,
   "id": "0ea3d9c7-b17a-4070-972b-5dbec70e0fb5",
   "metadata": {},
   "outputs": [],
   "source": [
    "HIDDEN_SIZE = 400 \n",
    "BATCH_SIZE = 150\n",
    "LR = 0.002\n",
    "INPUT_SIZE = X_train.shape[1]"
   ]
  },
  {
   "cell_type": "code",
   "execution_count": 30,
   "id": "36ea7b10-b4a4-49ef-a45c-d5b5260c61fb",
   "metadata": {},
   "outputs": [],
   "source": [
    "from torch.utils.data import DataLoader, TensorDataset, WeightedRandomSampler\n",
    "import torch\n",
    "\n",
    "train_dataset = TensorDataset(X_augmented_train, y_augmented_train)\n",
    "\n",
    "class_sample_count = np.array([len(np.where(y_augmented_train == t)[0]) for t in np.unique(y_augmented_train)])\n",
    "weight = 1. / class_sample_count\n",
    "samples_weight = np.array([weight[t] for t in y_augmented_train])\n",
    "\n",
    "samples_weight = torch.from_numpy(samples_weight)\n",
    "samples_weight = samples_weight.double()\n",
    "sampler = WeightedRandomSampler(samples_weight, len(samples_weight))\n",
    "\n",
    "train_loader = DataLoader(train_dataset, batch_size=BATCH_SIZE, sampler=sampler)\n",
    "\n",
    "test_dataset = TensorDataset(X_test, y_test)\n",
    "test_loader = DataLoader(test_dataset, batch_size=BATCH_SIZE, shuffle=False)"
   ]
  },
  {
   "cell_type": "code",
   "execution_count": 106,
   "id": "46689b4b-3ef2-4173-a054-ec53ada94f1a",
   "metadata": {},
   "outputs": [
    {
     "name": "stderr",
     "output_type": "stream",
     "text": [
      "100%|███████████████████████████████████████████████████████████████████████████████████████████████████████████████████████████████████████████████████████████████████████| 50/50 [00:03<00:00, 15.14it/s]\n"
     ]
    },
    {
     "data": {
      "image/png": "[encoded data removed]",
      "text/plain": [
       "<Figure size 800x800 with 2 Axes>"
      ]
     },
     "metadata": {},
     "output_type": "display_data"
    },
    {
     "name": "stdout",
     "output_type": "stream",
     "text": [
      "F1 Score: 0.5214285714285715\n"
     ]
    }
   ],
   "source": [
    "import matplotlib.pyplot as plt\n",
    "import seaborn as sns\n",
    "from sklearn.metrics import confusion_matrix\n",
    "from tqdm import tqdm\n",
    "\n",
    "model = MLPClassifier(INPUT_SIZE, HIDDEN_SIZE, 2)\n",
    "criterion = nn.CrossEntropyLoss()\n",
    "optimizer = optim.Adam(model.parameters(), lr=LR)\n",
    "scheduler = optim.lr_scheduler.ExponentialLR(optimizer, gamma=0.995)\n",
    "EPOCHS = 50\n",
    "\n",
    "for epoch in tqdm(range(EPOCHS)):\n",
    "    model.train()\n",
    "    for i, (inputs, labels) in enumerate(train_loader):\n",
    "        outputs = model(inputs)\n",
    "        _, predicted = torch.max(outputs, 1)\n",
    "        loss = criterion(outputs, labels)\n",
    "        optimizer.zero_grad()\n",
    "        loss.backward()\n",
    "        optimizer.step()\n",
    "    scheduler.step()\n",
    "    \n",
    "y_pred = []\n",
    "y_true = []\n",
    "\n",
    "model.eval()\n",
    "with torch.no_grad():\n",
    "    for inputs, labels in test_loader:\n",
    "        inputs, labels = inputs.float(), labels.float()\n",
    "        outputs = model(inputs)\n",
    "        _, predicted = torch.max(outputs, 1)\n",
    "        \n",
    "        y_pred.extend(predicted.numpy())\n",
    "        y_true.extend(labels.numpy())\n",
    "\n",
    "cm = confusion_matrix(y_true, y_pred)\n",
    "\n",
    "fig, ax = plt.subplots(figsize=(8, 8))\n",
    "sns.heatmap(cm, annot=True, fmt='d', ax=ax, cmap='Blues', square=True)\n",
    "labels = ['Non-interpretability', 'Interpretability']\n",
    "ax.set_xlabel('Predicted Labels')\n",
    "ax.set_ylabel('True Labels')\n",
    "ax.set_xticklabels(labels)\n",
    "ax.set_yticklabels(labels)\n",
    "ax.set_title('Confusion Matrix')\n",
    "plt.show()\n",
    "score = f1_score(y_true, y_pred, average='binary')\n",
    "print(\"F1 Score:\", score)"
   ]
  },
  {
   "cell_type": "code",
   "execution_count": 117,
   "id": "18960123-537e-4bdc-9e6c-576bdffdd089",
   "metadata": {},
   "outputs": [],
   "source": [
    "KEYWORDS = ['interpretability', 'interpretable', 'dimension', 'subspace', 'inner workings', 'circuit', 'probe', 'probing', 'counterfactual', 'attribution', 'subnetwork', 'intrinsic', 'explanation', 'factual', 'causal', 'role of ', 'why', 'encode', 'underlying', 'explainable', 'shortcut', 'encodings', 'adversarial', 'features', 'align', 'insight']\n",
    "# Removed keywords (too many false positives): adversarial, representation, analysis, interpret, projection, interpretation, understand, space, mechanism, structure, understanding"
   ]
  },
  {
   "cell_type": "code",
   "execution_count": 118,
   "id": "55f51b96-605b-467c-80e1-27e21e6b9f95",
   "metadata": {},
   "outputs": [
    {
     "data": {
      "image/png": "[encoded data removed]",
      "text/plain": [
       "<Figure size 800x800 with 2 Axes>"
      ]
     },
     "metadata": {},
     "output_type": "display_data"
    },
    {
     "name": "stdout",
     "output_type": "stream",
     "text": [
      "F1 Score: 0.5495495495495496\n"
     ]
    }
   ],
   "source": [
    "from sklearn.metrics import f1_score\n",
    "\n",
    "y_pred = []\n",
    "y_true = []\n",
    "\n",
    "\n",
    "model.eval()\n",
    "with torch.no_grad():\n",
    "    for index, row in df_test.iterrows():\n",
    "        vector = row['embedding']\n",
    "        output = model(torch.tensor(vector))\n",
    "        pred = torch.argmax(output)\n",
    "        pred = int(output[1] > 0.5)\n",
    "        \n",
    "        has_keyword = any([word in row['abstract'].lower() for word in KEYWORDS])\n",
    "\n",
    "        y_pred.append(pred and has_keyword)\n",
    "        y_true.append(row['interpretability'])\n",
    "cm = confusion_matrix(y_true, y_pred)\n",
    "\n",
    "fig, ax = plt.subplots(figsize=(8, 8))\n",
    "sns.heatmap(cm, annot=True, fmt='d', ax=ax, cmap='Blues', square=True)\n",
    "labels = ['Non-interpretability', 'Interpretability']\n",
    "ax.set_xlabel('Predicted Labels')\n",
    "ax.set_ylabel('True Labels')\n",
    "ax.set_xticklabels(labels)\n",
    "ax.set_yticklabels(labels)\n",
    "ax.set_title('Confusion Matrix')\n",
    "plt.show()\n",
    "score = f1_score(y_true, y_pred, average='binary')\n",
    "print(\"F1 Score:\", score)"
   ]
  },
  {
   "cell_type": "code",
   "execution_count": 116,
   "id": "445a0284-7628-494d-9047-6bdb10a733ab",
   "metadata": {},
   "outputs": [
    {
     "name": "stdout",
     "output_type": "stream",
     "text": [
      "Language Models (LMs) pre-trained with self-supervision on large text corpora have become the default starting point for developing models for various NLP tasks. Once the pre-training corpus has been assembled, all data samples in the corpus are treated with equal importance during LM pre-training. However, due to varying levels of relevance and quality of data, equal importance to all the data samples may not be the optimal choice. While data reweighting has been explored in the context of task-specific supervised learning and LM fine-tuning, model-driven reweighting for pre-training data has not been explored. We fill this important gap and propose PRESENCE, a method for jointly reweighting samples by leveraging self-influence (SI) scores as an indicator of sample importance and pre-training. PRESENCE promotes novelty and stability for model pre-training. Through extensive analysis spanning multiple model sizes, datasets, and tasks, we present PRESENCE as an important first step in the research direction of sample reweighting for pre-training language models.\n",
      "keyword False\n",
      "pred tensor(0.8340)\n",
      "--------------------------------------------------\n",
      "Pre-trained language models have achieved human-level performance on many Machine Reading Comprehension (MRC) tasks, but it remains unclear whether these models truly understand language or answer questions by exploiting statistical biases in datasets. Here, we demonstrate a simple yet effective method to attack MRC models and reveal the statistical biases in these models. We apply the method to the RACE dataset, for which the answer to each MRC question is selected from 4 options. It is found that several pre-trained language models, including BERT, ALBERT, and RoBERTa, show consistent preference to some options, even when these options are irrelevant to the question. When interfered by these irrelevant options, the performance of MRC models can be reduced from human-level performance to the chance-level performance. Human readers, however, are not clearly affected by these irrelevant options. Finally, we propose an augmented training method that can greatly reduce models’ statistical biases.\n",
      "keyword False\n",
      "pred tensor(0.9987)\n",
      "--------------------------------------------------\n",
      "This work investigates the computational expressivity of language models (LMs) based on recurrent neural networks (RNNs). Siegelmann and Sontag (1992) famously showed that RNNs with rational weights and hidden states and unbounded computation time are Turing complete. However, LMs define weightings over strings in addition to just (unweighted) language membership and the analysis of the computational power of RNN LMs (RLMs) should reflect this. We extend the Turing completeness result to the probabilistic case, showing how a rationally weighted RLM with unbounded computation time can simulate any deterministic probabilistic Turing machine (PTM) with rationally weighted transitions. Since, in practice, RLMs work in real-time, processing a symbol at every time step, we treat the above result as an upper bound on the expressivity of RLMs. We also provide a lower bound by showing that under the restriction to real-time computation, such models can simulate deterministic real-time rational PTMs.\n",
      "keyword False\n",
      "pred tensor(1.)\n",
      "--------------------------------------------------\n",
      "Backdoor attacks are a kind of emergent security threat in deep learning. After being injected with a backdoor, a deep neural model will behave normally on standard inputs but give adversary-specified predictions once the input contains specific backdoor triggers. In this paper, we find two simple tricks that can make existing textual backdoor attacks much more harmful. The first trick is to add an extra training task to distinguish poisoned and clean data during the training of the victim model, and the second one is to use all the clean training data rather than remove the original clean data corresponding to the poisoned data. These two tricks are universally applicable to different attack models. We conduct experiments in three tough situations including clean data fine-tuning, low-poisoning-rate, and label-consistent attacks. Experimental results show that the two tricks can significantly improve attack performance. This paper exhibits the great potential harmfulness of backdoor attacks. All the code and data can be obtained at https://github.com/thunlp/StyleAttack.\n",
      "keyword False\n",
      "pred tensor(0.9999)\n",
      "--------------------------------------------------\n",
      "With a handful of demonstration examples, large-scale language models demonstrate strong capability to perform various tasks by in-context learning from these examples, without any fine-tuning. We demonstrate that in-context learning performance can be highly unstable across samples of examples, indicating the idiosyncrasies of how language models acquire information. We formulate example selection for in-context learning as a sequential decision problem, and propose a reinforcement learning algorithm for identifying generalizable policies to select demonstration examples. For GPT-2, our learned policies demonstrate strong abilities of generalizing to unseen tasks in training, with a 5.8% improvement on average. Examples selected from our learned policies can even achieve a small improvement on GPT-3 Ada. However, the improvement diminishes on larger GPT-3 models, suggesting emerging capabilities of large language models.\n",
      "keyword False\n",
      "pred tensor(0.9781)\n",
      "--------------------------------------------------\n",
      "Large datasets have become commonplace in NLP research. However, the increased emphasis on data quantity has made it challenging to assess the quality of data. We introduce Data Maps---a model-based tool to characterize and diagnose datasets. We leverage a largely ignored source of information: the behavior of the model on individual instances during training (training dynamics) for building data maps. This yields two intuitive measures for each example---the model's confidence in the true class, and the variability of this confidence across epochs---obtained in a single run of training. Experiments on four datasets show that these model-dependent measures reveal three distinct regions in the data map, each with pronounced characteristics. First, our data maps show the presence of \"ambiguous\" regions with respect to the model, which contribute the most towards out-of-distribution generalization. Second, the most populous regions in the data are \"easy to learn\" for the model, and play an important role in model optimization. Finally, data maps uncover a region with instances that the model finds \"hard to learn\"; these often correspond to labeling errors. Our results indicate that a shift in focus from quantity to quality of data could lead to robust models and improved out-of-distribution generalization.\n",
      "keyword False\n",
      "pred tensor(0.9999)\n",
      "--------------------------------------------------\n",
      "Parameter-Efficient Tuning (PETuning) methods have been deemed by many as the new paradigm for using pretrained language models (PLMs). By tuning just a fraction amount of parameters comparing to full model finetuning, PETuning methods claim to have achieved performance on par with or even better than finetuning. In this work, we take a step back and re-examine these PETuning methods by conducting the first comprehensive investigation into the training and evaluation of them. We found the problematic validation and testing practice in current studies, when accompanied by the instability nature of PETuning methods, has led to unreliable conclusions. When being compared under a truly fair evaluation protocol, PETuning cannot yield consistently competitive performance while finetuning remains to be the best-performing method in medium- and high-resource settings. We delve deeper into the cause of the instability and observed that the number of trainable parameters and training iterations are two main factors: reducing trainable parameters and prolonging training iterations may lead to higher stability in PETuning methods.\n",
      "keyword False\n",
      "pred tensor(0.9995)\n",
      "--------------------------------------------------\n",
      "State-of-the-art deep-learning-based approaches to Natural Language Processing (NLP) are credited with various capabilities that involve reasoning with natural language texts. %However, reasoning in this setting is often ill-defined and shallow. In this paper we carry out a large-scale empirical study investigating the detection of formally valid inferences in controlled fragments of natural language for which the satisfiability problem becomes increasingly complex. We find that, while transformer-based language models perform surprisingly well in these scenarios, a deeper analysis reveals that they appear to overfit to superficial patterns in the data rather than acquiring the logical principles governing the reasoning in these fragments.\n",
      "keyword False\n",
      "pred tensor(0.9919)\n",
      "--------------------------------------------------\n",
      "When pretrained language models (LMs) are applied to discriminative tasks such as multiple-choice questions, they place probability mass on vocabulary tokens that aren't among the given answer choices. Spreading probability mass across multiple surface forms with identical meaning (such as\"bath\"and\"bathtub\") is thought to cause an underestimation of a model's true performance, referred to as the\"surface form competition\"(SFC) hypothesis. This has motivated the introduction of various probability normalization methods. However, many core questions remain unanswered. How do we measure SFC? Are there direct ways of reducing it, and does doing so improve task performance? We propose a mathematical formalism for SFC which allows us to quantify and bound its impact for the first time. We identify a simple method for reducing it -- namely, increasing probability mass on the given answer choices by a) including them in the prompt and b) using in-context learning with even just one example. We show this method eliminates the impact of SFC in the majority of instances. Our experiments on three diverse datasets and six LMs reveal several additional surprising findings. For example, both normalization and prompting methods for reducing SFC can be ineffective or even detrimental to task performance for some LMs. We conclude with practical insights for effectively prompting LMs for multiple-choice tasks.\n",
      "keyword False\n",
      "pred tensor(1.0000)\n",
      "--------------------------------------------------\n",
      "In recent years, pre-trained Transformers have dominated the majority of NLP benchmark tasks. Many variants of pre-trained Transformers have kept breaking out, and most focus on designing different pre-training objectives or variants of self-attention. Embedding the position information in the self-attention mechanism is also an indispensable factor in Transformers however is often discussed at will. Hence, we carry out an empirical study on position embedding of mainstream pre-trained Transformers mainly focusing on two questions: 1) Do position embeddings really learn the meaning of positions? 2) How do these different learned position embeddings affect Transformers for NLP tasks? This paper focuses on providing a new insight of pre-trained position embeddings by feature-level analysis and empirical experiments on most of iconic NLP tasks. It is believed that our experimental results can guide the future works to choose the suitable positional encoding function for specific tasks given the application property.\n",
      "keyword False\n",
      "pred tensor(0.9876)\n",
      "--------------------------------------------------\n",
      "Parameter-Efficient Tuning (PET) has shown remarkable performance by fine-tuning only a small number of parameters of the pre-trained language models (PLMs) for the downstream tasks, while it is also possible to construct backdoor attacks due to the vulnerability of pre-trained weights. However, a large reduction in the number of attackable parameters in PET will cause the user's fine-tuning to greatly affect the effectiveness of backdoor attacks, resulting in backdoor forgetting. We find that the backdoor injection process can be regarded as multi-task learning, which has a convergence imbalance problem between the training of clean and poisoned data. And this problem might result in forgetting the backdoor. Based on this finding, we propose a gradient control method to consolidate the attack effect, comprising two strategies. One controls the gradient magnitude distribution cross layers within one task and the other prevents the conflict of gradient directions between tasks. Compared with previous backdoor attack methods in the scenario of PET, our method improve the effect of the attack on sentiment classification and spam detection respectively, which shows that our method is widely applicable to different tasks.\n",
      "keyword False\n",
      "pred tensor(0.8264)\n",
      "--------------------------------------------------\n",
      "Large language models achieve high performance on many but not all downstream tasks. The interaction between pretraining data and task data is commonly assumed to determine this variance: a task with data that is more similar to a model's pretraining data is assumed to be easier for that model. We test whether distributional and example-specific similarity measures (embedding-, token- and model-based) correlate with language model performance through a large-scale comparison of the Pile and C4 pretraining datasets with downstream benchmarks. Similarity correlates with performance for multilingual datasets, but in other benchmarks, we surprisingly find that similarity metrics are not correlated with accuracy or even each other. This suggests that the relationship between pretraining data and downstream tasks is more complex than often assumed.\n",
      "keyword False\n",
      "pred tensor(0.8278)\n",
      "--------------------------------------------------\n",
      "Knowledge base (KB) embeddings have been shown to contain gender biases. In this paper, we study two questions regarding these biases: how to quantify them, and how to trace their origins in KB? Specifically, first, we develop two novel bias measures respectively for a group of person entities and an individual person entity. Evidence of their validity is observed by comparison with real-world census data. Second, we use the influence function to inspect the contribution of each triple in KB to the overall group bias. To exemplify the potential applications of our study, we also present two strategies (by adding and removing KB triples) to mitigate gender biases in KB embeddings.\n",
      "keyword False\n",
      "pred tensor(0.9955)\n",
      "--------------------------------------------------\n",
      "Studying language models (LMs) in terms of well-understood formalisms allows us to precisely characterize their abilities and limitations. Previous work has investigated the representational capacity of recurrent neural network (RNN) LMs in terms of their capacity to recognize unweighted formal languages. However, LMs do not describe unweighted formal languages -- rather, they define \\emph{probability distributions} over strings. In this work, we study what classes of such probability distributions RNN LMs can represent, which allows us to make more direct statements about their capabilities. We show that simple RNNs are equivalent to a subclass of probabilistic finite-state automata, and can thus model a strict subset of probability distributions expressible by finite-state models. Furthermore, we study the space complexity of representing finite-state LMs with RNNs. We show that, to represent an arbitrary deterministic finite-state LM with $N$ states over an alphabet $\\alphabet$, an RNN requires $\\Omega\\left(N |\\Sigma|\\right)$ neurons. These results present a first step towards characterizing the classes of distributions RNN LMs can represent and thus help us understand their capabilities and limitations.\n",
      "keyword False\n",
      "pred tensor(1.)\n",
      "--------------------------------------------------\n"
     ]
    }
   ],
   "source": [
    "model.eval()\n",
    "with torch.no_grad():\n",
    "    for index, row in df_test.iterrows():\n",
    "        vector = row['embedding']\n",
    "        output = model(torch.tensor(vector))\n",
    "        pred = torch.argmax(output)\n",
    "        has_keyword = any([word in row['abstract'].lower() for word in KEYWORDS])\n",
    "\n",
    "        \n",
    "        if not (pred and has_keyword) and row['interpretability'] and pred:\n",
    "            print(row['abstract'])\n",
    "            print('keyword', has_keyword)\n",
    "            print('pred', output[1])\n",
    "            print('-' * 50)\n"
   ]
  },
  {
   "cell_type": "code",
   "execution_count": 119,
   "id": "c899af0a-b83e-42a0-8118-6838e48774ad",
   "metadata": {},
   "outputs": [],
   "source": [
    "torch.save(model.state_dict(), './classifier-weights.pt')"
   ]
  },
  {
   "cell_type": "markdown",
   "id": "57a37219-a14b-4a13-b541-a283d16e729d",
   "metadata": {},
   "source": [
    "# Machine Translation Classifier"
   ]
  },
  {
   "cell_type": "code",
   "execution_count": 123,
   "id": "75ad601e-4829-4236-a750-5894f83bdb4c",
   "metadata": {},
   "outputs": [],
   "source": [
    "def is_machine_translation(row):\n",
    "    area = row['area'].lower()\n",
    "    if 'translation' in area:\n",
    "        return True\n",
    "    \n",
    "    return False\n",
    "\n",
    "df['mt'] = df.apply(is_machine_translation, axis=1)"
   ]
  },
  {
   "cell_type": "code",
   "execution_count": 19,
   "id": "8e69e591-2398-41fc-8fd0-4262d30ece76",
   "metadata": {},
   "outputs": [
    {
     "name": "stderr",
     "output_type": "stream",
     "text": [
      "100%|███████████████████████████████████████████████████████████████████████████████████████████████████████████████████████████████████████████████████████████████████████████████████████████████████████████████████████████████████████| 9255/9255 [19:26<00:00,  7.94it/s]\n"
     ]
    }
   ],
   "source": [
    "df['embedding'] = df.progress_apply(get_embedding, axis=1)"
   ]
  },
  {
   "cell_type": "code",
   "execution_count": 133,
   "id": "416cb807-bc4e-49bd-8b2e-4dd7948c7941",
   "metadata": {},
   "outputs": [],
   "source": [
    "SEED = 42\n",
    "SPLIT = 0.2\n",
    "\n",
    "X = np.stack(df['embedding'].values)\n",
    "\n",
    "y = df['mt'].values\n",
    "y = torch.tensor([1 if label else 0 for label in y], dtype=torch.long)\n",
    "\n",
    "indices = np.arange(len(df))\n",
    "train_indices, test_indices = train_test_split(indices, test_size=SPLIT, random_state=SEED)\n",
    "\n",
    "X_train, X_test = X[train_indices], X[test_indices]\n",
    "y_train, y_test = y[train_indices], y[test_indices]\n",
    "\n",
    "df_train, df_test = df.iloc[train_indices], df.iloc[test_indices]"
   ]
  },
  {
   "cell_type": "code",
   "execution_count": 134,
   "id": "dce999cf-e812-4926-9fb1-67f69140e36f",
   "metadata": {},
   "outputs": [
    {
     "name": "stderr",
     "output_type": "stream",
     "text": [
      "/var/folders/jd/xcxq41xd1bx5jvgpwp14tr940000gn/T/ipykernel_66219/2947476391.py:3: UserWarning: To copy construct from a tensor, it is recommended to use sourceTensor.clone().detach() or sourceTensor.clone().detach().requires_grad_(True), rather than torch.tensor(sourceTensor).\n",
      "  y_train = torch.tensor(y_train, dtype=torch.long)\n",
      "/var/folders/jd/xcxq41xd1bx5jvgpwp14tr940000gn/T/ipykernel_66219/2947476391.py:4: UserWarning: To copy construct from a tensor, it is recommended to use sourceTensor.clone().detach() or sourceTensor.clone().detach().requires_grad_(True), rather than torch.tensor(sourceTensor).\n",
      "  y_test = torch.tensor(y_test, dtype=torch.long)\n"
     ]
    }
   ],
   "source": [
    "X_train = torch.tensor(X_train, dtype=torch.float32)\n",
    "X_test = torch.tensor(X_test, dtype=torch.float32)\n",
    "y_train = torch.tensor(y_train, dtype=torch.long)\n",
    "y_test = torch.tensor(y_test, dtype=torch.long)"
   ]
  },
  {
   "cell_type": "code",
   "execution_count": 135,
   "id": "e7c44c2c-26a8-4084-aae8-9f145bf4d4ed",
   "metadata": {},
   "outputs": [],
   "source": [
    "HIDDEN_SIZE = 400 \n",
    "BATCH_SIZE = 150\n",
    "LR = 0.002\n",
    "INPUT_SIZE = X_train.shape[1]"
   ]
  },
  {
   "cell_type": "code",
   "execution_count": 136,
   "id": "33300ed4-566d-4217-984a-7b39975e4944",
   "metadata": {},
   "outputs": [],
   "source": [
    "train_dataset = TensorDataset(X_train, y_train)\n",
    "\n",
    "class_sample_count = np.array([len(np.where(y_train == t)[0]) for t in np.unique(y_train)])\n",
    "weight = 1. / class_sample_count\n",
    "samples_weight = np.array([weight[t] for t in y_train])\n",
    "\n",
    "samples_weight = torch.from_numpy(samples_weight)\n",
    "samples_weight = samples_weight.double()\n",
    "sampler = WeightedRandomSampler(samples_weight, len(samples_weight))\n",
    "\n",
    "train_loader = DataLoader(train_dataset, batch_size=BATCH_SIZE, sampler=sampler)\n",
    "\n",
    "test_dataset = TensorDataset(X_test, y_test)\n",
    "test_loader = DataLoader(test_dataset, batch_size=BATCH_SIZE, shuffle=False)"
   ]
  },
  {
   "cell_type": "code",
   "execution_count": 137,
   "id": "eb188a88-416a-4cde-8ac9-795c7d6f9de5",
   "metadata": {},
   "outputs": [
    {
     "name": "stderr",
     "output_type": "stream",
     "text": [
      "100%|███████████████████████████████████████████████████████████████████████████████████████████████████████████████████████████████████████████████████████████████████████████████████████████████████████████████████████████████████████████| 50/50 [00:04<00:00, 11.57it/s]\n"
     ]
    },
    {
     "data": {
      "image/png": "[encoded data removed]",
      "text/plain": [
       "<Figure size 800x800 with 2 Axes>"
      ]
     },
     "metadata": {},
     "output_type": "display_data"
    },
    {
     "name": "stdout",
     "output_type": "stream",
     "text": [
      "F1 Score: 0.7272727272727273\n"
     ]
    }
   ],
   "source": [
    "model = MLPClassifier(INPUT_SIZE, HIDDEN_SIZE, 2)\n",
    "criterion = nn.CrossEntropyLoss()\n",
    "optimizer = optim.Adam(model.parameters(), lr=LR)\n",
    "scheduler = optim.lr_scheduler.ExponentialLR(optimizer, gamma=0.995)\n",
    "EPOCHS = 50\n",
    "\n",
    "for epoch in tqdm(range(EPOCHS)):\n",
    "    model.train()\n",
    "    for i, (inputs, labels) in enumerate(train_loader):\n",
    "        outputs = model(inputs)\n",
    "        _, predicted = torch.max(outputs, 1)\n",
    "        loss = criterion(outputs, labels)\n",
    "        optimizer.zero_grad()\n",
    "        loss.backward()\n",
    "        optimizer.step()\n",
    "    scheduler.step()\n",
    "    \n",
    "y_pred = []\n",
    "y_true = []\n",
    "\n",
    "model.eval()\n",
    "with torch.no_grad():\n",
    "    for inputs, labels in test_loader:\n",
    "        inputs, labels = inputs.float(), labels.float()\n",
    "        outputs = model(inputs)\n",
    "        _, predicted = torch.max(outputs, 1)\n",
    "        \n",
    "        y_pred.extend(predicted.numpy())\n",
    "        y_true.extend(labels.numpy())\n",
    "\n",
    "cm = confusion_matrix(y_true, y_pred)\n",
    "\n",
    "fig, ax = plt.subplots(figsize=(8, 8))\n",
    "sns.heatmap(cm, annot=True, fmt='d', ax=ax, cmap='Blues', square=True)\n",
    "labels = ['Non-MT', 'MT']\n",
    "ax.set_xlabel('Predicted Labels')\n",
    "ax.set_ylabel('True Labels')\n",
    "ax.set_xticklabels(labels)\n",
    "ax.set_yticklabels(labels)\n",
    "ax.set_title('Confusion Matrix')\n",
    "plt.show()\n",
    "score = f1_score(y_true, y_pred, average='binary')\n",
    "print(\"F1 Score:\", score)"
   ]
  },
  {
   "cell_type": "code",
   "execution_count": 138,
   "id": "864d7ae3-ac9a-4a01-9eac-6f8f7e2c4bb2",
   "metadata": {},
   "outputs": [],
   "source": [
    "torch.save(model.state_dict(), './mt-classifier-weights.pt')"
   ]
  },
  {
   "cell_type": "markdown",
   "id": "891fe7a3-6729-4b16-8666-177b78671c3a",
   "metadata": {},
   "source": [
    "# Train multiple classifiers"
   ]
  },
  {
   "cell_type": "code",
   "execution_count": 3,
   "id": "8bf4b229-15b1-4a67-add4-e7137c988bf7",
   "metadata": {},
   "outputs": [],
   "source": [
    "raw_tracks = list(set(df['area']))"
   ]
  },
  {
   "cell_type": "code",
   "execution_count": 4,
   "id": "c36eb91d-1603-4d7d-9a8b-570901f0dac3",
   "metadata": {},
   "outputs": [
    {
     "name": "stdout",
     "output_type": "stream",
     "text": [
      "interp & analysis tracks\n",
      "['Interpretability, Interactivity, and Analysis of Models for NLP', 'Interpretability and Analysis of Models for NLP', 'Interpretability, Interactivity and Analysis of Models for NLP', 'Language Modeling and Analysis of Language Models']\n",
      "\n",
      "syntax tracks\n",
      "['Area D (Morphology, Syntax, Chunking, Psycholinguistics) [LONG]', 'Syntax, Parsing, and Linguistic Theories', 'Tagging, Chunking, Syntax and Parsing', 'Syntax: Tagging, Chunking, and Parsing', 'Syntax, Parsing and their Applications', 'Syntax: Tagging, Chunking and Parsing', 'Machine Translation and Mulitilinguality, Phonology, Morphology and Word Segmentation, Tagging, Chunking, Syntax and Parsing', 'Dialog and Interactive Systems, Machine Translation and Multilinuality, Phonology, Morphology, and Word Segmentation, Speech, Vision, Robotics, Multimodal and Grounding, Tagging, Chunking, Syntax and Parsing']\n",
      "\n",
      "MT tracks\n",
      "['Machine Translation, Multilinguality', 'Area G (Machine Translation and Multilinguality) [LONG]', 'Machine Translation and Mulitilinguality, Phonology, Morphology and Word Segmentation, Tagging, Chunking, Syntax and Parsing', 'Machine Translation', 'Machine Translation and Multilinguality', 'Dialog and Interactive Systems, Machine Translation and Multilinuality, Phonology, Morphology, and Word Segmentation, Speech, Vision, Robotics, Multimodal and Grounding, Tagging, Chunking, Syntax and Parsing', 'Neural Machine Translation']\n",
      "\n",
      "grounding tracks\n",
      "['Vision, Multimodal, Grounding, Speech', 'Dialog and Interactive Systems, Speech, Vision, Robotics, Multimodal and Grounding', 'Ethic Concerns:Speech, Vision, Robotics, Multimodal Grounding', 'Language Groundings, Speech and Multimodality', 'Speech, Vision, Robotics, Multimodal and Grounding', 'Language Grounding to Vision, Robotics, and Beyond', 'Language Grounding to Vision, Robotics and Beyond', 'Vision, Robotics, Multimodal, Grounding and Speech', 'Dialog and Interactive Systems, Machine Translation and Multilinuality, Phonology, Morphology, and Word Segmentation, Speech, Vision, Robotics, Multimodal and Grounding, Tagging, Chunking, Syntax and Parsing', 'Speech, Vision, Robotics, Multimodal Grounding']\n",
      "\n",
      "semantics tracks\n",
      "['Word-level Semantics', 'Question Answering, Textual Inference and Other Areas of Semantics', 'Semantics: Sentence-level Semantics, Textual Inference, and Other Areas', 'Sentiment Analysis and Argument Mining, Lexical Semantics, Sentence-level Semantics', 'Lexical Semantics', 'Sentence-level semantics', 'Area E (Semantics) [LONG]', 'Sentence-level Semantics', 'Semantics: Textual Inference and Other Areas of Semantics', 'Semantics', 'Semantics: Lexical Semantics', 'Semantics: Lexical, Sentence level, Textual Inference and Other areas', 'Textual Inference and Other Areas of Semantics', 'Semantics: Sentence-level Semantics, Textual Inference and Other areas', 'Word Semantics', 'Semantics: Lexical, Sentence level, Document Level, Textual Inference, etc.', 'Information Retrieval and Document Analysis, Lexical Semantics, Sentence-level Semantics, Machine Learning', 'Semantics: Sentence Level', 'Semantics: Lexical']\n",
      "\n",
      "evaluation tracks\n",
      "['Ethic Concerns:Resources and Evaluation', 'Vision, Linguistics, Resource and Evaluation', 'Resources and Evaluation', 'Evaluation']\n",
      "\n",
      "info_extraction tracks\n",
      "['Information Retrieval and Text Mining', 'Information Retrieval', 'Information Extraction, Information Retrieval and Document Analysis, Linguistic Theories', 'Area A (Information Extraction and Question Answering) [LONG]', 'Information Retrieval and Document Analysis', 'Information Extraction, Text Mining', 'Information Retrieval and Document Analysis, Lexical Semantics, Sentence-level Semantics, Machine Learning', 'Information Extraction', 'Information Extraction, Text Mining and NLP Applications, Social Media and Computational Social Science, Sentiment Analysis and Argument Mining', 'Area B (Text Mining and Information Retrieval) [LONG]', 'Information Extraction and Text Mining']\n",
      "\n",
      "qa_tracks\n",
      "['Question Answering, Textual Inference and Other Areas of Semantics', 'Visual and Multimodal Question Answering', 'Reasoning and Question Answering', 'Machine Learning, Question Answering', 'Area A (Information Extraction and Question Answering) [LONG]', 'Question Answering', 'Discourse and Pragmatics, Linguistic Theories, Textual Inference, Question Answering, Summarization and Generation']\n",
      "\n",
      "dialogue_tracks\n",
      "['Dialog and Interactive Systems, Multilinguality', 'Dialog and Interactive Systems', 'Ethic Concerns:Dialogue and Interactive Systems', 'Dialog and Interactive Systems, Speech, Vision, Robotics, Multimodal and Grounding', 'Dialog System, Discourse', 'Dialogue and Interactive Systems', 'Area A from Area F (Discourse, Dialog, Summarization, Generation, Multimodal NLP) [LONG]', 'Area F (Discourse, Dialog, Summarization, Generation, Multimodal NLP) [LONG]', 'Dialog System', 'Dialogue and Generation', 'Dialog and Interactive Systems, Machine Translation and Multilinuality, Phonology, Morphology, and Word Segmentation, Speech, Vision, Robotics, Multimodal and Grounding, Tagging, Chunking, Syntax and Parsing']\n",
      "\n",
      "sentiment_analysis_tracks\n",
      "['Ethic Concerns:Sentiment Analysis, Stylistic Analysis, and Argument Mining', 'Sentiment Analysis and Argument Mining, Lexical Semantics, Sentence-level Semantics', 'Sentiment Analysis, Stylistic Analysis, and Argument Mining', 'Sentiment Analysis and Argument Mining', 'Information Extraction, Text Mining and NLP Applications, Social Media and Computational Social Science, Sentiment Analysis and Argument Mining']\n",
      "\n",
      "applications_tracks\n",
      "['Text Mining and NLP Applications', 'NLP Applications', 'Ethic Concerns:NLP Applications', 'Social Media and Computational Social Science, Text Mining and NLP Applications', 'Information Extraction, Text Mining and NLP Applications, Social Media and Computational Social Science, Sentiment Analysis and Argument Mining']\n",
      "\n",
      "ml_tracks\n",
      "['Machine Learning', 'Machine Learning, Question Answering', 'Machine Learning for NLP', 'Area H (Machine Learning) [LONG]', 'Information Retrieval and Document Analysis, Lexical Semantics, Sentence-level Semantics, Machine Learning']\n",
      "\n",
      "generation_tracks\n",
      "['Generation, Summarization', 'Area A from Area F (Discourse, Dialog, Summarization, Generation, Multimodal NLP) [LONG]', 'Discourse, Summarization, and Generation', 'Area F (Discourse, Dialog, Summarization, Generation, Multimodal NLP) [LONG]', 'Language Generation', 'Discourse and Pragmatics, Summarization and Generation', 'Summarization and Generation', 'Natural Language Generation', 'Discourse and Pragmatics, Linguistic Theories, Textual Inference, Question Answering, Summarization and Generation', 'Dialogue and Generation', 'Generation']\n",
      "\n"
     ]
    }
   ],
   "source": [
    "analysis_or_interpretability_tracks = list(filter(lambda x: 'interpretability' in x.lower() or 'analysis of language models' in x.lower(), raw_tracks))\n",
    "print('interp & analysis tracks')\n",
    "print(analysis_or_interpretability_tracks)\n",
    "print()\n",
    "\n",
    "syntax_tracks = list(filter(lambda x: 'syntax' in x.lower(), raw_tracks))\n",
    "print('syntax tracks')\n",
    "print(syntax_tracks)\n",
    "print()\n",
    "\n",
    "mt_tracks = list(filter(lambda x: 'translation' in x.lower(), raw_tracks))\n",
    "print('MT tracks')\n",
    "print(mt_tracks)\n",
    "print()\n",
    "\n",
    "grounding_tracks = list(filter(lambda x: 'grounding' in x.lower(), raw_tracks))\n",
    "print('grounding tracks')\n",
    "print(grounding_tracks)\n",
    "print()\n",
    "\n",
    "semantics_tracks = list(filter(lambda x: 'semantics' in x.lower(), raw_tracks))\n",
    "print('semantics tracks')\n",
    "print(semantics_tracks)\n",
    "print()\n",
    "\n",
    "evaluation_tracks = list(filter(lambda x: 'evaluation' in x.lower(), raw_tracks))\n",
    "print('evaluation tracks')\n",
    "print(evaluation_tracks)\n",
    "print()\n",
    "\n",
    "info_extraction_tracks = list(filter(lambda x: 'extraction' in x.lower() or 'retrieval' in x.lower(), raw_tracks))\n",
    "print('info_extraction tracks')\n",
    "print(info_extraction_tracks)\n",
    "print()\n",
    "\n",
    "qa_tracks = list(filter(lambda x: 'answering' in x.lower(), raw_tracks))\n",
    "print('qa_tracks')\n",
    "print(qa_tracks)\n",
    "print()\n",
    "\n",
    "dialogue_tracks = list(filter(lambda x: 'dialog' in x.lower(), raw_tracks))\n",
    "print('dialogue_tracks')\n",
    "print(dialogue_tracks)\n",
    "print()\n",
    "\n",
    "sentiment_analysis_tracks = list(filter(lambda x: 'sentiment analysis' in x.lower(), raw_tracks))\n",
    "print('sentiment_analysis_tracks')\n",
    "print(sentiment_analysis_tracks)\n",
    "print()\n",
    "\n",
    "applications_tracks = list(filter(lambda x: 'nlp applications' in x.lower(), raw_tracks))\n",
    "print('applications_tracks')\n",
    "print(applications_tracks)\n",
    "print()\n",
    "\n",
    "ml_tracks = list(filter(lambda x: 'machine learning' in x.lower(), raw_tracks))\n",
    "print('ml_tracks')\n",
    "print(ml_tracks)\n",
    "print()\n",
    "\n",
    "generation_tracks = list(filter(lambda x: 'generation' in x.lower(), raw_tracks))\n",
    "print('generation_tracks')\n",
    "print(generation_tracks)\n",
    "print()"
   ]
  },
  {
   "cell_type": "code",
   "execution_count": 8,
   "id": "abd0f489-aa01-44c1-b5a0-0ce1b8b999fb",
   "metadata": {},
   "outputs": [
    {
     "name": "stdout",
     "output_type": "stream",
     "text": [
      "  'Dialog and Interactive Systems, Multilinguality': None,\n",
      "  'Language/Document Model': None,\n",
      "  'Text Mining and NLP Applications': None,\n",
      "  'Ethic Concerns:Sentiment Analysis, Stylistic Analysis, and Argument Mining': None,\n",
      "  'Word-level Semantics': None,\n",
      "  'Dialog and Interactive Systems': None,\n",
      "  'Ethic Concerns:Dialogue and Interactive Systems': None,\n",
      "  'Area D (Morphology, Syntax, Chunking, Psycholinguistics) [LONG]': None,\n",
      "  'Question Answering, Textual Inference and Other Areas of Semantics': None,\n",
      "  'Vision, Multimodal, Grounding, Speech': None,\n",
      "  'Syntax, Parsing, and Linguistic Theories': None,\n",
      "  'Ethic Concerns:Unsupervised and Weakly-Supervised Methods in NLP': None,\n",
      "  'Industry': None,\n",
      "  'Multilinguality': None,\n",
      "  'Efficient Methods for NLP': None,\n",
      "  'Dialog and Interactive Systems, Speech, Vision, Robotics, Multimodal and Grounding': None,\n",
      "  'Parsing': None,\n",
      "  'Machine Translation, Multilinguality': None,\n",
      "  'Ethic Concerns:Speech, Vision, Robotics, Multimodal Grounding': None,\n",
      "  'Language Groundings, Speech and Multimodality': None,\n",
      "  'Visual and Multimodal Question Answering': None,\n",
      "  'Linguistic Theories, Cognitive Modeling, and Psycholinguistics': None,\n",
      "  'Semantics: Sentence-level Semantics, Textual Inference, and Other Areas': None,\n",
      "  'Phonology, Morphology, and Word Segmentation': None,\n",
      "  'Information Retrieval and Text Mining': None,\n",
      "  'Speech, Vision, Robotics, Multimodal and Grounding': None,\n",
      "  'Computational Social Science and Cultural Analytics': None,\n",
      "  'Theory and Formalism in NLP (Linguistic and Mathematical)': None,\n",
      "  'Summarization, Social Media': None,\n",
      "  'Social Media': None,\n",
      "  'Language Grounding to Vision, Robotics, and Beyond': None,\n",
      "  'Sentiment': None,\n",
      "  'Sentiment Analysis and Argument Mining, Lexical Semantics, Sentence-level Semantics': None,\n",
      "  'Unsupervised and Weakly-Supervised Methods in NLP': None,\n",
      "  'Ethic Concerns:Ethics': None,\n",
      "  'Lexical Semantics': None,\n",
      "  'Linguistic Diversity': None,\n",
      "  'Theme Track: Large Language Models and the Future of NLP': None,\n",
      "  'Area C (Social Media, Computational Social Science, Sentiment,  Opinion) [LONG]': None,\n",
      "  'Tagging, Chunking, Syntax and Parsing': None,\n",
      "  'Area G (Machine Translation and Multilinguality) [LONG]': None,\n",
      "  'NLP Applications': None,\n",
      "  'Bias in Language Processing': None,\n",
      "  'Machine Learning': None,\n",
      "  'Human-Centered NLP': None,\n",
      "  'Large Language Models': None,\n",
      "  'Dialog System, Discourse': None,\n",
      "  'Language Grounding to Vision, Robotics and Beyond': None,\n",
      "  'Reasoning and Question Answering': None,\n",
      "  'Dialogue and Interactive Systems': None,\n",
      "  'Discourse and Pragmatics': None,\n",
      "  'Resource, Annotation': None,\n",
      "  'Best Paper Session': None,\n",
      "  'Generation, Summarization': None,\n",
      "  'Syntax: Tagging, Chunking, and Parsing': None,\n",
      "  'Sentence-level semantics': None,\n",
      "  'Sentiment Analysis, Stylistic Analysis, and Argument Mining': None,\n",
      "  'Area E (Semantics) [LONG]': None,\n",
      "  'Sentence-level Semantics': None,\n",
      "  'Area A from Area F (Discourse, Dialog, Summarization, Generation, Multimodal NLP) [LONG]': None,\n",
      "  'Interpretability, Interactivity, and Analysis of Models for NLP': None,\n",
      "  'Discourse and Pragmatics & Ethics in NLP': None,\n",
      "  'Ethic Concerns:Resources and Evaluation': None,\n",
      "  'Multidisciplinary and Area Chair COI': None,\n",
      "  'Social Media and Computational Social Science': None,\n",
      "  'Special Theme on Language Diversity: From Low Resource to Endangered': None,\n",
      "  'Machine Learning, Question Answering': None,\n",
      "  'Discourse, Summarization, and Generation': None,\n",
      "  'Syntax, Parsing and their Applications': None,\n",
      "  'Area F (Discourse, Dialog, Summarization, Generation, Multimodal NLP) [LONG]': None,\n",
      "  'Multimodal': None,\n",
      "  'Sentiment Analysis and Argument Mining': None,\n",
      "  'Reasoning': None,\n",
      "  'Semantics: Textual Inference and Other Areas of Semantics': None,\n",
      "  'Dialog System': None,\n",
      "  'Language Generation': None,\n",
      "  'Discourse and Pragmatics, Summarization and Generation': None,\n",
      "  'Summarization and Generation': None,\n",
      "  'Information Retrieval': None,\n",
      "  'Inference, Reasoning': None,\n",
      "  'Information Extraction, Information Retrieval and Document Analysis, Linguistic Theories': None,\n",
      "  'Ethic Concerns:NLP Applications': None,\n",
      "  'Phonology, Word Segmentation, and Parsing': None,\n",
      "  'Semantics': None,\n",
      "  'Social Media and Computational Social Science, Text Mining and NLP Applications': None,\n",
      "  'Semantics: Lexical Semantics': None,\n",
      "  'Linguistic Theories, Cognitive Modeling and Psycholinguistics': None,\n",
      "  'Ethics in NLP': None,\n",
      "  'Vision': None,\n",
      "  'Document Analysis': None,\n",
      "  'Speech and Multimodality': None,\n",
      "  'Syntax: Tagging, Chunking and Parsing': None,\n",
      "  'Semantics: Lexical, Sentence level, Textual Inference and Other areas': None,\n",
      "  'Commonsense Reasoning': None,\n",
      "  'Interpretability and Analysis of Models for NLP': None,\n",
      "  'Natural Language Generation': None,\n",
      "  'Area A (Information Extraction and Question Answering) [LONG]': None,\n",
      "  'Textual Inference and Other Areas of Semantics': None,\n",
      "  'Text Mining and Applications': None,\n",
      "  'Semantic Parsing': None,\n",
      "  'Summarization': None,\n",
      "  'Phonology, Morphology and Word Segmentation': None,\n",
      "  'Question Answering': None,\n",
      "  'Ethics': None,\n",
      "  'Semantics: Sentence-level Semantics, Textual Inference and Other areas': None,\n",
      "  'Interpretability, Interactivity and Analysis of Models for NLP': None,\n",
      "  'Word Semantics': None,\n",
      "  'Machine Translation and Mulitilinguality, Phonology, Morphology and Word Segmentation, Tagging, Chunking, Syntax and Parsing': None,\n",
      "  'Machine Learning for NLP': None,\n",
      "  'Ethic Concerns:Linguistic Theories, Cognitive Modeling and Psycholinguistics': None,\n",
      "  'Ethic Concerns:Multilinguality': None,\n",
      "  'Morphology, Tagging, Parsing': None,\n",
      "  'Vision, Robotics, Multimodal, Grounding and Speech': None,\n",
      "  'Machine Translation': None,\n",
      "  'Multilinguality and Linguistic Diversity': None,\n",
      "  'Language Modeling and Analysis of Language Models': None,\n",
      "  'Theme': None,\n",
      "  'Information Retrieval and Document Analysis': None,\n",
      "  'Cognitive Modeling and Psycholinguistics': None,\n",
      "  'Semantics: Lexical, Sentence level, Document Level, Textual Inference, etc.': None,\n",
      "  'Area H or D': None,\n",
      "  'Area H (Machine Learning) [LONG]': None,\n",
      "  'Information Extraction, Text Mining': None,\n",
      "  'Computational Social Science and Social Media': None,\n",
      "  'Vision, Linguistics, Resource and Evaluation': None,\n",
      "  'Machine Translation and Multilinguality': None,\n",
      "  'Sentiment and Social Media': None,\n",
      "  'Theme: Reality Check': None,\n",
      "  'Resources and Evaluation': None,\n",
      "  'Discourse, Linguistics, Cognitive Modeling': None,\n",
      "  'Multidisciplinary': None,\n",
      "  'Information Retrieval and Document Analysis, Lexical Semantics, Sentence-level Semantics, Machine Learning': None,\n",
      "  'Theme Track': None,\n",
      "  'Linguistics, Psycholinguistics and Cognitive Modeling': None,\n",
      "  'Semantics: Sentence Level': None,\n",
      "  'Discourse and Pragmatics, Linguistic Theories, Textual Inference, Question Answering, Summarization and Generation': None,\n",
      "  'Dialogue and Generation': None,\n",
      "  'Information Extraction': None,\n",
      "  'Argument Mining': None,\n",
      "  'Generation': None,\n",
      "  'Information Extraction, Text Mining and NLP Applications, Social Media and Computational Social Science, Sentiment Analysis and Argument Mining': None,\n",
      "  'Dialog and Interactive Systems, Machine Translation and Multilinuality, Phonology, Morphology, and Word Segmentation, Speech, Vision, Robotics, Multimodal and Grounding, Tagging, Chunking, Syntax and Parsing': None,\n",
      "  'Speech, Vision, Robotics, Multimodal Grounding': None,\n",
      "  'Parsing, Morphology': None,\n",
      "  'Discourse': None,\n",
      "  'Ethics and NLP': None,\n",
      "  'Multilinguality and Morphology': None,\n",
      "  'Neural Machine Translation': None,\n",
      "  'Evaluation': None,\n",
      "  'Semantics: Lexical': None,\n",
      "  'Area B (Text Mining and Information Retrieval) [LONG]': None,\n",
      "  'Applications': None,\n",
      "  'Multilingualism and Cross-Lingual NLP': None,\n",
      "  'Information Extraction and Text Mining': None,\n"
     ]
    }
   ],
   "source": [
    "for track in raw_tracks:\n",
    "    print(f\"  '{track}': None,\")"
   ]
  },
  {
   "cell_type": "code",
   "execution_count": 40,
   "id": "332a80be-b838-40de-8aee-adb2cb0e9200",
   "metadata": {},
   "outputs": [
    {
     "data": {
      "text/html": [
       "<div>\n",
       "<style scoped>\n",
       "    .dataframe tbody tr th:only-of-type {\n",
       "        vertical-align: middle;\n",
       "    }\n",
       "\n",
       "    .dataframe tbody tr th {\n",
       "        vertical-align: top;\n",
       "    }\n",
       "\n",
       "    .dataframe thead th {\n",
       "        text-align: right;\n",
       "    }\n",
       "</style>\n",
       "<table border=\"1\" class=\"dataframe\">\n",
       "  <thead>\n",
       "    <tr style=\"text-align: right;\">\n",
       "      <th></th>\n",
       "      <th>id</th>\n",
       "      <th>title</th>\n",
       "      <th>area</th>\n",
       "      <th>source</th>\n",
       "      <th>year</th>\n",
       "      <th>doi</th>\n",
       "      <th>abstract</th>\n",
       "      <th>semantic_scholar_id</th>\n",
       "    </tr>\n",
       "  </thead>\n",
       "  <tbody>\n",
       "    <tr>\n",
       "      <th>3244</th>\n",
       "      <td>1416</td>\n",
       "      <td>Learning to Adapt to Low-Resource Paraphrase G...</td>\n",
       "      <td>Unsupervised and Weakly-Supervised Methods in NLP</td>\n",
       "      <td>EMNLP</td>\n",
       "      <td>2022</td>\n",
       "      <td>10.18653/v1/2022.emnlp-main.66</td>\n",
       "      <td>Paraphrase generation is a longstanding NLP ta...</td>\n",
       "      <td>20d2d10b0a6fabdfb89735a23c519db5811504bc</td>\n",
       "    </tr>\n",
       "    <tr>\n",
       "      <th>3251</th>\n",
       "      <td>1635</td>\n",
       "      <td>Zero-Shot Text Classification with Self-Training</td>\n",
       "      <td>Unsupervised and Weakly-Supervised Methods in NLP</td>\n",
       "      <td>EMNLP</td>\n",
       "      <td>2022</td>\n",
       "      <td>10.18653/v1/2022.emnlp-main.73</td>\n",
       "      <td>Recent advances in large pretrained language m...</td>\n",
       "      <td>82cf46b592f499a2957a70a53947b2bbd5ca7cce</td>\n",
       "    </tr>\n",
       "    <tr>\n",
       "      <th>3263</th>\n",
       "      <td>1945</td>\n",
       "      <td>Fine-grained Category Discovery under Coarse-g...</td>\n",
       "      <td>Unsupervised and Weakly-Supervised Methods in NLP</td>\n",
       "      <td>EMNLP</td>\n",
       "      <td>2022</td>\n",
       "      <td>10.18653/v1/2022.emnlp-main.85</td>\n",
       "      <td>Novel category discovery aims at adapting mode...</td>\n",
       "      <td>d078a0fb395c4c964123790873c8c748a2a73463</td>\n",
       "    </tr>\n",
       "    <tr>\n",
       "      <th>3283</th>\n",
       "      <td>2490</td>\n",
       "      <td>Learning Instructions with Unlabeled Data for ...</td>\n",
       "      <td>Unsupervised and Weakly-Supervised Methods in NLP</td>\n",
       "      <td>EMNLP</td>\n",
       "      <td>2022</td>\n",
       "      <td>10.18653/v1/2022.emnlp-main.105</td>\n",
       "      <td>Training language models to learn from human i...</td>\n",
       "      <td>82cd40e926300b6b18c34ced2edeb07e84d9d6c7</td>\n",
       "    </tr>\n",
       "    <tr>\n",
       "      <th>3342</th>\n",
       "      <td>4439</td>\n",
       "      <td>Bilingual Lexicon Induction for Low-Resource L...</td>\n",
       "      <td>Unsupervised and Weakly-Supervised Methods in NLP</td>\n",
       "      <td>EMNLP</td>\n",
       "      <td>2022</td>\n",
       "      <td>10.18653/v1/2022.emnlp-main.164</td>\n",
       "      <td>Bilingual lexicons form a critical component o...</td>\n",
       "      <td>0d1bceb56cfb765b46886ee83f1d6a498d6ea61a</td>\n",
       "    </tr>\n",
       "    <tr>\n",
       "      <th>3359</th>\n",
       "      <td>149</td>\n",
       "      <td>Fast-R2D2: A Pretrained Recursive Neural Netwo...</td>\n",
       "      <td>Unsupervised and Weakly-Supervised Methods in NLP</td>\n",
       "      <td>EMNLP</td>\n",
       "      <td>2022</td>\n",
       "      <td>10.18653/v1/2022.emnlp-main.181</td>\n",
       "      <td>Chart-based models have shown great potential ...</td>\n",
       "      <td>dc85180153687539724d20a5927b2fbdf5f8e2a4</td>\n",
       "    </tr>\n",
       "    <tr>\n",
       "      <th>3417</th>\n",
       "      <td>582</td>\n",
       "      <td>Unsupervised Tokenization Learning</td>\n",
       "      <td>Unsupervised and Weakly-Supervised Methods in NLP</td>\n",
       "      <td>EMNLP</td>\n",
       "      <td>2022</td>\n",
       "      <td>10.18653/v1/2022.emnlp-main.239</td>\n",
       "      <td>In the presented study, we discover that the s...</td>\n",
       "      <td>60eae587d084b4bc3bb7ae31d5e84a97e9dff15d</td>\n",
       "    </tr>\n",
       "    <tr>\n",
       "      <th>3491</th>\n",
       "      <td>1066</td>\n",
       "      <td>FastClass: A Time-Efficient Approach to Weakly...</td>\n",
       "      <td>Unsupervised and Weakly-Supervised Methods in NLP</td>\n",
       "      <td>EMNLP</td>\n",
       "      <td>2022</td>\n",
       "      <td>10.18653/v1/2022.emnlp-main.313</td>\n",
       "      <td>Weakly-supervised text classification aims to ...</td>\n",
       "      <td>b7d37760e1d6894bcab1a4b3054df9119fe1d556</td>\n",
       "    </tr>\n",
       "    <tr>\n",
       "      <th>3509</th>\n",
       "      <td>1208</td>\n",
       "      <td>PASTA: Table-Operations Aware Fact Verificatio...</td>\n",
       "      <td>Unsupervised and Weakly-Supervised Methods in NLP</td>\n",
       "      <td>EMNLP</td>\n",
       "      <td>2022</td>\n",
       "      <td>10.18653/v1/2022.emnlp-main.331</td>\n",
       "      <td>Fact verification has attracted a lot of atten...</td>\n",
       "      <td>5fefc28ae503c465b1801da2b457f5a2cb5bd51f</td>\n",
       "    </tr>\n",
       "    <tr>\n",
       "      <th>3544</th>\n",
       "      <td>1449</td>\n",
       "      <td>Rethinking Style Transformer with Energy-based...</td>\n",
       "      <td>Unsupervised and Weakly-Supervised Methods in NLP</td>\n",
       "      <td>EMNLP</td>\n",
       "      <td>2022</td>\n",
       "      <td>10.18653/v1/2022.emnlp-main.366</td>\n",
       "      <td>Style control, content preservation, and fluen...</td>\n",
       "      <td>21afd67b684d15ff56905c03d57497691b56c3ba</td>\n",
       "    </tr>\n",
       "    <tr>\n",
       "      <th>3582</th>\n",
       "      <td>1756</td>\n",
       "      <td>IsoVec: Controlling the Relative Isomorphism o...</td>\n",
       "      <td>Unsupervised and Weakly-Supervised Methods in NLP</td>\n",
       "      <td>EMNLP</td>\n",
       "      <td>2022</td>\n",
       "      <td>10.18653/v1/2022.emnlp-main.404</td>\n",
       "      <td>The ability to extract high-quality translatio...</td>\n",
       "      <td>0d2390cb571477ced2743003c515a47cc9661f57</td>\n",
       "    </tr>\n",
       "    <tr>\n",
       "      <th>3708</th>\n",
       "      <td>2589</td>\n",
       "      <td>Modal-specific Pseudo Query Generation for Vid...</td>\n",
       "      <td>Unsupervised and Weakly-Supervised Methods in NLP</td>\n",
       "      <td>EMNLP</td>\n",
       "      <td>2022</td>\n",
       "      <td>10.18653/v1/2022.emnlp-main.530</td>\n",
       "      <td>Video corpus moment retrieval (VCMR) is the ta...</td>\n",
       "      <td>42d0c43d016b1cc1b8bf0fb01cbad17bdbb16400</td>\n",
       "    </tr>\n",
       "    <tr>\n",
       "      <th>3765</th>\n",
       "      <td>3019</td>\n",
       "      <td>Beyond prompting: Making Pre-trained Language ...</td>\n",
       "      <td>Unsupervised and Weakly-Supervised Methods in NLP</td>\n",
       "      <td>EMNLP</td>\n",
       "      <td>2022</td>\n",
       "      <td>10.18653/v1/2022.emnlp-main.587</td>\n",
       "      <td>Recent work has demonstrated that pre-trained ...</td>\n",
       "      <td>5c7f3e8b4e07e1d1ad9e708b4219b18de5e798e9</td>\n",
       "    </tr>\n",
       "    <tr>\n",
       "      <th>3816</th>\n",
       "      <td>3371</td>\n",
       "      <td>Unsupervised Entity Linking with Guided Summar...</td>\n",
       "      <td>Unsupervised and Weakly-Supervised Methods in NLP</td>\n",
       "      <td>EMNLP</td>\n",
       "      <td>2022</td>\n",
       "      <td>10.18653/v1/2022.emnlp-main.638</td>\n",
       "      <td>Entity linking, the task of linking potentiall...</td>\n",
       "      <td>4412cf194a6c1dab0515011137fbf06632e18d7a</td>\n",
       "    </tr>\n",
       "    <tr>\n",
       "      <th>3930</th>\n",
       "      <td>4357</td>\n",
       "      <td>Do Children Texts Hold The Key To Commonsense ...</td>\n",
       "      <td>Unsupervised and Weakly-Supervised Methods in NLP</td>\n",
       "      <td>EMNLP</td>\n",
       "      <td>2022</td>\n",
       "      <td>10.18653/v1/2022.emnlp-main.752</td>\n",
       "      <td>Compiling comprehensive repositories of common...</td>\n",
       "      <td>eaec704a9a2ebe5b045dc23246640e6561bc276e</td>\n",
       "    </tr>\n",
       "    <tr>\n",
       "      <th>3961</th>\n",
       "      <td>4454</td>\n",
       "      <td>Robustifying Sentiment Classification by Maxim...</td>\n",
       "      <td>Unsupervised and Weakly-Supervised Methods in NLP</td>\n",
       "      <td>EMNLP</td>\n",
       "      <td>2022</td>\n",
       "      <td>10.18653/v1/2022.emnlp-main.783</td>\n",
       "      <td>For text classification tasks, finetuned langu...</td>\n",
       "      <td>b03bc940f673eba0fdc78df053d5fa6c5f5c3a14</td>\n",
       "    </tr>\n",
       "    <tr>\n",
       "      <th>3992</th>\n",
       "      <td>4576</td>\n",
       "      <td>CycleKQR: Unsupervised Bidirectional Keyword-Q...</td>\n",
       "      <td>Unsupervised and Weakly-Supervised Methods in NLP</td>\n",
       "      <td>EMNLP</td>\n",
       "      <td>2022</td>\n",
       "      <td>10.18653/v1/2022.emnlp-main.814</td>\n",
       "      <td>Users expect their queries to be answered by s...</td>\n",
       "      <td>dba68e64c93d71a2c462e8c40a9074fa5dc3f41e</td>\n",
       "    </tr>\n",
       "  </tbody>\n",
       "</table>\n",
       "</div>"
      ],
      "text/plain": [
       "        id                                              title  \\\n",
       "3244  1416  Learning to Adapt to Low-Resource Paraphrase G...   \n",
       "3251  1635   Zero-Shot Text Classification with Self-Training   \n",
       "3263  1945  Fine-grained Category Discovery under Coarse-g...   \n",
       "3283  2490  Learning Instructions with Unlabeled Data for ...   \n",
       "3342  4439  Bilingual Lexicon Induction for Low-Resource L...   \n",
       "3359   149  Fast-R2D2: A Pretrained Recursive Neural Netwo...   \n",
       "3417   582                 Unsupervised Tokenization Learning   \n",
       "3491  1066  FastClass: A Time-Efficient Approach to Weakly...   \n",
       "3509  1208  PASTA: Table-Operations Aware Fact Verificatio...   \n",
       "3544  1449  Rethinking Style Transformer with Energy-based...   \n",
       "3582  1756  IsoVec: Controlling the Relative Isomorphism o...   \n",
       "3708  2589  Modal-specific Pseudo Query Generation for Vid...   \n",
       "3765  3019  Beyond prompting: Making Pre-trained Language ...   \n",
       "3816  3371  Unsupervised Entity Linking with Guided Summar...   \n",
       "3930  4357  Do Children Texts Hold The Key To Commonsense ...   \n",
       "3961  4454  Robustifying Sentiment Classification by Maxim...   \n",
       "3992  4576  CycleKQR: Unsupervised Bidirectional Keyword-Q...   \n",
       "\n",
       "                                                   area source  year  \\\n",
       "3244  Unsupervised and Weakly-Supervised Methods in NLP  EMNLP  2022   \n",
       "3251  Unsupervised and Weakly-Supervised Methods in NLP  EMNLP  2022   \n",
       "3263  Unsupervised and Weakly-Supervised Methods in NLP  EMNLP  2022   \n",
       "3283  Unsupervised and Weakly-Supervised Methods in NLP  EMNLP  2022   \n",
       "3342  Unsupervised and Weakly-Supervised Methods in NLP  EMNLP  2022   \n",
       "3359  Unsupervised and Weakly-Supervised Methods in NLP  EMNLP  2022   \n",
       "3417  Unsupervised and Weakly-Supervised Methods in NLP  EMNLP  2022   \n",
       "3491  Unsupervised and Weakly-Supervised Methods in NLP  EMNLP  2022   \n",
       "3509  Unsupervised and Weakly-Supervised Methods in NLP  EMNLP  2022   \n",
       "3544  Unsupervised and Weakly-Supervised Methods in NLP  EMNLP  2022   \n",
       "3582  Unsupervised and Weakly-Supervised Methods in NLP  EMNLP  2022   \n",
       "3708  Unsupervised and Weakly-Supervised Methods in NLP  EMNLP  2022   \n",
       "3765  Unsupervised and Weakly-Supervised Methods in NLP  EMNLP  2022   \n",
       "3816  Unsupervised and Weakly-Supervised Methods in NLP  EMNLP  2022   \n",
       "3930  Unsupervised and Weakly-Supervised Methods in NLP  EMNLP  2022   \n",
       "3961  Unsupervised and Weakly-Supervised Methods in NLP  EMNLP  2022   \n",
       "3992  Unsupervised and Weakly-Supervised Methods in NLP  EMNLP  2022   \n",
       "\n",
       "                                  doi  \\\n",
       "3244   10.18653/v1/2022.emnlp-main.66   \n",
       "3251   10.18653/v1/2022.emnlp-main.73   \n",
       "3263   10.18653/v1/2022.emnlp-main.85   \n",
       "3283  10.18653/v1/2022.emnlp-main.105   \n",
       "3342  10.18653/v1/2022.emnlp-main.164   \n",
       "3359  10.18653/v1/2022.emnlp-main.181   \n",
       "3417  10.18653/v1/2022.emnlp-main.239   \n",
       "3491  10.18653/v1/2022.emnlp-main.313   \n",
       "3509  10.18653/v1/2022.emnlp-main.331   \n",
       "3544  10.18653/v1/2022.emnlp-main.366   \n",
       "3582  10.18653/v1/2022.emnlp-main.404   \n",
       "3708  10.18653/v1/2022.emnlp-main.530   \n",
       "3765  10.18653/v1/2022.emnlp-main.587   \n",
       "3816  10.18653/v1/2022.emnlp-main.638   \n",
       "3930  10.18653/v1/2022.emnlp-main.752   \n",
       "3961  10.18653/v1/2022.emnlp-main.783   \n",
       "3992  10.18653/v1/2022.emnlp-main.814   \n",
       "\n",
       "                                               abstract  \\\n",
       "3244  Paraphrase generation is a longstanding NLP ta...   \n",
       "3251  Recent advances in large pretrained language m...   \n",
       "3263  Novel category discovery aims at adapting mode...   \n",
       "3283  Training language models to learn from human i...   \n",
       "3342  Bilingual lexicons form a critical component o...   \n",
       "3359  Chart-based models have shown great potential ...   \n",
       "3417  In the presented study, we discover that the s...   \n",
       "3491  Weakly-supervised text classification aims to ...   \n",
       "3509  Fact verification has attracted a lot of atten...   \n",
       "3544  Style control, content preservation, and fluen...   \n",
       "3582  The ability to extract high-quality translatio...   \n",
       "3708  Video corpus moment retrieval (VCMR) is the ta...   \n",
       "3765  Recent work has demonstrated that pre-trained ...   \n",
       "3816  Entity linking, the task of linking potentiall...   \n",
       "3930  Compiling comprehensive repositories of common...   \n",
       "3961  For text classification tasks, finetuned langu...   \n",
       "3992  Users expect their queries to be answered by s...   \n",
       "\n",
       "                           semantic_scholar_id  \n",
       "3244  20d2d10b0a6fabdfb89735a23c519db5811504bc  \n",
       "3251  82cf46b592f499a2957a70a53947b2bbd5ca7cce  \n",
       "3263  d078a0fb395c4c964123790873c8c748a2a73463  \n",
       "3283  82cd40e926300b6b18c34ced2edeb07e84d9d6c7  \n",
       "3342  0d1bceb56cfb765b46886ee83f1d6a498d6ea61a  \n",
       "3359  dc85180153687539724d20a5927b2fbdf5f8e2a4  \n",
       "3417  60eae587d084b4bc3bb7ae31d5e84a97e9dff15d  \n",
       "3491  b7d37760e1d6894bcab1a4b3054df9119fe1d556  \n",
       "3509  5fefc28ae503c465b1801da2b457f5a2cb5bd51f  \n",
       "3544  21afd67b684d15ff56905c03d57497691b56c3ba  \n",
       "3582  0d2390cb571477ced2743003c515a47cc9661f57  \n",
       "3708  42d0c43d016b1cc1b8bf0fb01cbad17bdbb16400  \n",
       "3765  5c7f3e8b4e07e1d1ad9e708b4219b18de5e798e9  \n",
       "3816  4412cf194a6c1dab0515011137fbf06632e18d7a  \n",
       "3930  eaec704a9a2ebe5b045dc23246640e6561bc276e  \n",
       "3961  b03bc940f673eba0fdc78df053d5fa6c5f5c3a14  \n",
       "3992  dba68e64c93d71a2c462e8c40a9074fa5dc3f41e  "
      ]
     },
     "execution_count": 40,
     "metadata": {},
     "output_type": "execute_result"
    }
   ],
   "source": [
    "df[df['area'] == 'Unsupervised and Weakly-Supervised Methods in NLP']\n"
   ]
  },
  {
   "cell_type": "code",
   "execution_count": 41,
   "id": "1537a665-a41a-4202-ae9f-ebcfd0e254e3",
   "metadata": {},
   "outputs": [],
   "source": [
    "mapping = {\n",
    "  'Cognitive Modeling and Psycholinguistics': 'Linguistic Theories and Psycholinguistics',\n",
    "  'Commonsense Reasoning': 'Commonsense Reasoning',\n",
    "  'Computational Social Science and Cultural Analytics': 'Social Science',\n",
    "  'Computational Social Science and Social Media': 'Social Science',\n",
    "  'Dialog and Interactive Systems': 'Dialogue',\n",
    "  'Dialogue and Interactive Systems': 'Dialogue',\n",
    "  'Discourse and Pragmatics': 'Discourse and Pragmatics',\n",
    "  'Discourse and Pragmatics & Ethics in NLP': 'Discourse and Pragmatics',\n",
    "  'Efficient Methods for NLP': 'Efficient Methods',\n",
    "  'Ethic Concerns:Dialogue and Interactive Systems': 'Ethics',\n",
    "  'Ethic Concerns:Ethics': 'Ethics',\n",
    "  'Ethic Concerns:Linguistic Theories, Cognitive Modeling and Psycholinguistics': 'Ethics',\n",
    "  'Ethic Concerns:Multilinguality': 'Ethics',\n",
    "  'Ethic Concerns:NLP Applications': 'Ethics',\n",
    "  'Ethic Concerns:Resources and Evaluation': 'Ethics',\n",
    "  'Ethic Concerns:Sentiment Analysis, Stylistic Analysis, and Argument Mining': 'Ethics',\n",
    "  'Ethic Concerns:Speech, Vision, Robotics, Multimodal Grounding': 'Ethics',\n",
    "  'Ethic Concerns:Unsupervised and Weakly-Supervised Methods in NLP': 'Ethics',\n",
    "  'Ethics': 'Ethics',\n",
    "  'Ethics and NLP': 'Ethics',\n",
    "  'Ethics in NLP': 'Ethics',\n",
    "  'Generation': 'Generation',\n",
    "  'Human-Centered NLP': 'Human-Centered NLP',\n",
    "  'Industry': 'Industry',\n",
    "  'Information Extraction': 'Information Extraction/Retrieval',\n",
    "  'Information Retrieval and Text Mining': 'Information Extraction/Retrieval',\n",
    "  'Interpretability and Analysis of Models for NLP': 'Interpretability and Analysis',\n",
    "  'Interpretability, Interactivity and Analysis of Models for NLP': 'Interpretability and Analysis',\n",
    "  'Interpretability, Interactivity, and Analysis of Models for NLP': 'Interpretability and Analysis',\n",
    "  'Language Generation': 'Generation',\n",
    "  'Language Grounding to Vision, Robotics and Beyond': 'Multimodality, Speech and Grounding',\n",
    "  'Language Grounding to Vision, Robotics, and Beyond': 'Multimodality, Speech and Grounding',\n",
    "  'Language Groundings, Speech and Multimodality': 'Multimodality, Speech and Grounding',\n",
    "  'Language Modeling and Analysis of Language Models': 'Interpretability and Analysis',\n",
    "  'Large Language Models': 'Large Language Models',\n",
    "  'Linguistic Diversity': 'Machine Translation and Multilinguality',\n",
    "  'Linguistic Theories, Cognitive Modeling and Psycholinguistics': 'Linguistic Theories and Psycholinguistics',\n",
    "  'Linguistic Theories, Cognitive Modeling, and Psycholinguistics': 'Linguistic Theories and Psycholinguistics',\n",
    "  'Machine Learning for NLP': 'Machine Learning',\n",
    "  'Machine Translation': 'Machine Translation and Multilinguality',\n",
    "  'Machine Translation and Multilinguality': 'Machine Translation and Multilinguality',\n",
    "  'Multidisciplinary and Area Chair COI': 'Theme',\n",
    "  'Multilingualism and Cross-Lingual NLP': 'Machine Translation and Multilinguality',\n",
    "  'Multilinguality': 'Machine Translation and Multilinguality',\n",
    "  'Multilinguality and Linguistic Diversity': 'Machine Translation and Multilinguality',\n",
    "  'NLP Applications': 'Applications',\n",
    "  'Natural Language Generation': 'Generation',\n",
    "  'Phonology, Morphology and Word Segmentation': 'Phonology, Morphology and Word Segmentation',\n",
    "  'Phonology, Morphology, and Word Segmentation': 'Phonology, Morphology and Word Segmentation',\n",
    "  'Question Answering': 'Question Answering',\n",
    "  'Resources and Evaluation': 'Resources and Evaluation',\n",
    "  'Semantics': 'Semantics',\n",
    "  'Semantics: Lexical': 'Semantics',\n",
    "  'Semantics: Lexical Semantics': 'Semantics',\n",
    "  'Semantics: Lexical, Sentence level, Document Level, Textual Inference, etc.': 'Semantics',\n",
    "  'Semantics: Lexical, Sentence level, Textual Inference and Other areas': 'Semantics',\n",
    "  'Semantics: Sentence Level': 'Semantics',\n",
    "  'Semantics: Sentence-level Semantics, Textual Inference and Other areas': 'Semantics',\n",
    "  'Semantics: Sentence-level Semantics, Textual Inference, and Other Areas': 'Semantics',\n",
    "  'Semantics: Textual Inference and Other Areas of Semantics': 'Semantics',\n",
    "  'Sentiment Analysis, Stylistic Analysis, and Argument Mining': 'Sentiment Analysis',\n",
    "  'Special Theme on Language Diversity: From Low Resource to Endangered': 'Theme',\n",
    "  'Speech and Multimodality': 'Multimodality, Speech and Grounding',\n",
    "  'Speech, Vision, Robotics, Multimodal Grounding': 'Multimodality, Speech and Grounding',\n",
    "  'Summarization': 'Summarization',\n",
    "  'Syntax, Parsing and their Applications': 'Syntax',\n",
    "  'Syntax: Tagging, Chunking and Parsing': 'Syntax',\n",
    "  'Syntax: Tagging, Chunking, and Parsing': 'Syntax',\n",
    "  'Theme': 'Theme',\n",
    "  'Theme Track': 'Theme',\n",
    "  'Theme Track: Large Language Models and the Future of NLP': 'Theme',\n",
    "  'Theme: Reality Check': 'Theme',\n",
    "  'Theory and Formalism in NLP (Linguistic and Mathematical)': 'Theory and Formalism in NLP',\n",
    "  'Unsupervised and Weakly-Supervised Methods in NLP': 'Unsupervised and Weakly-Supervised Methods in NLP',\n",
    "}"
   ]
  },
  {
   "cell_type": "code",
   "execution_count": 42,
   "id": "4110c78e-9898-4254-bae4-17131d916ed2",
   "metadata": {},
   "outputs": [
    {
     "data": {
      "text/html": [
       "<div>\n",
       "<style scoped>\n",
       "    .dataframe tbody tr th:only-of-type {\n",
       "        vertical-align: middle;\n",
       "    }\n",
       "\n",
       "    .dataframe tbody tr th {\n",
       "        vertical-align: top;\n",
       "    }\n",
       "\n",
       "    .dataframe thead th {\n",
       "        text-align: right;\n",
       "    }\n",
       "</style>\n",
       "<table border=\"1\" class=\"dataframe\">\n",
       "  <thead>\n",
       "    <tr style=\"text-align: right;\">\n",
       "      <th></th>\n",
       "      <th>id</th>\n",
       "      <th>title</th>\n",
       "      <th>area</th>\n",
       "      <th>source</th>\n",
       "      <th>year</th>\n",
       "      <th>doi</th>\n",
       "      <th>abstract</th>\n",
       "      <th>semantic_scholar_id</th>\n",
       "      <th>track</th>\n",
       "    </tr>\n",
       "  </thead>\n",
       "  <tbody>\n",
       "    <tr>\n",
       "      <th>0</th>\n",
       "      <td>main.1004</td>\n",
       "      <td>AnswerFact: Fact Checking in Product Question ...</td>\n",
       "      <td>Question Answering</td>\n",
       "      <td>EMNLP</td>\n",
       "      <td>2020</td>\n",
       "      <td>10.18653/v1/2020.emnlp-main.188</td>\n",
       "      <td>Product-related question answering platforms n...</td>\n",
       "      <td>4c61df1b4b9a164fec1a34587b4fffae029cd18c</td>\n",
       "      <td>Question Answering</td>\n",
       "    </tr>\n",
       "    <tr>\n",
       "      <th>1</th>\n",
       "      <td>main.1006</td>\n",
       "      <td>Knowledge-Grounded Dialogue Generation with Pr...</td>\n",
       "      <td>Dialog and Interactive Systems</td>\n",
       "      <td>EMNLP</td>\n",
       "      <td>2020</td>\n",
       "      <td>10.18653/v1/2020.emnlp-main.272</td>\n",
       "      <td>We study knowledge-grounded dialogue generatio...</td>\n",
       "      <td>3447a432f724aa36595643446acda5b78943db19</td>\n",
       "      <td>Dialogue</td>\n",
       "    </tr>\n",
       "    <tr>\n",
       "      <th>2</th>\n",
       "      <td>main.1009</td>\n",
       "      <td>BiST: Bi-directional Spatio-Temporal Reasoning...</td>\n",
       "      <td>Dialog and Interactive Systems</td>\n",
       "      <td>EMNLP</td>\n",
       "      <td>2020</td>\n",
       "      <td>10.18653/v1/2020.emnlp-main.145</td>\n",
       "      <td>Video-grounded dialogues are very challenging ...</td>\n",
       "      <td>f4a2acfeb1705df3f430cc53ace26e1dbbbcbd16</td>\n",
       "      <td>Dialogue</td>\n",
       "    </tr>\n",
       "    <tr>\n",
       "      <th>3</th>\n",
       "      <td>main.1010</td>\n",
       "      <td>A Knowledge-Aware Sequence-to-Tree Network for...</td>\n",
       "      <td>NLP Applications</td>\n",
       "      <td>EMNLP</td>\n",
       "      <td>2020</td>\n",
       "      <td>10.18653/v1/2020.emnlp-main.579</td>\n",
       "      <td>With the advancements in natural language proc...</td>\n",
       "      <td>24ed85ad966823868c1694a19385d01c6ad71008</td>\n",
       "      <td>Applications</td>\n",
       "    </tr>\n",
       "    <tr>\n",
       "      <th>4</th>\n",
       "      <td>main.1011</td>\n",
       "      <td>Knowledge Association with Hyperbolic Knowledg...</td>\n",
       "      <td>Information Extraction</td>\n",
       "      <td>EMNLP</td>\n",
       "      <td>2020</td>\n",
       "      <td>10.18653/v1/2020.emnlp-main.460</td>\n",
       "      <td>Capturing associations for knowledge graphs (K...</td>\n",
       "      <td>3d61a28b9429fc8f7047fc379a0134a3765edbcb</td>\n",
       "      <td>Information Extraction/Retrieval</td>\n",
       "    </tr>\n",
       "    <tr>\n",
       "      <th>...</th>\n",
       "      <td>...</td>\n",
       "      <td>...</td>\n",
       "      <td>...</td>\n",
       "      <td>...</td>\n",
       "      <td>...</td>\n",
       "      <td>...</td>\n",
       "      <td>...</td>\n",
       "      <td>...</td>\n",
       "      <td>...</td>\n",
       "    </tr>\n",
       "    <tr>\n",
       "      <th>9250</th>\n",
       "      <td>T4773</td>\n",
       "      <td>Rank-Aware Negative Training for Semi-Supervis...</td>\n",
       "      <td>Machine Learning for NLP</td>\n",
       "      <td>ACL</td>\n",
       "      <td>2023</td>\n",
       "      <td>10.1162/tacl_a_00574</td>\n",
       "      <td>Abstract Semi-supervised text classification-b...</td>\n",
       "      <td>79a502caa0b12573f56a7e8948459722aa891479</td>\n",
       "      <td>Machine Learning</td>\n",
       "    </tr>\n",
       "    <tr>\n",
       "      <th>9251</th>\n",
       "      <td>T4777</td>\n",
       "      <td>Transparency Helps Reveal When Language Models...</td>\n",
       "      <td>Linguistic Theories, Cognitive Modeling, and P...</td>\n",
       "      <td>ACL</td>\n",
       "      <td>2023</td>\n",
       "      <td>10.1162/tacl_a_00565</td>\n",
       "      <td>Many current NLP systems are built from langua...</td>\n",
       "      <td>eee70790ced38b0fcf50351dbb3dcbdb582467e8</td>\n",
       "      <td>Linguistic Theories and Psycholinguistics</td>\n",
       "    </tr>\n",
       "    <tr>\n",
       "      <th>9252</th>\n",
       "      <td>T4803</td>\n",
       "      <td>Design Choices for Crowdsourcing Implicit Disc...</td>\n",
       "      <td>Discourse and Pragmatics</td>\n",
       "      <td>ACL</td>\n",
       "      <td>2023</td>\n",
       "      <td>10.1162/tacl_a_00586</td>\n",
       "      <td>Abstract Disagreement in natural language anno...</td>\n",
       "      <td>bf65a1b637e0f253abb8402fc9d0ab80db79aa92</td>\n",
       "      <td>Discourse and Pragmatics</td>\n",
       "    </tr>\n",
       "    <tr>\n",
       "      <th>9253</th>\n",
       "      <td>T4929</td>\n",
       "      <td>Time-and-Space-Efficient Weighted Deduction</td>\n",
       "      <td>Semantics: Sentence-level Semantics, Textual I...</td>\n",
       "      <td>ACL</td>\n",
       "      <td>2023</td>\n",
       "      <td>10.1162/tacl_a_00588</td>\n",
       "      <td>Abstract Many NLP algorithms have been describ...</td>\n",
       "      <td>f1803d124e5af7263ce656f7ccf3219eacc62b1c</td>\n",
       "      <td>Semantics</td>\n",
       "    </tr>\n",
       "    <tr>\n",
       "      <th>9254</th>\n",
       "      <td>T5043</td>\n",
       "      <td>Collective Human Opinions in Semantic Textual ...</td>\n",
       "      <td>Semantics: Sentence-level Semantics, Textual I...</td>\n",
       "      <td>ACL</td>\n",
       "      <td>2023</td>\n",
       "      <td>10.1162/tacl_a_00584</td>\n",
       "      <td>Abstract Despite the subjective nature of sema...</td>\n",
       "      <td>1fc4e904ed92da4b9af30e2eb5224ebe29e470b3</td>\n",
       "      <td>Semantics</td>\n",
       "    </tr>\n",
       "  </tbody>\n",
       "</table>\n",
       "<p>6994 rows × 9 columns</p>\n",
       "</div>"
      ],
      "text/plain": [
       "             id                                              title  \\\n",
       "0     main.1004  AnswerFact: Fact Checking in Product Question ...   \n",
       "1     main.1006  Knowledge-Grounded Dialogue Generation with Pr...   \n",
       "2     main.1009  BiST: Bi-directional Spatio-Temporal Reasoning...   \n",
       "3     main.1010  A Knowledge-Aware Sequence-to-Tree Network for...   \n",
       "4     main.1011  Knowledge Association with Hyperbolic Knowledg...   \n",
       "...         ...                                                ...   \n",
       "9250      T4773  Rank-Aware Negative Training for Semi-Supervis...   \n",
       "9251      T4777  Transparency Helps Reveal When Language Models...   \n",
       "9252      T4803  Design Choices for Crowdsourcing Implicit Disc...   \n",
       "9253      T4929        Time-and-Space-Efficient Weighted Deduction   \n",
       "9254      T5043  Collective Human Opinions in Semantic Textual ...   \n",
       "\n",
       "                                                   area source  year  \\\n",
       "0                                    Question Answering  EMNLP  2020   \n",
       "1                        Dialog and Interactive Systems  EMNLP  2020   \n",
       "2                        Dialog and Interactive Systems  EMNLP  2020   \n",
       "3                                      NLP Applications  EMNLP  2020   \n",
       "4                                Information Extraction  EMNLP  2020   \n",
       "...                                                 ...    ...   ...   \n",
       "9250                           Machine Learning for NLP    ACL  2023   \n",
       "9251  Linguistic Theories, Cognitive Modeling, and P...    ACL  2023   \n",
       "9252                           Discourse and Pragmatics    ACL  2023   \n",
       "9253  Semantics: Sentence-level Semantics, Textual I...    ACL  2023   \n",
       "9254  Semantics: Sentence-level Semantics, Textual I...    ACL  2023   \n",
       "\n",
       "                                  doi  \\\n",
       "0     10.18653/v1/2020.emnlp-main.188   \n",
       "1     10.18653/v1/2020.emnlp-main.272   \n",
       "2     10.18653/v1/2020.emnlp-main.145   \n",
       "3     10.18653/v1/2020.emnlp-main.579   \n",
       "4     10.18653/v1/2020.emnlp-main.460   \n",
       "...                               ...   \n",
       "9250             10.1162/tacl_a_00574   \n",
       "9251             10.1162/tacl_a_00565   \n",
       "9252             10.1162/tacl_a_00586   \n",
       "9253             10.1162/tacl_a_00588   \n",
       "9254             10.1162/tacl_a_00584   \n",
       "\n",
       "                                               abstract  \\\n",
       "0     Product-related question answering platforms n...   \n",
       "1     We study knowledge-grounded dialogue generatio...   \n",
       "2     Video-grounded dialogues are very challenging ...   \n",
       "3     With the advancements in natural language proc...   \n",
       "4     Capturing associations for knowledge graphs (K...   \n",
       "...                                                 ...   \n",
       "9250  Abstract Semi-supervised text classification-b...   \n",
       "9251  Many current NLP systems are built from langua...   \n",
       "9252  Abstract Disagreement in natural language anno...   \n",
       "9253  Abstract Many NLP algorithms have been describ...   \n",
       "9254  Abstract Despite the subjective nature of sema...   \n",
       "\n",
       "                           semantic_scholar_id  \\\n",
       "0     4c61df1b4b9a164fec1a34587b4fffae029cd18c   \n",
       "1     3447a432f724aa36595643446acda5b78943db19   \n",
       "2     f4a2acfeb1705df3f430cc53ace26e1dbbbcbd16   \n",
       "3     24ed85ad966823868c1694a19385d01c6ad71008   \n",
       "4     3d61a28b9429fc8f7047fc379a0134a3765edbcb   \n",
       "...                                        ...   \n",
       "9250  79a502caa0b12573f56a7e8948459722aa891479   \n",
       "9251  eee70790ced38b0fcf50351dbb3dcbdb582467e8   \n",
       "9252  bf65a1b637e0f253abb8402fc9d0ab80db79aa92   \n",
       "9253  f1803d124e5af7263ce656f7ccf3219eacc62b1c   \n",
       "9254  1fc4e904ed92da4b9af30e2eb5224ebe29e470b3   \n",
       "\n",
       "                                          track  \n",
       "0                            Question Answering  \n",
       "1                                      Dialogue  \n",
       "2                                      Dialogue  \n",
       "3                                  Applications  \n",
       "4              Information Extraction/Retrieval  \n",
       "...                                         ...  \n",
       "9250                           Machine Learning  \n",
       "9251  Linguistic Theories and Psycholinguistics  \n",
       "9252                   Discourse and Pragmatics  \n",
       "9253                                  Semantics  \n",
       "9254                                  Semantics  \n",
       "\n",
       "[6994 rows x 9 columns]"
      ]
     },
     "execution_count": 42,
     "metadata": {},
     "output_type": "execute_result"
    }
   ],
   "source": [
    "df_2020 = df[df['year'] >= 2020].copy()\n",
    "df_2020['track'] = df_2020['area'].map(mapping)\n",
    "df_2020"
   ]
  },
  {
   "cell_type": "code",
   "execution_count": 49,
   "id": "697886e2-a2f1-489d-bbb2-250e9f296bf6",
   "metadata": {},
   "outputs": [
    {
     "data": {
      "text/plain": [
       "track\n",
       "Information Extraction/Retrieval                     674\n",
       "Machine Translation and Multilinguality              594\n",
       "Machine Learning                                     557\n",
       "Applications                                         516\n",
       "Dialogue                                             487\n",
       "Interpretability and Analysis                        477\n",
       "Semantics                                            456\n",
       "Resources and Evaluation                             423\n",
       "Multimodality, Speech and Grounding                  389\n",
       "Generation                                           361\n",
       "Question Answering                                   334\n",
       "Sentiment Analysis                                   258\n",
       "Summarization                                        244\n",
       "Theme                                                188\n",
       "Social Science                                       178\n",
       "Ethics                                               130\n",
       "Syntax                                               121\n",
       "Efficient Methods                                    113\n",
       "Linguistic Theories and Psycholinguistics            106\n",
       "Discourse and Pragmatics                              84\n",
       "Large Language Models                                 83\n",
       "Industry                                              76\n",
       "Phonology, Morphology and Word Segmentation           72\n",
       "Commonsense Reasoning                                 32\n",
       "Human-Centered NLP                                    18\n",
       "Unsupervised and Weakly-Supervised Methods in NLP     17\n",
       "Theory and Formalism in NLP                            6\n",
       "Name: count, dtype: int64"
      ]
     },
     "execution_count": 49,
     "metadata": {},
     "output_type": "execute_result"
    }
   ],
   "source": [
    "df_2020['track'].value_counts(dropna=False)"
   ]
  },
  {
   "cell_type": "code",
   "execution_count": 54,
   "id": "8cc63594-95ec-40f3-97b3-bcc7d5bd10d8",
   "metadata": {},
   "outputs": [],
   "source": [
    "dropped_tracks = [\n",
    "    'Theme',\n",
    "    'Discourse and Pragmatics',\n",
    "    'Large Language Models',\n",
    "    'Industry',\n",
    "    'Phonology, Morphology and Word Segmentation',\n",
    "    'Commonsense Reasoning',\n",
    "    'Human-Centered NLP',\n",
    "    'Unsupervised and Weakly-Supervised Methods in NLP',\n",
    "    'Theory and Formalism in NLP',\n",
    "    'Efficient Methods',\n",
    "    'Linguistic Theories and Psycholinguistics'\n",
    "]"
   ]
  },
  {
   "cell_type": "code",
   "execution_count": 55,
   "id": "f86138ab-f425-492d-b646-e2c81521c2c9",
   "metadata": {},
   "outputs": [
    {
     "data": {
      "application/vnd.plotly.v1+json": {
       "config": {
        "plotlyServerURL": "https://plot.ly"
       },
       "data": [
        {
         "marker": {
          "size": 10
         },
         "mode": "lines+markers",
         "name": "Applications",
         "type": "scatter",
         "x": [
          2020,
          2021,
          2022,
          2023
         ],
         "y": [
          115,
          111,
          112,
          178
         ]
        },
        {
         "marker": {
          "size": 10
         },
         "mode": "lines+markers",
         "name": "Dialogue",
         "type": "scatter",
         "x": [
          2020,
          2021,
          2022,
          2023
         ],
         "y": [
          125,
          126,
          94,
          142
         ]
        },
        {
         "marker": {
          "size": 10
         },
         "mode": "lines+markers",
         "name": "Ethics",
         "type": "scatter",
         "x": [
          2020,
          2021,
          2022,
          2023
         ],
         "y": [
          14,
          23,
          42,
          51
         ]
        },
        {
         "marker": {
          "size": 10
         },
         "mode": "lines+markers",
         "name": "Generation",
         "type": "scatter",
         "x": [
          2020,
          2021,
          2022,
          2023
         ],
         "y": [
          103,
          74,
          76,
          108
         ]
        },
        {
         "marker": {
          "size": 10
         },
         "mode": "lines+markers",
         "name": "Information Extraction/Retrieval",
         "type": "scatter",
         "x": [
          2020,
          2021,
          2022,
          2023
         ],
         "y": [
          159,
          184,
          135,
          196
         ]
        },
        {
         "marker": {
          "size": 10
         },
         "mode": "lines+markers",
         "name": "Interpretability and Analysis",
         "type": "scatter",
         "visible": true,
         "x": [
          2020,
          2021,
          2022,
          2023
         ],
         "y": [
          90,
          85,
          142,
          160
         ]
        },
        {
         "marker": {
          "size": 10
         },
         "mode": "lines+markers",
         "name": "Machine Learning",
         "type": "scatter",
         "x": [
          2020,
          2021,
          2022,
          2023
         ],
         "y": [
          147,
          146,
          131,
          133
         ]
        },
        {
         "marker": {
          "size": 10
         },
         "mode": "lines+markers",
         "name": "Machine Translation and Multilinguality",
         "type": "scatter",
         "x": [
          2020,
          2021,
          2022,
          2023
         ],
         "y": [
          148,
          148,
          141,
          157
         ]
        },
        {
         "marker": {
          "size": 10
         },
         "mode": "lines+markers",
         "name": "Multimodality, Speech and Grounding",
         "type": "scatter",
         "x": [
          2020,
          2021,
          2022,
          2023
         ],
         "y": [
          83,
          74,
          86,
          146
         ]
        },
        {
         "marker": {
          "size": 10
         },
         "mode": "lines+markers",
         "name": "Question Answering",
         "type": "scatter",
         "x": [
          2020,
          2021,
          2022,
          2023
         ],
         "y": [
          80,
          82,
          80,
          92
         ]
        },
        {
         "marker": {
          "size": 10
         },
         "mode": "lines+markers",
         "name": "Resources and Evaluation",
         "type": "scatter",
         "x": [
          2020,
          2021,
          2022,
          2023
         ],
         "y": [
          44,
          95,
          120,
          164
         ]
        },
        {
         "marker": {
          "size": 10
         },
         "mode": "lines+markers",
         "name": "Semantics",
         "type": "scatter",
         "x": [
          2020,
          2021,
          2022,
          2023
         ],
         "y": [
          155,
          129,
          82,
          90
         ]
        },
        {
         "marker": {
          "size": 10
         },
         "mode": "lines+markers",
         "name": "Sentiment Analysis",
         "type": "scatter",
         "x": [
          2020,
          2021,
          2022,
          2023
         ],
         "y": [
          64,
          73,
          48,
          73
         ]
        },
        {
         "marker": {
          "size": 10
         },
         "mode": "lines+markers",
         "name": "Social Science",
         "type": "scatter",
         "x": [
          2020,
          2021,
          2022,
          2023
         ],
         "y": [
          54,
          41,
          24,
          59
         ]
        },
        {
         "marker": {
          "size": 10
         },
         "mode": "lines+markers",
         "name": "Summarization",
         "type": "scatter",
         "x": [
          2020,
          2021,
          2022,
          2023
         ],
         "y": [
          61,
          50,
          67,
          66
         ]
        },
        {
         "marker": {
          "size": 10
         },
         "mode": "lines+markers",
         "name": "Syntax",
         "type": "scatter",
         "x": [
          2020,
          2021,
          2022,
          2023
         ],
         "y": [
          43,
          27,
          24,
          27
         ]
        }
       ],
       "layout": {
        "font": {
         "size": 15
        },
        "height": 465,
        "legend": {
         "bgcolor": "rgba(255, 255, 255, 0.5)",
         "bordercolor": "rgba(0, 0, 0, 0.1)",
         "title": {
          "text": "Track"
         },
         "x": 1,
         "y": 1
        },
        "margin": {
         "l": 20,
         "t": 20
        },
        "template": {
         "data": {
          "bar": [
           {
            "error_x": {
             "color": "#2a3f5f"
            },
            "error_y": {
             "color": "#2a3f5f"
            },
            "marker": {
             "line": {
              "color": "white",
              "width": 0.5
             },
             "pattern": {
              "fillmode": "overlay",
              "size": 10,
              "solidity": 0.2
             }
            },
            "type": "bar"
           }
          ],
          "barpolar": [
           {
            "marker": {
             "line": {
              "color": "white",
              "width": 0.5
             },
             "pattern": {
              "fillmode": "overlay",
              "size": 10,
              "solidity": 0.2
             }
            },
            "type": "barpolar"
           }
          ],
          "carpet": [
           {
            "aaxis": {
             "endlinecolor": "#2a3f5f",
             "gridcolor": "#C8D4E3",
             "linecolor": "#C8D4E3",
             "minorgridcolor": "#C8D4E3",
             "startlinecolor": "#2a3f5f"
            },
            "baxis": {
             "endlinecolor": "#2a3f5f",
             "gridcolor": "#C8D4E3",
             "linecolor": "#C8D4E3",
             "minorgridcolor": "#C8D4E3",
             "startlinecolor": "#2a3f5f"
            },
            "type": "carpet"
           }
          ],
          "choropleth": [
           {
            "colorbar": {
             "outlinewidth": 0,
             "ticks": ""
            },
            "type": "choropleth"
           }
          ],
          "contour": [
           {
            "colorbar": {
             "outlinewidth": 0,
             "ticks": ""
            },
            "colorscale": [
             [
              0,
              "#0d0887"
             ],
             [
              0.1111111111111111,
              "#46039f"
             ],
             [
              0.2222222222222222,
              "#7201a8"
             ],
             [
              0.3333333333333333,
              "#9c179e"
             ],
             [
              0.4444444444444444,
              "#bd3786"
             ],
             [
              0.5555555555555556,
              "#d8576b"
             ],
             [
              0.6666666666666666,
              "#ed7953"
             ],
             [
              0.7777777777777778,
              "#fb9f3a"
             ],
             [
              0.8888888888888888,
              "#fdca26"
             ],
             [
              1,
              "#f0f921"
             ]
            ],
            "type": "contour"
           }
          ],
          "contourcarpet": [
           {
            "colorbar": {
             "outlinewidth": 0,
             "ticks": ""
            },
            "type": "contourcarpet"
           }
          ],
          "heatmap": [
           {
            "colorbar": {
             "outlinewidth": 0,
             "ticks": ""
            },
            "colorscale": [
             [
              0,
              "#0d0887"
             ],
             [
              0.1111111111111111,
              "#46039f"
             ],
             [
              0.2222222222222222,
              "#7201a8"
             ],
             [
              0.3333333333333333,
              "#9c179e"
             ],
             [
              0.4444444444444444,
              "#bd3786"
             ],
             [
              0.5555555555555556,
              "#d8576b"
             ],
             [
              0.6666666666666666,
              "#ed7953"
             ],
             [
              0.7777777777777778,
              "#fb9f3a"
             ],
             [
              0.8888888888888888,
              "#fdca26"
             ],
             [
              1,
              "#f0f921"
             ]
            ],
            "type": "heatmap"
           }
          ],
          "heatmapgl": [
           {
            "colorbar": {
             "outlinewidth": 0,
             "ticks": ""
            },
            "colorscale": [
             [
              0,
              "#0d0887"
             ],
             [
              0.1111111111111111,
              "#46039f"
             ],
             [
              0.2222222222222222,
              "#7201a8"
             ],
             [
              0.3333333333333333,
              "#9c179e"
             ],
             [
              0.4444444444444444,
              "#bd3786"
             ],
             [
              0.5555555555555556,
              "#d8576b"
             ],
             [
              0.6666666666666666,
              "#ed7953"
             ],
             [
              0.7777777777777778,
              "#fb9f3a"
             ],
             [
              0.8888888888888888,
              "#fdca26"
             ],
             [
              1,
              "#f0f921"
             ]
            ],
            "type": "heatmapgl"
           }
          ],
          "histogram": [
           {
            "marker": {
             "pattern": {
              "fillmode": "overlay",
              "size": 10,
              "solidity": 0.2
             }
            },
            "type": "histogram"
           }
          ],
          "histogram2d": [
           {
            "colorbar": {
             "outlinewidth": 0,
             "ticks": ""
            },
            "colorscale": [
             [
              0,
              "#0d0887"
             ],
             [
              0.1111111111111111,
              "#46039f"
             ],
             [
              0.2222222222222222,
              "#7201a8"
             ],
             [
              0.3333333333333333,
              "#9c179e"
             ],
             [
              0.4444444444444444,
              "#bd3786"
             ],
             [
              0.5555555555555556,
              "#d8576b"
             ],
             [
              0.6666666666666666,
              "#ed7953"
             ],
             [
              0.7777777777777778,
              "#fb9f3a"
             ],
             [
              0.8888888888888888,
              "#fdca26"
             ],
             [
              1,
              "#f0f921"
             ]
            ],
            "type": "histogram2d"
           }
          ],
          "histogram2dcontour": [
           {
            "colorbar": {
             "outlinewidth": 0,
             "ticks": ""
            },
            "colorscale": [
             [
              0,
              "#0d0887"
             ],
             [
              0.1111111111111111,
              "#46039f"
             ],
             [
              0.2222222222222222,
              "#7201a8"
             ],
             [
              0.3333333333333333,
              "#9c179e"
             ],
             [
              0.4444444444444444,
              "#bd3786"
             ],
             [
              0.5555555555555556,
              "#d8576b"
             ],
             [
              0.6666666666666666,
              "#ed7953"
             ],
             [
              0.7777777777777778,
              "#fb9f3a"
             ],
             [
              0.8888888888888888,
              "#fdca26"
             ],
             [
              1,
              "#f0f921"
             ]
            ],
            "type": "histogram2dcontour"
           }
          ],
          "mesh3d": [
           {
            "colorbar": {
             "outlinewidth": 0,
             "ticks": ""
            },
            "type": "mesh3d"
           }
          ],
          "parcoords": [
           {
            "line": {
             "colorbar": {
              "outlinewidth": 0,
              "ticks": ""
             }
            },
            "type": "parcoords"
           }
          ],
          "pie": [
           {
            "automargin": true,
            "type": "pie"
           }
          ],
          "scatter": [
           {
            "fillpattern": {
             "fillmode": "overlay",
             "size": 10,
             "solidity": 0.2
            },
            "type": "scatter"
           }
          ],
          "scatter3d": [
           {
            "line": {
             "colorbar": {
              "outlinewidth": 0,
              "ticks": ""
             }
            },
            "marker": {
             "colorbar": {
              "outlinewidth": 0,
              "ticks": ""
             }
            },
            "type": "scatter3d"
           }
          ],
          "scattercarpet": [
           {
            "marker": {
             "colorbar": {
              "outlinewidth": 0,
              "ticks": ""
             }
            },
            "type": "scattercarpet"
           }
          ],
          "scattergeo": [
           {
            "marker": {
             "colorbar": {
              "outlinewidth": 0,
              "ticks": ""
             }
            },
            "type": "scattergeo"
           }
          ],
          "scattergl": [
           {
            "marker": {
             "colorbar": {
              "outlinewidth": 0,
              "ticks": ""
             }
            },
            "type": "scattergl"
           }
          ],
          "scattermapbox": [
           {
            "marker": {
             "colorbar": {
              "outlinewidth": 0,
              "ticks": ""
             }
            },
            "type": "scattermapbox"
           }
          ],
          "scatterpolar": [
           {
            "marker": {
             "colorbar": {
              "outlinewidth": 0,
              "ticks": ""
             }
            },
            "type": "scatterpolar"
           }
          ],
          "scatterpolargl": [
           {
            "marker": {
             "colorbar": {
              "outlinewidth": 0,
              "ticks": ""
             }
            },
            "type": "scatterpolargl"
           }
          ],
          "scatterternary": [
           {
            "marker": {
             "colorbar": {
              "outlinewidth": 0,
              "ticks": ""
             }
            },
            "type": "scatterternary"
           }
          ],
          "surface": [
           {
            "colorbar": {
             "outlinewidth": 0,
             "ticks": ""
            },
            "colorscale": [
             [
              0,
              "#0d0887"
             ],
             [
              0.1111111111111111,
              "#46039f"
             ],
             [
              0.2222222222222222,
              "#7201a8"
             ],
             [
              0.3333333333333333,
              "#9c179e"
             ],
             [
              0.4444444444444444,
              "#bd3786"
             ],
             [
              0.5555555555555556,
              "#d8576b"
             ],
             [
              0.6666666666666666,
              "#ed7953"
             ],
             [
              0.7777777777777778,
              "#fb9f3a"
             ],
             [
              0.8888888888888888,
              "#fdca26"
             ],
             [
              1,
              "#f0f921"
             ]
            ],
            "type": "surface"
           }
          ],
          "table": [
           {
            "cells": {
             "fill": {
              "color": "#EBF0F8"
             },
             "line": {
              "color": "white"
             }
            },
            "header": {
             "fill": {
              "color": "#C8D4E3"
             },
             "line": {
              "color": "white"
             }
            },
            "type": "table"
           }
          ]
         },
         "layout": {
          "annotationdefaults": {
           "arrowcolor": "#2a3f5f",
           "arrowhead": 0,
           "arrowwidth": 1
          },
          "autotypenumbers": "strict",
          "coloraxis": {
           "colorbar": {
            "outlinewidth": 0,
            "ticks": ""
           }
          },
          "colorscale": {
           "diverging": [
            [
             0,
             "#8e0152"
            ],
            [
             0.1,
             "#c51b7d"
            ],
            [
             0.2,
             "#de77ae"
            ],
            [
             0.3,
             "#f1b6da"
            ],
            [
             0.4,
             "#fde0ef"
            ],
            [
             0.5,
             "#f7f7f7"
            ],
            [
             0.6,
             "#e6f5d0"
            ],
            [
             0.7,
             "#b8e186"
            ],
            [
             0.8,
             "#7fbc41"
            ],
            [
             0.9,
             "#4d9221"
            ],
            [
             1,
             "#276419"
            ]
           ],
           "sequential": [
            [
             0,
             "#0d0887"
            ],
            [
             0.1111111111111111,
             "#46039f"
            ],
            [
             0.2222222222222222,
             "#7201a8"
            ],
            [
             0.3333333333333333,
             "#9c179e"
            ],
            [
             0.4444444444444444,
             "#bd3786"
            ],
            [
             0.5555555555555556,
             "#d8576b"
            ],
            [
             0.6666666666666666,
             "#ed7953"
            ],
            [
             0.7777777777777778,
             "#fb9f3a"
            ],
            [
             0.8888888888888888,
             "#fdca26"
            ],
            [
             1,
             "#f0f921"
            ]
           ],
           "sequentialminus": [
            [
             0,
             "#0d0887"
            ],
            [
             0.1111111111111111,
             "#46039f"
            ],
            [
             0.2222222222222222,
             "#7201a8"
            ],
            [
             0.3333333333333333,
             "#9c179e"
            ],
            [
             0.4444444444444444,
             "#bd3786"
            ],
            [
             0.5555555555555556,
             "#d8576b"
            ],
            [
             0.6666666666666666,
             "#ed7953"
            ],
            [
             0.7777777777777778,
             "#fb9f3a"
            ],
            [
             0.8888888888888888,
             "#fdca26"
            ],
            [
             1,
             "#f0f921"
            ]
           ]
          },
          "colorway": [
           "#636efa",
           "#EF553B",
           "#00cc96",
           "#ab63fa",
           "#FFA15A",
           "#19d3f3",
           "#FF6692",
           "#B6E880",
           "#FF97FF",
           "#FECB52"
          ],
          "font": {
           "color": "#2a3f5f"
          },
          "geo": {
           "bgcolor": "white",
           "lakecolor": "white",
           "landcolor": "white",
           "showlakes": true,
           "showland": true,
           "subunitcolor": "#C8D4E3"
          },
          "hoverlabel": {
           "align": "left"
          },
          "hovermode": "closest",
          "mapbox": {
           "style": "light"
          },
          "paper_bgcolor": "white",
          "plot_bgcolor": "white",
          "polar": {
           "angularaxis": {
            "gridcolor": "#EBF0F8",
            "linecolor": "#EBF0F8",
            "ticks": ""
           },
           "bgcolor": "white",
           "radialaxis": {
            "gridcolor": "#EBF0F8",
            "linecolor": "#EBF0F8",
            "ticks": ""
           }
          },
          "scene": {
           "xaxis": {
            "backgroundcolor": "white",
            "gridcolor": "#DFE8F3",
            "gridwidth": 2,
            "linecolor": "#EBF0F8",
            "showbackground": true,
            "ticks": "",
            "zerolinecolor": "#EBF0F8"
           },
           "yaxis": {
            "backgroundcolor": "white",
            "gridcolor": "#DFE8F3",
            "gridwidth": 2,
            "linecolor": "#EBF0F8",
            "showbackground": true,
            "ticks": "",
            "zerolinecolor": "#EBF0F8"
           },
           "zaxis": {
            "backgroundcolor": "white",
            "gridcolor": "#DFE8F3",
            "gridwidth": 2,
            "linecolor": "#EBF0F8",
            "showbackground": true,
            "ticks": "",
            "zerolinecolor": "#EBF0F8"
           }
          },
          "shapedefaults": {
           "line": {
            "color": "#2a3f5f"
           }
          },
          "ternary": {
           "aaxis": {
            "gridcolor": "#DFE8F3",
            "linecolor": "#A2B1C6",
            "ticks": ""
           },
           "baxis": {
            "gridcolor": "#DFE8F3",
            "linecolor": "#A2B1C6",
            "ticks": ""
           },
           "bgcolor": "white",
           "caxis": {
            "gridcolor": "#DFE8F3",
            "linecolor": "#A2B1C6",
            "ticks": ""
           }
          },
          "title": {
           "x": 0.05
          },
          "xaxis": {
           "automargin": true,
           "gridcolor": "#EBF0F8",
           "linecolor": "#EBF0F8",
           "ticks": "",
           "title": {
            "standoff": 15
           },
           "zerolinecolor": "#EBF0F8",
           "zerolinewidth": 2
          },
          "yaxis": {
           "automargin": true,
           "gridcolor": "#EBF0F8",
           "linecolor": "#EBF0F8",
           "ticks": "",
           "title": {
            "standoff": 15
           },
           "zerolinecolor": "#EBF0F8",
           "zerolinewidth": 2
          }
         }
        },
        "width": 900,
        "xaxis": {
         "autorange": true,
         "range": [
          -0.21611678139093285,
          3.216116781390933
         ],
         "tickmode": "array",
         "tickvals": [
          2020,
          2021,
          2022,
          2023
         ],
         "title": {
          "text": "Year"
         },
         "type": "category"
        },
        "yaxis": {
         "autorange": true,
         "range": [
          -0.11075949367088533,
          210.11075949367088
         ],
         "title": {
          "text": "Number of Papers"
         },
         "type": "linear"
        }
       }
      },
      "image/png": "[encoded data removed]",
      "text/html": [
       "<div>                            <div id=\"b24f244f-3678-4592-b4ce-c2143ae6ad65\" class=\"plotly-graph-div\" style=\"height:465px; width:900px;\"></div>            <script type=\"text/javascript\">                require([\"plotly\"], function(Plotly) {                    window.PLOTLYENV=window.PLOTLYENV || {};                                    if (document.getElementById(\"b24f244f-3678-4592-b4ce-c2143ae6ad65\")) {                    Plotly.newPlot(                        \"b24f244f-3678-4592-b4ce-c2143ae6ad65\",                        [{\"marker\":{\"size\":10},\"mode\":\"lines+markers\",\"name\":\"Applications\",\"x\":[2020,2021,2022,2023],\"y\":[115.0,111.0,112.0,178.0],\"type\":\"scatter\"},{\"marker\":{\"size\":10},\"mode\":\"lines+markers\",\"name\":\"Dialogue\",\"x\":[2020,2021,2022,2023],\"y\":[125.0,126.0,94.0,142.0],\"type\":\"scatter\"},{\"marker\":{\"size\":10},\"mode\":\"lines+markers\",\"name\":\"Ethics\",\"x\":[2020,2021,2022,2023],\"y\":[14.0,23.0,42.0,51.0],\"type\":\"scatter\"},{\"marker\":{\"size\":10},\"mode\":\"lines+markers\",\"name\":\"Generation\",\"x\":[2020,2021,2022,2023],\"y\":[103.0,74.0,76.0,108.0],\"type\":\"scatter\"},{\"marker\":{\"size\":10},\"mode\":\"lines+markers\",\"name\":\"Information Extraction\\u002fRetrieval\",\"x\":[2020,2021,2022,2023],\"y\":[159.0,184.0,135.0,196.0],\"type\":\"scatter\"},{\"marker\":{\"size\":10},\"mode\":\"lines+markers\",\"name\":\"Interpretability and Analysis\",\"x\":[2020,2021,2022,2023],\"y\":[90.0,85.0,142.0,160.0],\"type\":\"scatter\"},{\"marker\":{\"size\":10},\"mode\":\"lines+markers\",\"name\":\"Machine Learning\",\"x\":[2020,2021,2022,2023],\"y\":[147.0,146.0,131.0,133.0],\"type\":\"scatter\"},{\"marker\":{\"size\":10},\"mode\":\"lines+markers\",\"name\":\"Machine Translation and Multilinguality\",\"x\":[2020,2021,2022,2023],\"y\":[148.0,148.0,141.0,157.0],\"type\":\"scatter\"},{\"marker\":{\"size\":10},\"mode\":\"lines+markers\",\"name\":\"Multimodality, Speech and Grounding\",\"x\":[2020,2021,2022,2023],\"y\":[83.0,74.0,86.0,146.0],\"type\":\"scatter\"},{\"marker\":{\"size\":10},\"mode\":\"lines+markers\",\"name\":\"Question Answering\",\"x\":[2020,2021,2022,2023],\"y\":[80.0,82.0,80.0,92.0],\"type\":\"scatter\"},{\"marker\":{\"size\":10},\"mode\":\"lines+markers\",\"name\":\"Resources and Evaluation\",\"x\":[2020,2021,2022,2023],\"y\":[44.0,95.0,120.0,164.0],\"type\":\"scatter\"},{\"marker\":{\"size\":10},\"mode\":\"lines+markers\",\"name\":\"Semantics\",\"x\":[2020,2021,2022,2023],\"y\":[155.0,129.0,82.0,90.0],\"type\":\"scatter\"},{\"marker\":{\"size\":10},\"mode\":\"lines+markers\",\"name\":\"Sentiment Analysis\",\"x\":[2020,2021,2022,2023],\"y\":[64.0,73.0,48.0,73.0],\"type\":\"scatter\"},{\"marker\":{\"size\":10},\"mode\":\"lines+markers\",\"name\":\"Social Science\",\"x\":[2020,2021,2022,2023],\"y\":[54.0,41.0,24.0,59.0],\"type\":\"scatter\"},{\"marker\":{\"size\":10},\"mode\":\"lines+markers\",\"name\":\"Summarization\",\"x\":[2020,2021,2022,2023],\"y\":[61.0,50.0,67.0,66.0],\"type\":\"scatter\"},{\"marker\":{\"size\":10},\"mode\":\"lines+markers\",\"name\":\"Syntax\",\"x\":[2020,2021,2022,2023],\"y\":[43.0,27.0,24.0,27.0],\"type\":\"scatter\"}],                        {\"template\":{\"data\":{\"barpolar\":[{\"marker\":{\"line\":{\"color\":\"white\",\"width\":0.5},\"pattern\":{\"fillmode\":\"overlay\",\"size\":10,\"solidity\":0.2}},\"type\":\"barpolar\"}],\"bar\":[{\"error_x\":{\"color\":\"#2a3f5f\"},\"error_y\":{\"color\":\"#2a3f5f\"},\"marker\":{\"line\":{\"color\":\"white\",\"width\":0.5},\"pattern\":{\"fillmode\":\"overlay\",\"size\":10,\"solidity\":0.2}},\"type\":\"bar\"}],\"carpet\":[{\"aaxis\":{\"endlinecolor\":\"#2a3f5f\",\"gridcolor\":\"#C8D4E3\",\"linecolor\":\"#C8D4E3\",\"minorgridcolor\":\"#C8D4E3\",\"startlinecolor\":\"#2a3f5f\"},\"baxis\":{\"endlinecolor\":\"#2a3f5f\",\"gridcolor\":\"#C8D4E3\",\"linecolor\":\"#C8D4E3\",\"minorgridcolor\":\"#C8D4E3\",\"startlinecolor\":\"#2a3f5f\"},\"type\":\"carpet\"}],\"choropleth\":[{\"colorbar\":{\"outlinewidth\":0,\"ticks\":\"\"},\"type\":\"choropleth\"}],\"contourcarpet\":[{\"colorbar\":{\"outlinewidth\":0,\"ticks\":\"\"},\"type\":\"contourcarpet\"}],\"contour\":[{\"colorbar\":{\"outlinewidth\":0,\"ticks\":\"\"},\"colorscale\":[[0.0,\"#0d0887\"],[0.1111111111111111,\"#46039f\"],[0.2222222222222222,\"#7201a8\"],[0.3333333333333333,\"#9c179e\"],[0.4444444444444444,\"#bd3786\"],[0.5555555555555556,\"#d8576b\"],[0.6666666666666666,\"#ed7953\"],[0.7777777777777778,\"#fb9f3a\"],[0.8888888888888888,\"#fdca26\"],[1.0,\"#f0f921\"]],\"type\":\"contour\"}],\"heatmapgl\":[{\"colorbar\":{\"outlinewidth\":0,\"ticks\":\"\"},\"colorscale\":[[0.0,\"#0d0887\"],[0.1111111111111111,\"#46039f\"],[0.2222222222222222,\"#7201a8\"],[0.3333333333333333,\"#9c179e\"],[0.4444444444444444,\"#bd3786\"],[0.5555555555555556,\"#d8576b\"],[0.6666666666666666,\"#ed7953\"],[0.7777777777777778,\"#fb9f3a\"],[0.8888888888888888,\"#fdca26\"],[1.0,\"#f0f921\"]],\"type\":\"heatmapgl\"}],\"heatmap\":[{\"colorbar\":{\"outlinewidth\":0,\"ticks\":\"\"},\"colorscale\":[[0.0,\"#0d0887\"],[0.1111111111111111,\"#46039f\"],[0.2222222222222222,\"#7201a8\"],[0.3333333333333333,\"#9c179e\"],[0.4444444444444444,\"#bd3786\"],[0.5555555555555556,\"#d8576b\"],[0.6666666666666666,\"#ed7953\"],[0.7777777777777778,\"#fb9f3a\"],[0.8888888888888888,\"#fdca26\"],[1.0,\"#f0f921\"]],\"type\":\"heatmap\"}],\"histogram2dcontour\":[{\"colorbar\":{\"outlinewidth\":0,\"ticks\":\"\"},\"colorscale\":[[0.0,\"#0d0887\"],[0.1111111111111111,\"#46039f\"],[0.2222222222222222,\"#7201a8\"],[0.3333333333333333,\"#9c179e\"],[0.4444444444444444,\"#bd3786\"],[0.5555555555555556,\"#d8576b\"],[0.6666666666666666,\"#ed7953\"],[0.7777777777777778,\"#fb9f3a\"],[0.8888888888888888,\"#fdca26\"],[1.0,\"#f0f921\"]],\"type\":\"histogram2dcontour\"}],\"histogram2d\":[{\"colorbar\":{\"outlinewidth\":0,\"ticks\":\"\"},\"colorscale\":[[0.0,\"#0d0887\"],[0.1111111111111111,\"#46039f\"],[0.2222222222222222,\"#7201a8\"],[0.3333333333333333,\"#9c179e\"],[0.4444444444444444,\"#bd3786\"],[0.5555555555555556,\"#d8576b\"],[0.6666666666666666,\"#ed7953\"],[0.7777777777777778,\"#fb9f3a\"],[0.8888888888888888,\"#fdca26\"],[1.0,\"#f0f921\"]],\"type\":\"histogram2d\"}],\"histogram\":[{\"marker\":{\"pattern\":{\"fillmode\":\"overlay\",\"size\":10,\"solidity\":0.2}},\"type\":\"histogram\"}],\"mesh3d\":[{\"colorbar\":{\"outlinewidth\":0,\"ticks\":\"\"},\"type\":\"mesh3d\"}],\"parcoords\":[{\"line\":{\"colorbar\":{\"outlinewidth\":0,\"ticks\":\"\"}},\"type\":\"parcoords\"}],\"pie\":[{\"automargin\":true,\"type\":\"pie\"}],\"scatter3d\":[{\"line\":{\"colorbar\":{\"outlinewidth\":0,\"ticks\":\"\"}},\"marker\":{\"colorbar\":{\"outlinewidth\":0,\"ticks\":\"\"}},\"type\":\"scatter3d\"}],\"scattercarpet\":[{\"marker\":{\"colorbar\":{\"outlinewidth\":0,\"ticks\":\"\"}},\"type\":\"scattercarpet\"}],\"scattergeo\":[{\"marker\":{\"colorbar\":{\"outlinewidth\":0,\"ticks\":\"\"}},\"type\":\"scattergeo\"}],\"scattergl\":[{\"marker\":{\"colorbar\":{\"outlinewidth\":0,\"ticks\":\"\"}},\"type\":\"scattergl\"}],\"scattermapbox\":[{\"marker\":{\"colorbar\":{\"outlinewidth\":0,\"ticks\":\"\"}},\"type\":\"scattermapbox\"}],\"scatterpolargl\":[{\"marker\":{\"colorbar\":{\"outlinewidth\":0,\"ticks\":\"\"}},\"type\":\"scatterpolargl\"}],\"scatterpolar\":[{\"marker\":{\"colorbar\":{\"outlinewidth\":0,\"ticks\":\"\"}},\"type\":\"scatterpolar\"}],\"scatter\":[{\"fillpattern\":{\"fillmode\":\"overlay\",\"size\":10,\"solidity\":0.2},\"type\":\"scatter\"}],\"scatterternary\":[{\"marker\":{\"colorbar\":{\"outlinewidth\":0,\"ticks\":\"\"}},\"type\":\"scatterternary\"}],\"surface\":[{\"colorbar\":{\"outlinewidth\":0,\"ticks\":\"\"},\"colorscale\":[[0.0,\"#0d0887\"],[0.1111111111111111,\"#46039f\"],[0.2222222222222222,\"#7201a8\"],[0.3333333333333333,\"#9c179e\"],[0.4444444444444444,\"#bd3786\"],[0.5555555555555556,\"#d8576b\"],[0.6666666666666666,\"#ed7953\"],[0.7777777777777778,\"#fb9f3a\"],[0.8888888888888888,\"#fdca26\"],[1.0,\"#f0f921\"]],\"type\":\"surface\"}],\"table\":[{\"cells\":{\"fill\":{\"color\":\"#EBF0F8\"},\"line\":{\"color\":\"white\"}},\"header\":{\"fill\":{\"color\":\"#C8D4E3\"},\"line\":{\"color\":\"white\"}},\"type\":\"table\"}]},\"layout\":{\"annotationdefaults\":{\"arrowcolor\":\"#2a3f5f\",\"arrowhead\":0,\"arrowwidth\":1},\"autotypenumbers\":\"strict\",\"coloraxis\":{\"colorbar\":{\"outlinewidth\":0,\"ticks\":\"\"}},\"colorscale\":{\"diverging\":[[0,\"#8e0152\"],[0.1,\"#c51b7d\"],[0.2,\"#de77ae\"],[0.3,\"#f1b6da\"],[0.4,\"#fde0ef\"],[0.5,\"#f7f7f7\"],[0.6,\"#e6f5d0\"],[0.7,\"#b8e186\"],[0.8,\"#7fbc41\"],[0.9,\"#4d9221\"],[1,\"#276419\"]],\"sequential\":[[0.0,\"#0d0887\"],[0.1111111111111111,\"#46039f\"],[0.2222222222222222,\"#7201a8\"],[0.3333333333333333,\"#9c179e\"],[0.4444444444444444,\"#bd3786\"],[0.5555555555555556,\"#d8576b\"],[0.6666666666666666,\"#ed7953\"],[0.7777777777777778,\"#fb9f3a\"],[0.8888888888888888,\"#fdca26\"],[1.0,\"#f0f921\"]],\"sequentialminus\":[[0.0,\"#0d0887\"],[0.1111111111111111,\"#46039f\"],[0.2222222222222222,\"#7201a8\"],[0.3333333333333333,\"#9c179e\"],[0.4444444444444444,\"#bd3786\"],[0.5555555555555556,\"#d8576b\"],[0.6666666666666666,\"#ed7953\"],[0.7777777777777778,\"#fb9f3a\"],[0.8888888888888888,\"#fdca26\"],[1.0,\"#f0f921\"]]},\"colorway\":[\"#636efa\",\"#EF553B\",\"#00cc96\",\"#ab63fa\",\"#FFA15A\",\"#19d3f3\",\"#FF6692\",\"#B6E880\",\"#FF97FF\",\"#FECB52\"],\"font\":{\"color\":\"#2a3f5f\"},\"geo\":{\"bgcolor\":\"white\",\"lakecolor\":\"white\",\"landcolor\":\"white\",\"showlakes\":true,\"showland\":true,\"subunitcolor\":\"#C8D4E3\"},\"hoverlabel\":{\"align\":\"left\"},\"hovermode\":\"closest\",\"mapbox\":{\"style\":\"light\"},\"paper_bgcolor\":\"white\",\"plot_bgcolor\":\"white\",\"polar\":{\"angularaxis\":{\"gridcolor\":\"#EBF0F8\",\"linecolor\":\"#EBF0F8\",\"ticks\":\"\"},\"bgcolor\":\"white\",\"radialaxis\":{\"gridcolor\":\"#EBF0F8\",\"linecolor\":\"#EBF0F8\",\"ticks\":\"\"}},\"scene\":{\"xaxis\":{\"backgroundcolor\":\"white\",\"gridcolor\":\"#DFE8F3\",\"gridwidth\":2,\"linecolor\":\"#EBF0F8\",\"showbackground\":true,\"ticks\":\"\",\"zerolinecolor\":\"#EBF0F8\"},\"yaxis\":{\"backgroundcolor\":\"white\",\"gridcolor\":\"#DFE8F3\",\"gridwidth\":2,\"linecolor\":\"#EBF0F8\",\"showbackground\":true,\"ticks\":\"\",\"zerolinecolor\":\"#EBF0F8\"},\"zaxis\":{\"backgroundcolor\":\"white\",\"gridcolor\":\"#DFE8F3\",\"gridwidth\":2,\"linecolor\":\"#EBF0F8\",\"showbackground\":true,\"ticks\":\"\",\"zerolinecolor\":\"#EBF0F8\"}},\"shapedefaults\":{\"line\":{\"color\":\"#2a3f5f\"}},\"ternary\":{\"aaxis\":{\"gridcolor\":\"#DFE8F3\",\"linecolor\":\"#A2B1C6\",\"ticks\":\"\"},\"baxis\":{\"gridcolor\":\"#DFE8F3\",\"linecolor\":\"#A2B1C6\",\"ticks\":\"\"},\"bgcolor\":\"white\",\"caxis\":{\"gridcolor\":\"#DFE8F3\",\"linecolor\":\"#A2B1C6\",\"ticks\":\"\"}},\"title\":{\"x\":0.05},\"xaxis\":{\"automargin\":true,\"gridcolor\":\"#EBF0F8\",\"linecolor\":\"#EBF0F8\",\"ticks\":\"\",\"title\":{\"standoff\":15},\"zerolinecolor\":\"#EBF0F8\",\"zerolinewidth\":2},\"yaxis\":{\"automargin\":true,\"gridcolor\":\"#EBF0F8\",\"linecolor\":\"#EBF0F8\",\"ticks\":\"\",\"title\":{\"standoff\":15},\"zerolinecolor\":\"#EBF0F8\",\"zerolinewidth\":2}}},\"legend\":{\"title\":{\"text\":\"Track\"},\"x\":1,\"y\":1,\"bgcolor\":\"rgba(255, 255, 255, 0.5)\",\"bordercolor\":\"rgba(0, 0, 0, 0.1)\"},\"xaxis\":{\"title\":{\"text\":\"Year\"},\"tickmode\":\"array\",\"tickvals\":[2020,2021,2022,2023],\"type\":\"category\"},\"margin\":{\"l\":20,\"t\":20},\"font\":{\"size\":15},\"yaxis\":{\"title\":{\"text\":\"Number of Papers\"}},\"width\":900,\"height\":465},                        {\"responsive\": true}                    ).then(function(){\n",
       "                            \n",
       "var gd = document.getElementById('b24f244f-3678-4592-b4ce-c2143ae6ad65');\n",
       "var x = new MutationObserver(function (mutations, observer) {{\n",
       "        var display = window.getComputedStyle(gd).display;\n",
       "        if (!display || display === 'none') {{\n",
       "            console.log([gd, 'removed!']);\n",
       "            Plotly.purge(gd);\n",
       "            observer.disconnect();\n",
       "        }}\n",
       "}});\n",
       "\n",
       "// Listen for the removal of the full notebook cells\n",
       "var notebookContainer = gd.closest('#notebook-container');\n",
       "if (notebookContainer) {{\n",
       "    x.observe(notebookContainer, {childList: true});\n",
       "}}\n",
       "\n",
       "// Listen for the clearing of the current output cell\n",
       "var outputEl = gd.closest('.output');\n",
       "if (outputEl) {{\n",
       "    x.observe(outputEl, {childList: true});\n",
       "}}\n",
       "\n",
       "                        })                };                });            </script>        </div>"
      ]
     },
     "metadata": {},
     "output_type": "display_data"
    }
   ],
   "source": [
    "import matplotlib.pyplot as plt\n",
    "import numpy as np\n",
    "import pandas as pd\n",
    "import matplotlib.ticker as ticker\n",
    "import os\n",
    "import json\n",
    "import zipfile\n",
    "import networkx as nx\n",
    "import statsmodels.api as sm\n",
    "import plotly.graph_objects as go\n",
    "import plotly.figure_factory as ff\n",
    "\n",
    "from tqdm import tqdm\n",
    "from matplotlib import rc\n",
    "from matplotlib import colormaps\n",
    "from collections import defaultdict\n",
    "count_data = df_2020.groupby('year')['track'].value_counts().unstack().fillna(0)\n",
    "tracks = count_data.columns\n",
    "fig = go.Figure()\n",
    "\n",
    "for track in tracks:\n",
    "    if track not in dropped_tracks:\n",
    "        fig.add_trace(go.Scatter(\n",
    "            x=count_data.index, \n",
    "            y=count_data[track], \n",
    "            mode='lines+markers',\n",
    "            name=track,\n",
    "            line=dict(),\n",
    "            marker=dict(size=10)\n",
    "        ))\n",
    "\n",
    "\n",
    "fig.update_layout(\n",
    "    xaxis_title='Year',\n",
    "    yaxis_title='Number of Papers',\n",
    "    legend_title='Track',\n",
    "    legend=dict(\n",
    "        x=1,\n",
    "        y=1,\n",
    "        bgcolor='rgba(255, 255, 255, 0.5)',\n",
    "        bordercolor='rgba(0, 0, 0, 0.1)'\n",
    "    ),\n",
    "    xaxis=dict(tickmode='array', tickvals=count_data.index, type='category'),\n",
    "    template='plotly_white',\n",
    "    width=900,\n",
    "    height=465,\n",
    "    margin=dict(l=20, t=20),\n",
    "    font=dict(size=15)\n",
    ")\n",
    "\n",
    "fig.show()\n"
   ]
  },
  {
   "cell_type": "code",
   "execution_count": 52,
   "id": "1b772814-35f9-4ddc-87fe-14c31714d0b9",
   "metadata": {},
   "outputs": [
    {
     "data": {
      "text/html": [
       "<div>\n",
       "<style scoped>\n",
       "    .dataframe tbody tr th:only-of-type {\n",
       "        vertical-align: middle;\n",
       "    }\n",
       "\n",
       "    .dataframe tbody tr th {\n",
       "        vertical-align: top;\n",
       "    }\n",
       "\n",
       "    .dataframe thead th {\n",
       "        text-align: right;\n",
       "    }\n",
       "</style>\n",
       "<table border=\"1\" class=\"dataframe\">\n",
       "  <thead>\n",
       "    <tr style=\"text-align: right;\">\n",
       "      <th></th>\n",
       "      <th>id</th>\n",
       "      <th>title</th>\n",
       "      <th>area</th>\n",
       "      <th>source</th>\n",
       "      <th>year</th>\n",
       "      <th>doi</th>\n",
       "      <th>abstract</th>\n",
       "      <th>semantic_scholar_id</th>\n",
       "      <th>track</th>\n",
       "      <th>interpretability</th>\n",
       "      <th>embedding</th>\n",
       "    </tr>\n",
       "  </thead>\n",
       "  <tbody>\n",
       "    <tr>\n",
       "      <th>0</th>\n",
       "      <td>main.1004</td>\n",
       "      <td>AnswerFact: Fact Checking in Product Question ...</td>\n",
       "      <td>Question Answering</td>\n",
       "      <td>EMNLP</td>\n",
       "      <td>2020</td>\n",
       "      <td>10.18653/v1/2020.emnlp-main.188</td>\n",
       "      <td>Product-related question answering platforms n...</td>\n",
       "      <td>4c61df1b4b9a164fec1a34587b4fffae029cd18c</td>\n",
       "      <td>Question Answering</td>\n",
       "      <td>False</td>\n",
       "      <td>[-1.2518485, -0.29460606, -0.8107855, -1.58728...</td>\n",
       "    </tr>\n",
       "    <tr>\n",
       "      <th>1</th>\n",
       "      <td>main.1006</td>\n",
       "      <td>Knowledge-Grounded Dialogue Generation with Pr...</td>\n",
       "      <td>Dialog and Interactive Systems</td>\n",
       "      <td>EMNLP</td>\n",
       "      <td>2020</td>\n",
       "      <td>10.18653/v1/2020.emnlp-main.272</td>\n",
       "      <td>We study knowledge-grounded dialogue generatio...</td>\n",
       "      <td>3447a432f724aa36595643446acda5b78943db19</td>\n",
       "      <td>Dialogue</td>\n",
       "      <td>False</td>\n",
       "      <td>[-0.34181368, 0.09105819, -0.26983717, -1.2941...</td>\n",
       "    </tr>\n",
       "    <tr>\n",
       "      <th>2</th>\n",
       "      <td>main.1009</td>\n",
       "      <td>BiST: Bi-directional Spatio-Temporal Reasoning...</td>\n",
       "      <td>Dialog and Interactive Systems</td>\n",
       "      <td>EMNLP</td>\n",
       "      <td>2020</td>\n",
       "      <td>10.18653/v1/2020.emnlp-main.145</td>\n",
       "      <td>Video-grounded dialogues are very challenging ...</td>\n",
       "      <td>f4a2acfeb1705df3f430cc53ace26e1dbbbcbd16</td>\n",
       "      <td>Dialogue</td>\n",
       "      <td>False</td>\n",
       "      <td>[-0.20205598, -0.7245281, -0.19245991, -1.6045...</td>\n",
       "    </tr>\n",
       "    <tr>\n",
       "      <th>3</th>\n",
       "      <td>main.1010</td>\n",
       "      <td>A Knowledge-Aware Sequence-to-Tree Network for...</td>\n",
       "      <td>NLP Applications</td>\n",
       "      <td>EMNLP</td>\n",
       "      <td>2020</td>\n",
       "      <td>10.18653/v1/2020.emnlp-main.579</td>\n",
       "      <td>With the advancements in natural language proc...</td>\n",
       "      <td>24ed85ad966823868c1694a19385d01c6ad71008</td>\n",
       "      <td>Applications</td>\n",
       "      <td>False</td>\n",
       "      <td>[-0.36777574, 0.07150269, 0.48848996, -1.47894...</td>\n",
       "    </tr>\n",
       "    <tr>\n",
       "      <th>4</th>\n",
       "      <td>main.1011</td>\n",
       "      <td>Knowledge Association with Hyperbolic Knowledg...</td>\n",
       "      <td>Information Extraction</td>\n",
       "      <td>EMNLP</td>\n",
       "      <td>2020</td>\n",
       "      <td>10.18653/v1/2020.emnlp-main.460</td>\n",
       "      <td>Capturing associations for knowledge graphs (K...</td>\n",
       "      <td>3d61a28b9429fc8f7047fc379a0134a3765edbcb</td>\n",
       "      <td>Information Extraction/Retrieval</td>\n",
       "      <td>False</td>\n",
       "      <td>[-1.421698, 0.30209422, -1.1904925, -0.6410312...</td>\n",
       "    </tr>\n",
       "    <tr>\n",
       "      <th>...</th>\n",
       "      <td>...</td>\n",
       "      <td>...</td>\n",
       "      <td>...</td>\n",
       "      <td>...</td>\n",
       "      <td>...</td>\n",
       "      <td>...</td>\n",
       "      <td>...</td>\n",
       "      <td>...</td>\n",
       "      <td>...</td>\n",
       "      <td>...</td>\n",
       "      <td>...</td>\n",
       "    </tr>\n",
       "    <tr>\n",
       "      <th>9250</th>\n",
       "      <td>T4773</td>\n",
       "      <td>Rank-Aware Negative Training for Semi-Supervis...</td>\n",
       "      <td>Machine Learning for NLP</td>\n",
       "      <td>ACL</td>\n",
       "      <td>2023</td>\n",
       "      <td>10.1162/tacl_a_00574</td>\n",
       "      <td>Abstract Semi-supervised text classification-b...</td>\n",
       "      <td>79a502caa0b12573f56a7e8948459722aa891479</td>\n",
       "      <td>Machine Learning</td>\n",
       "      <td>False</td>\n",
       "      <td>[-1.1633431, -0.48102272, -0.47072205, -0.8523...</td>\n",
       "    </tr>\n",
       "    <tr>\n",
       "      <th>9251</th>\n",
       "      <td>T4777</td>\n",
       "      <td>Transparency Helps Reveal When Language Models...</td>\n",
       "      <td>Linguistic Theories, Cognitive Modeling, and P...</td>\n",
       "      <td>ACL</td>\n",
       "      <td>2023</td>\n",
       "      <td>10.1162/tacl_a_00565</td>\n",
       "      <td>Many current NLP systems are built from langua...</td>\n",
       "      <td>eee70790ced38b0fcf50351dbb3dcbdb582467e8</td>\n",
       "      <td>None</td>\n",
       "      <td>False</td>\n",
       "      <td>[-0.29978943, 0.25522044, -0.17783917, -1.1191...</td>\n",
       "    </tr>\n",
       "    <tr>\n",
       "      <th>9252</th>\n",
       "      <td>T4803</td>\n",
       "      <td>Design Choices for Crowdsourcing Implicit Disc...</td>\n",
       "      <td>Discourse and Pragmatics</td>\n",
       "      <td>ACL</td>\n",
       "      <td>2023</td>\n",
       "      <td>10.1162/tacl_a_00586</td>\n",
       "      <td>Abstract Disagreement in natural language anno...</td>\n",
       "      <td>bf65a1b637e0f253abb8402fc9d0ab80db79aa92</td>\n",
       "      <td>None</td>\n",
       "      <td>False</td>\n",
       "      <td>[-1.1211108, 0.66199553, 0.17070705, -0.508560...</td>\n",
       "    </tr>\n",
       "    <tr>\n",
       "      <th>9253</th>\n",
       "      <td>T4929</td>\n",
       "      <td>Time-and-Space-Efficient Weighted Deduction</td>\n",
       "      <td>Semantics: Sentence-level Semantics, Textual I...</td>\n",
       "      <td>ACL</td>\n",
       "      <td>2023</td>\n",
       "      <td>10.1162/tacl_a_00588</td>\n",
       "      <td>Abstract Many NLP algorithms have been describ...</td>\n",
       "      <td>f1803d124e5af7263ce656f7ccf3219eacc62b1c</td>\n",
       "      <td>Semantics</td>\n",
       "      <td>False</td>\n",
       "      <td>[-0.9160983, 0.17695944, 0.10626677, -0.275818...</td>\n",
       "    </tr>\n",
       "    <tr>\n",
       "      <th>9254</th>\n",
       "      <td>T5043</td>\n",
       "      <td>Collective Human Opinions in Semantic Textual ...</td>\n",
       "      <td>Semantics: Sentence-level Semantics, Textual I...</td>\n",
       "      <td>ACL</td>\n",
       "      <td>2023</td>\n",
       "      <td>10.1162/tacl_a_00584</td>\n",
       "      <td>Abstract Despite the subjective nature of sema...</td>\n",
       "      <td>1fc4e904ed92da4b9af30e2eb5224ebe29e470b3</td>\n",
       "      <td>Semantics</td>\n",
       "      <td>False</td>\n",
       "      <td>[-1.4651355, 0.073515385, -0.23869587, -1.0389...</td>\n",
       "    </tr>\n",
       "  </tbody>\n",
       "</table>\n",
       "<p>9255 rows × 11 columns</p>\n",
       "</div>"
      ],
      "text/plain": [
       "             id                                              title  \\\n",
       "0     main.1004  AnswerFact: Fact Checking in Product Question ...   \n",
       "1     main.1006  Knowledge-Grounded Dialogue Generation with Pr...   \n",
       "2     main.1009  BiST: Bi-directional Spatio-Temporal Reasoning...   \n",
       "3     main.1010  A Knowledge-Aware Sequence-to-Tree Network for...   \n",
       "4     main.1011  Knowledge Association with Hyperbolic Knowledg...   \n",
       "...         ...                                                ...   \n",
       "9250      T4773  Rank-Aware Negative Training for Semi-Supervis...   \n",
       "9251      T4777  Transparency Helps Reveal When Language Models...   \n",
       "9252      T4803  Design Choices for Crowdsourcing Implicit Disc...   \n",
       "9253      T4929        Time-and-Space-Efficient Weighted Deduction   \n",
       "9254      T5043  Collective Human Opinions in Semantic Textual ...   \n",
       "\n",
       "                                                   area source  year  \\\n",
       "0                                    Question Answering  EMNLP  2020   \n",
       "1                        Dialog and Interactive Systems  EMNLP  2020   \n",
       "2                        Dialog and Interactive Systems  EMNLP  2020   \n",
       "3                                      NLP Applications  EMNLP  2020   \n",
       "4                                Information Extraction  EMNLP  2020   \n",
       "...                                                 ...    ...   ...   \n",
       "9250                           Machine Learning for NLP    ACL  2023   \n",
       "9251  Linguistic Theories, Cognitive Modeling, and P...    ACL  2023   \n",
       "9252                           Discourse and Pragmatics    ACL  2023   \n",
       "9253  Semantics: Sentence-level Semantics, Textual I...    ACL  2023   \n",
       "9254  Semantics: Sentence-level Semantics, Textual I...    ACL  2023   \n",
       "\n",
       "                                  doi  \\\n",
       "0     10.18653/v1/2020.emnlp-main.188   \n",
       "1     10.18653/v1/2020.emnlp-main.272   \n",
       "2     10.18653/v1/2020.emnlp-main.145   \n",
       "3     10.18653/v1/2020.emnlp-main.579   \n",
       "4     10.18653/v1/2020.emnlp-main.460   \n",
       "...                               ...   \n",
       "9250             10.1162/tacl_a_00574   \n",
       "9251             10.1162/tacl_a_00565   \n",
       "9252             10.1162/tacl_a_00586   \n",
       "9253             10.1162/tacl_a_00588   \n",
       "9254             10.1162/tacl_a_00584   \n",
       "\n",
       "                                               abstract  \\\n",
       "0     Product-related question answering platforms n...   \n",
       "1     We study knowledge-grounded dialogue generatio...   \n",
       "2     Video-grounded dialogues are very challenging ...   \n",
       "3     With the advancements in natural language proc...   \n",
       "4     Capturing associations for knowledge graphs (K...   \n",
       "...                                                 ...   \n",
       "9250  Abstract Semi-supervised text classification-b...   \n",
       "9251  Many current NLP systems are built from langua...   \n",
       "9252  Abstract Disagreement in natural language anno...   \n",
       "9253  Abstract Many NLP algorithms have been describ...   \n",
       "9254  Abstract Despite the subjective nature of sema...   \n",
       "\n",
       "                           semantic_scholar_id  \\\n",
       "0     4c61df1b4b9a164fec1a34587b4fffae029cd18c   \n",
       "1     3447a432f724aa36595643446acda5b78943db19   \n",
       "2     f4a2acfeb1705df3f430cc53ace26e1dbbbcbd16   \n",
       "3     24ed85ad966823868c1694a19385d01c6ad71008   \n",
       "4     3d61a28b9429fc8f7047fc379a0134a3765edbcb   \n",
       "...                                        ...   \n",
       "9250  79a502caa0b12573f56a7e8948459722aa891479   \n",
       "9251  eee70790ced38b0fcf50351dbb3dcbdb582467e8   \n",
       "9252  bf65a1b637e0f253abb8402fc9d0ab80db79aa92   \n",
       "9253  f1803d124e5af7263ce656f7ccf3219eacc62b1c   \n",
       "9254  1fc4e904ed92da4b9af30e2eb5224ebe29e470b3   \n",
       "\n",
       "                                 track interpretability  \\\n",
       "0                   Question Answering            False   \n",
       "1                             Dialogue            False   \n",
       "2                             Dialogue            False   \n",
       "3                         Applications            False   \n",
       "4     Information Extraction/Retrieval            False   \n",
       "...                                ...              ...   \n",
       "9250                  Machine Learning            False   \n",
       "9251                              None            False   \n",
       "9252                              None            False   \n",
       "9253                         Semantics            False   \n",
       "9254                         Semantics            False   \n",
       "\n",
       "                                              embedding  \n",
       "0     [-1.2518485, -0.29460606, -0.8107855, -1.58728...  \n",
       "1     [-0.34181368, 0.09105819, -0.26983717, -1.2941...  \n",
       "2     [-0.20205598, -0.7245281, -0.19245991, -1.6045...  \n",
       "3     [-0.36777574, 0.07150269, 0.48848996, -1.47894...  \n",
       "4     [-1.421698, 0.30209422, -1.1904925, -0.6410312...  \n",
       "...                                                 ...  \n",
       "9250  [-1.1633431, -0.48102272, -0.47072205, -0.8523...  \n",
       "9251  [-0.29978943, 0.25522044, -0.17783917, -1.1191...  \n",
       "9252  [-1.1211108, 0.66199553, 0.17070705, -0.508560...  \n",
       "9253  [-0.9160983, 0.17695944, 0.10626677, -0.275818...  \n",
       "9254  [-1.4651355, 0.073515385, -0.23869587, -1.0389...  \n",
       "\n",
       "[9255 rows x 11 columns]"
      ]
     },
     "execution_count": 52,
     "metadata": {},
     "output_type": "execute_result"
    }
   ],
   "source": [
    "def raw_track_to_track(raw_track):\n",
    "    if raw_track in analysis_or_interpretability_tracks:\n",
    "        return 'Interpretability and Analysis'\n",
    "    if raw_track in syntax_tracks:\n",
    "        return 'Syntax'\n",
    "    if raw_track in mt_tracks:\n",
    "        return 'Machine Translation'\n",
    "    if raw_track in grounding_tracks:\n",
    "        return 'Grounding'\n",
    "    if raw_track in semantics_tracks:\n",
    "        return 'Semantics'\n",
    "    if raw_track in evaluation_tracks:\n",
    "        return 'Evaluation'\n",
    "    if raw_track in info_extraction_tracks:\n",
    "        return 'Information Extraction/Retrieval'\n",
    "    if raw_track in qa_tracks:\n",
    "        return 'Question Answering'\n",
    "    if raw_track in dialogue_tracks:\n",
    "        return 'Dialogue'\n",
    "    if raw_track in sentiment_analysis_tracks:\n",
    "        return 'Sentiment Analysis'\n",
    "    if raw_track in applications_tracks:\n",
    "        return 'Applications'\n",
    "    if raw_track in ml_tracks:\n",
    "        return 'Machine Learning'\n",
    "    if raw_track in generation_tracks:\n",
    "        return 'Generation'\n",
    "    return None\n",
    "\n",
    "\n",
    "df['track'] = df['area'].apply(raw_track_to_track)\n",
    "df"
   ]
  },
  {
   "cell_type": "code",
   "execution_count": 53,
   "id": "1a5380de-0307-4bd7-aa69-cdd3c608395b",
   "metadata": {},
   "outputs": [],
   "source": [
    "tracks_to_create_classifier = ['Syntax', 'Grounding', 'Semantics', 'Information Extraction', 'Question Answering', 'Dialogue', 'Evaluation', 'Sentiment Analysis', 'Applications', 'Machine Learning', 'Generation']"
   ]
  },
  {
   "cell_type": "code",
   "execution_count": 56,
   "id": "ba23288a-1c12-413d-a59a-0f2859848c47",
   "metadata": {},
   "outputs": [],
   "source": [
    "HIDDEN_SIZE = 400 \n",
    "BATCH_SIZE = 150\n",
    "LR = 0.002\n",
    "INPUT_SIZE = 768\n",
    "SEED = 42\n",
    "SPLIT = 0.2\n",
    "\n"
   ]
  },
  {
   "cell_type": "code",
   "execution_count": 65,
   "id": "c5787764-a571-46b5-ab36-2d5f7666352e",
   "metadata": {},
   "outputs": [
    {
     "name": "stderr",
     "output_type": "stream",
     "text": [
      "/var/folders/jd/xcxq41xd1bx5jvgpwp14tr940000gn/T/ipykernel_6885/1353456462.py:18: UserWarning: To copy construct from a tensor, it is recommended to use sourceTensor.clone().detach() or sourceTensor.clone().detach().requires_grad_(True), rather than torch.tensor(sourceTensor).\n",
      "  y_train = torch.tensor(y_train, dtype=torch.long)\n",
      "/var/folders/jd/xcxq41xd1bx5jvgpwp14tr940000gn/T/ipykernel_6885/1353456462.py:19: UserWarning: To copy construct from a tensor, it is recommended to use sourceTensor.clone().detach() or sourceTensor.clone().detach().requires_grad_(True), rather than torch.tensor(sourceTensor).\n",
      "  y_test = torch.tensor(y_test, dtype=torch.long)\n",
      "100%|███████████████████████████████████████████████████████████████████████████████████████████████████████████████████████████████████████████████████████████████████████████████████████████████████████████████████████████████████████████| 50/50 [00:03<00:00, 13.45it/s]\n"
     ]
    },
    {
     "data": {
      "image/png": "[encoded data removed]",
      "text/plain": [
       "<Figure size 800x800 with 2 Axes>"
      ]
     },
     "metadata": {},
     "output_type": "display_data"
    },
    {
     "name": "stdout",
     "output_type": "stream",
     "text": [
      "F1 Score: 0.6060606060606061\n"
     ]
    },
    {
     "data": {
      "text/plain": [
       "MLPClassifier(\n",
       "  (fc1): Linear(in_features=768, out_features=400, bias=True)\n",
       "  (relu): ReLU()\n",
       "  (fc2): Linear(in_features=400, out_features=2, bias=True)\n",
       ")"
      ]
     },
     "execution_count": 65,
     "metadata": {},
     "output_type": "execute_result"
    }
   ],
   "source": [
    "from sklearn.metrics import f1_score\n",
    "\n",
    "def train_classifier(track):\n",
    "    X = np.stack(df['embedding'].values)\n",
    "\n",
    "    y = df['track'].values\n",
    "    y = torch.tensor([1 if label == track else 0 for label in y], dtype=torch.long)\n",
    "    \n",
    "    indices = np.arange(len(df))\n",
    "    train_indices, test_indices = train_test_split(indices, test_size=SPLIT, random_state=SEED)\n",
    "    \n",
    "    X_train, X_test = X[train_indices], X[test_indices]\n",
    "    y_train, y_test = y[train_indices], y[test_indices]\n",
    "    \n",
    "    df_train, df_test = df.iloc[train_indices], df.iloc[test_indices]\n",
    "    X_train = torch.tensor(X_train, dtype=torch.float32)\n",
    "    X_test = torch.tensor(X_test, dtype=torch.float32)\n",
    "    y_train = torch.tensor(y_train, dtype=torch.long)\n",
    "    y_test = torch.tensor(y_test, dtype=torch.long)\n",
    "\n",
    "    train_dataset = TensorDataset(X_train, y_train)\n",
    "    \n",
    "    class_sample_count = np.array([len(np.where(y_train == t)[0]) for t in np.unique(y_train)])\n",
    "    weight = 1. / class_sample_count\n",
    "    samples_weight = np.array([weight[t] for t in y_train])\n",
    "    \n",
    "    samples_weight = torch.from_numpy(samples_weight)\n",
    "    samples_weight = samples_weight.double()\n",
    "    sampler = WeightedRandomSampler(samples_weight, len(samples_weight))\n",
    "    \n",
    "    train_loader = DataLoader(train_dataset, batch_size=BATCH_SIZE, sampler=sampler)\n",
    "    \n",
    "    test_dataset = TensorDataset(X_test, y_test)\n",
    "    test_loader = DataLoader(test_dataset, batch_size=BATCH_SIZE, shuffle=False)\n",
    "    model = MLPClassifier(INPUT_SIZE, HIDDEN_SIZE, 2)\n",
    "    criterion = nn.CrossEntropyLoss()\n",
    "    optimizer = optim.Adam(model.parameters(), lr=LR)\n",
    "    scheduler = optim.lr_scheduler.ExponentialLR(optimizer, gamma=0.995)\n",
    "    EPOCHS = 50\n",
    "    \n",
    "    for epoch in tqdm(range(EPOCHS)):\n",
    "        model.train()\n",
    "        for i, (inputs, labels) in enumerate(train_loader):\n",
    "            outputs = model(inputs)\n",
    "            _, predicted = torch.max(outputs, 1)\n",
    "            loss = criterion(outputs, labels)\n",
    "            optimizer.zero_grad()\n",
    "            loss.backward()\n",
    "            optimizer.step()\n",
    "        scheduler.step()\n",
    "        \n",
    "    y_pred = []\n",
    "    y_true = []\n",
    "    \n",
    "    model.eval()\n",
    "    with torch.no_grad():\n",
    "        for inputs, labels in test_loader:\n",
    "            inputs, labels = inputs.float(), labels.float()\n",
    "            outputs = model(inputs)\n",
    "            _, predicted = torch.max(outputs, 1)\n",
    "            \n",
    "            y_pred.extend(predicted.numpy())\n",
    "            y_true.extend(labels.numpy())\n",
    "    \n",
    "    cm = confusion_matrix(y_true, y_pred)\n",
    "    \n",
    "    fig, ax = plt.subplots(figsize=(8, 8))\n",
    "    sns.heatmap(cm, annot=True, fmt='d', ax=ax, cmap='Blues', square=True)\n",
    "    labels = ['Non-' + track, track]\n",
    "    ax.set_xlabel('Predicted Labels')\n",
    "    ax.set_ylabel('True Labels')\n",
    "    ax.set_xticklabels(labels)\n",
    "    ax.set_yticklabels(labels)\n",
    "    ax.set_title('Confusion Matrix')\n",
    "    plt.show()\n",
    "    score = f1_score(y_true, y_pred, average='binary')\n",
    "    print(\"F1 Score:\", score)\n",
    "    return model\n",
    "\n",
    "train_classifier('Sentiment Analysis')"
   ]
  },
  {
   "cell_type": "code",
   "execution_count": 39,
   "id": "04df8284-74bb-437e-b129-fe7bd66729c9",
   "metadata": {},
   "outputs": [
    {
     "name": "stderr",
     "output_type": "stream",
     "text": [
      "/var/folders/jd/xcxq41xd1bx5jvgpwp14tr940000gn/T/ipykernel_6885/286480518.py:18: UserWarning: To copy construct from a tensor, it is recommended to use sourceTensor.clone().detach() or sourceTensor.clone().detach().requires_grad_(True), rather than torch.tensor(sourceTensor).\n",
      "  y_train = torch.tensor(y_train, dtype=torch.long)\n",
      "/var/folders/jd/xcxq41xd1bx5jvgpwp14tr940000gn/T/ipykernel_6885/286480518.py:19: UserWarning: To copy construct from a tensor, it is recommended to use sourceTensor.clone().detach() or sourceTensor.clone().detach().requires_grad_(True), rather than torch.tensor(sourceTensor).\n",
      "  y_test = torch.tensor(y_test, dtype=torch.long)\n",
      "100%|███████████████████████████████████████████████████████████████████████████████████████████████████████████████████████████████████████████████████████████████████████████████████████████████████████████████████████████████████████████| 50/50 [00:03<00:00, 14.26it/s]\n"
     ]
    },
    {
     "data": {
      "image/png": "[encoded data removed]",
      "text/plain": [
       "<Figure size 800x800 with 2 Axes>"
      ]
     },
     "metadata": {},
     "output_type": "display_data"
    },
    {
     "name": "stdout",
     "output_type": "stream",
     "text": [
      "F1 Score: 0.6946778711484594\n"
     ]
    }
   ],
   "source": [
    "good_classifiers_tracks = ['Information Extraction', 'Dialogue']\n",
    "\n",
    "model = train_classifier('Information Extraction')\n",
    "torch.save(model.state_dict(), './info-extraction-classifier-weights.pt')"
   ]
  },
  {
   "cell_type": "code",
   "execution_count": 62,
   "id": "e642365a-a1c8-4eb2-ba08-08ab909ff0c4",
   "metadata": {},
   "outputs": [
    {
     "name": "stderr",
     "output_type": "stream",
     "text": [
      "/var/folders/jd/xcxq41xd1bx5jvgpwp14tr940000gn/T/ipykernel_6885/3839837987.py:18: UserWarning: To copy construct from a tensor, it is recommended to use sourceTensor.clone().detach() or sourceTensor.clone().detach().requires_grad_(True), rather than torch.tensor(sourceTensor).\n",
      "  y_train = torch.tensor(y_train, dtype=torch.long)\n",
      "/var/folders/jd/xcxq41xd1bx5jvgpwp14tr940000gn/T/ipykernel_6885/3839837987.py:19: UserWarning: To copy construct from a tensor, it is recommended to use sourceTensor.clone().detach() or sourceTensor.clone().detach().requires_grad_(True), rather than torch.tensor(sourceTensor).\n",
      "  y_test = torch.tensor(y_test, dtype=torch.long)\n",
      "100%|███████████████████████████████████████████████████████████████████████████████████████████████████████████████████████████████████████████████████████████████████████████████████████████████████████████████████████████████████████████| 50/50 [00:03<00:00, 13.40it/s]\n"
     ]
    },
    {
     "data": {
      "image/png": "[encoded data removed]",
      "text/plain": [
       "<Figure size 800x800 with 2 Axes>"
      ]
     },
     "metadata": {},
     "output_type": "display_data"
    },
    {
     "name": "stdout",
     "output_type": "stream",
     "text": [
      "F1 Score: 0.7346938775510204\n"
     ]
    }
   ],
   "source": [
    "model = train_classifier('Dialogue')\n",
    "torch.save(model.state_dict(), './dialogue-classifier-weights.pt')"
   ]
  },
  {
   "cell_type": "code",
   "execution_count": 64,
   "id": "b7dd8ce5-5374-4c58-b015-67fd1b82324a",
   "metadata": {},
   "outputs": [
    {
     "data": {
      "text/plain": [
       "0.20875202593192868"
      ]
     },
     "execution_count": 64,
     "metadata": {},
     "output_type": "execute_result"
    }
   ],
   "source": [
    "len(df[pd.isna(df['track'])]) / len(df)"
   ]
  }
 ],
 "metadata": {
  "kernelspec": {
   "display_name": "Python 3 (ipykernel)",
   "language": "python",
   "name": "python3"
  },
  "language_info": {
   "codemirror_mode": {
    "name": "ipython",
    "version": 3
   },
   "file_extension": ".py",
   "mimetype": "text/x-python",
   "name": "python",
   "nbconvert_exporter": "python",
   "pygments_lexer": "ipython3",
   "version": "3.11.8"
  }
 },
 "nbformat": 4,
 "nbformat_minor": 5
}
