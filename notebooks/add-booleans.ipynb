{
 "cells": [
  {
   "cell_type": "code",
   "execution_count": 174,
   "id": "af602986-4766-46cd-83da-71f57253d5ad",
   "metadata": {},
   "outputs": [],
   "source": [
    "import os, sys\n",
    "sys.path.append(os.path.dirname(os.getcwd()))\n",
    "import matplotlib.pyplot as plt\n",
    "import numpy as np\n",
    "import pandas as pd\n",
    "import matplotlib.ticker as ticker\n",
    "import os\n",
    "import json\n",
    "import zipfile\n",
    "import networkx as nx\n",
    "import statsmodels.api as sm\n",
    "\n",
    "from tqdm import tqdm\n",
    "from matplotlib import rc\n",
    "from matplotlib import colormaps\n",
    "from collections import defaultdict"
   ]
  },
  {
   "cell_type": "code",
   "execution_count": 175,
   "id": "aed971ff-83a3-4419-8c68-b28494d0d8f2",
   "metadata": {},
   "outputs": [
    {
     "data": {
      "text/html": [
       "<div>\n",
       "<style scoped>\n",
       "    .dataframe tbody tr th:only-of-type {\n",
       "        vertical-align: middle;\n",
       "    }\n",
       "\n",
       "    .dataframe tbody tr th {\n",
       "        vertical-align: top;\n",
       "    }\n",
       "\n",
       "    .dataframe thead th {\n",
       "        text-align: right;\n",
       "    }\n",
       "</style>\n",
       "<table border=\"1\" class=\"dataframe\">\n",
       "  <thead>\n",
       "    <tr style=\"text-align: right;\">\n",
       "      <th></th>\n",
       "      <th>id</th>\n",
       "      <th>title</th>\n",
       "      <th>area</th>\n",
       "      <th>source</th>\n",
       "      <th>year</th>\n",
       "      <th>doi</th>\n",
       "      <th>abstract</th>\n",
       "      <th>semantic_scholar_id</th>\n",
       "    </tr>\n",
       "  </thead>\n",
       "  <tbody>\n",
       "    <tr>\n",
       "      <th>0</th>\n",
       "      <td>main.1004</td>\n",
       "      <td>AnswerFact: Fact Checking in Product Question ...</td>\n",
       "      <td>Question Answering</td>\n",
       "      <td>EMNLP</td>\n",
       "      <td>2020</td>\n",
       "      <td>10.18653/v1/2020.emnlp-main.188</td>\n",
       "      <td>Product-related question answering platforms n...</td>\n",
       "      <td>4c61df1b4b9a164fec1a34587b4fffae029cd18c</td>\n",
       "    </tr>\n",
       "    <tr>\n",
       "      <th>1</th>\n",
       "      <td>main.1006</td>\n",
       "      <td>Knowledge-Grounded Dialogue Generation with Pr...</td>\n",
       "      <td>Dialog and Interactive Systems</td>\n",
       "      <td>EMNLP</td>\n",
       "      <td>2020</td>\n",
       "      <td>10.18653/v1/2020.emnlp-main.272</td>\n",
       "      <td>We study knowledge-grounded dialogue generatio...</td>\n",
       "      <td>3447a432f724aa36595643446acda5b78943db19</td>\n",
       "    </tr>\n",
       "    <tr>\n",
       "      <th>2</th>\n",
       "      <td>main.1009</td>\n",
       "      <td>BiST: Bi-directional Spatio-Temporal Reasoning...</td>\n",
       "      <td>Dialog and Interactive Systems</td>\n",
       "      <td>EMNLP</td>\n",
       "      <td>2020</td>\n",
       "      <td>10.18653/v1/2020.emnlp-main.145</td>\n",
       "      <td>Video-grounded dialogues are very challenging ...</td>\n",
       "      <td>f4a2acfeb1705df3f430cc53ace26e1dbbbcbd16</td>\n",
       "    </tr>\n",
       "    <tr>\n",
       "      <th>3</th>\n",
       "      <td>main.1010</td>\n",
       "      <td>A Knowledge-Aware Sequence-to-Tree Network for...</td>\n",
       "      <td>NLP Applications</td>\n",
       "      <td>EMNLP</td>\n",
       "      <td>2020</td>\n",
       "      <td>10.18653/v1/2020.emnlp-main.579</td>\n",
       "      <td>With the advancements in natural language proc...</td>\n",
       "      <td>24ed85ad966823868c1694a19385d01c6ad71008</td>\n",
       "    </tr>\n",
       "    <tr>\n",
       "      <th>4</th>\n",
       "      <td>main.1011</td>\n",
       "      <td>Knowledge Association with Hyperbolic Knowledg...</td>\n",
       "      <td>Information Extraction</td>\n",
       "      <td>EMNLP</td>\n",
       "      <td>2020</td>\n",
       "      <td>10.18653/v1/2020.emnlp-main.460</td>\n",
       "      <td>Capturing associations for knowledge graphs (K...</td>\n",
       "      <td>3d61a28b9429fc8f7047fc379a0134a3765edbcb</td>\n",
       "    </tr>\n",
       "  </tbody>\n",
       "</table>\n",
       "</div>"
      ],
      "text/plain": [
       "          id                                              title  \\\n",
       "0  main.1004  AnswerFact: Fact Checking in Product Question ...   \n",
       "1  main.1006  Knowledge-Grounded Dialogue Generation with Pr...   \n",
       "2  main.1009  BiST: Bi-directional Spatio-Temporal Reasoning...   \n",
       "3  main.1010  A Knowledge-Aware Sequence-to-Tree Network for...   \n",
       "4  main.1011  Knowledge Association with Hyperbolic Knowledg...   \n",
       "\n",
       "                             area source  year  \\\n",
       "0              Question Answering  EMNLP  2020   \n",
       "1  Dialog and Interactive Systems  EMNLP  2020   \n",
       "2  Dialog and Interactive Systems  EMNLP  2020   \n",
       "3                NLP Applications  EMNLP  2020   \n",
       "4          Information Extraction  EMNLP  2020   \n",
       "\n",
       "                               doi  \\\n",
       "0  10.18653/v1/2020.emnlp-main.188   \n",
       "1  10.18653/v1/2020.emnlp-main.272   \n",
       "2  10.18653/v1/2020.emnlp-main.145   \n",
       "3  10.18653/v1/2020.emnlp-main.579   \n",
       "4  10.18653/v1/2020.emnlp-main.460   \n",
       "\n",
       "                                            abstract  \\\n",
       "0  Product-related question answering platforms n...   \n",
       "1  We study knowledge-grounded dialogue generatio...   \n",
       "2  Video-grounded dialogues are very challenging ...   \n",
       "3  With the advancements in natural language proc...   \n",
       "4  Capturing associations for knowledge graphs (K...   \n",
       "\n",
       "                        semantic_scholar_id  \n",
       "0  4c61df1b4b9a164fec1a34587b4fffae029cd18c  \n",
       "1  3447a432f724aa36595643446acda5b78943db19  \n",
       "2  f4a2acfeb1705df3f430cc53ace26e1dbbbcbd16  \n",
       "3  24ed85ad966823868c1694a19385d01c6ad71008  \n",
       "4  3d61a28b9429fc8f7047fc379a0134a3765edbcb  "
      ]
     },
     "execution_count": 175,
     "metadata": {},
     "output_type": "execute_result"
    }
   ],
   "source": [
    "df = pd.read_csv(\"../data/cl_papers.csv\", sep=\",\", index_col=0)\n",
    "df.head()"
   ]
  },
  {
   "cell_type": "code",
   "execution_count": 176,
   "id": "75309bed-2f9f-4134-85e5-ed230282bbfe",
   "metadata": {},
   "outputs": [],
   "source": [
    "from classifier import is_interpretability_title_and_abstract, is_mt_title_and_abstract"
   ]
  },
  {
   "cell_type": "code",
   "execution_count": 177,
   "id": "cc16f1a6-eb92-4ee4-ad33-bb687c3a979f",
   "metadata": {},
   "outputs": [
    {
     "data": {
      "text/plain": [
       "185384"
      ]
     },
     "execution_count": 177,
     "metadata": {},
     "output_type": "execute_result"
    }
   ],
   "source": [
    "json_path = '../citationgraph/graph.json'\n",
    "zip_path = '../citationgraph/graph.zip'\n",
    "\n",
    "if not os.path.exists(json_path):\n",
    "    with zipfile.ZipFile(zip_path, 'r') as zip_ref:\n",
    "        zip_ref.extractall(os.path.dirname(zip_path))\n",
    "    print(\"ZIP file extracted.\")\n",
    " \n",
    "with open(json_path) as f:\n",
    "    graph_json = json.load(f)\n",
    "    G = nx.cytoscape_graph(graph_json)\n",
    "\n",
    "G.number_of_nodes()"
   ]
  },
  {
   "cell_type": "code",
   "execution_count": 189,
   "id": "55a1085e-8d36-4149-baa3-8fa2fcc4b9b9",
   "metadata": {},
   "outputs": [
    {
     "data": {
      "text/plain": [
       "26111"
      ]
     },
     "execution_count": 189,
     "metadata": {},
     "output_type": "execute_result"
    }
   ],
   "source": [
    "missing_nodes = []\n",
    "\n",
    "for node in G.nodes():\n",
    "  if 'mt_prediction' not in G.nodes[node] or G.nodes[node]['mt_prediction'] is None:\n",
    "      missing_nodes.append(node)\n",
    "len(missing_nodes)"
   ]
  },
  {
   "cell_type": "code",
   "execution_count": 222,
   "id": "c63b6b07-c435-4b5f-8e14-f6f5dab2eab8",
   "metadata": {},
   "outputs": [
    {
     "name": "stderr",
     "output_type": "stream",
     "text": [
      "Fetching papers: 53it [01:01,  1.17s/it]\n"
     ]
    }
   ],
   "source": [
    "def get_dois(paper_ids: list[str]):\n",
    "    chunk_size = 500\n",
    "    all_papers = []\n",
    "\n",
    "    for chunk in tqdm(chunk_list(paper_ids, chunk_size), desc=\"Fetching papers\"):\n",
    "        url = 'https://api.semanticscholar.org/graph/v1/paper/batch'\n",
    "        fields = \"externalIds\"\n",
    "\n",
    "        response = requests.post(url,\n",
    "                                 headers={\"x-api-key\": API_KEY},\n",
    "                                 params={\"fields\": fields},\n",
    "                                 json={\"ids\": chunk})\n",
    "\n",
    "        for paper_dict in response.json():\n",
    "            if paper_dict is None:\n",
    "                all_papers.append(None)\n",
    "                continue\n",
    "\n",
    "            if 'DOI' in paper_dict['externalIds']:\n",
    "                doi = paper_dict['externalIds']['DOI']\n",
    "            else:\n",
    "                doi = None\n",
    "            all_papers.append(doi)\n",
    "\n",
    "    return all_papers\n",
    "\n",
    "papers = get_dois(missing_nodes)"
   ]
  },
  {
   "cell_type": "code",
   "execution_count": 233,
   "id": "75f5f30c-4631-4a11-909e-bbee65d8d09f",
   "metadata": {},
   "outputs": [],
   "source": [
    "id_to_doi = {}\n",
    "doi_to_id = {}\n",
    "for doi, ssid in zip(papers, missing_nodes):\n",
    "    if doi:\n",
    "        id_to_doi[ssid] = doi\n",
    "        doi_to_id[doi] = ssid"
   ]
  },
  {
   "cell_type": "code",
   "execution_count": 212,
   "id": "b4ccc7bc-3051-4ccc-acfe-16868859072b",
   "metadata": {},
   "outputs": [],
   "source": [
    "import pyalex\n",
    "\n",
    "pyalex.config.email = \"tomvergara@uc.cl\"\n",
    "pyalex.config.max_retries = 1\n",
    "pyalex.config.retry_backoff_factor = 0.1"
   ]
  },
  {
   "cell_type": "code",
   "execution_count": 240,
   "id": "691f6f3c-3c5f-4025-a119-525dd7414961",
   "metadata": {},
   "outputs": [],
   "source": [
    "doi_to_title_and_abstract = {}"
   ]
  },
  {
   "cell_type": "code",
   "execution_count": 243,
   "id": "3d227353-9970-40cf-9b7b-a130179759be",
   "metadata": {},
   "outputs": [
    {
     "name": "stderr",
     "output_type": "stream",
     "text": [
      "100%|██████████████████████████████████████████████████████████████████████████████████████████████████████████████████████████████████████████████████████████████| 24016/24016 [14:10:25<00:00,  2.12s/it]\n"
     ]
    }
   ],
   "source": [
    "for doi in tqdm(doi_to_id.keys()):\n",
    "    if doi not in doi_to_title_and_abstract:\n",
    "        try:\n",
    "            paper = pyalex.Works()['https://doi.org/' + doi]\n",
    "            title = paper['title']\n",
    "            abstract = paper['abstract']\n",
    "            if title and abstract:\n",
    "                doi_to_title_and_abstract[doi] = { 'title': title, 'abstract': abstract }\n",
    "        except:\n",
    "            pass"
   ]
  },
  {
   "cell_type": "code",
   "execution_count": 244,
   "id": "0d97f1a8-8e43-43c0-bf6d-fcb7635ea94e",
   "metadata": {},
   "outputs": [
    {
     "data": {
      "text/plain": [
       "16954"
      ]
     },
     "execution_count": 244,
     "metadata": {},
     "output_type": "execute_result"
    }
   ],
   "source": [
    "len(doi_to_title_and_abstract)"
   ]
  },
  {
   "cell_type": "code",
   "execution_count": 246,
   "id": "8dbe3bf2-097d-4a8f-a0c6-c3062df53d0e",
   "metadata": {},
   "outputs": [
    {
     "name": "stderr",
     "output_type": "stream",
     "text": [
      "100%|█████████████████████████████████████████████████████████████████████████████████████████████████████████████████████████████████████████████████████████████| 185384/185384 [1:46:01<00:00, 29.14it/s]\n"
     ]
    }
   ],
   "source": [
    "for node in tqdm(G.nodes()):\n",
    "    if 'mt_prediction' not in G.nodes[node] or G.nodes[node]['mt_prediction'] is None:\n",
    "        if node in id_to_doi:\n",
    "            doi = id_to_doi[node]\n",
    "            if doi in doi_to_title_and_abstract:\n",
    "                \n",
    "                abstract = doi_to_title_and_abstract[doi]['abstract']\n",
    "                title = doi_to_title_and_abstract[doi]['title']\n",
    "                mt = is_mt_title_and_abstract(title, abstract)\n",
    "                G.nodes[node]['mt_prediction'] = mt\n",
    "                interpretability = is_interpretability_title_and_abstract(title, abstract)\n",
    "                G.nodes[node]['interpretability_prediction'] = interpretability"
   ]
  },
  {
   "cell_type": "code",
   "execution_count": 247,
   "id": "64a0cb62-d695-425f-b49a-9646d052424c",
   "metadata": {},
   "outputs": [],
   "source": [
    "G_json = nx.cytoscape_data(G)\n",
    "with open('../citationgraph/graph.json', 'w') as f:\n",
    "    json.dump(G_json, f)"
   ]
  },
  {
   "cell_type": "code",
   "execution_count": 250,
   "id": "c28d5445-5546-42a0-8923-81caf87d556c",
   "metadata": {},
   "outputs": [],
   "source": [
    "with open('../citationgraph/abstracts.json', 'w') as f:\n",
    "    json.dump(doi_to_title_and_abstract, f)"
   ]
  }
 ],
 "metadata": {
  "kernelspec": {
   "display_name": "Python 3 (ipykernel)",
   "language": "python",
   "name": "python3"
  },
  "language_info": {
   "codemirror_mode": {
    "name": "ipython",
    "version": 3
   },
   "file_extension": ".py",
   "mimetype": "text/x-python",
   "name": "python",
   "nbconvert_exporter": "python",
   "pygments_lexer": "ipython3",
   "version": "3.11.8"
  }
 },
 "nbformat": 4,
 "nbformat_minor": 5
}
