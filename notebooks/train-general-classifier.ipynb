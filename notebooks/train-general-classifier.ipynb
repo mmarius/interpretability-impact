{
 "cells": [
  {
   "cell_type": "code",
   "execution_count": 1,
   "id": "11c8f6ca-f866-4034-99b2-9b86bc24d0af",
   "metadata": {},
   "outputs": [],
   "source": [
    "import os, sys\n",
    "sys.path.append(os.path.dirname(os.getcwd()))\n",
    "import pandas as pd\n",
    "from sklearn.model_selection import train_test_split\n",
    "import numpy as np\n",
    "import torch\n",
    "import matplotlib.pyplot as plt\n",
    "import seaborn as sns\n",
    "from sklearn.metrics import confusion_matrix\n",
    "from tqdm import tqdm\n"
   ]
  },
  {
   "cell_type": "code",
   "execution_count": 14,
   "id": "53e79626-891d-4029-afc3-d2c23edfd426",
   "metadata": {},
   "outputs": [
    {
     "data": {
      "text/html": [
       "<div>\n",
       "<style scoped>\n",
       "    .dataframe tbody tr th:only-of-type {\n",
       "        vertical-align: middle;\n",
       "    }\n",
       "\n",
       "    .dataframe tbody tr th {\n",
       "        vertical-align: top;\n",
       "    }\n",
       "\n",
       "    .dataframe thead th {\n",
       "        text-align: right;\n",
       "    }\n",
       "</style>\n",
       "<table border=\"1\" class=\"dataframe\">\n",
       "  <thead>\n",
       "    <tr style=\"text-align: right;\">\n",
       "      <th></th>\n",
       "      <th>id</th>\n",
       "      <th>title</th>\n",
       "      <th>area</th>\n",
       "      <th>source</th>\n",
       "      <th>year</th>\n",
       "      <th>doi</th>\n",
       "      <th>abstract</th>\n",
       "      <th>semantic_scholar_id</th>\n",
       "    </tr>\n",
       "  </thead>\n",
       "  <tbody>\n",
       "    <tr>\n",
       "      <th>0</th>\n",
       "      <td>main.1004</td>\n",
       "      <td>AnswerFact: Fact Checking in Product Question ...</td>\n",
       "      <td>Question Answering</td>\n",
       "      <td>EMNLP</td>\n",
       "      <td>2020</td>\n",
       "      <td>10.18653/v1/2020.emnlp-main.188</td>\n",
       "      <td>Product-related question answering platforms n...</td>\n",
       "      <td>4c61df1b4b9a164fec1a34587b4fffae029cd18c</td>\n",
       "    </tr>\n",
       "    <tr>\n",
       "      <th>1</th>\n",
       "      <td>main.1006</td>\n",
       "      <td>Knowledge-Grounded Dialogue Generation with Pr...</td>\n",
       "      <td>Dialog and Interactive Systems</td>\n",
       "      <td>EMNLP</td>\n",
       "      <td>2020</td>\n",
       "      <td>10.18653/v1/2020.emnlp-main.272</td>\n",
       "      <td>We study knowledge-grounded dialogue generatio...</td>\n",
       "      <td>3447a432f724aa36595643446acda5b78943db19</td>\n",
       "    </tr>\n",
       "    <tr>\n",
       "      <th>2</th>\n",
       "      <td>main.1009</td>\n",
       "      <td>BiST: Bi-directional Spatio-Temporal Reasoning...</td>\n",
       "      <td>Dialog and Interactive Systems</td>\n",
       "      <td>EMNLP</td>\n",
       "      <td>2020</td>\n",
       "      <td>10.18653/v1/2020.emnlp-main.145</td>\n",
       "      <td>Video-grounded dialogues are very challenging ...</td>\n",
       "      <td>f4a2acfeb1705df3f430cc53ace26e1dbbbcbd16</td>\n",
       "    </tr>\n",
       "    <tr>\n",
       "      <th>3</th>\n",
       "      <td>main.1010</td>\n",
       "      <td>A Knowledge-Aware Sequence-to-Tree Network for...</td>\n",
       "      <td>NLP Applications</td>\n",
       "      <td>EMNLP</td>\n",
       "      <td>2020</td>\n",
       "      <td>10.18653/v1/2020.emnlp-main.579</td>\n",
       "      <td>With the advancements in natural language proc...</td>\n",
       "      <td>24ed85ad966823868c1694a19385d01c6ad71008</td>\n",
       "    </tr>\n",
       "    <tr>\n",
       "      <th>4</th>\n",
       "      <td>main.1011</td>\n",
       "      <td>Knowledge Association with Hyperbolic Knowledg...</td>\n",
       "      <td>Information Extraction</td>\n",
       "      <td>EMNLP</td>\n",
       "      <td>2020</td>\n",
       "      <td>10.18653/v1/2020.emnlp-main.460</td>\n",
       "      <td>Capturing associations for knowledge graphs (K...</td>\n",
       "      <td>3d61a28b9429fc8f7047fc379a0134a3765edbcb</td>\n",
       "    </tr>\n",
       "    <tr>\n",
       "      <th>...</th>\n",
       "      <td>...</td>\n",
       "      <td>...</td>\n",
       "      <td>...</td>\n",
       "      <td>...</td>\n",
       "      <td>...</td>\n",
       "      <td>...</td>\n",
       "      <td>...</td>\n",
       "      <td>...</td>\n",
       "    </tr>\n",
       "    <tr>\n",
       "      <th>9250</th>\n",
       "      <td>T4773</td>\n",
       "      <td>Rank-Aware Negative Training for Semi-Supervis...</td>\n",
       "      <td>Machine Learning for NLP</td>\n",
       "      <td>ACL</td>\n",
       "      <td>2023</td>\n",
       "      <td>10.1162/tacl_a_00574</td>\n",
       "      <td>Abstract Semi-supervised text classification-b...</td>\n",
       "      <td>79a502caa0b12573f56a7e8948459722aa891479</td>\n",
       "    </tr>\n",
       "    <tr>\n",
       "      <th>9251</th>\n",
       "      <td>T4777</td>\n",
       "      <td>Transparency Helps Reveal When Language Models...</td>\n",
       "      <td>Linguistic Theories, Cognitive Modeling, and P...</td>\n",
       "      <td>ACL</td>\n",
       "      <td>2023</td>\n",
       "      <td>10.1162/tacl_a_00565</td>\n",
       "      <td>Many current NLP systems are built from langua...</td>\n",
       "      <td>eee70790ced38b0fcf50351dbb3dcbdb582467e8</td>\n",
       "    </tr>\n",
       "    <tr>\n",
       "      <th>9252</th>\n",
       "      <td>T4803</td>\n",
       "      <td>Design Choices for Crowdsourcing Implicit Disc...</td>\n",
       "      <td>Discourse and Pragmatics</td>\n",
       "      <td>ACL</td>\n",
       "      <td>2023</td>\n",
       "      <td>10.1162/tacl_a_00586</td>\n",
       "      <td>Abstract Disagreement in natural language anno...</td>\n",
       "      <td>bf65a1b637e0f253abb8402fc9d0ab80db79aa92</td>\n",
       "    </tr>\n",
       "    <tr>\n",
       "      <th>9253</th>\n",
       "      <td>T4929</td>\n",
       "      <td>Time-and-Space-Efficient Weighted Deduction</td>\n",
       "      <td>Semantics: Sentence-level Semantics, Textual I...</td>\n",
       "      <td>ACL</td>\n",
       "      <td>2023</td>\n",
       "      <td>10.1162/tacl_a_00588</td>\n",
       "      <td>Abstract Many NLP algorithms have been describ...</td>\n",
       "      <td>f1803d124e5af7263ce656f7ccf3219eacc62b1c</td>\n",
       "    </tr>\n",
       "    <tr>\n",
       "      <th>9254</th>\n",
       "      <td>T5043</td>\n",
       "      <td>Collective Human Opinions in Semantic Textual ...</td>\n",
       "      <td>Semantics: Sentence-level Semantics, Textual I...</td>\n",
       "      <td>ACL</td>\n",
       "      <td>2023</td>\n",
       "      <td>10.1162/tacl_a_00584</td>\n",
       "      <td>Abstract Despite the subjective nature of sema...</td>\n",
       "      <td>1fc4e904ed92da4b9af30e2eb5224ebe29e470b3</td>\n",
       "    </tr>\n",
       "  </tbody>\n",
       "</table>\n",
       "<p>9255 rows × 8 columns</p>\n",
       "</div>"
      ],
      "text/plain": [
       "             id                                              title  \\\n",
       "0     main.1004  AnswerFact: Fact Checking in Product Question ...   \n",
       "1     main.1006  Knowledge-Grounded Dialogue Generation with Pr...   \n",
       "2     main.1009  BiST: Bi-directional Spatio-Temporal Reasoning...   \n",
       "3     main.1010  A Knowledge-Aware Sequence-to-Tree Network for...   \n",
       "4     main.1011  Knowledge Association with Hyperbolic Knowledg...   \n",
       "...         ...                                                ...   \n",
       "9250      T4773  Rank-Aware Negative Training for Semi-Supervis...   \n",
       "9251      T4777  Transparency Helps Reveal When Language Models...   \n",
       "9252      T4803  Design Choices for Crowdsourcing Implicit Disc...   \n",
       "9253      T4929        Time-and-Space-Efficient Weighted Deduction   \n",
       "9254      T5043  Collective Human Opinions in Semantic Textual ...   \n",
       "\n",
       "                                                   area source  year  \\\n",
       "0                                    Question Answering  EMNLP  2020   \n",
       "1                        Dialog and Interactive Systems  EMNLP  2020   \n",
       "2                        Dialog and Interactive Systems  EMNLP  2020   \n",
       "3                                      NLP Applications  EMNLP  2020   \n",
       "4                                Information Extraction  EMNLP  2020   \n",
       "...                                                 ...    ...   ...   \n",
       "9250                           Machine Learning for NLP    ACL  2023   \n",
       "9251  Linguistic Theories, Cognitive Modeling, and P...    ACL  2023   \n",
       "9252                           Discourse and Pragmatics    ACL  2023   \n",
       "9253  Semantics: Sentence-level Semantics, Textual I...    ACL  2023   \n",
       "9254  Semantics: Sentence-level Semantics, Textual I...    ACL  2023   \n",
       "\n",
       "                                  doi  \\\n",
       "0     10.18653/v1/2020.emnlp-main.188   \n",
       "1     10.18653/v1/2020.emnlp-main.272   \n",
       "2     10.18653/v1/2020.emnlp-main.145   \n",
       "3     10.18653/v1/2020.emnlp-main.579   \n",
       "4     10.18653/v1/2020.emnlp-main.460   \n",
       "...                               ...   \n",
       "9250             10.1162/tacl_a_00574   \n",
       "9251             10.1162/tacl_a_00565   \n",
       "9252             10.1162/tacl_a_00586   \n",
       "9253             10.1162/tacl_a_00588   \n",
       "9254             10.1162/tacl_a_00584   \n",
       "\n",
       "                                               abstract  \\\n",
       "0     Product-related question answering platforms n...   \n",
       "1     We study knowledge-grounded dialogue generatio...   \n",
       "2     Video-grounded dialogues are very challenging ...   \n",
       "3     With the advancements in natural language proc...   \n",
       "4     Capturing associations for knowledge graphs (K...   \n",
       "...                                                 ...   \n",
       "9250  Abstract Semi-supervised text classification-b...   \n",
       "9251  Many current NLP systems are built from langua...   \n",
       "9252  Abstract Disagreement in natural language anno...   \n",
       "9253  Abstract Many NLP algorithms have been describ...   \n",
       "9254  Abstract Despite the subjective nature of sema...   \n",
       "\n",
       "                           semantic_scholar_id  \n",
       "0     4c61df1b4b9a164fec1a34587b4fffae029cd18c  \n",
       "1     3447a432f724aa36595643446acda5b78943db19  \n",
       "2     f4a2acfeb1705df3f430cc53ace26e1dbbbcbd16  \n",
       "3     24ed85ad966823868c1694a19385d01c6ad71008  \n",
       "4     3d61a28b9429fc8f7047fc379a0134a3765edbcb  \n",
       "...                                        ...  \n",
       "9250  79a502caa0b12573f56a7e8948459722aa891479  \n",
       "9251  eee70790ced38b0fcf50351dbb3dcbdb582467e8  \n",
       "9252  bf65a1b637e0f253abb8402fc9d0ab80db79aa92  \n",
       "9253  f1803d124e5af7263ce656f7ccf3219eacc62b1c  \n",
       "9254  1fc4e904ed92da4b9af30e2eb5224ebe29e470b3  \n",
       "\n",
       "[9255 rows x 8 columns]"
      ]
     },
     "execution_count": 14,
     "metadata": {},
     "output_type": "execute_result"
    }
   ],
   "source": [
    "df = pd.read_csv('../data/cl_papers.csv', index_col=0)\n",
    "df"
   ]
  },
  {
   "cell_type": "code",
   "execution_count": 284,
   "id": "8f972d23-ab29-4a67-9c78-f18f4fdb2461",
   "metadata": {},
   "outputs": [],
   "source": [
    "mapping = {\n",
    "  'Cognitive Modeling and Psycholinguistics': 'Linguistic Theories and Psycholinguistics',\n",
    "  'Commonsense Reasoning': 'Commonsense Reasoning',\n",
    "  'Computational Social Science and Cultural Analytics': 'Social Science',\n",
    "  'Computational Social Science and Social Media': 'Social Science',\n",
    "  'Dialog and Interactive Systems': 'Dialogue',\n",
    "  'Dialogue and Interactive Systems': 'Dialogue',\n",
    "  'Discourse and Pragmatics': 'Discourse and Pragmatics',\n",
    "  'Discourse and Pragmatics & Ethics in NLP': 'Discourse and Pragmatics',\n",
    "  'Efficient Methods for NLP': 'Efficient Methods',\n",
    "  'Ethic Concerns:Dialogue and Interactive Systems': 'Ethics',\n",
    "  'Ethic Concerns:Ethics': 'Ethics',\n",
    "  'Ethic Concerns:Linguistic Theories, Cognitive Modeling and Psycholinguistics': 'Ethics',\n",
    "  'Ethic Concerns:Multilinguality': 'Ethics',\n",
    "  'Ethic Concerns:NLP Applications': 'Ethics',\n",
    "  'Ethic Concerns:Resources and Evaluation': 'Ethics',\n",
    "  'Ethic Concerns:Sentiment Analysis, Stylistic Analysis, and Argument Mining': 'Ethics',\n",
    "  'Ethic Concerns:Speech, Vision, Robotics, Multimodal Grounding': 'Ethics',\n",
    "  'Ethic Concerns:Unsupervised and Weakly-Supervised Methods in NLP': 'Ethics',\n",
    "  'Ethics': 'Ethics',\n",
    "  'Ethics and NLP': 'Ethics',\n",
    "  'Ethics in NLP': 'Ethics',\n",
    "  'Generation': 'Generation',\n",
    "  'Human-Centered NLP': 'Human-Centered NLP',\n",
    "  'Industry': 'Industry',\n",
    "  'Information Extraction': 'Information Extraction/Retrieval',\n",
    "  'Information Retrieval and Text Mining': 'Information Extraction/Retrieval',\n",
    "  'Interpretability and Analysis of Models for NLP': 'Interpretability and Analysis',\n",
    "  'Interpretability, Interactivity and Analysis of Models for NLP': 'Interpretability and Analysis',\n",
    "  'Interpretability, Interactivity, and Analysis of Models for NLP': 'Interpretability and Analysis',\n",
    "  'Language Generation': 'Generation',\n",
    "  'Language Grounding to Vision, Robotics and Beyond': 'Multimodality, Speech and Grounding',\n",
    "  'Language Grounding to Vision, Robotics, and Beyond': 'Multimodality, Speech and Grounding',\n",
    "  'Language Groundings, Speech and Multimodality': 'Multimodality, Speech and Grounding',\n",
    "  'Language Modeling and Analysis of Language Models': 'Interpretability and Analysis',\n",
    "  'Large Language Models': 'Large Language Models',\n",
    "  'Linguistic Diversity': 'Machine Translation and Multilinguality',\n",
    "  'Linguistic Theories, Cognitive Modeling and Psycholinguistics': 'Linguistic Theories and Psycholinguistics',\n",
    "  'Linguistic Theories, Cognitive Modeling, and Psycholinguistics': 'Linguistic Theories and Psycholinguistics',\n",
    "  'Machine Learning for NLP': 'Machine Learning',\n",
    "  'Machine Translation': 'Machine Translation and Multilinguality',\n",
    "  'Machine Translation and Multilinguality': 'Machine Translation and Multilinguality',\n",
    "  'Multidisciplinary and Area Chair COI': 'Theme',\n",
    "  'Multilingualism and Cross-Lingual NLP': 'Machine Translation and Multilinguality',\n",
    "  'Multilinguality': 'Machine Translation and Multilinguality',\n",
    "  'Multilinguality and Linguistic Diversity': 'Machine Translation and Multilinguality',\n",
    "  'NLP Applications': 'Applications',\n",
    "  'Natural Language Generation': 'Generation',\n",
    "  'Phonology, Morphology and Word Segmentation': 'Phonology, Morphology and Word Segmentation',\n",
    "  'Phonology, Morphology, and Word Segmentation': 'Phonology, Morphology and Word Segmentation',\n",
    "  'Question Answering': 'Question Answering',\n",
    "  'Resources and Evaluation': 'Resources and Evaluation',\n",
    "  'Semantics': 'Semantics',\n",
    "  'Semantics: Lexical': 'Semantics',\n",
    "  'Semantics: Lexical Semantics': 'Semantics',\n",
    "  'Semantics: Lexical, Sentence level, Document Level, Textual Inference, etc.': 'Semantics',\n",
    "  'Semantics: Lexical, Sentence level, Textual Inference and Other areas': 'Semantics',\n",
    "  'Semantics: Sentence Level': 'Semantics',\n",
    "  'Semantics: Sentence-level Semantics, Textual Inference and Other areas': 'Semantics',\n",
    "  'Semantics: Sentence-level Semantics, Textual Inference, and Other Areas': 'Semantics',\n",
    "  'Semantics: Textual Inference and Other Areas of Semantics': 'Semantics',\n",
    "  'Sentiment Analysis, Stylistic Analysis, and Argument Mining': 'Sentiment Analysis',\n",
    "  'Special Theme on Language Diversity: From Low Resource to Endangered': 'Theme',\n",
    "  'Speech and Multimodality': 'Multimodality, Speech and Grounding',\n",
    "  'Speech, Vision, Robotics, Multimodal Grounding': 'Multimodality, Speech and Grounding',\n",
    "  'Summarization': 'Summarization',\n",
    "  'Syntax, Parsing and their Applications': 'Syntax',\n",
    "  'Syntax: Tagging, Chunking and Parsing': 'Syntax',\n",
    "  'Syntax: Tagging, Chunking, and Parsing': 'Syntax',\n",
    "  'Theme': 'Theme',\n",
    "  'Theme Track': 'Theme',\n",
    "  'Theme Track: Large Language Models and the Future of NLP': 'Theme',\n",
    "  'Theme: Reality Check': 'Theme',\n",
    "  'Theory and Formalism in NLP (Linguistic and Mathematical)': 'Theory and Formalism in NLP',\n",
    "  'Unsupervised and Weakly-Supervised Methods in NLP': 'Unsupervised and Weakly-Supervised Methods in NLP',\n",
    "}\n",
    "\n",
    "dropped_tracks = [\n",
    "    'Theme',\n",
    "    'Discourse and Pragmatics',\n",
    "    'Large Language Models',\n",
    "    'Industry',\n",
    "    'Phonology, Morphology and Word Segmentation',\n",
    "    'Commonsense Reasoning',\n",
    "    'Human-Centered NLP',\n",
    "    'Unsupervised and Weakly-Supervised Methods in NLP',\n",
    "    'Theory and Formalism in NLP',\n",
    "    'Efficient Methods',\n",
    "    'Linguistic Theories and Psycholinguistics',\n",
    "    'Resources and Evaluation',\n",
    "    'Semantics',\n",
    "    'Syntax',\n",
    "    'Applications',\n",
    "    'Ethics'\n",
    "]"
   ]
  },
  {
   "cell_type": "code",
   "execution_count": 75,
   "id": "cfe99532-362c-4cd2-a8e7-8514fb8d1da3",
   "metadata": {},
   "outputs": [
    {
     "data": {
      "text/html": [
       "<div>\n",
       "<style scoped>\n",
       "    .dataframe tbody tr th:only-of-type {\n",
       "        vertical-align: middle;\n",
       "    }\n",
       "\n",
       "    .dataframe tbody tr th {\n",
       "        vertical-align: top;\n",
       "    }\n",
       "\n",
       "    .dataframe thead th {\n",
       "        text-align: right;\n",
       "    }\n",
       "</style>\n",
       "<table border=\"1\" class=\"dataframe\">\n",
       "  <thead>\n",
       "    <tr style=\"text-align: right;\">\n",
       "      <th></th>\n",
       "      <th>id</th>\n",
       "      <th>title</th>\n",
       "      <th>area</th>\n",
       "      <th>source</th>\n",
       "      <th>year</th>\n",
       "      <th>doi</th>\n",
       "      <th>abstract</th>\n",
       "      <th>semantic_scholar_id</th>\n",
       "      <th>track</th>\n",
       "    </tr>\n",
       "  </thead>\n",
       "  <tbody>\n",
       "    <tr>\n",
       "      <th>0</th>\n",
       "      <td>main.1004</td>\n",
       "      <td>AnswerFact: Fact Checking in Product Question ...</td>\n",
       "      <td>Question Answering</td>\n",
       "      <td>EMNLP</td>\n",
       "      <td>2020</td>\n",
       "      <td>10.18653/v1/2020.emnlp-main.188</td>\n",
       "      <td>Product-related question answering platforms n...</td>\n",
       "      <td>4c61df1b4b9a164fec1a34587b4fffae029cd18c</td>\n",
       "      <td>Question Answering</td>\n",
       "    </tr>\n",
       "    <tr>\n",
       "      <th>1</th>\n",
       "      <td>main.1006</td>\n",
       "      <td>Knowledge-Grounded Dialogue Generation with Pr...</td>\n",
       "      <td>Dialog and Interactive Systems</td>\n",
       "      <td>EMNLP</td>\n",
       "      <td>2020</td>\n",
       "      <td>10.18653/v1/2020.emnlp-main.272</td>\n",
       "      <td>We study knowledge-grounded dialogue generatio...</td>\n",
       "      <td>3447a432f724aa36595643446acda5b78943db19</td>\n",
       "      <td>Dialogue</td>\n",
       "    </tr>\n",
       "    <tr>\n",
       "      <th>2</th>\n",
       "      <td>main.1009</td>\n",
       "      <td>BiST: Bi-directional Spatio-Temporal Reasoning...</td>\n",
       "      <td>Dialog and Interactive Systems</td>\n",
       "      <td>EMNLP</td>\n",
       "      <td>2020</td>\n",
       "      <td>10.18653/v1/2020.emnlp-main.145</td>\n",
       "      <td>Video-grounded dialogues are very challenging ...</td>\n",
       "      <td>f4a2acfeb1705df3f430cc53ace26e1dbbbcbd16</td>\n",
       "      <td>Dialogue</td>\n",
       "    </tr>\n",
       "    <tr>\n",
       "      <th>3</th>\n",
       "      <td>main.1010</td>\n",
       "      <td>A Knowledge-Aware Sequence-to-Tree Network for...</td>\n",
       "      <td>NLP Applications</td>\n",
       "      <td>EMNLP</td>\n",
       "      <td>2020</td>\n",
       "      <td>10.18653/v1/2020.emnlp-main.579</td>\n",
       "      <td>With the advancements in natural language proc...</td>\n",
       "      <td>24ed85ad966823868c1694a19385d01c6ad71008</td>\n",
       "      <td>Applications</td>\n",
       "    </tr>\n",
       "    <tr>\n",
       "      <th>4</th>\n",
       "      <td>main.1011</td>\n",
       "      <td>Knowledge Association with Hyperbolic Knowledg...</td>\n",
       "      <td>Information Extraction</td>\n",
       "      <td>EMNLP</td>\n",
       "      <td>2020</td>\n",
       "      <td>10.18653/v1/2020.emnlp-main.460</td>\n",
       "      <td>Capturing associations for knowledge graphs (K...</td>\n",
       "      <td>3d61a28b9429fc8f7047fc379a0134a3765edbcb</td>\n",
       "      <td>Information Extraction/Retrieval</td>\n",
       "    </tr>\n",
       "    <tr>\n",
       "      <th>...</th>\n",
       "      <td>...</td>\n",
       "      <td>...</td>\n",
       "      <td>...</td>\n",
       "      <td>...</td>\n",
       "      <td>...</td>\n",
       "      <td>...</td>\n",
       "      <td>...</td>\n",
       "      <td>...</td>\n",
       "      <td>...</td>\n",
       "    </tr>\n",
       "    <tr>\n",
       "      <th>9250</th>\n",
       "      <td>T4773</td>\n",
       "      <td>Rank-Aware Negative Training for Semi-Supervis...</td>\n",
       "      <td>Machine Learning for NLP</td>\n",
       "      <td>ACL</td>\n",
       "      <td>2023</td>\n",
       "      <td>10.1162/tacl_a_00574</td>\n",
       "      <td>Abstract Semi-supervised text classification-b...</td>\n",
       "      <td>79a502caa0b12573f56a7e8948459722aa891479</td>\n",
       "      <td>Machine Learning</td>\n",
       "    </tr>\n",
       "    <tr>\n",
       "      <th>9251</th>\n",
       "      <td>T4777</td>\n",
       "      <td>Transparency Helps Reveal When Language Models...</td>\n",
       "      <td>Linguistic Theories, Cognitive Modeling, and P...</td>\n",
       "      <td>ACL</td>\n",
       "      <td>2023</td>\n",
       "      <td>10.1162/tacl_a_00565</td>\n",
       "      <td>Many current NLP systems are built from langua...</td>\n",
       "      <td>eee70790ced38b0fcf50351dbb3dcbdb582467e8</td>\n",
       "      <td>Linguistic Theories and Psycholinguistics</td>\n",
       "    </tr>\n",
       "    <tr>\n",
       "      <th>9252</th>\n",
       "      <td>T4803</td>\n",
       "      <td>Design Choices for Crowdsourcing Implicit Disc...</td>\n",
       "      <td>Discourse and Pragmatics</td>\n",
       "      <td>ACL</td>\n",
       "      <td>2023</td>\n",
       "      <td>10.1162/tacl_a_00586</td>\n",
       "      <td>Abstract Disagreement in natural language anno...</td>\n",
       "      <td>bf65a1b637e0f253abb8402fc9d0ab80db79aa92</td>\n",
       "      <td>Discourse and Pragmatics</td>\n",
       "    </tr>\n",
       "    <tr>\n",
       "      <th>9253</th>\n",
       "      <td>T4929</td>\n",
       "      <td>Time-and-Space-Efficient Weighted Deduction</td>\n",
       "      <td>Semantics: Sentence-level Semantics, Textual I...</td>\n",
       "      <td>ACL</td>\n",
       "      <td>2023</td>\n",
       "      <td>10.1162/tacl_a_00588</td>\n",
       "      <td>Abstract Many NLP algorithms have been describ...</td>\n",
       "      <td>f1803d124e5af7263ce656f7ccf3219eacc62b1c</td>\n",
       "      <td>Semantics</td>\n",
       "    </tr>\n",
       "    <tr>\n",
       "      <th>9254</th>\n",
       "      <td>T5043</td>\n",
       "      <td>Collective Human Opinions in Semantic Textual ...</td>\n",
       "      <td>Semantics: Sentence-level Semantics, Textual I...</td>\n",
       "      <td>ACL</td>\n",
       "      <td>2023</td>\n",
       "      <td>10.1162/tacl_a_00584</td>\n",
       "      <td>Abstract Despite the subjective nature of sema...</td>\n",
       "      <td>1fc4e904ed92da4b9af30e2eb5224ebe29e470b3</td>\n",
       "      <td>Semantics</td>\n",
       "    </tr>\n",
       "  </tbody>\n",
       "</table>\n",
       "<p>6994 rows × 9 columns</p>\n",
       "</div>"
      ],
      "text/plain": [
       "             id                                              title  \\\n",
       "0     main.1004  AnswerFact: Fact Checking in Product Question ...   \n",
       "1     main.1006  Knowledge-Grounded Dialogue Generation with Pr...   \n",
       "2     main.1009  BiST: Bi-directional Spatio-Temporal Reasoning...   \n",
       "3     main.1010  A Knowledge-Aware Sequence-to-Tree Network for...   \n",
       "4     main.1011  Knowledge Association with Hyperbolic Knowledg...   \n",
       "...         ...                                                ...   \n",
       "9250      T4773  Rank-Aware Negative Training for Semi-Supervis...   \n",
       "9251      T4777  Transparency Helps Reveal When Language Models...   \n",
       "9252      T4803  Design Choices for Crowdsourcing Implicit Disc...   \n",
       "9253      T4929        Time-and-Space-Efficient Weighted Deduction   \n",
       "9254      T5043  Collective Human Opinions in Semantic Textual ...   \n",
       "\n",
       "                                                   area source  year  \\\n",
       "0                                    Question Answering  EMNLP  2020   \n",
       "1                        Dialog and Interactive Systems  EMNLP  2020   \n",
       "2                        Dialog and Interactive Systems  EMNLP  2020   \n",
       "3                                      NLP Applications  EMNLP  2020   \n",
       "4                                Information Extraction  EMNLP  2020   \n",
       "...                                                 ...    ...   ...   \n",
       "9250                           Machine Learning for NLP    ACL  2023   \n",
       "9251  Linguistic Theories, Cognitive Modeling, and P...    ACL  2023   \n",
       "9252                           Discourse and Pragmatics    ACL  2023   \n",
       "9253  Semantics: Sentence-level Semantics, Textual I...    ACL  2023   \n",
       "9254  Semantics: Sentence-level Semantics, Textual I...    ACL  2023   \n",
       "\n",
       "                                  doi  \\\n",
       "0     10.18653/v1/2020.emnlp-main.188   \n",
       "1     10.18653/v1/2020.emnlp-main.272   \n",
       "2     10.18653/v1/2020.emnlp-main.145   \n",
       "3     10.18653/v1/2020.emnlp-main.579   \n",
       "4     10.18653/v1/2020.emnlp-main.460   \n",
       "...                               ...   \n",
       "9250             10.1162/tacl_a_00574   \n",
       "9251             10.1162/tacl_a_00565   \n",
       "9252             10.1162/tacl_a_00586   \n",
       "9253             10.1162/tacl_a_00588   \n",
       "9254             10.1162/tacl_a_00584   \n",
       "\n",
       "                                               abstract  \\\n",
       "0     Product-related question answering platforms n...   \n",
       "1     We study knowledge-grounded dialogue generatio...   \n",
       "2     Video-grounded dialogues are very challenging ...   \n",
       "3     With the advancements in natural language proc...   \n",
       "4     Capturing associations for knowledge graphs (K...   \n",
       "...                                                 ...   \n",
       "9250  Abstract Semi-supervised text classification-b...   \n",
       "9251  Many current NLP systems are built from langua...   \n",
       "9252  Abstract Disagreement in natural language anno...   \n",
       "9253  Abstract Many NLP algorithms have been describ...   \n",
       "9254  Abstract Despite the subjective nature of sema...   \n",
       "\n",
       "                           semantic_scholar_id  \\\n",
       "0     4c61df1b4b9a164fec1a34587b4fffae029cd18c   \n",
       "1     3447a432f724aa36595643446acda5b78943db19   \n",
       "2     f4a2acfeb1705df3f430cc53ace26e1dbbbcbd16   \n",
       "3     24ed85ad966823868c1694a19385d01c6ad71008   \n",
       "4     3d61a28b9429fc8f7047fc379a0134a3765edbcb   \n",
       "...                                        ...   \n",
       "9250  79a502caa0b12573f56a7e8948459722aa891479   \n",
       "9251  eee70790ced38b0fcf50351dbb3dcbdb582467e8   \n",
       "9252  bf65a1b637e0f253abb8402fc9d0ab80db79aa92   \n",
       "9253  f1803d124e5af7263ce656f7ccf3219eacc62b1c   \n",
       "9254  1fc4e904ed92da4b9af30e2eb5224ebe29e470b3   \n",
       "\n",
       "                                          track  \n",
       "0                            Question Answering  \n",
       "1                                      Dialogue  \n",
       "2                                      Dialogue  \n",
       "3                                  Applications  \n",
       "4              Information Extraction/Retrieval  \n",
       "...                                         ...  \n",
       "9250                           Machine Learning  \n",
       "9251  Linguistic Theories and Psycholinguistics  \n",
       "9252                   Discourse and Pragmatics  \n",
       "9253                                  Semantics  \n",
       "9254                                  Semantics  \n",
       "\n",
       "[6994 rows x 9 columns]"
      ]
     },
     "execution_count": 75,
     "metadata": {},
     "output_type": "execute_result"
    }
   ],
   "source": [
    "df_2020 = df[df['year'] >= 2020].copy()\n",
    "df_2020['track'] = df_2020['area'].map(mapping)\n",
    "df_2020"
   ]
  },
  {
   "cell_type": "code",
   "execution_count": 285,
   "id": "7d405db3-fd79-483a-821c-3ba456261d8d",
   "metadata": {},
   "outputs": [
    {
     "data": {
      "text/plain": [
       "track\n",
       "Other                                      2441\n",
       "Information Extraction/Retrieval            674\n",
       "Machine Translation and Multilinguality     594\n",
       "Machine Learning                            557\n",
       "Dialogue                                    487\n",
       "Interpretability and Analysis               477\n",
       "Multimodality, Speech and Grounding         389\n",
       "Generation                                  361\n",
       "Question Answering                          334\n",
       "Sentiment Analysis                          258\n",
       "Summarization                               244\n",
       "Social Science                              178\n",
       "Name: count, dtype: int64"
      ]
     },
     "execution_count": 285,
     "metadata": {},
     "output_type": "execute_result"
    }
   ],
   "source": [
    "df_2020['track'] = df_2020['area'].map(mapping)\n",
    "df_2020['track'] = df_2020['track'].apply(lambda track: 'Other' if track in dropped_tracks else track)\n",
    "df_2020['track'].value_counts()"
   ]
  },
  {
   "cell_type": "markdown",
   "id": "8d07a70a-de3b-45d6-b512-4ea5d76acdbc",
   "metadata": {},
   "source": [
    "# Computing embeddings"
   ]
  },
  {
   "cell_type": "code",
   "execution_count": 79,
   "id": "caa965e6-7c6b-4154-8d0d-eb12f3d890f7",
   "metadata": {},
   "outputs": [
    {
     "data": {
      "application/vnd.jupyter.widget-view+json": {
       "model_id": "86c8f31164b248848cede7150f65b1f1",
       "version_major": 2,
       "version_minor": 0
      },
      "text/plain": [
       "Fetching 4 files:   0%|          | 0/4 [00:00<?, ?it/s]"
      ]
     },
     "metadata": {},
     "output_type": "display_data"
    },
    {
     "name": "stderr",
     "output_type": "stream",
     "text": [
      "100%|███████████████████████████████████████████████████████████████████████████████████████████████████████████████████████████████████████████████████████████████████████████████████████████████████████████████████████████████████████| 6994/6994 [13:32<00:00,  8.61it/s]\n"
     ]
    }
   ],
   "source": [
    "from transformers import AutoTokenizer\n",
    "from adapters import AutoAdapterModel\n",
    "from tqdm import tqdm\n",
    "tqdm.pandas()\n",
    "\n",
    "tokenizer = AutoTokenizer.from_pretrained('allenai/specter2_base')\n",
    "\n",
    "model = AutoAdapterModel.from_pretrained(\"allenai/specter2_base\")\n",
    "adapter_name = model.load_adapter(\"allenai/specter2_classification\", source=\"hf\", set_active=True)\n",
    "\n",
    "def get_embedding(paper_row):\n",
    "    text = paper_row['title'] + tokenizer.sep_token + paper_row['abstract']\n",
    "    inputs = tokenizer(text,\n",
    "                       padding=True,\n",
    "                       truncation=True,\n",
    "                       return_tensors=\"pt\",\n",
    "                       return_token_type_ids=False,\n",
    "                       max_length=2048)\n",
    "    output = model(**inputs)\n",
    "    embeddings = output.last_hidden_state[:, 0, :][0].detach().numpy()\n",
    "    return embeddings\n",
    "\n",
    "df_2020['embedding'] = df_2020.progress_apply(get_embedding, axis=1)"
   ]
  },
  {
   "cell_type": "code",
   "execution_count": 286,
   "id": "9ea340b0-8b4c-402f-940a-d05c949ce85d",
   "metadata": {},
   "outputs": [],
   "source": [
    "from sklearn.model_selection import train_test_split\n",
    "from sklearn.preprocessing import LabelEncoder\n",
    "import numpy as np\n",
    "import torch\n",
    "\n",
    "SEED = 42\n",
    "SPLIT = 0.2\n",
    "\n",
    "X = np.stack(df_2020['embedding'].values)\n",
    "\n",
    "label_encoder = LabelEncoder()\n",
    "y = df_2020['track'].values\n",
    "y = label_encoder.fit_transform(y)\n",
    "y = torch.tensor(y, dtype=torch.long)\n",
    "\n",
    "indices = np.arange(len(df_2020))\n",
    "train_indices, test_indices = train_test_split(indices, test_size=SPLIT, random_state=SEED)\n",
    "\n",
    "X_train, X_test = X[train_indices], X[test_indices]\n",
    "y_train, y_test = y[train_indices], y[test_indices]\n",
    "\n",
    "df_train, df_test = df_2020.iloc[train_indices], df_2020.iloc[test_indices]"
   ]
  },
  {
   "cell_type": "code",
   "execution_count": 287,
   "id": "18e96a47-f9f2-4981-9284-e9170f051b7a",
   "metadata": {},
   "outputs": [
    {
     "name": "stderr",
     "output_type": "stream",
     "text": [
      "/var/folders/jd/xcxq41xd1bx5jvgpwp14tr940000gn/T/ipykernel_46026/3748808886.py:3: UserWarning: To copy construct from a tensor, it is recommended to use sourceTensor.clone().detach() or sourceTensor.clone().detach().requires_grad_(True), rather than torch.tensor(sourceTensor).\n",
      "  y_train = torch.tensor(y_train, dtype=torch.long)\n",
      "/var/folders/jd/xcxq41xd1bx5jvgpwp14tr940000gn/T/ipykernel_46026/3748808886.py:4: UserWarning: To copy construct from a tensor, it is recommended to use sourceTensor.clone().detach() or sourceTensor.clone().detach().requires_grad_(True), rather than torch.tensor(sourceTensor).\n",
      "  y_test = torch.tensor(y_test, dtype=torch.long)\n"
     ]
    }
   ],
   "source": [
    "X_train = torch.tensor(X_train, dtype=torch.float32)\n",
    "X_test = torch.tensor(X_test, dtype=torch.float32)\n",
    "y_train = torch.tensor(y_train, dtype=torch.long)\n",
    "y_test = torch.tensor(y_test, dtype=torch.long)\n",
    "\n",
    "\n",
    "# we are augmenting the test data with blackboxnlp papers\n",
    "blackbox_df = pd.read_csv('../data/blackbox_papers.csv', index_col=0)\n",
    "\n",
    "X_blackbox = np.stack(blackbox_df['embedding'].values) \n",
    "X_blackbox = torch.stack([torch.tensor(np.fromstring(x[1:-1], sep='\\n'), dtype=torch.float32) for x in X_blackbox])\n",
    "\n",
    "y_blackbox = blackbox_df['interpretability'].values\n",
    "y_blackbox = torch.tensor([label_encoder.transform(['Interpretability and Analysis'])[0] if label else 0 for label in y_blackbox], dtype=torch.long)\n",
    "X_augmented_train = torch.cat((X_train, X_blackbox), dim=0)\n",
    "y_augmented_train = torch.cat((y_train, y_blackbox), dim=0)\n"
   ]
  },
  {
   "cell_type": "code",
   "execution_count": 288,
   "id": "61dc547d-18d1-4041-91cf-d6805ad0d807",
   "metadata": {},
   "outputs": [],
   "source": [
    "import torch\n",
    "import torch.nn as nn\n",
    "import torch.optim as optim\n",
    "\n",
    "\n",
    "class MLPClassifier(nn.Module):\n",
    "    def __init__(self, input_size, hidden_size, num_classes):\n",
    "        super(MLPClassifier, self).__init__()\n",
    "        self.fc1 = nn.Linear(input_size, hidden_size)\n",
    "        self.relu = nn.ReLU()\n",
    "        self.fc2 = nn.Linear(hidden_size, num_classes)\n",
    "\n",
    "\n",
    "    def forward(self, x):\n",
    "        out = self.fc1(x)\n",
    "        out = self.relu(out)\n",
    "        out = self.fc2(out)\n",
    "        out = torch.softmax(out, dim=-1)\n",
    "        return out\n"
   ]
  },
  {
   "cell_type": "code",
   "execution_count": 327,
   "id": "0ea3d9c7-b17a-4070-972b-5dbec70e0fb5",
   "metadata": {},
   "outputs": [],
   "source": [
    "HIDDEN_SIZE = 400 \n",
    "BATCH_SIZE = 250\n",
    "LR = 0.001\n",
    "INPUT_SIZE = X_train.shape[1]\n",
    "OUTPUT_SIZE = max(y_train) + 1"
   ]
  },
  {
   "cell_type": "code",
   "execution_count": 328,
   "id": "36ea7b10-b4a4-49ef-a45c-d5b5260c61fb",
   "metadata": {},
   "outputs": [
    {
     "name": "stderr",
     "output_type": "stream",
     "text": [
      "/var/folders/jd/xcxq41xd1bx5jvgpwp14tr940000gn/T/ipykernel_46026/2651607641.py:5: UserWarning:\n",
      "\n",
      "To copy construct from a tensor, it is recommended to use sourceTensor.clone().detach() or sourceTensor.clone().detach().requires_grad_(True), rather than torch.tensor(sourceTensor).\n",
      "\n",
      "/var/folders/jd/xcxq41xd1bx5jvgpwp14tr940000gn/T/ipykernel_46026/2651607641.py:6: UserWarning:\n",
      "\n",
      "To copy construct from a tensor, it is recommended to use sourceTensor.clone().detach() or sourceTensor.clone().detach().requires_grad_(True), rather than torch.tensor(sourceTensor).\n",
      "\n",
      "/var/folders/jd/xcxq41xd1bx5jvgpwp14tr940000gn/T/ipykernel_46026/2651607641.py:22: UserWarning:\n",
      "\n",
      "To copy construct from a tensor, it is recommended to use sourceTensor.clone().detach() or sourceTensor.clone().detach().requires_grad_(True), rather than torch.tensor(sourceTensor).\n",
      "\n",
      "/var/folders/jd/xcxq41xd1bx5jvgpwp14tr940000gn/T/ipykernel_46026/2651607641.py:23: UserWarning:\n",
      "\n",
      "To copy construct from a tensor, it is recommended to use sourceTensor.clone().detach() or sourceTensor.clone().detach().requires_grad_(True), rather than torch.tensor(sourceTensor).\n",
      "\n"
     ]
    }
   ],
   "source": [
    "from torch.utils.data import DataLoader, TensorDataset, WeightedRandomSampler\n",
    "import torch\n",
    "import numpy as np\n",
    "\n",
    "X_train_tensor = torch.tensor(X_augmented_train, dtype=torch.float32)\n",
    "y_train_tensor = torch.tensor(X_augmented_train, dtype=torch.long)\n",
    "\n",
    "train_dataset = TensorDataset(X_augmented_train, y_augmented_train)\n",
    "\n",
    "class_sample_count = np.array([len(np.where(y_train == t)[0]) for t in np.unique(y_augmented_train)])\n",
    "class_weights = 1. / class_sample_count\n",
    "class_weights[label_encoder.transform(['Other'])[0]]*=2\n",
    "class_weights[label_encoder.transform(['Interpretability and Analysis'])[0]]*=2\n",
    "samples_weights = np.array([class_weights[t] for t in y_train])\n",
    "samples_weights = torch.from_numpy(samples_weights)\n",
    "samples_weights = samples_weights.double()\n",
    "\n",
    "sampler = WeightedRandomSampler(samples_weights, len(samples_weights))\n",
    "\n",
    "train_loader = DataLoader(train_dataset, batch_size=BATCH_SIZE, sampler=sampler)\n",
    "\n",
    "X_test_tensor = torch.tensor(X_test, dtype=torch.float32)\n",
    "y_test_tensor = torch.tensor(y_test, dtype=torch.long)\n",
    "\n",
    "test_dataset = TensorDataset(X_test_tensor, y_test_tensor)\n",
    "test_loader = DataLoader(test_dataset, batch_size=BATCH_SIZE, shuffle=False)\n"
   ]
  },
  {
   "cell_type": "code",
   "execution_count": 329,
   "id": "46689b4b-3ef2-4173-a054-ec53ada94f1a",
   "metadata": {},
   "outputs": [
    {
     "name": "stderr",
     "output_type": "stream",
     "text": [
      "100%|███████████████████████████████████████████████████████████████████████████████████████████████████████████████████████████████████████████████████████████████████████| 50/50 [00:02<00:00, 20.98it/s]\n"
     ]
    },
    {
     "data": {
      "image/png": "[encoded data removed]",
      "text/plain": [
       "<Figure size 800x800 with 2 Axes>"
      ]
     },
     "metadata": {},
     "output_type": "display_data"
    },
    {
     "name": "stdout",
     "output_type": "stream",
     "text": [
      "F1 macroScore: 0.6184207427429228\n",
      "F1 microScore: 0.6104360257326662\n"
     ]
    }
   ],
   "source": [
    "import matplotlib.pyplot as plt\n",
    "import seaborn as sns\n",
    "from sklearn.metrics import confusion_matrix, f1_score\n",
    "from tqdm import tqdm\n",
    "\n",
    "model = MLPClassifier(INPUT_SIZE, HIDDEN_SIZE, OUTPUT_SIZE)\n",
    "criterion = nn.CrossEntropyLoss()\n",
    "optimizer = optim.Adam(model.parameters(), lr=LR)\n",
    "scheduler = optim.lr_scheduler.ExponentialLR(optimizer, gamma=0.995)\n",
    "EPOCHS = 50\n",
    "SEED = 42\n",
    "torch.manual_seed(SEED)\n",
    "torch.use_deterministic_algorithms(True)\n",
    "\n",
    "for epoch in tqdm(range(EPOCHS)):\n",
    "    model.train()\n",
    "    for i, (inputs, labels) in enumerate(train_loader):\n",
    "        outputs = model(inputs)\n",
    "        _, predicted = torch.max(outputs, 1)\n",
    "        loss = criterion(outputs, labels)\n",
    "        optimizer.zero_grad()\n",
    "        loss.backward()\n",
    "        optimizer.step()\n",
    "    scheduler.step()\n",
    "    \n",
    "y_pred = []\n",
    "y_true = []\n",
    "\n",
    "model.eval()\n",
    "with torch.no_grad():\n",
    "    for inputs, labels in test_loader:\n",
    "        inputs, labels = inputs.float(), labels.float()\n",
    "        outputs = model(inputs)\n",
    "        max_probs, predicted = torch.max(outputs, 1)\n",
    "        \n",
    "        y_pred.extend(predicted.numpy())\n",
    "        y_true.extend(labels.numpy())\n",
    "cm = confusion_matrix(y_true, y_pred)\n",
    "labels = label_encoder.inverse_transform(list(range(OUTPUT_SIZE)))\n",
    "fig, ax = plt.subplots(figsize=(8, 8))\n",
    "sns.heatmap(cm, annot=True, fmt='d', ax=ax, cmap='Blues', square=True)\n",
    "ax.set_xlabel('Predicted Labels')\n",
    "ax.set_ylabel('True Labels')\n",
    "ax.set_title('Confusion Matrix')\n",
    "plt.show()\n",
    "score = f1_score(y_true, y_pred, average='macro')\n",
    "print(\"F1 macroScore:\", score)\n",
    "score = f1_score(y_true, y_pred, average='micro')\n",
    "print(\"F1 microScore:\", score)\n"
   ]
  },
  {
   "cell_type": "code",
   "execution_count": 330,
   "id": "06b3b236-6176-4448-ad69-7e6e11af3b6e",
   "metadata": {},
   "outputs": [
    {
     "data": {
      "application/vnd.plotly.v1+json": {
       "config": {
        "plotlyServerURL": "https://plot.ly"
       },
       "data": [
        {
         "colorscale": [
          [
           0,
           "rgb(247,251,255)"
          ],
          [
           0.125,
           "rgb(222,235,247)"
          ],
          [
           0.25,
           "rgb(198,219,239)"
          ],
          [
           0.375,
           "rgb(158,202,225)"
          ],
          [
           0.5,
           "rgb(107,174,214)"
          ],
          [
           0.625,
           "rgb(66,146,198)"
          ],
          [
           0.75,
           "rgb(33,113,181)"
          ],
          [
           0.875,
           "rgb(8,81,156)"
          ],
          [
           1,
           "rgb(8,48,107)"
          ]
         ],
         "reversescale": false,
         "showscale": false,
         "type": "heatmap",
         "x": [
          "Dialogue",
          "Generation",
          "Information Extraction/Retrieval",
          "Interpretability and Analysis",
          "Machine Learning",
          "Machine Translation and Multilinguality",
          "Multimodality, Speech and Grounding",
          "Question Answering",
          "Sentiment Analysis",
          "Social Science",
          "Summarization",
          "Other"
         ],
         "y": [
          "Dialogue",
          "Generation",
          "Information Extraction/Retrieval",
          "Interpretability and Analysis",
          "Machine Learning",
          "Machine Translation and Multilinguality",
          "Multimodality, Speech and Grounding",
          "Question Answering",
          "Sentiment Analysis",
          "Social Science",
          "Summarization",
          "Other"
         ],
         "z": [
          [
           98,
           0,
           1,
           1,
           0,
           0,
           3,
           3,
           3,
           0,
           0,
           5
          ],
          [
           6,
           47,
           1,
           2,
           1,
           1,
           1,
           2,
           2,
           1,
           4,
           8
          ],
          [
           3,
           0,
           109,
           0,
           7,
           0,
           3,
           0,
           7,
           3,
           0,
           16
          ],
          [
           2,
           1,
           1,
           65,
           8,
           2,
           2,
           4,
           0,
           2,
           0,
           16
          ],
          [
           5,
           7,
           12,
           21,
           46,
           4,
           0,
           1,
           2,
           1,
           0,
           13
          ],
          [
           2,
           1,
           2,
           10,
           1,
           88,
           2,
           0,
           0,
           1,
           0,
           7
          ],
          [
           2,
           2,
           1,
           0,
           0,
           3,
           33,
           1,
           3,
           1,
           0,
           3
          ],
          [
           0,
           1,
           2,
           2,
           2,
           0,
           0,
           52,
           0,
           0,
           1,
           12
          ],
          [
           2,
           1,
           0,
           0,
           0,
           0,
           0,
           0,
           29,
           5,
           0,
           3
          ],
          [
           0,
           0,
           0,
           0,
           1,
           0,
           0,
           0,
           3,
           23,
           0,
           5
          ],
          [
           2,
           3,
           0,
           0,
           0,
           0,
           1,
           2,
           1,
           1,
           42,
           4
          ],
          [
           25,
           27,
           34,
           69,
           23,
           10,
           12,
           13,
           9,
           33,
           6,
           222
          ]
         ]
        }
       ],
       "layout": {
        "annotations": [
         {
          "font": {
           "color": "#000000"
          },
          "showarrow": false,
          "text": "98",
          "x": "Dialogue",
          "xref": "x",
          "y": "Dialogue",
          "yref": "y"
         },
         {
          "font": {
           "color": "#000000"
          },
          "showarrow": false,
          "text": "0",
          "x": "Generation",
          "xref": "x",
          "y": "Dialogue",
          "yref": "y"
         },
         {
          "font": {
           "color": "#000000"
          },
          "showarrow": false,
          "text": "1",
          "x": "Information Extraction/Retrieval",
          "xref": "x",
          "y": "Dialogue",
          "yref": "y"
         },
         {
          "font": {
           "color": "#000000"
          },
          "showarrow": false,
          "text": "1",
          "x": "Interpretability and Analysis",
          "xref": "x",
          "y": "Dialogue",
          "yref": "y"
         },
         {
          "font": {
           "color": "#000000"
          },
          "showarrow": false,
          "text": "0",
          "x": "Machine Learning",
          "xref": "x",
          "y": "Dialogue",
          "yref": "y"
         },
         {
          "font": {
           "color": "#000000"
          },
          "showarrow": false,
          "text": "0",
          "x": "Machine Translation and Multilinguality",
          "xref": "x",
          "y": "Dialogue",
          "yref": "y"
         },
         {
          "font": {
           "color": "#000000"
          },
          "showarrow": false,
          "text": "3",
          "x": "Multimodality, Speech and Grounding",
          "xref": "x",
          "y": "Dialogue",
          "yref": "y"
         },
         {
          "font": {
           "color": "#000000"
          },
          "showarrow": false,
          "text": "3",
          "x": "Question Answering",
          "xref": "x",
          "y": "Dialogue",
          "yref": "y"
         },
         {
          "font": {
           "color": "#000000"
          },
          "showarrow": false,
          "text": "3",
          "x": "Sentiment Analysis",
          "xref": "x",
          "y": "Dialogue",
          "yref": "y"
         },
         {
          "font": {
           "color": "#000000"
          },
          "showarrow": false,
          "text": "0",
          "x": "Social Science",
          "xref": "x",
          "y": "Dialogue",
          "yref": "y"
         },
         {
          "font": {
           "color": "#000000"
          },
          "showarrow": false,
          "text": "0",
          "x": "Summarization",
          "xref": "x",
          "y": "Dialogue",
          "yref": "y"
         },
         {
          "font": {
           "color": "#000000"
          },
          "showarrow": false,
          "text": "5",
          "x": "Other",
          "xref": "x",
          "y": "Dialogue",
          "yref": "y"
         },
         {
          "font": {
           "color": "#000000"
          },
          "showarrow": false,
          "text": "6",
          "x": "Dialogue",
          "xref": "x",
          "y": "Generation",
          "yref": "y"
         },
         {
          "font": {
           "color": "#000000"
          },
          "showarrow": false,
          "text": "47",
          "x": "Generation",
          "xref": "x",
          "y": "Generation",
          "yref": "y"
         },
         {
          "font": {
           "color": "#000000"
          },
          "showarrow": false,
          "text": "1",
          "x": "Information Extraction/Retrieval",
          "xref": "x",
          "y": "Generation",
          "yref": "y"
         },
         {
          "font": {
           "color": "#000000"
          },
          "showarrow": false,
          "text": "2",
          "x": "Interpretability and Analysis",
          "xref": "x",
          "y": "Generation",
          "yref": "y"
         },
         {
          "font": {
           "color": "#000000"
          },
          "showarrow": false,
          "text": "1",
          "x": "Machine Learning",
          "xref": "x",
          "y": "Generation",
          "yref": "y"
         },
         {
          "font": {
           "color": "#000000"
          },
          "showarrow": false,
          "text": "1",
          "x": "Machine Translation and Multilinguality",
          "xref": "x",
          "y": "Generation",
          "yref": "y"
         },
         {
          "font": {
           "color": "#000000"
          },
          "showarrow": false,
          "text": "1",
          "x": "Multimodality, Speech and Grounding",
          "xref": "x",
          "y": "Generation",
          "yref": "y"
         },
         {
          "font": {
           "color": "#000000"
          },
          "showarrow": false,
          "text": "2",
          "x": "Question Answering",
          "xref": "x",
          "y": "Generation",
          "yref": "y"
         },
         {
          "font": {
           "color": "#000000"
          },
          "showarrow": false,
          "text": "2",
          "x": "Sentiment Analysis",
          "xref": "x",
          "y": "Generation",
          "yref": "y"
         },
         {
          "font": {
           "color": "#000000"
          },
          "showarrow": false,
          "text": "1",
          "x": "Social Science",
          "xref": "x",
          "y": "Generation",
          "yref": "y"
         },
         {
          "font": {
           "color": "#000000"
          },
          "showarrow": false,
          "text": "4",
          "x": "Summarization",
          "xref": "x",
          "y": "Generation",
          "yref": "y"
         },
         {
          "font": {
           "color": "#000000"
          },
          "showarrow": false,
          "text": "8",
          "x": "Other",
          "xref": "x",
          "y": "Generation",
          "yref": "y"
         },
         {
          "font": {
           "color": "#000000"
          },
          "showarrow": false,
          "text": "3",
          "x": "Dialogue",
          "xref": "x",
          "y": "Information Extraction/Retrieval",
          "yref": "y"
         },
         {
          "font": {
           "color": "#000000"
          },
          "showarrow": false,
          "text": "0",
          "x": "Generation",
          "xref": "x",
          "y": "Information Extraction/Retrieval",
          "yref": "y"
         },
         {
          "font": {
           "color": "#000000"
          },
          "showarrow": false,
          "text": "109",
          "x": "Information Extraction/Retrieval",
          "xref": "x",
          "y": "Information Extraction/Retrieval",
          "yref": "y"
         },
         {
          "font": {
           "color": "#000000"
          },
          "showarrow": false,
          "text": "0",
          "x": "Interpretability and Analysis",
          "xref": "x",
          "y": "Information Extraction/Retrieval",
          "yref": "y"
         },
         {
          "font": {
           "color": "#000000"
          },
          "showarrow": false,
          "text": "7",
          "x": "Machine Learning",
          "xref": "x",
          "y": "Information Extraction/Retrieval",
          "yref": "y"
         },
         {
          "font": {
           "color": "#000000"
          },
          "showarrow": false,
          "text": "0",
          "x": "Machine Translation and Multilinguality",
          "xref": "x",
          "y": "Information Extraction/Retrieval",
          "yref": "y"
         },
         {
          "font": {
           "color": "#000000"
          },
          "showarrow": false,
          "text": "3",
          "x": "Multimodality, Speech and Grounding",
          "xref": "x",
          "y": "Information Extraction/Retrieval",
          "yref": "y"
         },
         {
          "font": {
           "color": "#000000"
          },
          "showarrow": false,
          "text": "0",
          "x": "Question Answering",
          "xref": "x",
          "y": "Information Extraction/Retrieval",
          "yref": "y"
         },
         {
          "font": {
           "color": "#000000"
          },
          "showarrow": false,
          "text": "7",
          "x": "Sentiment Analysis",
          "xref": "x",
          "y": "Information Extraction/Retrieval",
          "yref": "y"
         },
         {
          "font": {
           "color": "#000000"
          },
          "showarrow": false,
          "text": "3",
          "x": "Social Science",
          "xref": "x",
          "y": "Information Extraction/Retrieval",
          "yref": "y"
         },
         {
          "font": {
           "color": "#000000"
          },
          "showarrow": false,
          "text": "0",
          "x": "Summarization",
          "xref": "x",
          "y": "Information Extraction/Retrieval",
          "yref": "y"
         },
         {
          "font": {
           "color": "#000000"
          },
          "showarrow": false,
          "text": "16",
          "x": "Other",
          "xref": "x",
          "y": "Information Extraction/Retrieval",
          "yref": "y"
         },
         {
          "font": {
           "color": "#000000"
          },
          "showarrow": false,
          "text": "2",
          "x": "Dialogue",
          "xref": "x",
          "y": "Interpretability and Analysis",
          "yref": "y"
         },
         {
          "font": {
           "color": "#000000"
          },
          "showarrow": false,
          "text": "1",
          "x": "Generation",
          "xref": "x",
          "y": "Interpretability and Analysis",
          "yref": "y"
         },
         {
          "font": {
           "color": "#000000"
          },
          "showarrow": false,
          "text": "1",
          "x": "Information Extraction/Retrieval",
          "xref": "x",
          "y": "Interpretability and Analysis",
          "yref": "y"
         },
         {
          "font": {
           "color": "#000000"
          },
          "showarrow": false,
          "text": "65",
          "x": "Interpretability and Analysis",
          "xref": "x",
          "y": "Interpretability and Analysis",
          "yref": "y"
         },
         {
          "font": {
           "color": "#000000"
          },
          "showarrow": false,
          "text": "8",
          "x": "Machine Learning",
          "xref": "x",
          "y": "Interpretability and Analysis",
          "yref": "y"
         },
         {
          "font": {
           "color": "#000000"
          },
          "showarrow": false,
          "text": "2",
          "x": "Machine Translation and Multilinguality",
          "xref": "x",
          "y": "Interpretability and Analysis",
          "yref": "y"
         },
         {
          "font": {
           "color": "#000000"
          },
          "showarrow": false,
          "text": "2",
          "x": "Multimodality, Speech and Grounding",
          "xref": "x",
          "y": "Interpretability and Analysis",
          "yref": "y"
         },
         {
          "font": {
           "color": "#000000"
          },
          "showarrow": false,
          "text": "4",
          "x": "Question Answering",
          "xref": "x",
          "y": "Interpretability and Analysis",
          "yref": "y"
         },
         {
          "font": {
           "color": "#000000"
          },
          "showarrow": false,
          "text": "0",
          "x": "Sentiment Analysis",
          "xref": "x",
          "y": "Interpretability and Analysis",
          "yref": "y"
         },
         {
          "font": {
           "color": "#000000"
          },
          "showarrow": false,
          "text": "2",
          "x": "Social Science",
          "xref": "x",
          "y": "Interpretability and Analysis",
          "yref": "y"
         },
         {
          "font": {
           "color": "#000000"
          },
          "showarrow": false,
          "text": "0",
          "x": "Summarization",
          "xref": "x",
          "y": "Interpretability and Analysis",
          "yref": "y"
         },
         {
          "font": {
           "color": "#000000"
          },
          "showarrow": false,
          "text": "16",
          "x": "Other",
          "xref": "x",
          "y": "Interpretability and Analysis",
          "yref": "y"
         },
         {
          "font": {
           "color": "#000000"
          },
          "showarrow": false,
          "text": "5",
          "x": "Dialogue",
          "xref": "x",
          "y": "Machine Learning",
          "yref": "y"
         },
         {
          "font": {
           "color": "#000000"
          },
          "showarrow": false,
          "text": "7",
          "x": "Generation",
          "xref": "x",
          "y": "Machine Learning",
          "yref": "y"
         },
         {
          "font": {
           "color": "#000000"
          },
          "showarrow": false,
          "text": "12",
          "x": "Information Extraction/Retrieval",
          "xref": "x",
          "y": "Machine Learning",
          "yref": "y"
         },
         {
          "font": {
           "color": "#000000"
          },
          "showarrow": false,
          "text": "21",
          "x": "Interpretability and Analysis",
          "xref": "x",
          "y": "Machine Learning",
          "yref": "y"
         },
         {
          "font": {
           "color": "#000000"
          },
          "showarrow": false,
          "text": "46",
          "x": "Machine Learning",
          "xref": "x",
          "y": "Machine Learning",
          "yref": "y"
         },
         {
          "font": {
           "color": "#000000"
          },
          "showarrow": false,
          "text": "4",
          "x": "Machine Translation and Multilinguality",
          "xref": "x",
          "y": "Machine Learning",
          "yref": "y"
         },
         {
          "font": {
           "color": "#000000"
          },
          "showarrow": false,
          "text": "0",
          "x": "Multimodality, Speech and Grounding",
          "xref": "x",
          "y": "Machine Learning",
          "yref": "y"
         },
         {
          "font": {
           "color": "#000000"
          },
          "showarrow": false,
          "text": "1",
          "x": "Question Answering",
          "xref": "x",
          "y": "Machine Learning",
          "yref": "y"
         },
         {
          "font": {
           "color": "#000000"
          },
          "showarrow": false,
          "text": "2",
          "x": "Sentiment Analysis",
          "xref": "x",
          "y": "Machine Learning",
          "yref": "y"
         },
         {
          "font": {
           "color": "#000000"
          },
          "showarrow": false,
          "text": "1",
          "x": "Social Science",
          "xref": "x",
          "y": "Machine Learning",
          "yref": "y"
         },
         {
          "font": {
           "color": "#000000"
          },
          "showarrow": false,
          "text": "0",
          "x": "Summarization",
          "xref": "x",
          "y": "Machine Learning",
          "yref": "y"
         },
         {
          "font": {
           "color": "#000000"
          },
          "showarrow": false,
          "text": "13",
          "x": "Other",
          "xref": "x",
          "y": "Machine Learning",
          "yref": "y"
         },
         {
          "font": {
           "color": "#000000"
          },
          "showarrow": false,
          "text": "2",
          "x": "Dialogue",
          "xref": "x",
          "y": "Machine Translation and Multilinguality",
          "yref": "y"
         },
         {
          "font": {
           "color": "#000000"
          },
          "showarrow": false,
          "text": "1",
          "x": "Generation",
          "xref": "x",
          "y": "Machine Translation and Multilinguality",
          "yref": "y"
         },
         {
          "font": {
           "color": "#000000"
          },
          "showarrow": false,
          "text": "2",
          "x": "Information Extraction/Retrieval",
          "xref": "x",
          "y": "Machine Translation and Multilinguality",
          "yref": "y"
         },
         {
          "font": {
           "color": "#000000"
          },
          "showarrow": false,
          "text": "10",
          "x": "Interpretability and Analysis",
          "xref": "x",
          "y": "Machine Translation and Multilinguality",
          "yref": "y"
         },
         {
          "font": {
           "color": "#000000"
          },
          "showarrow": false,
          "text": "1",
          "x": "Machine Learning",
          "xref": "x",
          "y": "Machine Translation and Multilinguality",
          "yref": "y"
         },
         {
          "font": {
           "color": "#000000"
          },
          "showarrow": false,
          "text": "88",
          "x": "Machine Translation and Multilinguality",
          "xref": "x",
          "y": "Machine Translation and Multilinguality",
          "yref": "y"
         },
         {
          "font": {
           "color": "#000000"
          },
          "showarrow": false,
          "text": "2",
          "x": "Multimodality, Speech and Grounding",
          "xref": "x",
          "y": "Machine Translation and Multilinguality",
          "yref": "y"
         },
         {
          "font": {
           "color": "#000000"
          },
          "showarrow": false,
          "text": "0",
          "x": "Question Answering",
          "xref": "x",
          "y": "Machine Translation and Multilinguality",
          "yref": "y"
         },
         {
          "font": {
           "color": "#000000"
          },
          "showarrow": false,
          "text": "0",
          "x": "Sentiment Analysis",
          "xref": "x",
          "y": "Machine Translation and Multilinguality",
          "yref": "y"
         },
         {
          "font": {
           "color": "#000000"
          },
          "showarrow": false,
          "text": "1",
          "x": "Social Science",
          "xref": "x",
          "y": "Machine Translation and Multilinguality",
          "yref": "y"
         },
         {
          "font": {
           "color": "#000000"
          },
          "showarrow": false,
          "text": "0",
          "x": "Summarization",
          "xref": "x",
          "y": "Machine Translation and Multilinguality",
          "yref": "y"
         },
         {
          "font": {
           "color": "#000000"
          },
          "showarrow": false,
          "text": "7",
          "x": "Other",
          "xref": "x",
          "y": "Machine Translation and Multilinguality",
          "yref": "y"
         },
         {
          "font": {
           "color": "#000000"
          },
          "showarrow": false,
          "text": "2",
          "x": "Dialogue",
          "xref": "x",
          "y": "Multimodality, Speech and Grounding",
          "yref": "y"
         },
         {
          "font": {
           "color": "#000000"
          },
          "showarrow": false,
          "text": "2",
          "x": "Generation",
          "xref": "x",
          "y": "Multimodality, Speech and Grounding",
          "yref": "y"
         },
         {
          "font": {
           "color": "#000000"
          },
          "showarrow": false,
          "text": "1",
          "x": "Information Extraction/Retrieval",
          "xref": "x",
          "y": "Multimodality, Speech and Grounding",
          "yref": "y"
         },
         {
          "font": {
           "color": "#000000"
          },
          "showarrow": false,
          "text": "0",
          "x": "Interpretability and Analysis",
          "xref": "x",
          "y": "Multimodality, Speech and Grounding",
          "yref": "y"
         },
         {
          "font": {
           "color": "#000000"
          },
          "showarrow": false,
          "text": "0",
          "x": "Machine Learning",
          "xref": "x",
          "y": "Multimodality, Speech and Grounding",
          "yref": "y"
         },
         {
          "font": {
           "color": "#000000"
          },
          "showarrow": false,
          "text": "3",
          "x": "Machine Translation and Multilinguality",
          "xref": "x",
          "y": "Multimodality, Speech and Grounding",
          "yref": "y"
         },
         {
          "font": {
           "color": "#000000"
          },
          "showarrow": false,
          "text": "33",
          "x": "Multimodality, Speech and Grounding",
          "xref": "x",
          "y": "Multimodality, Speech and Grounding",
          "yref": "y"
         },
         {
          "font": {
           "color": "#000000"
          },
          "showarrow": false,
          "text": "1",
          "x": "Question Answering",
          "xref": "x",
          "y": "Multimodality, Speech and Grounding",
          "yref": "y"
         },
         {
          "font": {
           "color": "#000000"
          },
          "showarrow": false,
          "text": "3",
          "x": "Sentiment Analysis",
          "xref": "x",
          "y": "Multimodality, Speech and Grounding",
          "yref": "y"
         },
         {
          "font": {
           "color": "#000000"
          },
          "showarrow": false,
          "text": "1",
          "x": "Social Science",
          "xref": "x",
          "y": "Multimodality, Speech and Grounding",
          "yref": "y"
         },
         {
          "font": {
           "color": "#000000"
          },
          "showarrow": false,
          "text": "0",
          "x": "Summarization",
          "xref": "x",
          "y": "Multimodality, Speech and Grounding",
          "yref": "y"
         },
         {
          "font": {
           "color": "#000000"
          },
          "showarrow": false,
          "text": "3",
          "x": "Other",
          "xref": "x",
          "y": "Multimodality, Speech and Grounding",
          "yref": "y"
         },
         {
          "font": {
           "color": "#000000"
          },
          "showarrow": false,
          "text": "0",
          "x": "Dialogue",
          "xref": "x",
          "y": "Question Answering",
          "yref": "y"
         },
         {
          "font": {
           "color": "#000000"
          },
          "showarrow": false,
          "text": "1",
          "x": "Generation",
          "xref": "x",
          "y": "Question Answering",
          "yref": "y"
         },
         {
          "font": {
           "color": "#000000"
          },
          "showarrow": false,
          "text": "2",
          "x": "Information Extraction/Retrieval",
          "xref": "x",
          "y": "Question Answering",
          "yref": "y"
         },
         {
          "font": {
           "color": "#000000"
          },
          "showarrow": false,
          "text": "2",
          "x": "Interpretability and Analysis",
          "xref": "x",
          "y": "Question Answering",
          "yref": "y"
         },
         {
          "font": {
           "color": "#000000"
          },
          "showarrow": false,
          "text": "2",
          "x": "Machine Learning",
          "xref": "x",
          "y": "Question Answering",
          "yref": "y"
         },
         {
          "font": {
           "color": "#000000"
          },
          "showarrow": false,
          "text": "0",
          "x": "Machine Translation and Multilinguality",
          "xref": "x",
          "y": "Question Answering",
          "yref": "y"
         },
         {
          "font": {
           "color": "#000000"
          },
          "showarrow": false,
          "text": "0",
          "x": "Multimodality, Speech and Grounding",
          "xref": "x",
          "y": "Question Answering",
          "yref": "y"
         },
         {
          "font": {
           "color": "#000000"
          },
          "showarrow": false,
          "text": "52",
          "x": "Question Answering",
          "xref": "x",
          "y": "Question Answering",
          "yref": "y"
         },
         {
          "font": {
           "color": "#000000"
          },
          "showarrow": false,
          "text": "0",
          "x": "Sentiment Analysis",
          "xref": "x",
          "y": "Question Answering",
          "yref": "y"
         },
         {
          "font": {
           "color": "#000000"
          },
          "showarrow": false,
          "text": "0",
          "x": "Social Science",
          "xref": "x",
          "y": "Question Answering",
          "yref": "y"
         },
         {
          "font": {
           "color": "#000000"
          },
          "showarrow": false,
          "text": "1",
          "x": "Summarization",
          "xref": "x",
          "y": "Question Answering",
          "yref": "y"
         },
         {
          "font": {
           "color": "#000000"
          },
          "showarrow": false,
          "text": "12",
          "x": "Other",
          "xref": "x",
          "y": "Question Answering",
          "yref": "y"
         },
         {
          "font": {
           "color": "#000000"
          },
          "showarrow": false,
          "text": "2",
          "x": "Dialogue",
          "xref": "x",
          "y": "Sentiment Analysis",
          "yref": "y"
         },
         {
          "font": {
           "color": "#000000"
          },
          "showarrow": false,
          "text": "1",
          "x": "Generation",
          "xref": "x",
          "y": "Sentiment Analysis",
          "yref": "y"
         },
         {
          "font": {
           "color": "#000000"
          },
          "showarrow": false,
          "text": "0",
          "x": "Information Extraction/Retrieval",
          "xref": "x",
          "y": "Sentiment Analysis",
          "yref": "y"
         },
         {
          "font": {
           "color": "#000000"
          },
          "showarrow": false,
          "text": "0",
          "x": "Interpretability and Analysis",
          "xref": "x",
          "y": "Sentiment Analysis",
          "yref": "y"
         },
         {
          "font": {
           "color": "#000000"
          },
          "showarrow": false,
          "text": "0",
          "x": "Machine Learning",
          "xref": "x",
          "y": "Sentiment Analysis",
          "yref": "y"
         },
         {
          "font": {
           "color": "#000000"
          },
          "showarrow": false,
          "text": "0",
          "x": "Machine Translation and Multilinguality",
          "xref": "x",
          "y": "Sentiment Analysis",
          "yref": "y"
         },
         {
          "font": {
           "color": "#000000"
          },
          "showarrow": false,
          "text": "0",
          "x": "Multimodality, Speech and Grounding",
          "xref": "x",
          "y": "Sentiment Analysis",
          "yref": "y"
         },
         {
          "font": {
           "color": "#000000"
          },
          "showarrow": false,
          "text": "0",
          "x": "Question Answering",
          "xref": "x",
          "y": "Sentiment Analysis",
          "yref": "y"
         },
         {
          "font": {
           "color": "#000000"
          },
          "showarrow": false,
          "text": "29",
          "x": "Sentiment Analysis",
          "xref": "x",
          "y": "Sentiment Analysis",
          "yref": "y"
         },
         {
          "font": {
           "color": "#000000"
          },
          "showarrow": false,
          "text": "5",
          "x": "Social Science",
          "xref": "x",
          "y": "Sentiment Analysis",
          "yref": "y"
         },
         {
          "font": {
           "color": "#000000"
          },
          "showarrow": false,
          "text": "0",
          "x": "Summarization",
          "xref": "x",
          "y": "Sentiment Analysis",
          "yref": "y"
         },
         {
          "font": {
           "color": "#000000"
          },
          "showarrow": false,
          "text": "3",
          "x": "Other",
          "xref": "x",
          "y": "Sentiment Analysis",
          "yref": "y"
         },
         {
          "font": {
           "color": "#000000"
          },
          "showarrow": false,
          "text": "0",
          "x": "Dialogue",
          "xref": "x",
          "y": "Social Science",
          "yref": "y"
         },
         {
          "font": {
           "color": "#000000"
          },
          "showarrow": false,
          "text": "0",
          "x": "Generation",
          "xref": "x",
          "y": "Social Science",
          "yref": "y"
         },
         {
          "font": {
           "color": "#000000"
          },
          "showarrow": false,
          "text": "0",
          "x": "Information Extraction/Retrieval",
          "xref": "x",
          "y": "Social Science",
          "yref": "y"
         },
         {
          "font": {
           "color": "#000000"
          },
          "showarrow": false,
          "text": "0",
          "x": "Interpretability and Analysis",
          "xref": "x",
          "y": "Social Science",
          "yref": "y"
         },
         {
          "font": {
           "color": "#000000"
          },
          "showarrow": false,
          "text": "1",
          "x": "Machine Learning",
          "xref": "x",
          "y": "Social Science",
          "yref": "y"
         },
         {
          "font": {
           "color": "#000000"
          },
          "showarrow": false,
          "text": "0",
          "x": "Machine Translation and Multilinguality",
          "xref": "x",
          "y": "Social Science",
          "yref": "y"
         },
         {
          "font": {
           "color": "#000000"
          },
          "showarrow": false,
          "text": "0",
          "x": "Multimodality, Speech and Grounding",
          "xref": "x",
          "y": "Social Science",
          "yref": "y"
         },
         {
          "font": {
           "color": "#000000"
          },
          "showarrow": false,
          "text": "0",
          "x": "Question Answering",
          "xref": "x",
          "y": "Social Science",
          "yref": "y"
         },
         {
          "font": {
           "color": "#000000"
          },
          "showarrow": false,
          "text": "3",
          "x": "Sentiment Analysis",
          "xref": "x",
          "y": "Social Science",
          "yref": "y"
         },
         {
          "font": {
           "color": "#000000"
          },
          "showarrow": false,
          "text": "23",
          "x": "Social Science",
          "xref": "x",
          "y": "Social Science",
          "yref": "y"
         },
         {
          "font": {
           "color": "#000000"
          },
          "showarrow": false,
          "text": "0",
          "x": "Summarization",
          "xref": "x",
          "y": "Social Science",
          "yref": "y"
         },
         {
          "font": {
           "color": "#000000"
          },
          "showarrow": false,
          "text": "5",
          "x": "Other",
          "xref": "x",
          "y": "Social Science",
          "yref": "y"
         },
         {
          "font": {
           "color": "#000000"
          },
          "showarrow": false,
          "text": "2",
          "x": "Dialogue",
          "xref": "x",
          "y": "Summarization",
          "yref": "y"
         },
         {
          "font": {
           "color": "#000000"
          },
          "showarrow": false,
          "text": "3",
          "x": "Generation",
          "xref": "x",
          "y": "Summarization",
          "yref": "y"
         },
         {
          "font": {
           "color": "#000000"
          },
          "showarrow": false,
          "text": "0",
          "x": "Information Extraction/Retrieval",
          "xref": "x",
          "y": "Summarization",
          "yref": "y"
         },
         {
          "font": {
           "color": "#000000"
          },
          "showarrow": false,
          "text": "0",
          "x": "Interpretability and Analysis",
          "xref": "x",
          "y": "Summarization",
          "yref": "y"
         },
         {
          "font": {
           "color": "#000000"
          },
          "showarrow": false,
          "text": "0",
          "x": "Machine Learning",
          "xref": "x",
          "y": "Summarization",
          "yref": "y"
         },
         {
          "font": {
           "color": "#000000"
          },
          "showarrow": false,
          "text": "0",
          "x": "Machine Translation and Multilinguality",
          "xref": "x",
          "y": "Summarization",
          "yref": "y"
         },
         {
          "font": {
           "color": "#000000"
          },
          "showarrow": false,
          "text": "1",
          "x": "Multimodality, Speech and Grounding",
          "xref": "x",
          "y": "Summarization",
          "yref": "y"
         },
         {
          "font": {
           "color": "#000000"
          },
          "showarrow": false,
          "text": "2",
          "x": "Question Answering",
          "xref": "x",
          "y": "Summarization",
          "yref": "y"
         },
         {
          "font": {
           "color": "#000000"
          },
          "showarrow": false,
          "text": "1",
          "x": "Sentiment Analysis",
          "xref": "x",
          "y": "Summarization",
          "yref": "y"
         },
         {
          "font": {
           "color": "#000000"
          },
          "showarrow": false,
          "text": "1",
          "x": "Social Science",
          "xref": "x",
          "y": "Summarization",
          "yref": "y"
         },
         {
          "font": {
           "color": "#000000"
          },
          "showarrow": false,
          "text": "42",
          "x": "Summarization",
          "xref": "x",
          "y": "Summarization",
          "yref": "y"
         },
         {
          "font": {
           "color": "#000000"
          },
          "showarrow": false,
          "text": "4",
          "x": "Other",
          "xref": "x",
          "y": "Summarization",
          "yref": "y"
         },
         {
          "font": {
           "color": "#000000"
          },
          "showarrow": false,
          "text": "25",
          "x": "Dialogue",
          "xref": "x",
          "y": "Other",
          "yref": "y"
         },
         {
          "font": {
           "color": "#000000"
          },
          "showarrow": false,
          "text": "27",
          "x": "Generation",
          "xref": "x",
          "y": "Other",
          "yref": "y"
         },
         {
          "font": {
           "color": "#000000"
          },
          "showarrow": false,
          "text": "34",
          "x": "Information Extraction/Retrieval",
          "xref": "x",
          "y": "Other",
          "yref": "y"
         },
         {
          "font": {
           "color": "#000000"
          },
          "showarrow": false,
          "text": "69",
          "x": "Interpretability and Analysis",
          "xref": "x",
          "y": "Other",
          "yref": "y"
         },
         {
          "font": {
           "color": "#000000"
          },
          "showarrow": false,
          "text": "23",
          "x": "Machine Learning",
          "xref": "x",
          "y": "Other",
          "yref": "y"
         },
         {
          "font": {
           "color": "#000000"
          },
          "showarrow": false,
          "text": "10",
          "x": "Machine Translation and Multilinguality",
          "xref": "x",
          "y": "Other",
          "yref": "y"
         },
         {
          "font": {
           "color": "#000000"
          },
          "showarrow": false,
          "text": "12",
          "x": "Multimodality, Speech and Grounding",
          "xref": "x",
          "y": "Other",
          "yref": "y"
         },
         {
          "font": {
           "color": "#000000"
          },
          "showarrow": false,
          "text": "13",
          "x": "Question Answering",
          "xref": "x",
          "y": "Other",
          "yref": "y"
         },
         {
          "font": {
           "color": "#000000"
          },
          "showarrow": false,
          "text": "9",
          "x": "Sentiment Analysis",
          "xref": "x",
          "y": "Other",
          "yref": "y"
         },
         {
          "font": {
           "color": "#000000"
          },
          "showarrow": false,
          "text": "33",
          "x": "Social Science",
          "xref": "x",
          "y": "Other",
          "yref": "y"
         },
         {
          "font": {
           "color": "#000000"
          },
          "showarrow": false,
          "text": "6",
          "x": "Summarization",
          "xref": "x",
          "y": "Other",
          "yref": "y"
         },
         {
          "font": {
           "color": "#FFFFFF"
          },
          "showarrow": false,
          "text": "222",
          "x": "Other",
          "xref": "x",
          "y": "Other",
          "yref": "y"
         }
        ],
        "autosize": true,
        "template": {
         "data": {
          "bar": [
           {
            "error_x": {
             "color": "#2a3f5f"
            },
            "error_y": {
             "color": "#2a3f5f"
            },
            "marker": {
             "line": {
              "color": "#E5ECF6",
              "width": 0.5
             },
             "pattern": {
              "fillmode": "overlay",
              "size": 10,
              "solidity": 0.2
             }
            },
            "type": "bar"
           }
          ],
          "barpolar": [
           {
            "marker": {
             "line": {
              "color": "#E5ECF6",
              "width": 0.5
             },
             "pattern": {
              "fillmode": "overlay",
              "size": 10,
              "solidity": 0.2
             }
            },
            "type": "barpolar"
           }
          ],
          "carpet": [
           {
            "aaxis": {
             "endlinecolor": "#2a3f5f",
             "gridcolor": "white",
             "linecolor": "white",
             "minorgridcolor": "white",
             "startlinecolor": "#2a3f5f"
            },
            "baxis": {
             "endlinecolor": "#2a3f5f",
             "gridcolor": "white",
             "linecolor": "white",
             "minorgridcolor": "white",
             "startlinecolor": "#2a3f5f"
            },
            "type": "carpet"
           }
          ],
          "choropleth": [
           {
            "colorbar": {
             "outlinewidth": 0,
             "ticks": ""
            },
            "type": "choropleth"
           }
          ],
          "contour": [
           {
            "colorbar": {
             "outlinewidth": 0,
             "ticks": ""
            },
            "colorscale": [
             [
              0,
              "#0d0887"
             ],
             [
              0.1111111111111111,
              "#46039f"
             ],
             [
              0.2222222222222222,
              "#7201a8"
             ],
             [
              0.3333333333333333,
              "#9c179e"
             ],
             [
              0.4444444444444444,
              "#bd3786"
             ],
             [
              0.5555555555555556,
              "#d8576b"
             ],
             [
              0.6666666666666666,
              "#ed7953"
             ],
             [
              0.7777777777777778,
              "#fb9f3a"
             ],
             [
              0.8888888888888888,
              "#fdca26"
             ],
             [
              1,
              "#f0f921"
             ]
            ],
            "type": "contour"
           }
          ],
          "contourcarpet": [
           {
            "colorbar": {
             "outlinewidth": 0,
             "ticks": ""
            },
            "type": "contourcarpet"
           }
          ],
          "heatmap": [
           {
            "colorbar": {
             "outlinewidth": 0,
             "ticks": ""
            },
            "colorscale": [
             [
              0,
              "#0d0887"
             ],
             [
              0.1111111111111111,
              "#46039f"
             ],
             [
              0.2222222222222222,
              "#7201a8"
             ],
             [
              0.3333333333333333,
              "#9c179e"
             ],
             [
              0.4444444444444444,
              "#bd3786"
             ],
             [
              0.5555555555555556,
              "#d8576b"
             ],
             [
              0.6666666666666666,
              "#ed7953"
             ],
             [
              0.7777777777777778,
              "#fb9f3a"
             ],
             [
              0.8888888888888888,
              "#fdca26"
             ],
             [
              1,
              "#f0f921"
             ]
            ],
            "type": "heatmap"
           }
          ],
          "heatmapgl": [
           {
            "colorbar": {
             "outlinewidth": 0,
             "ticks": ""
            },
            "colorscale": [
             [
              0,
              "#0d0887"
             ],
             [
              0.1111111111111111,
              "#46039f"
             ],
             [
              0.2222222222222222,
              "#7201a8"
             ],
             [
              0.3333333333333333,
              "#9c179e"
             ],
             [
              0.4444444444444444,
              "#bd3786"
             ],
             [
              0.5555555555555556,
              "#d8576b"
             ],
             [
              0.6666666666666666,
              "#ed7953"
             ],
             [
              0.7777777777777778,
              "#fb9f3a"
             ],
             [
              0.8888888888888888,
              "#fdca26"
             ],
             [
              1,
              "#f0f921"
             ]
            ],
            "type": "heatmapgl"
           }
          ],
          "histogram": [
           {
            "marker": {
             "pattern": {
              "fillmode": "overlay",
              "size": 10,
              "solidity": 0.2
             }
            },
            "type": "histogram"
           }
          ],
          "histogram2d": [
           {
            "colorbar": {
             "outlinewidth": 0,
             "ticks": ""
            },
            "colorscale": [
             [
              0,
              "#0d0887"
             ],
             [
              0.1111111111111111,
              "#46039f"
             ],
             [
              0.2222222222222222,
              "#7201a8"
             ],
             [
              0.3333333333333333,
              "#9c179e"
             ],
             [
              0.4444444444444444,
              "#bd3786"
             ],
             [
              0.5555555555555556,
              "#d8576b"
             ],
             [
              0.6666666666666666,
              "#ed7953"
             ],
             [
              0.7777777777777778,
              "#fb9f3a"
             ],
             [
              0.8888888888888888,
              "#fdca26"
             ],
             [
              1,
              "#f0f921"
             ]
            ],
            "type": "histogram2d"
           }
          ],
          "histogram2dcontour": [
           {
            "colorbar": {
             "outlinewidth": 0,
             "ticks": ""
            },
            "colorscale": [
             [
              0,
              "#0d0887"
             ],
             [
              0.1111111111111111,
              "#46039f"
             ],
             [
              0.2222222222222222,
              "#7201a8"
             ],
             [
              0.3333333333333333,
              "#9c179e"
             ],
             [
              0.4444444444444444,
              "#bd3786"
             ],
             [
              0.5555555555555556,
              "#d8576b"
             ],
             [
              0.6666666666666666,
              "#ed7953"
             ],
             [
              0.7777777777777778,
              "#fb9f3a"
             ],
             [
              0.8888888888888888,
              "#fdca26"
             ],
             [
              1,
              "#f0f921"
             ]
            ],
            "type": "histogram2dcontour"
           }
          ],
          "mesh3d": [
           {
            "colorbar": {
             "outlinewidth": 0,
             "ticks": ""
            },
            "type": "mesh3d"
           }
          ],
          "parcoords": [
           {
            "line": {
             "colorbar": {
              "outlinewidth": 0,
              "ticks": ""
             }
            },
            "type": "parcoords"
           }
          ],
          "pie": [
           {
            "automargin": true,
            "type": "pie"
           }
          ],
          "scatter": [
           {
            "fillpattern": {
             "fillmode": "overlay",
             "size": 10,
             "solidity": 0.2
            },
            "type": "scatter"
           }
          ],
          "scatter3d": [
           {
            "line": {
             "colorbar": {
              "outlinewidth": 0,
              "ticks": ""
             }
            },
            "marker": {
             "colorbar": {
              "outlinewidth": 0,
              "ticks": ""
             }
            },
            "type": "scatter3d"
           }
          ],
          "scattercarpet": [
           {
            "marker": {
             "colorbar": {
              "outlinewidth": 0,
              "ticks": ""
             }
            },
            "type": "scattercarpet"
           }
          ],
          "scattergeo": [
           {
            "marker": {
             "colorbar": {
              "outlinewidth": 0,
              "ticks": ""
             }
            },
            "type": "scattergeo"
           }
          ],
          "scattergl": [
           {
            "marker": {
             "colorbar": {
              "outlinewidth": 0,
              "ticks": ""
             }
            },
            "type": "scattergl"
           }
          ],
          "scattermapbox": [
           {
            "marker": {
             "colorbar": {
              "outlinewidth": 0,
              "ticks": ""
             }
            },
            "type": "scattermapbox"
           }
          ],
          "scatterpolar": [
           {
            "marker": {
             "colorbar": {
              "outlinewidth": 0,
              "ticks": ""
             }
            },
            "type": "scatterpolar"
           }
          ],
          "scatterpolargl": [
           {
            "marker": {
             "colorbar": {
              "outlinewidth": 0,
              "ticks": ""
             }
            },
            "type": "scatterpolargl"
           }
          ],
          "scatterternary": [
           {
            "marker": {
             "colorbar": {
              "outlinewidth": 0,
              "ticks": ""
             }
            },
            "type": "scatterternary"
           }
          ],
          "surface": [
           {
            "colorbar": {
             "outlinewidth": 0,
             "ticks": ""
            },
            "colorscale": [
             [
              0,
              "#0d0887"
             ],
             [
              0.1111111111111111,
              "#46039f"
             ],
             [
              0.2222222222222222,
              "#7201a8"
             ],
             [
              0.3333333333333333,
              "#9c179e"
             ],
             [
              0.4444444444444444,
              "#bd3786"
             ],
             [
              0.5555555555555556,
              "#d8576b"
             ],
             [
              0.6666666666666666,
              "#ed7953"
             ],
             [
              0.7777777777777778,
              "#fb9f3a"
             ],
             [
              0.8888888888888888,
              "#fdca26"
             ],
             [
              1,
              "#f0f921"
             ]
            ],
            "type": "surface"
           }
          ],
          "table": [
           {
            "cells": {
             "fill": {
              "color": "#EBF0F8"
             },
             "line": {
              "color": "white"
             }
            },
            "header": {
             "fill": {
              "color": "#C8D4E3"
             },
             "line": {
              "color": "white"
             }
            },
            "type": "table"
           }
          ]
         },
         "layout": {
          "annotationdefaults": {
           "arrowcolor": "#2a3f5f",
           "arrowhead": 0,
           "arrowwidth": 1
          },
          "autotypenumbers": "strict",
          "coloraxis": {
           "colorbar": {
            "outlinewidth": 0,
            "ticks": ""
           }
          },
          "colorscale": {
           "diverging": [
            [
             0,
             "#8e0152"
            ],
            [
             0.1,
             "#c51b7d"
            ],
            [
             0.2,
             "#de77ae"
            ],
            [
             0.3,
             "#f1b6da"
            ],
            [
             0.4,
             "#fde0ef"
            ],
            [
             0.5,
             "#f7f7f7"
            ],
            [
             0.6,
             "#e6f5d0"
            ],
            [
             0.7,
             "#b8e186"
            ],
            [
             0.8,
             "#7fbc41"
            ],
            [
             0.9,
             "#4d9221"
            ],
            [
             1,
             "#276419"
            ]
           ],
           "sequential": [
            [
             0,
             "#0d0887"
            ],
            [
             0.1111111111111111,
             "#46039f"
            ],
            [
             0.2222222222222222,
             "#7201a8"
            ],
            [
             0.3333333333333333,
             "#9c179e"
            ],
            [
             0.4444444444444444,
             "#bd3786"
            ],
            [
             0.5555555555555556,
             "#d8576b"
            ],
            [
             0.6666666666666666,
             "#ed7953"
            ],
            [
             0.7777777777777778,
             "#fb9f3a"
            ],
            [
             0.8888888888888888,
             "#fdca26"
            ],
            [
             1,
             "#f0f921"
            ]
           ],
           "sequentialminus": [
            [
             0,
             "#0d0887"
            ],
            [
             0.1111111111111111,
             "#46039f"
            ],
            [
             0.2222222222222222,
             "#7201a8"
            ],
            [
             0.3333333333333333,
             "#9c179e"
            ],
            [
             0.4444444444444444,
             "#bd3786"
            ],
            [
             0.5555555555555556,
             "#d8576b"
            ],
            [
             0.6666666666666666,
             "#ed7953"
            ],
            [
             0.7777777777777778,
             "#fb9f3a"
            ],
            [
             0.8888888888888888,
             "#fdca26"
            ],
            [
             1,
             "#f0f921"
            ]
           ]
          },
          "colorway": [
           "#636efa",
           "#EF553B",
           "#00cc96",
           "#ab63fa",
           "#FFA15A",
           "#19d3f3",
           "#FF6692",
           "#B6E880",
           "#FF97FF",
           "#FECB52"
          ],
          "font": {
           "color": "#2a3f5f"
          },
          "geo": {
           "bgcolor": "white",
           "lakecolor": "white",
           "landcolor": "#E5ECF6",
           "showlakes": true,
           "showland": true,
           "subunitcolor": "white"
          },
          "hoverlabel": {
           "align": "left"
          },
          "hovermode": "closest",
          "mapbox": {
           "style": "light"
          },
          "paper_bgcolor": "white",
          "plot_bgcolor": "#E5ECF6",
          "polar": {
           "angularaxis": {
            "gridcolor": "white",
            "linecolor": "white",
            "ticks": ""
           },
           "bgcolor": "#E5ECF6",
           "radialaxis": {
            "gridcolor": "white",
            "linecolor": "white",
            "ticks": ""
           }
          },
          "scene": {
           "xaxis": {
            "backgroundcolor": "#E5ECF6",
            "gridcolor": "white",
            "gridwidth": 2,
            "linecolor": "white",
            "showbackground": true,
            "ticks": "",
            "zerolinecolor": "white"
           },
           "yaxis": {
            "backgroundcolor": "#E5ECF6",
            "gridcolor": "white",
            "gridwidth": 2,
            "linecolor": "white",
            "showbackground": true,
            "ticks": "",
            "zerolinecolor": "white"
           },
           "zaxis": {
            "backgroundcolor": "#E5ECF6",
            "gridcolor": "white",
            "gridwidth": 2,
            "linecolor": "white",
            "showbackground": true,
            "ticks": "",
            "zerolinecolor": "white"
           }
          },
          "shapedefaults": {
           "line": {
            "color": "#2a3f5f"
           }
          },
          "ternary": {
           "aaxis": {
            "gridcolor": "white",
            "linecolor": "white",
            "ticks": ""
           },
           "baxis": {
            "gridcolor": "white",
            "linecolor": "white",
            "ticks": ""
           },
           "bgcolor": "#E5ECF6",
           "caxis": {
            "gridcolor": "white",
            "linecolor": "white",
            "ticks": ""
           }
          },
          "title": {
           "x": 0.05
          },
          "xaxis": {
           "automargin": true,
           "gridcolor": "white",
           "linecolor": "white",
           "ticks": "",
           "title": {
            "standoff": 15
           },
           "zerolinecolor": "white",
           "zerolinewidth": 2
          },
          "yaxis": {
           "automargin": true,
           "gridcolor": "white",
           "linecolor": "white",
           "ticks": "",
           "title": {
            "standoff": 15
           },
           "zerolinecolor": "white",
           "zerolinewidth": 2
          }
         }
        },
        "title": {
         "text": "Confusion Matrix"
        },
        "xaxis": {
         "autorange": true,
         "dtick": 1,
         "gridcolor": "rgb(0, 0, 0)",
         "range": [
          -0.5,
          11.5
         ],
         "side": "bottom",
         "ticks": "",
         "title": {
          "text": "Predicted Labels"
         },
         "type": "category"
        },
        "yaxis": {
         "autorange": true,
         "dtick": 1,
         "range": [
          -0.5,
          11.5
         ],
         "ticks": "",
         "ticksuffix": "  ",
         "title": {
          "text": "True Labels"
         },
         "type": "category"
        }
       }
      },
      "image/png": "[encoded data removed]",
      "text/html": [
       "<div>                            <div id=\"a26482bf-09bf-43de-9705-6ead6058f4a2\" class=\"plotly-graph-div\" style=\"height:700px; width:100%;\"></div>            <script type=\"text/javascript\">                require([\"plotly\"], function(Plotly) {                    window.PLOTLYENV=window.PLOTLYENV || {};                                    if (document.getElementById(\"a26482bf-09bf-43de-9705-6ead6058f4a2\")) {                    Plotly.newPlot(                        \"a26482bf-09bf-43de-9705-6ead6058f4a2\",                        [{\"colorscale\":[[0.0,\"rgb(247,251,255)\"],[0.125,\"rgb(222,235,247)\"],[0.25,\"rgb(198,219,239)\"],[0.375,\"rgb(158,202,225)\"],[0.5,\"rgb(107,174,214)\"],[0.625,\"rgb(66,146,198)\"],[0.75,\"rgb(33,113,181)\"],[0.875,\"rgb(8,81,156)\"],[1.0,\"rgb(8,48,107)\"]],\"reversescale\":false,\"showscale\":false,\"x\":[\"Dialogue\",\"Generation\",\"Information Extraction\\u002fRetrieval\",\"Interpretability and Analysis\",\"Machine Learning\",\"Machine Translation and Multilinguality\",\"Multimodality, Speech and Grounding\",\"Question Answering\",\"Sentiment Analysis\",\"Social Science\",\"Summarization\",\"Other\"],\"y\":[\"Dialogue\",\"Generation\",\"Information Extraction\\u002fRetrieval\",\"Interpretability and Analysis\",\"Machine Learning\",\"Machine Translation and Multilinguality\",\"Multimodality, Speech and Grounding\",\"Question Answering\",\"Sentiment Analysis\",\"Social Science\",\"Summarization\",\"Other\"],\"z\":[[98,0,1,1,0,0,3,3,3,0,0,5],[6,47,1,2,1,1,1,2,2,1,4,8],[3,0,109,0,7,0,3,0,7,3,0,16],[2,1,1,65,8,2,2,4,0,2,0,16],[5,7,12,21,46,4,0,1,2,1,0,13],[2,1,2,10,1,88,2,0,0,1,0,7],[2,2,1,0,0,3,33,1,3,1,0,3],[0,1,2,2,2,0,0,52,0,0,1,12],[2,1,0,0,0,0,0,0,29,5,0,3],[0,0,0,0,1,0,0,0,3,23,0,5],[2,3,0,0,0,0,1,2,1,1,42,4],[25,27,34,69,23,10,12,13,9,33,6,222]],\"type\":\"heatmap\"}],                        {\"annotations\":[{\"font\":{\"color\":\"#000000\"},\"showarrow\":false,\"text\":\"98\",\"x\":\"Dialogue\",\"xref\":\"x\",\"y\":\"Dialogue\",\"yref\":\"y\"},{\"font\":{\"color\":\"#000000\"},\"showarrow\":false,\"text\":\"0\",\"x\":\"Generation\",\"xref\":\"x\",\"y\":\"Dialogue\",\"yref\":\"y\"},{\"font\":{\"color\":\"#000000\"},\"showarrow\":false,\"text\":\"1\",\"x\":\"Information Extraction\\u002fRetrieval\",\"xref\":\"x\",\"y\":\"Dialogue\",\"yref\":\"y\"},{\"font\":{\"color\":\"#000000\"},\"showarrow\":false,\"text\":\"1\",\"x\":\"Interpretability and Analysis\",\"xref\":\"x\",\"y\":\"Dialogue\",\"yref\":\"y\"},{\"font\":{\"color\":\"#000000\"},\"showarrow\":false,\"text\":\"0\",\"x\":\"Machine Learning\",\"xref\":\"x\",\"y\":\"Dialogue\",\"yref\":\"y\"},{\"font\":{\"color\":\"#000000\"},\"showarrow\":false,\"text\":\"0\",\"x\":\"Machine Translation and Multilinguality\",\"xref\":\"x\",\"y\":\"Dialogue\",\"yref\":\"y\"},{\"font\":{\"color\":\"#000000\"},\"showarrow\":false,\"text\":\"3\",\"x\":\"Multimodality, Speech and Grounding\",\"xref\":\"x\",\"y\":\"Dialogue\",\"yref\":\"y\"},{\"font\":{\"color\":\"#000000\"},\"showarrow\":false,\"text\":\"3\",\"x\":\"Question Answering\",\"xref\":\"x\",\"y\":\"Dialogue\",\"yref\":\"y\"},{\"font\":{\"color\":\"#000000\"},\"showarrow\":false,\"text\":\"3\",\"x\":\"Sentiment Analysis\",\"xref\":\"x\",\"y\":\"Dialogue\",\"yref\":\"y\"},{\"font\":{\"color\":\"#000000\"},\"showarrow\":false,\"text\":\"0\",\"x\":\"Social Science\",\"xref\":\"x\",\"y\":\"Dialogue\",\"yref\":\"y\"},{\"font\":{\"color\":\"#000000\"},\"showarrow\":false,\"text\":\"0\",\"x\":\"Summarization\",\"xref\":\"x\",\"y\":\"Dialogue\",\"yref\":\"y\"},{\"font\":{\"color\":\"#000000\"},\"showarrow\":false,\"text\":\"5\",\"x\":\"Other\",\"xref\":\"x\",\"y\":\"Dialogue\",\"yref\":\"y\"},{\"font\":{\"color\":\"#000000\"},\"showarrow\":false,\"text\":\"6\",\"x\":\"Dialogue\",\"xref\":\"x\",\"y\":\"Generation\",\"yref\":\"y\"},{\"font\":{\"color\":\"#000000\"},\"showarrow\":false,\"text\":\"47\",\"x\":\"Generation\",\"xref\":\"x\",\"y\":\"Generation\",\"yref\":\"y\"},{\"font\":{\"color\":\"#000000\"},\"showarrow\":false,\"text\":\"1\",\"x\":\"Information Extraction\\u002fRetrieval\",\"xref\":\"x\",\"y\":\"Generation\",\"yref\":\"y\"},{\"font\":{\"color\":\"#000000\"},\"showarrow\":false,\"text\":\"2\",\"x\":\"Interpretability and Analysis\",\"xref\":\"x\",\"y\":\"Generation\",\"yref\":\"y\"},{\"font\":{\"color\":\"#000000\"},\"showarrow\":false,\"text\":\"1\",\"x\":\"Machine Learning\",\"xref\":\"x\",\"y\":\"Generation\",\"yref\":\"y\"},{\"font\":{\"color\":\"#000000\"},\"showarrow\":false,\"text\":\"1\",\"x\":\"Machine Translation and Multilinguality\",\"xref\":\"x\",\"y\":\"Generation\",\"yref\":\"y\"},{\"font\":{\"color\":\"#000000\"},\"showarrow\":false,\"text\":\"1\",\"x\":\"Multimodality, Speech and Grounding\",\"xref\":\"x\",\"y\":\"Generation\",\"yref\":\"y\"},{\"font\":{\"color\":\"#000000\"},\"showarrow\":false,\"text\":\"2\",\"x\":\"Question Answering\",\"xref\":\"x\",\"y\":\"Generation\",\"yref\":\"y\"},{\"font\":{\"color\":\"#000000\"},\"showarrow\":false,\"text\":\"2\",\"x\":\"Sentiment Analysis\",\"xref\":\"x\",\"y\":\"Generation\",\"yref\":\"y\"},{\"font\":{\"color\":\"#000000\"},\"showarrow\":false,\"text\":\"1\",\"x\":\"Social Science\",\"xref\":\"x\",\"y\":\"Generation\",\"yref\":\"y\"},{\"font\":{\"color\":\"#000000\"},\"showarrow\":false,\"text\":\"4\",\"x\":\"Summarization\",\"xref\":\"x\",\"y\":\"Generation\",\"yref\":\"y\"},{\"font\":{\"color\":\"#000000\"},\"showarrow\":false,\"text\":\"8\",\"x\":\"Other\",\"xref\":\"x\",\"y\":\"Generation\",\"yref\":\"y\"},{\"font\":{\"color\":\"#000000\"},\"showarrow\":false,\"text\":\"3\",\"x\":\"Dialogue\",\"xref\":\"x\",\"y\":\"Information Extraction\\u002fRetrieval\",\"yref\":\"y\"},{\"font\":{\"color\":\"#000000\"},\"showarrow\":false,\"text\":\"0\",\"x\":\"Generation\",\"xref\":\"x\",\"y\":\"Information Extraction\\u002fRetrieval\",\"yref\":\"y\"},{\"font\":{\"color\":\"#000000\"},\"showarrow\":false,\"text\":\"109\",\"x\":\"Information Extraction\\u002fRetrieval\",\"xref\":\"x\",\"y\":\"Information Extraction\\u002fRetrieval\",\"yref\":\"y\"},{\"font\":{\"color\":\"#000000\"},\"showarrow\":false,\"text\":\"0\",\"x\":\"Interpretability and Analysis\",\"xref\":\"x\",\"y\":\"Information Extraction\\u002fRetrieval\",\"yref\":\"y\"},{\"font\":{\"color\":\"#000000\"},\"showarrow\":false,\"text\":\"7\",\"x\":\"Machine Learning\",\"xref\":\"x\",\"y\":\"Information Extraction\\u002fRetrieval\",\"yref\":\"y\"},{\"font\":{\"color\":\"#000000\"},\"showarrow\":false,\"text\":\"0\",\"x\":\"Machine Translation and Multilinguality\",\"xref\":\"x\",\"y\":\"Information Extraction\\u002fRetrieval\",\"yref\":\"y\"},{\"font\":{\"color\":\"#000000\"},\"showarrow\":false,\"text\":\"3\",\"x\":\"Multimodality, Speech and Grounding\",\"xref\":\"x\",\"y\":\"Information Extraction\\u002fRetrieval\",\"yref\":\"y\"},{\"font\":{\"color\":\"#000000\"},\"showarrow\":false,\"text\":\"0\",\"x\":\"Question Answering\",\"xref\":\"x\",\"y\":\"Information Extraction\\u002fRetrieval\",\"yref\":\"y\"},{\"font\":{\"color\":\"#000000\"},\"showarrow\":false,\"text\":\"7\",\"x\":\"Sentiment Analysis\",\"xref\":\"x\",\"y\":\"Information Extraction\\u002fRetrieval\",\"yref\":\"y\"},{\"font\":{\"color\":\"#000000\"},\"showarrow\":false,\"text\":\"3\",\"x\":\"Social Science\",\"xref\":\"x\",\"y\":\"Information Extraction\\u002fRetrieval\",\"yref\":\"y\"},{\"font\":{\"color\":\"#000000\"},\"showarrow\":false,\"text\":\"0\",\"x\":\"Summarization\",\"xref\":\"x\",\"y\":\"Information Extraction\\u002fRetrieval\",\"yref\":\"y\"},{\"font\":{\"color\":\"#000000\"},\"showarrow\":false,\"text\":\"16\",\"x\":\"Other\",\"xref\":\"x\",\"y\":\"Information Extraction\\u002fRetrieval\",\"yref\":\"y\"},{\"font\":{\"color\":\"#000000\"},\"showarrow\":false,\"text\":\"2\",\"x\":\"Dialogue\",\"xref\":\"x\",\"y\":\"Interpretability and Analysis\",\"yref\":\"y\"},{\"font\":{\"color\":\"#000000\"},\"showarrow\":false,\"text\":\"1\",\"x\":\"Generation\",\"xref\":\"x\",\"y\":\"Interpretability and Analysis\",\"yref\":\"y\"},{\"font\":{\"color\":\"#000000\"},\"showarrow\":false,\"text\":\"1\",\"x\":\"Information Extraction\\u002fRetrieval\",\"xref\":\"x\",\"y\":\"Interpretability and Analysis\",\"yref\":\"y\"},{\"font\":{\"color\":\"#000000\"},\"showarrow\":false,\"text\":\"65\",\"x\":\"Interpretability and Analysis\",\"xref\":\"x\",\"y\":\"Interpretability and Analysis\",\"yref\":\"y\"},{\"font\":{\"color\":\"#000000\"},\"showarrow\":false,\"text\":\"8\",\"x\":\"Machine Learning\",\"xref\":\"x\",\"y\":\"Interpretability and Analysis\",\"yref\":\"y\"},{\"font\":{\"color\":\"#000000\"},\"showarrow\":false,\"text\":\"2\",\"x\":\"Machine Translation and Multilinguality\",\"xref\":\"x\",\"y\":\"Interpretability and Analysis\",\"yref\":\"y\"},{\"font\":{\"color\":\"#000000\"},\"showarrow\":false,\"text\":\"2\",\"x\":\"Multimodality, Speech and Grounding\",\"xref\":\"x\",\"y\":\"Interpretability and Analysis\",\"yref\":\"y\"},{\"font\":{\"color\":\"#000000\"},\"showarrow\":false,\"text\":\"4\",\"x\":\"Question Answering\",\"xref\":\"x\",\"y\":\"Interpretability and Analysis\",\"yref\":\"y\"},{\"font\":{\"color\":\"#000000\"},\"showarrow\":false,\"text\":\"0\",\"x\":\"Sentiment Analysis\",\"xref\":\"x\",\"y\":\"Interpretability and Analysis\",\"yref\":\"y\"},{\"font\":{\"color\":\"#000000\"},\"showarrow\":false,\"text\":\"2\",\"x\":\"Social Science\",\"xref\":\"x\",\"y\":\"Interpretability and Analysis\",\"yref\":\"y\"},{\"font\":{\"color\":\"#000000\"},\"showarrow\":false,\"text\":\"0\",\"x\":\"Summarization\",\"xref\":\"x\",\"y\":\"Interpretability and Analysis\",\"yref\":\"y\"},{\"font\":{\"color\":\"#000000\"},\"showarrow\":false,\"text\":\"16\",\"x\":\"Other\",\"xref\":\"x\",\"y\":\"Interpretability and Analysis\",\"yref\":\"y\"},{\"font\":{\"color\":\"#000000\"},\"showarrow\":false,\"text\":\"5\",\"x\":\"Dialogue\",\"xref\":\"x\",\"y\":\"Machine Learning\",\"yref\":\"y\"},{\"font\":{\"color\":\"#000000\"},\"showarrow\":false,\"text\":\"7\",\"x\":\"Generation\",\"xref\":\"x\",\"y\":\"Machine Learning\",\"yref\":\"y\"},{\"font\":{\"color\":\"#000000\"},\"showarrow\":false,\"text\":\"12\",\"x\":\"Information Extraction\\u002fRetrieval\",\"xref\":\"x\",\"y\":\"Machine Learning\",\"yref\":\"y\"},{\"font\":{\"color\":\"#000000\"},\"showarrow\":false,\"text\":\"21\",\"x\":\"Interpretability and Analysis\",\"xref\":\"x\",\"y\":\"Machine Learning\",\"yref\":\"y\"},{\"font\":{\"color\":\"#000000\"},\"showarrow\":false,\"text\":\"46\",\"x\":\"Machine Learning\",\"xref\":\"x\",\"y\":\"Machine Learning\",\"yref\":\"y\"},{\"font\":{\"color\":\"#000000\"},\"showarrow\":false,\"text\":\"4\",\"x\":\"Machine Translation and Multilinguality\",\"xref\":\"x\",\"y\":\"Machine Learning\",\"yref\":\"y\"},{\"font\":{\"color\":\"#000000\"},\"showarrow\":false,\"text\":\"0\",\"x\":\"Multimodality, Speech and Grounding\",\"xref\":\"x\",\"y\":\"Machine Learning\",\"yref\":\"y\"},{\"font\":{\"color\":\"#000000\"},\"showarrow\":false,\"text\":\"1\",\"x\":\"Question Answering\",\"xref\":\"x\",\"y\":\"Machine Learning\",\"yref\":\"y\"},{\"font\":{\"color\":\"#000000\"},\"showarrow\":false,\"text\":\"2\",\"x\":\"Sentiment Analysis\",\"xref\":\"x\",\"y\":\"Machine Learning\",\"yref\":\"y\"},{\"font\":{\"color\":\"#000000\"},\"showarrow\":false,\"text\":\"1\",\"x\":\"Social Science\",\"xref\":\"x\",\"y\":\"Machine Learning\",\"yref\":\"y\"},{\"font\":{\"color\":\"#000000\"},\"showarrow\":false,\"text\":\"0\",\"x\":\"Summarization\",\"xref\":\"x\",\"y\":\"Machine Learning\",\"yref\":\"y\"},{\"font\":{\"color\":\"#000000\"},\"showarrow\":false,\"text\":\"13\",\"x\":\"Other\",\"xref\":\"x\",\"y\":\"Machine Learning\",\"yref\":\"y\"},{\"font\":{\"color\":\"#000000\"},\"showarrow\":false,\"text\":\"2\",\"x\":\"Dialogue\",\"xref\":\"x\",\"y\":\"Machine Translation and Multilinguality\",\"yref\":\"y\"},{\"font\":{\"color\":\"#000000\"},\"showarrow\":false,\"text\":\"1\",\"x\":\"Generation\",\"xref\":\"x\",\"y\":\"Machine Translation and Multilinguality\",\"yref\":\"y\"},{\"font\":{\"color\":\"#000000\"},\"showarrow\":false,\"text\":\"2\",\"x\":\"Information Extraction\\u002fRetrieval\",\"xref\":\"x\",\"y\":\"Machine Translation and Multilinguality\",\"yref\":\"y\"},{\"font\":{\"color\":\"#000000\"},\"showarrow\":false,\"text\":\"10\",\"x\":\"Interpretability and Analysis\",\"xref\":\"x\",\"y\":\"Machine Translation and Multilinguality\",\"yref\":\"y\"},{\"font\":{\"color\":\"#000000\"},\"showarrow\":false,\"text\":\"1\",\"x\":\"Machine Learning\",\"xref\":\"x\",\"y\":\"Machine Translation and Multilinguality\",\"yref\":\"y\"},{\"font\":{\"color\":\"#000000\"},\"showarrow\":false,\"text\":\"88\",\"x\":\"Machine Translation and Multilinguality\",\"xref\":\"x\",\"y\":\"Machine Translation and Multilinguality\",\"yref\":\"y\"},{\"font\":{\"color\":\"#000000\"},\"showarrow\":false,\"text\":\"2\",\"x\":\"Multimodality, Speech and Grounding\",\"xref\":\"x\",\"y\":\"Machine Translation and Multilinguality\",\"yref\":\"y\"},{\"font\":{\"color\":\"#000000\"},\"showarrow\":false,\"text\":\"0\",\"x\":\"Question Answering\",\"xref\":\"x\",\"y\":\"Machine Translation and Multilinguality\",\"yref\":\"y\"},{\"font\":{\"color\":\"#000000\"},\"showarrow\":false,\"text\":\"0\",\"x\":\"Sentiment Analysis\",\"xref\":\"x\",\"y\":\"Machine Translation and Multilinguality\",\"yref\":\"y\"},{\"font\":{\"color\":\"#000000\"},\"showarrow\":false,\"text\":\"1\",\"x\":\"Social Science\",\"xref\":\"x\",\"y\":\"Machine Translation and Multilinguality\",\"yref\":\"y\"},{\"font\":{\"color\":\"#000000\"},\"showarrow\":false,\"text\":\"0\",\"x\":\"Summarization\",\"xref\":\"x\",\"y\":\"Machine Translation and Multilinguality\",\"yref\":\"y\"},{\"font\":{\"color\":\"#000000\"},\"showarrow\":false,\"text\":\"7\",\"x\":\"Other\",\"xref\":\"x\",\"y\":\"Machine Translation and Multilinguality\",\"yref\":\"y\"},{\"font\":{\"color\":\"#000000\"},\"showarrow\":false,\"text\":\"2\",\"x\":\"Dialogue\",\"xref\":\"x\",\"y\":\"Multimodality, Speech and Grounding\",\"yref\":\"y\"},{\"font\":{\"color\":\"#000000\"},\"showarrow\":false,\"text\":\"2\",\"x\":\"Generation\",\"xref\":\"x\",\"y\":\"Multimodality, Speech and Grounding\",\"yref\":\"y\"},{\"font\":{\"color\":\"#000000\"},\"showarrow\":false,\"text\":\"1\",\"x\":\"Information Extraction\\u002fRetrieval\",\"xref\":\"x\",\"y\":\"Multimodality, Speech and Grounding\",\"yref\":\"y\"},{\"font\":{\"color\":\"#000000\"},\"showarrow\":false,\"text\":\"0\",\"x\":\"Interpretability and Analysis\",\"xref\":\"x\",\"y\":\"Multimodality, Speech and Grounding\",\"yref\":\"y\"},{\"font\":{\"color\":\"#000000\"},\"showarrow\":false,\"text\":\"0\",\"x\":\"Machine Learning\",\"xref\":\"x\",\"y\":\"Multimodality, Speech and Grounding\",\"yref\":\"y\"},{\"font\":{\"color\":\"#000000\"},\"showarrow\":false,\"text\":\"3\",\"x\":\"Machine Translation and Multilinguality\",\"xref\":\"x\",\"y\":\"Multimodality, Speech and Grounding\",\"yref\":\"y\"},{\"font\":{\"color\":\"#000000\"},\"showarrow\":false,\"text\":\"33\",\"x\":\"Multimodality, Speech and Grounding\",\"xref\":\"x\",\"y\":\"Multimodality, Speech and Grounding\",\"yref\":\"y\"},{\"font\":{\"color\":\"#000000\"},\"showarrow\":false,\"text\":\"1\",\"x\":\"Question Answering\",\"xref\":\"x\",\"y\":\"Multimodality, Speech and Grounding\",\"yref\":\"y\"},{\"font\":{\"color\":\"#000000\"},\"showarrow\":false,\"text\":\"3\",\"x\":\"Sentiment Analysis\",\"xref\":\"x\",\"y\":\"Multimodality, Speech and Grounding\",\"yref\":\"y\"},{\"font\":{\"color\":\"#000000\"},\"showarrow\":false,\"text\":\"1\",\"x\":\"Social Science\",\"xref\":\"x\",\"y\":\"Multimodality, Speech and Grounding\",\"yref\":\"y\"},{\"font\":{\"color\":\"#000000\"},\"showarrow\":false,\"text\":\"0\",\"x\":\"Summarization\",\"xref\":\"x\",\"y\":\"Multimodality, Speech and Grounding\",\"yref\":\"y\"},{\"font\":{\"color\":\"#000000\"},\"showarrow\":false,\"text\":\"3\",\"x\":\"Other\",\"xref\":\"x\",\"y\":\"Multimodality, Speech and Grounding\",\"yref\":\"y\"},{\"font\":{\"color\":\"#000000\"},\"showarrow\":false,\"text\":\"0\",\"x\":\"Dialogue\",\"xref\":\"x\",\"y\":\"Question Answering\",\"yref\":\"y\"},{\"font\":{\"color\":\"#000000\"},\"showarrow\":false,\"text\":\"1\",\"x\":\"Generation\",\"xref\":\"x\",\"y\":\"Question Answering\",\"yref\":\"y\"},{\"font\":{\"color\":\"#000000\"},\"showarrow\":false,\"text\":\"2\",\"x\":\"Information Extraction\\u002fRetrieval\",\"xref\":\"x\",\"y\":\"Question Answering\",\"yref\":\"y\"},{\"font\":{\"color\":\"#000000\"},\"showarrow\":false,\"text\":\"2\",\"x\":\"Interpretability and Analysis\",\"xref\":\"x\",\"y\":\"Question Answering\",\"yref\":\"y\"},{\"font\":{\"color\":\"#000000\"},\"showarrow\":false,\"text\":\"2\",\"x\":\"Machine Learning\",\"xref\":\"x\",\"y\":\"Question Answering\",\"yref\":\"y\"},{\"font\":{\"color\":\"#000000\"},\"showarrow\":false,\"text\":\"0\",\"x\":\"Machine Translation and Multilinguality\",\"xref\":\"x\",\"y\":\"Question Answering\",\"yref\":\"y\"},{\"font\":{\"color\":\"#000000\"},\"showarrow\":false,\"text\":\"0\",\"x\":\"Multimodality, Speech and Grounding\",\"xref\":\"x\",\"y\":\"Question Answering\",\"yref\":\"y\"},{\"font\":{\"color\":\"#000000\"},\"showarrow\":false,\"text\":\"52\",\"x\":\"Question Answering\",\"xref\":\"x\",\"y\":\"Question Answering\",\"yref\":\"y\"},{\"font\":{\"color\":\"#000000\"},\"showarrow\":false,\"text\":\"0\",\"x\":\"Sentiment Analysis\",\"xref\":\"x\",\"y\":\"Question Answering\",\"yref\":\"y\"},{\"font\":{\"color\":\"#000000\"},\"showarrow\":false,\"text\":\"0\",\"x\":\"Social Science\",\"xref\":\"x\",\"y\":\"Question Answering\",\"yref\":\"y\"},{\"font\":{\"color\":\"#000000\"},\"showarrow\":false,\"text\":\"1\",\"x\":\"Summarization\",\"xref\":\"x\",\"y\":\"Question Answering\",\"yref\":\"y\"},{\"font\":{\"color\":\"#000000\"},\"showarrow\":false,\"text\":\"12\",\"x\":\"Other\",\"xref\":\"x\",\"y\":\"Question Answering\",\"yref\":\"y\"},{\"font\":{\"color\":\"#000000\"},\"showarrow\":false,\"text\":\"2\",\"x\":\"Dialogue\",\"xref\":\"x\",\"y\":\"Sentiment Analysis\",\"yref\":\"y\"},{\"font\":{\"color\":\"#000000\"},\"showarrow\":false,\"text\":\"1\",\"x\":\"Generation\",\"xref\":\"x\",\"y\":\"Sentiment Analysis\",\"yref\":\"y\"},{\"font\":{\"color\":\"#000000\"},\"showarrow\":false,\"text\":\"0\",\"x\":\"Information Extraction\\u002fRetrieval\",\"xref\":\"x\",\"y\":\"Sentiment Analysis\",\"yref\":\"y\"},{\"font\":{\"color\":\"#000000\"},\"showarrow\":false,\"text\":\"0\",\"x\":\"Interpretability and Analysis\",\"xref\":\"x\",\"y\":\"Sentiment Analysis\",\"yref\":\"y\"},{\"font\":{\"color\":\"#000000\"},\"showarrow\":false,\"text\":\"0\",\"x\":\"Machine Learning\",\"xref\":\"x\",\"y\":\"Sentiment Analysis\",\"yref\":\"y\"},{\"font\":{\"color\":\"#000000\"},\"showarrow\":false,\"text\":\"0\",\"x\":\"Machine Translation and Multilinguality\",\"xref\":\"x\",\"y\":\"Sentiment Analysis\",\"yref\":\"y\"},{\"font\":{\"color\":\"#000000\"},\"showarrow\":false,\"text\":\"0\",\"x\":\"Multimodality, Speech and Grounding\",\"xref\":\"x\",\"y\":\"Sentiment Analysis\",\"yref\":\"y\"},{\"font\":{\"color\":\"#000000\"},\"showarrow\":false,\"text\":\"0\",\"x\":\"Question Answering\",\"xref\":\"x\",\"y\":\"Sentiment Analysis\",\"yref\":\"y\"},{\"font\":{\"color\":\"#000000\"},\"showarrow\":false,\"text\":\"29\",\"x\":\"Sentiment Analysis\",\"xref\":\"x\",\"y\":\"Sentiment Analysis\",\"yref\":\"y\"},{\"font\":{\"color\":\"#000000\"},\"showarrow\":false,\"text\":\"5\",\"x\":\"Social Science\",\"xref\":\"x\",\"y\":\"Sentiment Analysis\",\"yref\":\"y\"},{\"font\":{\"color\":\"#000000\"},\"showarrow\":false,\"text\":\"0\",\"x\":\"Summarization\",\"xref\":\"x\",\"y\":\"Sentiment Analysis\",\"yref\":\"y\"},{\"font\":{\"color\":\"#000000\"},\"showarrow\":false,\"text\":\"3\",\"x\":\"Other\",\"xref\":\"x\",\"y\":\"Sentiment Analysis\",\"yref\":\"y\"},{\"font\":{\"color\":\"#000000\"},\"showarrow\":false,\"text\":\"0\",\"x\":\"Dialogue\",\"xref\":\"x\",\"y\":\"Social Science\",\"yref\":\"y\"},{\"font\":{\"color\":\"#000000\"},\"showarrow\":false,\"text\":\"0\",\"x\":\"Generation\",\"xref\":\"x\",\"y\":\"Social Science\",\"yref\":\"y\"},{\"font\":{\"color\":\"#000000\"},\"showarrow\":false,\"text\":\"0\",\"x\":\"Information Extraction\\u002fRetrieval\",\"xref\":\"x\",\"y\":\"Social Science\",\"yref\":\"y\"},{\"font\":{\"color\":\"#000000\"},\"showarrow\":false,\"text\":\"0\",\"x\":\"Interpretability and Analysis\",\"xref\":\"x\",\"y\":\"Social Science\",\"yref\":\"y\"},{\"font\":{\"color\":\"#000000\"},\"showarrow\":false,\"text\":\"1\",\"x\":\"Machine Learning\",\"xref\":\"x\",\"y\":\"Social Science\",\"yref\":\"y\"},{\"font\":{\"color\":\"#000000\"},\"showarrow\":false,\"text\":\"0\",\"x\":\"Machine Translation and Multilinguality\",\"xref\":\"x\",\"y\":\"Social Science\",\"yref\":\"y\"},{\"font\":{\"color\":\"#000000\"},\"showarrow\":false,\"text\":\"0\",\"x\":\"Multimodality, Speech and Grounding\",\"xref\":\"x\",\"y\":\"Social Science\",\"yref\":\"y\"},{\"font\":{\"color\":\"#000000\"},\"showarrow\":false,\"text\":\"0\",\"x\":\"Question Answering\",\"xref\":\"x\",\"y\":\"Social Science\",\"yref\":\"y\"},{\"font\":{\"color\":\"#000000\"},\"showarrow\":false,\"text\":\"3\",\"x\":\"Sentiment Analysis\",\"xref\":\"x\",\"y\":\"Social Science\",\"yref\":\"y\"},{\"font\":{\"color\":\"#000000\"},\"showarrow\":false,\"text\":\"23\",\"x\":\"Social Science\",\"xref\":\"x\",\"y\":\"Social Science\",\"yref\":\"y\"},{\"font\":{\"color\":\"#000000\"},\"showarrow\":false,\"text\":\"0\",\"x\":\"Summarization\",\"xref\":\"x\",\"y\":\"Social Science\",\"yref\":\"y\"},{\"font\":{\"color\":\"#000000\"},\"showarrow\":false,\"text\":\"5\",\"x\":\"Other\",\"xref\":\"x\",\"y\":\"Social Science\",\"yref\":\"y\"},{\"font\":{\"color\":\"#000000\"},\"showarrow\":false,\"text\":\"2\",\"x\":\"Dialogue\",\"xref\":\"x\",\"y\":\"Summarization\",\"yref\":\"y\"},{\"font\":{\"color\":\"#000000\"},\"showarrow\":false,\"text\":\"3\",\"x\":\"Generation\",\"xref\":\"x\",\"y\":\"Summarization\",\"yref\":\"y\"},{\"font\":{\"color\":\"#000000\"},\"showarrow\":false,\"text\":\"0\",\"x\":\"Information Extraction\\u002fRetrieval\",\"xref\":\"x\",\"y\":\"Summarization\",\"yref\":\"y\"},{\"font\":{\"color\":\"#000000\"},\"showarrow\":false,\"text\":\"0\",\"x\":\"Interpretability and Analysis\",\"xref\":\"x\",\"y\":\"Summarization\",\"yref\":\"y\"},{\"font\":{\"color\":\"#000000\"},\"showarrow\":false,\"text\":\"0\",\"x\":\"Machine Learning\",\"xref\":\"x\",\"y\":\"Summarization\",\"yref\":\"y\"},{\"font\":{\"color\":\"#000000\"},\"showarrow\":false,\"text\":\"0\",\"x\":\"Machine Translation and Multilinguality\",\"xref\":\"x\",\"y\":\"Summarization\",\"yref\":\"y\"},{\"font\":{\"color\":\"#000000\"},\"showarrow\":false,\"text\":\"1\",\"x\":\"Multimodality, Speech and Grounding\",\"xref\":\"x\",\"y\":\"Summarization\",\"yref\":\"y\"},{\"font\":{\"color\":\"#000000\"},\"showarrow\":false,\"text\":\"2\",\"x\":\"Question Answering\",\"xref\":\"x\",\"y\":\"Summarization\",\"yref\":\"y\"},{\"font\":{\"color\":\"#000000\"},\"showarrow\":false,\"text\":\"1\",\"x\":\"Sentiment Analysis\",\"xref\":\"x\",\"y\":\"Summarization\",\"yref\":\"y\"},{\"font\":{\"color\":\"#000000\"},\"showarrow\":false,\"text\":\"1\",\"x\":\"Social Science\",\"xref\":\"x\",\"y\":\"Summarization\",\"yref\":\"y\"},{\"font\":{\"color\":\"#000000\"},\"showarrow\":false,\"text\":\"42\",\"x\":\"Summarization\",\"xref\":\"x\",\"y\":\"Summarization\",\"yref\":\"y\"},{\"font\":{\"color\":\"#000000\"},\"showarrow\":false,\"text\":\"4\",\"x\":\"Other\",\"xref\":\"x\",\"y\":\"Summarization\",\"yref\":\"y\"},{\"font\":{\"color\":\"#000000\"},\"showarrow\":false,\"text\":\"25\",\"x\":\"Dialogue\",\"xref\":\"x\",\"y\":\"Other\",\"yref\":\"y\"},{\"font\":{\"color\":\"#000000\"},\"showarrow\":false,\"text\":\"27\",\"x\":\"Generation\",\"xref\":\"x\",\"y\":\"Other\",\"yref\":\"y\"},{\"font\":{\"color\":\"#000000\"},\"showarrow\":false,\"text\":\"34\",\"x\":\"Information Extraction\\u002fRetrieval\",\"xref\":\"x\",\"y\":\"Other\",\"yref\":\"y\"},{\"font\":{\"color\":\"#000000\"},\"showarrow\":false,\"text\":\"69\",\"x\":\"Interpretability and Analysis\",\"xref\":\"x\",\"y\":\"Other\",\"yref\":\"y\"},{\"font\":{\"color\":\"#000000\"},\"showarrow\":false,\"text\":\"23\",\"x\":\"Machine Learning\",\"xref\":\"x\",\"y\":\"Other\",\"yref\":\"y\"},{\"font\":{\"color\":\"#000000\"},\"showarrow\":false,\"text\":\"10\",\"x\":\"Machine Translation and Multilinguality\",\"xref\":\"x\",\"y\":\"Other\",\"yref\":\"y\"},{\"font\":{\"color\":\"#000000\"},\"showarrow\":false,\"text\":\"12\",\"x\":\"Multimodality, Speech and Grounding\",\"xref\":\"x\",\"y\":\"Other\",\"yref\":\"y\"},{\"font\":{\"color\":\"#000000\"},\"showarrow\":false,\"text\":\"13\",\"x\":\"Question Answering\",\"xref\":\"x\",\"y\":\"Other\",\"yref\":\"y\"},{\"font\":{\"color\":\"#000000\"},\"showarrow\":false,\"text\":\"9\",\"x\":\"Sentiment Analysis\",\"xref\":\"x\",\"y\":\"Other\",\"yref\":\"y\"},{\"font\":{\"color\":\"#000000\"},\"showarrow\":false,\"text\":\"33\",\"x\":\"Social Science\",\"xref\":\"x\",\"y\":\"Other\",\"yref\":\"y\"},{\"font\":{\"color\":\"#000000\"},\"showarrow\":false,\"text\":\"6\",\"x\":\"Summarization\",\"xref\":\"x\",\"y\":\"Other\",\"yref\":\"y\"},{\"font\":{\"color\":\"#FFFFFF\"},\"showarrow\":false,\"text\":\"222\",\"x\":\"Other\",\"xref\":\"x\",\"y\":\"Other\",\"yref\":\"y\"}],\"xaxis\":{\"dtick\":1,\"gridcolor\":\"rgb(0, 0, 0)\",\"side\":\"bottom\",\"ticks\":\"\",\"title\":{\"text\":\"Predicted Labels\"}},\"yaxis\":{\"dtick\":1,\"ticks\":\"\",\"ticksuffix\":\"  \",\"title\":{\"text\":\"True Labels\"}},\"template\":{\"data\":{\"histogram2dcontour\":[{\"type\":\"histogram2dcontour\",\"colorbar\":{\"outlinewidth\":0,\"ticks\":\"\"},\"colorscale\":[[0.0,\"#0d0887\"],[0.1111111111111111,\"#46039f\"],[0.2222222222222222,\"#7201a8\"],[0.3333333333333333,\"#9c179e\"],[0.4444444444444444,\"#bd3786\"],[0.5555555555555556,\"#d8576b\"],[0.6666666666666666,\"#ed7953\"],[0.7777777777777778,\"#fb9f3a\"],[0.8888888888888888,\"#fdca26\"],[1.0,\"#f0f921\"]]}],\"choropleth\":[{\"type\":\"choropleth\",\"colorbar\":{\"outlinewidth\":0,\"ticks\":\"\"}}],\"histogram2d\":[{\"type\":\"histogram2d\",\"colorbar\":{\"outlinewidth\":0,\"ticks\":\"\"},\"colorscale\":[[0.0,\"#0d0887\"],[0.1111111111111111,\"#46039f\"],[0.2222222222222222,\"#7201a8\"],[0.3333333333333333,\"#9c179e\"],[0.4444444444444444,\"#bd3786\"],[0.5555555555555556,\"#d8576b\"],[0.6666666666666666,\"#ed7953\"],[0.7777777777777778,\"#fb9f3a\"],[0.8888888888888888,\"#fdca26\"],[1.0,\"#f0f921\"]]}],\"heatmap\":[{\"type\":\"heatmap\",\"colorbar\":{\"outlinewidth\":0,\"ticks\":\"\"},\"colorscale\":[[0.0,\"#0d0887\"],[0.1111111111111111,\"#46039f\"],[0.2222222222222222,\"#7201a8\"],[0.3333333333333333,\"#9c179e\"],[0.4444444444444444,\"#bd3786\"],[0.5555555555555556,\"#d8576b\"],[0.6666666666666666,\"#ed7953\"],[0.7777777777777778,\"#fb9f3a\"],[0.8888888888888888,\"#fdca26\"],[1.0,\"#f0f921\"]]}],\"heatmapgl\":[{\"type\":\"heatmapgl\",\"colorbar\":{\"outlinewidth\":0,\"ticks\":\"\"},\"colorscale\":[[0.0,\"#0d0887\"],[0.1111111111111111,\"#46039f\"],[0.2222222222222222,\"#7201a8\"],[0.3333333333333333,\"#9c179e\"],[0.4444444444444444,\"#bd3786\"],[0.5555555555555556,\"#d8576b\"],[0.6666666666666666,\"#ed7953\"],[0.7777777777777778,\"#fb9f3a\"],[0.8888888888888888,\"#fdca26\"],[1.0,\"#f0f921\"]]}],\"contourcarpet\":[{\"type\":\"contourcarpet\",\"colorbar\":{\"outlinewidth\":0,\"ticks\":\"\"}}],\"contour\":[{\"type\":\"contour\",\"colorbar\":{\"outlinewidth\":0,\"ticks\":\"\"},\"colorscale\":[[0.0,\"#0d0887\"],[0.1111111111111111,\"#46039f\"],[0.2222222222222222,\"#7201a8\"],[0.3333333333333333,\"#9c179e\"],[0.4444444444444444,\"#bd3786\"],[0.5555555555555556,\"#d8576b\"],[0.6666666666666666,\"#ed7953\"],[0.7777777777777778,\"#fb9f3a\"],[0.8888888888888888,\"#fdca26\"],[1.0,\"#f0f921\"]]}],\"surface\":[{\"type\":\"surface\",\"colorbar\":{\"outlinewidth\":0,\"ticks\":\"\"},\"colorscale\":[[0.0,\"#0d0887\"],[0.1111111111111111,\"#46039f\"],[0.2222222222222222,\"#7201a8\"],[0.3333333333333333,\"#9c179e\"],[0.4444444444444444,\"#bd3786\"],[0.5555555555555556,\"#d8576b\"],[0.6666666666666666,\"#ed7953\"],[0.7777777777777778,\"#fb9f3a\"],[0.8888888888888888,\"#fdca26\"],[1.0,\"#f0f921\"]]}],\"mesh3d\":[{\"type\":\"mesh3d\",\"colorbar\":{\"outlinewidth\":0,\"ticks\":\"\"}}],\"scatter\":[{\"fillpattern\":{\"fillmode\":\"overlay\",\"size\":10,\"solidity\":0.2},\"type\":\"scatter\"}],\"parcoords\":[{\"type\":\"parcoords\",\"line\":{\"colorbar\":{\"outlinewidth\":0,\"ticks\":\"\"}}}],\"scatterpolargl\":[{\"type\":\"scatterpolargl\",\"marker\":{\"colorbar\":{\"outlinewidth\":0,\"ticks\":\"\"}}}],\"bar\":[{\"error_x\":{\"color\":\"#2a3f5f\"},\"error_y\":{\"color\":\"#2a3f5f\"},\"marker\":{\"line\":{\"color\":\"#E5ECF6\",\"width\":0.5},\"pattern\":{\"fillmode\":\"overlay\",\"size\":10,\"solidity\":0.2}},\"type\":\"bar\"}],\"scattergeo\":[{\"type\":\"scattergeo\",\"marker\":{\"colorbar\":{\"outlinewidth\":0,\"ticks\":\"\"}}}],\"scatterpolar\":[{\"type\":\"scatterpolar\",\"marker\":{\"colorbar\":{\"outlinewidth\":0,\"ticks\":\"\"}}}],\"histogram\":[{\"marker\":{\"pattern\":{\"fillmode\":\"overlay\",\"size\":10,\"solidity\":0.2}},\"type\":\"histogram\"}],\"scattergl\":[{\"type\":\"scattergl\",\"marker\":{\"colorbar\":{\"outlinewidth\":0,\"ticks\":\"\"}}}],\"scatter3d\":[{\"type\":\"scatter3d\",\"line\":{\"colorbar\":{\"outlinewidth\":0,\"ticks\":\"\"}},\"marker\":{\"colorbar\":{\"outlinewidth\":0,\"ticks\":\"\"}}}],\"scattermapbox\":[{\"type\":\"scattermapbox\",\"marker\":{\"colorbar\":{\"outlinewidth\":0,\"ticks\":\"\"}}}],\"scatterternary\":[{\"type\":\"scatterternary\",\"marker\":{\"colorbar\":{\"outlinewidth\":0,\"ticks\":\"\"}}}],\"scattercarpet\":[{\"type\":\"scattercarpet\",\"marker\":{\"colorbar\":{\"outlinewidth\":0,\"ticks\":\"\"}}}],\"carpet\":[{\"aaxis\":{\"endlinecolor\":\"#2a3f5f\",\"gridcolor\":\"white\",\"linecolor\":\"white\",\"minorgridcolor\":\"white\",\"startlinecolor\":\"#2a3f5f\"},\"baxis\":{\"endlinecolor\":\"#2a3f5f\",\"gridcolor\":\"white\",\"linecolor\":\"white\",\"minorgridcolor\":\"white\",\"startlinecolor\":\"#2a3f5f\"},\"type\":\"carpet\"}],\"table\":[{\"cells\":{\"fill\":{\"color\":\"#EBF0F8\"},\"line\":{\"color\":\"white\"}},\"header\":{\"fill\":{\"color\":\"#C8D4E3\"},\"line\":{\"color\":\"white\"}},\"type\":\"table\"}],\"barpolar\":[{\"marker\":{\"line\":{\"color\":\"#E5ECF6\",\"width\":0.5},\"pattern\":{\"fillmode\":\"overlay\",\"size\":10,\"solidity\":0.2}},\"type\":\"barpolar\"}],\"pie\":[{\"automargin\":true,\"type\":\"pie\"}]},\"layout\":{\"autotypenumbers\":\"strict\",\"colorway\":[\"#636efa\",\"#EF553B\",\"#00cc96\",\"#ab63fa\",\"#FFA15A\",\"#19d3f3\",\"#FF6692\",\"#B6E880\",\"#FF97FF\",\"#FECB52\"],\"font\":{\"color\":\"#2a3f5f\"},\"hovermode\":\"closest\",\"hoverlabel\":{\"align\":\"left\"},\"paper_bgcolor\":\"white\",\"plot_bgcolor\":\"#E5ECF6\",\"polar\":{\"bgcolor\":\"#E5ECF6\",\"angularaxis\":{\"gridcolor\":\"white\",\"linecolor\":\"white\",\"ticks\":\"\"},\"radialaxis\":{\"gridcolor\":\"white\",\"linecolor\":\"white\",\"ticks\":\"\"}},\"ternary\":{\"bgcolor\":\"#E5ECF6\",\"aaxis\":{\"gridcolor\":\"white\",\"linecolor\":\"white\",\"ticks\":\"\"},\"baxis\":{\"gridcolor\":\"white\",\"linecolor\":\"white\",\"ticks\":\"\"},\"caxis\":{\"gridcolor\":\"white\",\"linecolor\":\"white\",\"ticks\":\"\"}},\"coloraxis\":{\"colorbar\":{\"outlinewidth\":0,\"ticks\":\"\"}},\"colorscale\":{\"sequential\":[[0.0,\"#0d0887\"],[0.1111111111111111,\"#46039f\"],[0.2222222222222222,\"#7201a8\"],[0.3333333333333333,\"#9c179e\"],[0.4444444444444444,\"#bd3786\"],[0.5555555555555556,\"#d8576b\"],[0.6666666666666666,\"#ed7953\"],[0.7777777777777778,\"#fb9f3a\"],[0.8888888888888888,\"#fdca26\"],[1.0,\"#f0f921\"]],\"sequentialminus\":[[0.0,\"#0d0887\"],[0.1111111111111111,\"#46039f\"],[0.2222222222222222,\"#7201a8\"],[0.3333333333333333,\"#9c179e\"],[0.4444444444444444,\"#bd3786\"],[0.5555555555555556,\"#d8576b\"],[0.6666666666666666,\"#ed7953\"],[0.7777777777777778,\"#fb9f3a\"],[0.8888888888888888,\"#fdca26\"],[1.0,\"#f0f921\"]],\"diverging\":[[0,\"#8e0152\"],[0.1,\"#c51b7d\"],[0.2,\"#de77ae\"],[0.3,\"#f1b6da\"],[0.4,\"#fde0ef\"],[0.5,\"#f7f7f7\"],[0.6,\"#e6f5d0\"],[0.7,\"#b8e186\"],[0.8,\"#7fbc41\"],[0.9,\"#4d9221\"],[1,\"#276419\"]]},\"xaxis\":{\"gridcolor\":\"white\",\"linecolor\":\"white\",\"ticks\":\"\",\"title\":{\"standoff\":15},\"zerolinecolor\":\"white\",\"automargin\":true,\"zerolinewidth\":2},\"yaxis\":{\"gridcolor\":\"white\",\"linecolor\":\"white\",\"ticks\":\"\",\"title\":{\"standoff\":15},\"zerolinecolor\":\"white\",\"automargin\":true,\"zerolinewidth\":2},\"scene\":{\"xaxis\":{\"backgroundcolor\":\"#E5ECF6\",\"gridcolor\":\"white\",\"linecolor\":\"white\",\"showbackground\":true,\"ticks\":\"\",\"zerolinecolor\":\"white\",\"gridwidth\":2},\"yaxis\":{\"backgroundcolor\":\"#E5ECF6\",\"gridcolor\":\"white\",\"linecolor\":\"white\",\"showbackground\":true,\"ticks\":\"\",\"zerolinecolor\":\"white\",\"gridwidth\":2},\"zaxis\":{\"backgroundcolor\":\"#E5ECF6\",\"gridcolor\":\"white\",\"linecolor\":\"white\",\"showbackground\":true,\"ticks\":\"\",\"zerolinecolor\":\"white\",\"gridwidth\":2}},\"shapedefaults\":{\"line\":{\"color\":\"#2a3f5f\"}},\"annotationdefaults\":{\"arrowcolor\":\"#2a3f5f\",\"arrowhead\":0,\"arrowwidth\":1},\"geo\":{\"bgcolor\":\"white\",\"landcolor\":\"#E5ECF6\",\"subunitcolor\":\"white\",\"showland\":true,\"showlakes\":true,\"lakecolor\":\"white\"},\"title\":{\"x\":0.05},\"mapbox\":{\"style\":\"light\"}}},\"title\":{\"text\":\"Confusion Matrix\"},\"height\":700},                        {\"responsive\": true}                    ).then(function(){\n",
       "                            \n",
       "var gd = document.getElementById('a26482bf-09bf-43de-9705-6ead6058f4a2');\n",
       "var x = new MutationObserver(function (mutations, observer) {{\n",
       "        var display = window.getComputedStyle(gd).display;\n",
       "        if (!display || display === 'none') {{\n",
       "            console.log([gd, 'removed!']);\n",
       "            Plotly.purge(gd);\n",
       "            observer.disconnect();\n",
       "        }}\n",
       "}});\n",
       "\n",
       "// Listen for the removal of the full notebook cells\n",
       "var notebookContainer = gd.closest('#notebook-container');\n",
       "if (notebookContainer) {{\n",
       "    x.observe(notebookContainer, {childList: true});\n",
       "}}\n",
       "\n",
       "// Listen for the clearing of the current output cell\n",
       "var outputEl = gd.closest('.output');\n",
       "if (outputEl) {{\n",
       "    x.observe(outputEl, {childList: true});\n",
       "}}\n",
       "\n",
       "                        })                };                });            </script>        </div>"
      ]
     },
     "metadata": {},
     "output_type": "display_data"
    },
    {
     "name": "stdout",
     "output_type": "stream",
     "text": [
      "F1 Macro Score: 0.6184207427429228\n",
      "F1 Micro Score: 0.6104360257326662\n"
     ]
    }
   ],
   "source": [
    "import plotly.express as px\n",
    "import plotly.figure_factory as ff\n",
    "import numpy as np\n",
    "from sklearn.metrics import confusion_matrix, f1_score\n",
    "\n",
    "cm = confusion_matrix(y_true, y_pred)\n",
    "labels = list(label_encoder.inverse_transform(list(range(OUTPUT_SIZE))))\n",
    "\n",
    "other_label = 'Other'\n",
    "sorted_labels = sorted([label for label in labels if label != other_label])\n",
    "sorted_labels.append(other_label)\n",
    "\n",
    "label_to_sorted_index = {label: index for index, label in enumerate(sorted_labels)}\n",
    "sorted_cm = np.zeros_like(cm)\n",
    "\n",
    "for i, label1 in enumerate(labels):\n",
    "    for j, label2 in enumerate(labels):\n",
    "        sorted_i = label_to_sorted_index[label1]\n",
    "        sorted_j = label_to_sorted_index[label2]\n",
    "        sorted_cm[sorted_i, sorted_j] = cm[i, j]\n",
    "\n",
    "fig = ff.create_annotated_heatmap(\n",
    "    z=sorted_cm, \n",
    "    x=sorted_labels, \n",
    "    y=sorted_labels, \n",
    "    colorscale='Blues'\n",
    ")\n",
    "\n",
    "fig.update_layout(\n",
    "    title='Confusion Matrix',\n",
    "    xaxis=dict(title='Predicted Labels', side='bottom'),\n",
    "    yaxis=dict(title='True Labels'),\n",
    "    height=700\n",
    ")\n",
    "\n",
    "fig.show()\n",
    "\n",
    "score_macro = f1_score(y_true, y_pred, average='macro')\n",
    "print(\"F1 Macro Score:\", score_macro)\n",
    "score_micro = f1_score(y_true, y_pred, average='micro')\n",
    "print(\"F1 Micro Score:\", score_micro)\n"
   ]
  },
  {
   "cell_type": "code",
   "execution_count": 331,
   "id": "55f51b96-605b-467c-80e1-27e21e6b9f95",
   "metadata": {},
   "outputs": [
    {
     "name": "stdout",
     "output_type": "stream",
     "text": [
      "Large Language Models\n",
      "Controlling the Extraction of Memorized Data from Large Language Models via Prompt-Tuning\n",
      "Large Language Models (LLMs) are known to memorize significant portions of their training data. Parts of this memorized content have been shown to be extractable by simply querying the model, which poses a privacy risk. We present a novel approach which uses prompt-tuning to control the extraction rates of memorized content in LLMs. We present two prompt training strategies to increase and decrease extraction rates, which correspond to an attack and a defense, respectively. We demonstrate the effectiveness of our techniques by using models from the GPT-Neo family on a public benchmark. For the 1.3B parameter GPT-Neo model, our attack yields a 9.3 percentage point increase in extraction rate compared to our baseline. Our defense can be tuned to achieve different privacy-utility trade-offs by a user-specified hyperparameter. We achieve an extraction rate reduction of up to 97.7\\% relative to our baseline, with a perplexity increase of 16.9\\%.\n",
      "----------------------------------------------------------------------------------------------------\n",
      "Discourse and Pragmatics\n",
      "Facilitating Contrastive Learning of Discourse Relational Senses by Exploiting the Hierarchy of Sense Relations\n",
      "Implicit discourse relation recognition is a challenging task that involves identifying the sense or senses that hold between two adjacent spans of text, in the absense of an explicit connective between them. In both PDTB-2 (prasad et al., 2008) and PDTB-3 (Webber et al., 2019), discourse relational senses are organized into a three-level hierarchy ranging from four broad top-level senses, to more specific senses below them. Most previous work on implicitf discourse relation recognition have used the sense hierarchy simply to indicate what sense labels were available. Here we do more — incorporating the sense hierarchy into the recognition process itself and using it to select the negative examples used in contrastive learning. With no additional effort, the approach achieves state-of-the-art performance on the task. Our code is released inhttps://github.com/wanqiulong 0923/Contrastive_IDRR.\n",
      "----------------------------------------------------------------------------------------------------\n",
      "Ethics and NLP\n",
      "Gender Bias in Multilingual Embeddings and Cross-Lingual Transfer\n",
      "Multilingual representations embed words from many languages into a single semantic space such that words with similar meanings are close to each other regardless of the language. These embeddings have been widely used in various settings, such as cross-lingual transfer, where a natural language processing (NLP) model trained on one language is deployed to another language. While the cross-lingual transfer techniques are powerful, they carry gender bias from the source to target languages. In this paper, we study gender bias in multilingual embeddings and how it affects transfer learning for NLP applications. We create a multilingual dataset for bias analysis and propose several ways for quantifying bias in multilingual representations from both the intrinsic and extrinsic perspectives. Experimental results show that the magnitude of bias in the multilingual representations changes differently when we align the embeddings to different target spaces and that the alignment direction can also have an influence on the bias in transfer learning. We further provide recommendations for using the multilingual word representations for downstream tasks.\n",
      "----------------------------------------------------------------------------------------------------\n",
      "Ethics and NLP\n",
      "It’s Morphin’ Time! Combating Linguistic Discrimination with Inflectional Perturbations\n",
      "Training on only perfect Standard English corpora predisposes pre-trained neural networks to discriminate against minorities from non-standard linguistic backgrounds (e.g., African American Vernacular English, Colloquial Singapore English, etc.). We perturb the inflectional morphology of words to craft plausible and semantically similar adversarial examples that expose these biases in popular NLP models, e.g., BERT and Transformer, and show that adversarially fine-tuning them for a single epoch significantly improves robustness without sacrificing performance on clean data.\n",
      "----------------------------------------------------------------------------------------------------\n",
      "Efficient Methods for NLP\n",
      "An Empirical Study on the Transferability of Transformer Modules in Parameter-efficient Fine-tuning\n",
      "Parameter-efficient fine-tuning has garnered lots of attention in recent studies.On this subject, we investigate the capability of different transformer modules in transferring knowledge from a pre-trained model to a downstream task. Our empirical results suggest that every transformer module is a winning ticket such that fine-tuning the specific module while the rest of the network is frozen achieves a comparable performance to the full fine-tuning case. Among different modules in LMs, LayerNorms exhibit a significant capacity for transfer learning to the extent that with only 0.003% updateable parameters in the layer-wise analysis, they can show acceptable performance on various target tasks.We argue that the performance of LayerNorms could be attributed to their high-magnitude weights compared to other components in a pre-trained model.\n",
      "----------------------------------------------------------------------------------------------------\n",
      "Resources and Evaluation\n",
      "Diagnosing the First-Order Logical Reasoning Ability Through LogicNLI\n",
      "Recently, language models (LMs) have achieved significant performance on many NLU tasks, which has spurred widespread interest for their possible applications in the scientific and social area. However, LMs have faced much criticism of whether they are truly capable of reasoning in NLU. In this work, we propose a diagnostic method for first-order logic (FOL) reasoning with a new proposed benchmark, LogicNLI. LogicNLI is an NLI-style dataset that effectively disentangles the target FOL reasoning from commonsense inference and can be used to diagnose LMs from four perspectives: accuracy, robustness, generalization, and interpretability. Experiments on BERT, RoBERTa, and XLNet, have uncovered the weaknesses of these LMs on FOL reasoning, which motivates future exploration to enhance the reasoning ability.\n",
      "----------------------------------------------------------------------------------------------------\n",
      "Multidisciplinary and Area Chair COI\n",
      "Linguistic Dependencies and Statistical Dependence\n",
      "Are pairs of words that tend to occur together also likely to stand in a linguistic dependency? This empirical question is motivated by a long history of literature in cognitive science, psycholinguistics, and NLP. In this work we contribute an extensive analysis of the relationship between linguistic dependencies and statistical dependence between words. Improving on previous work, we introduce the use of large pretrained language models to compute contextualized estimates of the pointwise mutual information between words (CPMI). For multiple models and languages, we extract dependency trees which maximize CPMI, and compare to gold standard linguistic dependencies. Overall, we find that CPMI dependencies achieve an unlabelled undirected attachment score of at most \\approx 0.5. While far above chance, and consistently above a non-contextualized PMI baseline, this score is generally comparable to a simple baseline formed by connecting adjacent words. We analyze which kinds of linguistic dependencies are best captured in CPMI dependencies, and also find marked differences between the estimates of the large pretrained language models, illustrating how their different training schemes affect the type of dependencies they capture.\n",
      "----------------------------------------------------------------------------------------------------\n",
      "Semantics: Lexical, Sentence level, Textual Inference and Other areas\n",
      "Looking at the Overlooked: An Analysis on the Word-Overlap Bias in Natural Language Inference\n",
      "It has been shown that NLI models are usually biased with respect to the word-overlap between the premise and the hypothesis, as they take this feature as a primary cue for predicting the entailment label. In this paper, we focus on an overlooked aspect of the overlap bias in the NLI models: the reverse word-overlap bias. Our experimental results demonstrate that current NLI systems are also highly biased towards the non-entailment label on instances with low overlap and that existing debiasing methods, which are reportedly successful on challenge datasets, are generally ineffective in addressing this category of bias.Through a set of analyses, we investigate the reasons for the emergence of the overlap bias and the role of minority examples in mitigating this bias.For the former, we find that the word overlap bias does not stem from pre-training, and in the latter, we observe that in contrast to the accepted assumption, eliminating minority examples does not affect the generalizability of debiasing methods with respect to the overlap bias.\n",
      "----------------------------------------------------------------------------------------------------\n",
      "Machine Learning for NLP\n",
      "FLatS: Principled Out-of-Distribution Detection with Feature-Based Likelihood Ratio Score\n",
      "Detecting out-of-distribution (OOD) instances is crucial for NLP models in practical applications. Although numerous OOD detection methods exist, most of them are empirical. Backed by theoretical analysis, this paper advocates for the measurement of the\"OOD-ness\"of a test case $\\boldsymbol{x}$ through the likelihood ratio between out-distribution $\\mathcal P_{\\textit{out}}$ and in-distribution $\\mathcal P_{\\textit{in}}$. We argue that the state-of-the-art (SOTA) feature-based OOD detection methods, such as Maha and KNN, are suboptimal since they only estimate in-distribution density $p_{\\textit{in}}(\\boldsymbol{x})$. To address this issue, we propose FLatS, a principled solution for OOD detection based on likelihood ratio. Moreover, we demonstrate that FLatS can serve as a general framework capable of enhancing other OOD detection methods by incorporating out-distribution density $p_{\\textit{out}}(\\boldsymbol{x})$ estimation. Experiments show that FLatS establishes a new SOTA on popular benchmarks. Our code is publicly available at https://github.com/linhaowei1/FLatS.\n",
      "----------------------------------------------------------------------------------------------------\n",
      "Question Answering\n",
      "Pre-training Language Models with Deterministic Factual Knowledge\n",
      "Previous works show that Pre-trained Language Models (PLMs) can capture factual knowledge. However, some analyses reveal that PLMs fail to perform it robustly, e.g., being sensitive to the changes of prompts when extracting factual knowledge. To mitigate this issue, we propose to let PLMs learn the deterministic relationship between the remaining context and the masked content. The deterministic relationship ensures that the masked factual content can be deterministically inferable based on the existing clues in the context. That would provide more stable patterns for PLMs to capture factual knowledge than randomly masking. Two pre-training tasks are further introduced to motivate PLMs to rely on the deterministic relationship when filling masks. Specifically, we use an external Knowledge Base (KB) to identify deterministic relationships and continuously pre-train PLMs with the proposed methods. The factual knowledge probing experiments indicate that the continuously pre-trained PLMs achieve better robustness in factual knowledge capturing. Further experiments on question-answering datasets show that trying to learn a deterministic relationship with the proposed methods can also help other knowledge-intensive tasks.\n",
      "----------------------------------------------------------------------------------------------------\n",
      "Resources and Evaluation\n",
      "Do LLMs Understand Social Knowledge? Evaluating the Sociability of Large Language Models with SocKET Benchmark\n",
      "Large language models (LLMs) have been shown to perform well at a variety of syntactic, discourse, and reasoning tasks. While LLMs are increasingly deployed in many forms including conversational agents that interact with humans, we lack a grounded benchmark to measure how well LLMs understand \\textit{social} language. Here, we introduce a new theory-driven benchmark, SocKET, that contains 58 NLP tasks testing social knowledge which we group into five categories: humor&sarcasm, offensiveness, sentiment&emotion, and trustworthiness. In tests on the benchmark, we demonstrate that current models attain only moderate performance but reveal significant potential for task transfer among different types and categories of tasks, which were predicted from theory. Through zero-shot evaluations, we show that pretrained models already possess some innate but limited capabilities of social language understanding and training on one category of tasks can improve zero-shot testing on others. Our benchmark provides a systematic way to analyze model performance on an important dimension of language and points to clear room for improvement to build more socially-aware LLMs. The associated resources are released at https://github.com/minjechoi/SOCKET.\n",
      "----------------------------------------------------------------------------------------------------\n",
      "Semantics: Sentence-level Semantics, Textual Inference and Other areas\n",
      "KACE: Generating Knowledge Aware Contrastive Explanations for Natural Language Inference\n",
      "In order to better understand the reason behind model behaviors (i.e., making predictions), most recent works have exploited generative models to provide complementary explanations. However, existing approaches in NLP mainly focus on “WHY A” rather than contrastive “WHY A NOT B”, which is shown to be able to better distinguish confusing candidates and improve data efficiency in other research fields.In this paper, we focus on generating contrastive explanations with counterfactual examples in NLI and propose a novel Knowledge-Aware Contrastive Explanation generation framework (KACE).Specifically, we first identify rationales (i.e., key phrases) from input sentences, and use them as key perturbations for generating counterfactual examples. After obtaining qualified counterfactual examples, we take them along with original examples and external knowledge as input, and employ a knowledge-aware generative pre-trained language model to generate contrastive explanations. Experimental results show that contrastive explanations are beneficial to fit the scenarios by clarifying the difference between the predicted answer and other possible wrong ones. Moreover, we train an NLI model enhanced with contrastive explanations and achieves an accuracy of 91.9% on SNLI, gaining improvements of 5.7% against ETPA (“Explain-Then-Predict-Attention”) and 0.6% against NILE (“WHY A”).\n",
      "----------------------------------------------------------------------------------------------------\n",
      "Commonsense Reasoning\n",
      "Knowledge Rumination for Pre-trained Language Models\n",
      "Previous studies have revealed that vanilla pre-trained language models (PLMs) lack the capacity to handle knowledge-intensive NLP tasks alone; thus, several works have attempted to integrate external knowledge into PLMs. However, despite the promising outcome, we empirically observe that PLMs may have already encoded rich knowledge in their pre-trained parameters but fail to fully utilize them when applying them to knowledge-intensive tasks. In this paper, we propose a new paradigm dubbed Knowledge Rumination to help the pre-trained language model utilize that related latent knowledge without retrieving it from the external corpus. By simply adding a prompt like\"As far as I know\"to the PLMs, we try to review related latent knowledge and inject them back into the model for knowledge consolidation. We apply the proposed knowledge rumination to various language models, including RoBERTa, DeBERTa, and GPT-3. Experimental results on six commonsense reasoning tasks and GLUE benchmarks demonstrate the effectiveness of our proposed approach, which proves that the knowledge stored in PLMs can be better exploited to enhance performance. Code is available in https://github.com/zjunlp/knowledge-rumination.\n",
      "----------------------------------------------------------------------------------------------------\n",
      "Machine Learning for NLP\n",
      "Null It Out: Guarding Protected Attributes by Iterative Nullspace Projection\n",
      "The ability to control for the kinds of information encoded in neural representation has a variety of use cases, especially in light of the challenge of interpreting these models. We present Iterative Null-space Projection (INLP), a novel method for removing information from neural representations. Our method is based on repeated training of linear classifiers that predict a certain property we aim to remove, followed by projection of the representations on their null-space. By doing so, the classifiers become oblivious to that target property, making it hard to linearly separate the data according to it. While applicable for multiple uses, we evaluate our method on bias and fairness use-cases, and show that our method is able to mitigate bias in word embeddings, as well as to increase fairness in a setting of multi-class classification.\n",
      "----------------------------------------------------------------------------------------------------\n",
      "Large Language Models\n",
      "Data Curation Alone Can Stabilize In-context Learning\n",
      "In-context learning (ICL) enables large language models (LLMs) to perform new tasks by prompting them with a sequence of training examples. However, it is known that ICL is very sensitive to the choice of training examples: randomly sampling examples from a training set leads to high variance in performance. In this paper, we show that carefully curating a subset of training data greatly stabilizes ICL performance without any other changes to the ICL algorithm (e.g., prompt retrieval or calibration). We introduce two methods to choose training subsets---both score training examples individually, then select the highest-scoring ones. CondAcc scores a training example by its average dev-set ICL accuracy when combined with random training examples, while Datamodels learns linear regressors that estimate how the presence of each training example influences LLM outputs.  Across five tasks and two LLMs, sampling from stable subsets selected by CondAcc and Datamodels improves average accuracy over sampling from the entire training set by 7.7\\% and 6.3\\%, respectively. Surprisingly, the stable subset examples are not especially diverse in content or low in perplexity, in contrast with other work suggesting that diversity and perplexity are important when prompting LLMs.\n",
      "----------------------------------------------------------------------------------------------------\n",
      "Machine Translation and Multilinguality\n",
      "Inference Strategies for Machine Translation with Conditional Masking\n",
      "Conditional masked language model (CMLM) training has proven successful for non-autoregressive and semi-autoregressive sequence generation tasks, such as machine translation. Given a trained CMLM, however, it is not clear what the best inference strategy is. We formulate masked inference as a factorization of conditional probabilities of partial sequences, show that this does not harm performance, and investigate a number of simple heuristics motivated by this perspective. We identify a thresholding strategy that has advantages over the standard ``mask-predict'' algorithm, and provide analyses of its behavior on machine translation tasks.\n",
      "----------------------------------------------------------------------------------------------------\n",
      "Large Language Models\n",
      "Token-wise Decomposition of Autoregressive Language Model Hidden States for Analyzing Model Predictions\n",
      "While there is much recent interest in studying why Transformer-based large language models make predictions the way they do, the complex computations performed within each layer have made their behavior somewhat opaque. To mitigate this opacity, this work presents a linear decomposition of final hidden states from autoregressive language models based on each initial input token, which is exact for virtually all contemporary Transformer architectures. This decomposition allows the definition of probability distributions that ablate the contribution of specific input tokens, which can be used to analyze their influence on model probabilities over a sequence of upcoming words with only one forward pass from the model. Using the change in next-word probability as a measure of importance, this work first examines which context words make the biggest contribution to language model predictions. Regression experiments suggest that Transformer-based language models rely primarily on collocational associations, followed by linguistic factors such as syntactic dependencies and coreference relationships in making next-word predictions. Additionally, analyses using these measures to predict syntactic dependencies and coreferent mention spans show that collocational association and repetitions of the same token largely explain the language models' predictions on these tasks.\n",
      "----------------------------------------------------------------------------------------------------\n",
      "Resources and Evaluation\n",
      "Exploring the Capacity of Pretrained Language Models for Reasoning about Actions and Change\n",
      "Reasoning about actions and change (RAC) is essential to understand and interact with the ever-changing environment. Previous AI research has shown the importance of fundamental and indispensable knowledge of actions, i.e., preconditions and effects. However, traditional methods rely on logical formalization which hinders practical applications. With recent transformer-based language models (LMs), reasoning over text is desirable and seemingly feasible, leading to the question of whether LMs can effectively and efficiently learn to solve RAC problems. We propose four essential RAC tasks as a comprehensive textual benchmark and generate problems in a way that minimizes the influence of other linguistic requirements (e.g., grounding) to focus on RAC. The resulting benchmark, TRAC, encompassing problems of various complexities, facilitates a more granular evaluation of LMs, precisely targeting the structural generalization ability much needed for RAC. Experiments with three high-performing transformers indicate that additional efforts are needed to tackle challenges raised by TRAC.\n",
      "----------------------------------------------------------------------------------------------------\n",
      "Large Language Models\n",
      "Latent Positional Information is in the Self-Attention Variance of Transformer Language Models Without Positional Embeddings\n",
      "The use of positional embeddings in transformer language models is widely accepted. However, recent research has called into question the necessity of such embeddings. We further extend this inquiry by demonstrating that a randomly initialized and frozen transformer language model, devoid of positional embeddings, inherently encodes strong positional information through the shrinkage of self-attention variance. To quantify this variance, we derive the underlying distribution of each step within a transformer layer. Through empirical validation using a fully pretrained model, we show that the variance shrinkage effect still persists after extensive gradient updates. Our findings serve to justify the decision to discard positional embeddings and thus facilitate more efficient pretraining of transformer language models.\n",
      "----------------------------------------------------------------------------------------------------\n",
      "Semantics: Lexical Semantics\n",
      "BERT is to NLP what AlexNet is to CV: Can Pre-Trained Language Models Identify Analogies?\n",
      "Analogies play a central role in human commonsense reasoning. The ability to recognize analogies such as “eye is to seeing what ear is to hearing”, sometimes referred to as analogical proportions, shape how we structure knowledge and understand language. Surprisingly, however, the task of identifying such analogies has not yet received much attention in the language model era. In this paper, we analyze the capabilities of transformer-based language models on this unsupervised task, using benchmarks obtained from educational settings, as well as more commonly used datasets. We find that off-the-shelf language models can identify analogies to a certain extent, but struggle with abstract and complex relations, and results are highly sensitive to model architecture and hyperparameters. Overall the best results were obtained with GPT-2 and RoBERTa, while configurations using BERT were not able to outperform word embedding models. Our results raise important questions for future work about how, and to what extent, pre-trained language models capture knowledge about abstract semantic relations.\n",
      "----------------------------------------------------------------------------------------------------\n",
      "Efficient Methods for NLP\n",
      "HyperRouter: Towards Efficient Training and Inference of Sparse Mixture of Experts\n",
      "By routing input tokens to only a few split experts, Sparse Mixture-of-Experts has enabled efficient training of large language models. Recent findings suggest that fixing the routers can achieve competitive performance by alleviating the collapsing problem, where all experts eventually learn similar representations. However, this strategy has two key limitations: (i) the policy derived from random routers might be sub-optimal, and (ii) it requires extensive resources during training and evaluation, leading to limited efficiency gains. This work introduces \\HyperRout, which dynamically generates the router's parameters through a fixed hypernetwork and trainable embeddings to achieve a balance between training the routers and freezing them to learn an improved routing policy. Extensive experiments across a wide range of tasks demonstrate the superior performance and efficiency gains of \\HyperRouter compared to existing routing methods. Our implementation is publicly available at {\\url{{https://github.com/giangdip2410/HyperRouter}}}.\n",
      "----------------------------------------------------------------------------------------------------\n",
      "Machine Learning for NLP\n",
      "Self-training with Few-shot Rationalization\n",
      "While pre-trained language models have obtained state-of-the-art performance for several natural language understanding tasks, they are quite opaque in terms of their decision-making process. While some recent works focus on rationalizing neural predictions by highlighting salient concepts in the text as justifications or rationales, they rely on thousands of labeled training examples for both task labels as well as annotated rationales for every instance. Such extensive large-scale annotations are infeasible to obtain for many tasks. To this end, we develop a multi-task teacher-student framework based on self-training pre-trained language models with limited task-specific labels and rationales and judicious sample selection to learn from informative pseudo-labeled examples. We study several characteristics of what constitutes a good rationale and demonstrate that the neural model performance can be significantly improved by making it aware of its rationalized predictions, particularly in low-resource settings. Extensive experiments in several benchmark datasets demonstrate the effectiveness of our approach.\n",
      "----------------------------------------------------------------------------------------------------\n",
      "Industry\n",
      "Boosting Transformers and Language Models for Clinical Prediction in Immunotherapy\n",
      "Clinical prediction is an essential task in the healthcare industry. However, the recent success of transformers, on which large language models are built, has not been extended to this domain. In this research, we explore the use of transformers and language models in prognostic prediction for immunotherapy using real-world patients' clinical data and molecular profiles. This paper investigates the potential of transformers to improve clinical prediction compared to conventional machine learning approaches and addresses the challenge of few-shot learning in predicting rare disease areas. The study benchmarks the efficacy of baselines and language models on prognostic prediction across multiple cancer types and investigates the impact of different pretrained language models under few-shot regimes. The results demonstrate significant improvements in accuracy and highlight the potential of NLP in clinical research to improve early detection and intervention for different diseases.\n",
      "----------------------------------------------------------------------------------------------------\n",
      "Efficient Methods for NLP\n",
      "The Framework Tax: Disparities Between Inference Efficiency in NLP Research and Deployment\n",
      "Increased focus on the computational efficiency of NLP systems has motivated the design of efficient model architectures and improvements to underlying hardware accelerators. However, the resulting increases in computational throughput and reductions in floating point operations have not directly translated to improvements in wall-clock inference latency. We demonstrate that these discrepancies can be largely attributed to bottlenecks introduced by deep learning frameworks. We denote this phenomenon as the \\textit{framework tax}, and observe that the disparity is growing as hardware speed increases over time. In this work, we examine this phenomenon through a series of case studies analyzing the effects of model design decisions, framework paradigms, and hardware platforms on total model latency. Code is available at https://github.com/JaredFern/Framework-Tax.\n",
      "----------------------------------------------------------------------------------------------------\n",
      "Efficient Methods for NLP\n",
      "Beyond Preserved Accuracy: Evaluating Loyalty and Robustness of BERT Compression\n",
      "Recent studies on compression of pretrained language models (e.g., BERT) usually use preserved accuracy as the metric for evaluation. In this paper, we propose two new metrics, label loyalty and probability loyalty that measure how closely a compressed model (i.e., student) mimics the original model (i.e., teacher). We also explore the effect of compression with regard to robustness under adversarial attacks. We benchmark quantization, pruning, knowledge distillation and progressive module replacing with loyalty and robustness. By combining multiple compression techniques, we provide a practical strategy to achieve better accuracy, loyalty and robustness.\n",
      "----------------------------------------------------------------------------------------------------\n",
      "Syntax: Tagging, Chunking, and Parsing\n",
      "Higher-order Derivatives of Weighted Finite-state Machines\n",
      "Weighted finite-state machines are a fundamental building block of NLP systems. They have withstood the test of time—from their early use in noisy channel models in the 1990s up to modern-day neurally parameterized conditional random fields. This work examines the computation of higher-order derivatives with respect to the normalization constant for weighted finite-state machines. We provide a general algorithm for evaluating derivatives of all orders, which has not been previously described in the literature. In the case of second-order derivatives, our scheme runs in the optimal O(Aˆ2 Nˆ4) time where A is the alphabet size and N is the number of states. Our algorithm is significantly faster than prior algorithms. Additionally, our approach leads to a significantly faster algorithm for computing second-order expectations, such as covariance matrices and gradients of first-order expectations.\n",
      "----------------------------------------------------------------------------------------------------\n",
      "Machine Learning for NLP\n",
      "SPECTRA: Sparse Structured Text Rationalization\n",
      "Selective rationalization aims to produce decisions along with rationales (e.g., text highlights or word alignments between two sentences). Commonly, rationales are modeled as stochastic binary masks, requiring sampling-based gradient estimators, which complicates training and requires careful hyperparameter tuning. Sparse attention mechanisms are a deterministic alternative, but they lack a way to regularize the rationale extraction (e.g., to control the sparsity of a text highlight or the number of alignments). In this paper, we present a unified framework for deterministic extraction of structured explanations via constrained inference on a factor graph, forming a differentiable layer. Our approach greatly eases training and rationale regularization, generally outperforming previous work on what comes to performance and plausibility of the extracted rationales. We further provide a comparative study of stochastic and deterministic methods for rationale extraction for classification and natural language inference tasks, jointly assessing their predictive power, quality of the explanations, and model variability.\n",
      "----------------------------------------------------------------------------------------------------\n",
      "Semantics: Sentence-level Semantics, Textual Inference and Other areas\n",
      "Towards Robustness of Text-to-SQL Models against Synonym Substitution\n",
      "Recently, there has been significant progress in studying neural networks to translate text descriptions into SQL queries. Despite achieving good performance on some public benchmarks, existing text-to-SQL models typically rely on the lexical matching between words in natural language (NL) questions and tokens in table schemas, which may render the models vulnerable to attacks that break the schema linking mechanism. In this work, we investigate the robustness of text-to-SQL models to synonym substitution. In particular, we introduce Spider-Syn, a human-curated dataset based on the Spider benchmark for text-to-SQL translation. NL questions in Spider-Syn are modified from Spider, by replacing their schema-related words with manually selected synonyms that reflect real-world question paraphrases. We observe that the accuracy dramatically drops by eliminating such explicit correspondence between NL questions and table schemas, even if the synonyms are not adversarially selected to conduct worst-case attacks. Finally, we present two categories of approaches to improve the model robustness. The first category of approaches utilizes additional synonym annotations for table schemas by modifying the model input, while the second category is based on adversarial training. We demonstrate that both categories of approaches significantly outperform their counterparts without the defense, and the first category of approaches are more effective.\n",
      "----------------------------------------------------------------------------------------------------\n",
      "Theme: Reality Check\n",
      "Controlling Learned Effects to Reduce Spurious Correlations in Text Classifiers\n",
      "To address the problem of NLP classifiers learning  spurious correlations between training features and target labels, a common approach is to make the model's predictions invariant to these features. However, this can be counter-productive when the features have a non-zero causal effect on the target label and thus are important for prediction. Therefore, using methods from the causal inference literature, we propose an algorithm to regularize the learnt effect of the features on the model's prediction to the estimated effect of feature on label. This results in an automated augmentation method that leverages the estimated effect of a feature to appropriately change the labels for new augmented inputs. On toxicity and IMDB review datasets, the proposed algorithm minimises spurious correlations and improves the minority group (i.e., samples breaking spurious correlations) accuracy, while also improving the total accuracy compared to standard training.\n",
      "----------------------------------------------------------------------------------------------------\n",
      "Linguistic Theories, Cognitive Modeling and Psycholinguistics\n",
      "Do Transformer Models Show Similar Attention Patterns to Task-Specific Human Gaze?\n",
      "Learned self-attention functions in state-of-the-art NLP models often correlate with human attention. We investigate whether self-attention in large-scale pre-trained language models is as predictive of human eye fixation patterns during task-reading as classical cognitive models of human attention. We compare attention functions across two task-specific reading datasets for sentiment analysis and relation extraction. We find the predictiveness of large-scale pre-trained self-attention for human attention depends on ‘what is in the tail’, e.g., the syntactic nature of rare contexts.Further, we observe that task-specific fine-tuning does not increase the correlation with human task-specific reading. Through an input reduction experiment we give complementary insights on the sparsity and fidelity trade-off, showing that lower-entropy attention vectors are more faithful.\n",
      "----------------------------------------------------------------------------------------------------\n",
      "Ethics and NLP\n",
      "Causal-Debias: Unifying Debiasing in Pretrained Language Models and Fine-tuning via Causal Invariant Learning\n",
      "Demographic biases and social stereotypes are common in pretrained language models (PLMs), and a burgeoning body of literature focuses on removing the unwanted stereotypical associations from PLMs. However, when fine-tuning these bias-mitigated PLMs in downstream natural language processing (NLP) applications, such as sentiment classification, the unwanted stereotypical associations resurface or even get amplified. Since pretrain\\&fine-tune is a major paradigm in NLP applications, separating the debiasing procedure of PLMs from fine-tuning would eventually harm the actual downstream utility. In this paper, we propose a unified debiasing framework Causal-Debias to remove unwanted stereotypical associations in PLMs during fine-tuning. Specifically, CausalDebias mitigates bias from a causal invariant perspective by leveraging the specific downstream task to identify bias-relevant and labelrelevant factors. We propose that bias-relevant factors are non-causal as they should have little impact on downstream tasks, while labelrelevant factors are causal. We perform interventions on non-causal factors in different demographic groups and design an invariant risk minimization loss to mitigate bias while maintaining task performance. Experimental results on three downstream tasks show that our proposed method can remarkably reduce unwanted stereotypical associations after PLMs are finetuned, while simultaneously minimizing the impact on PLMs and downstream applications.\n",
      "----------------------------------------------------------------------------------------------------\n",
      "Machine Learning for NLP\n",
      "Weight Poisoning Attacks on Pretrained Models\n",
      "Recently, NLP has seen a surge in the usage of large pre-trained models. Users download weights of models pre-trained on large datasets, then fine-tune the weights on a task of their choice. This raises the question of whether downloading untrusted pre-trained weights can pose a security threat. In this paper, we show that it is possible to construct ``weight poisoning'' attacks where pre-trained weights are injected with vulnerabilities that expose ``backdoors'' after fine-tuning, enabling the attacker to manipulate the model prediction simply by injecting an arbitrary keyword. We show that by applying a regularization method which we call RIPPLe and an initialization procedure we call Embedding Surgery, such attacks are possible even with limited knowledge of the dataset and fine-tuning procedure. Our experiments on sentiment classification, toxicity detection, and spam detection show that this attack is widely applicable and poses a serious threat. Finally, we outline practical defenses against such attacks. Code to reproduce our experiments is available at https://github.com/neulab/RIPPLe.\n",
      "----------------------------------------------------------------------------------------------------\n",
      "Machine Learning for NLP\n",
      "Robust Encodings: A Framework for Combating Adversarial Typos\n",
      "Despite excellent performance on many tasks, NLP systems are easily fooled by small adversarial perturbations of inputs. Existing procedures to defend against such perturbations are either (i) heuristic in nature and susceptible to stronger attacks or (ii) provide guaranteed robustness to worst-case attacks, but are incompatible with state-of-the-art models like BERT. In this work, we introduce robust encodings (RobEn): a simple framework that confers guaranteed robustness, without making compromises on model architecture. The core component of RobEn is an encoding function, which maps sentences to a smaller, discrete space of encodings. Systems using these encodings as a bottleneck confer guaranteed robustness with standard training, and the same encodings can be used across multiple tasks. We identify two desiderata to construct robust encoding functions: perturbations of a sentence should map to a small set of encodings (stability), and models using encodings should still perform well (fidelity). We instantiate RobEn to defend against a large family of adversarial typos. Across six tasks from GLUE, our instantiation of RobEn paired with BERT achieves an average robust accuracy of 71.3% against all adversarial typos in the family considered, while previous work using a typo-corrector achieves only 35.3% accuracy against a simple greedy attack.\n",
      "----------------------------------------------------------------------------------------------------\n",
      "Large Language Models\n",
      "ThinkSum: Probabilistic reasoning over sets using large language models\n",
      "Large language models (LLMs) have a substantial capacity for high-level analogical reasoning: reproducing patterns in linear text that occur in their training data (zero-shot evaluation) or in the provided context (few-shot in-context learning). However, recent studies show that even the more advanced LLMs fail in scenarios that require reasoning over multiple objects or facts and making sequences of logical deductions. We propose a two-stage probabilistic inference paradigm, ThinkSum, which reasons over sets of objects or facts in a structured manner. In the first stage (Think -- retrieval of associations), a LLM is queried in parallel over a set of phrases extracted from the prompt or an auxiliary model call. In the second stage (Sum -- probabilistic inference or reasoning), the results of these queries are aggregated to make the final prediction. We demonstrate the possibilities and advantages of ThinkSum on the BIG-bench suite of LLM evaluation tasks, achieving improvements over the state of the art using GPT-family models on thirteen difficult tasks, often with far smaller model variants. We also compare and contrast ThinkSum with other proposed modifications to direct prompting of LLMs, such as variants of chain-of-thought prompting. Our results suggest that because the probabilistic inference in ThinkSum is performed outside of calls to the LLM, ThinkSum is less sensitive to prompt design, yields more interpretable predictions, and can be flexibly combined with latent variable models to extract structured knowledge from LLMs. Overall, our proposed paradigm represents a promising approach for enhancing the reasoning capabilities of LLMs.\n",
      "----------------------------------------------------------------------------------------------------\n",
      "Cognitive Modeling and Psycholinguistics\n",
      "Recurrent Neural Network Language Models Always Learn English-Like Relative Clause Attachment\n",
      "A standard approach to evaluating language models analyzes how models assign probabilities to valid versus invalid syntactic constructions (i.e. is a grammatical sentence more probable than an ungrammatical sentence). Our work uses ambiguous relative clause attachment to extend such evaluations to cases of multiple simultaneous valid interpretations, where stark grammaticality differences are absent. We compare model performance in English and Spanish to show that non-linguistic biases in RNN LMs advantageously overlap with syntactic structure in English but not Spanish. Thus, English models may appear to acquire human-like syntactic preferences, while models trained on Spanish fail to acquire comparable human-like preferences. We conclude by relating these results to broader concerns about the relationship between comprehension (i.e. typical language model use cases) and production (which generates the training data for language models), suggesting that necessary linguistic biases are not present in the training signal at all.\n",
      "----------------------------------------------------------------------------------------------------\n",
      "Cognitive Modeling and Psycholinguistics\n",
      "A Systematic Assessment of Syntactic Generalization in Neural Language Models\n",
      "While state-of-the-art neural network models continue to achieve lower perplexity scores on language modeling benchmarks, it remains unknown whether optimizing for broad-coverage predictive performance leads to human-like syntactic knowledge. Furthermore, existing work has not provided a clear picture about the model properties required to produce proper syntactic generalizations. We present a systematic evaluation of the syntactic knowledge of neural language models, testing 20 combinations of model types and data sizes on a set of 34 English-language syntactic test suites. We find substantial differences in syntactic generalization performance by model architecture, with sequential models underperforming other architectures. Factorially manipulating model architecture and training dataset size (1M-40M words), we find that variability in syntactic generalization performance is substantially greater by architecture than by dataset size for the corpora tested in our experiments. Our results also reveal a dissociation between perplexity and syntactic generalization performance.\n",
      "----------------------------------------------------------------------------------------------------\n",
      "Question Answering\n",
      "How Much Knowledge Can You Pack Into the Parameters of a Language Model?\n",
      "It has recently been observed that neural language models trained on unstructured text can implicitly store and retrieve knowledge using natural language queries. In this short paper, we measure the practical utility of this approach by fine-tuning pre-trained models to answer questions without access to any external context or knowledge. We show that this approach scales with model size and performs competitively with open-domain systems that explicitly retrieve answers from an external knowledge source when answering questions. To facilitate reproducibility and future work, we release our code and trained models.\n",
      "----------------------------------------------------------------------------------------------------\n",
      "Semantics: Sentence Level\n",
      "FastBERT: a Self-distilling BERT with Adaptive Inference Time\n",
      "Pre-trained language models like BERT have proven to be highly performant. However, they are often computationally expensive in many practical scenarios, for such heavy models can hardly be readily implemented with limited resources. To improve their efficiency with an assured model performance, we propose a novel speed-tunable FastBERT with adaptive inference time. The speed at inference can be flexibly adjusted under varying demands, while redundant calculation of samples is avoided. Moreover, this model adopts a unique self-distillation mechanism at fine-tuning, further enabling a greater computational efficacy with minimal loss in performance. Our model achieves promising results in twelve English and Chinese datasets. It is able to speed up by a wide range from 1 to 12 times than BERT if given different speedup thresholds to make a speed-performance tradeoff.\n",
      "----------------------------------------------------------------------------------------------------\n",
      "Machine Learning for NLP\n",
      "Effective Estimation of Deep Generative Language Models\n",
      "Advances in variational inference enable parameterisation of probabilistic models by deep neural networks. This combines the statistical transparency of the probabilistic modelling framework with the representational power of deep learning. Yet, due to a problem known as posterior collapse, it is difficult to estimate such models in the context of language modelling effectively. We concentrate on one such model, the variational auto-encoder, which we argue is an important building block in hierarchical probabilistic models of language. This paper contributes a sober view of the problem, a survey of techniques to address it, novel techniques, and extensions to the model. To establish a ranking of techniques, we perform a systematic comparison using Bayesian optimisation and find that many techniques perform reasonably similar, given enough resources. Still, a favourite can be named based on convenience. We also make several empirical observations and recommendations of best practices that should help researchers interested in this exciting field.\n",
      "----------------------------------------------------------------------------------------------------\n",
      "Semantics: Textual Inference and Other Areas of Semantics\n",
      "Do Neural Models Learn Systematicity of Monotonicity Inference in Natural Language?\n",
      "Despite the success of language models using neural networks, it remains unclear to what extent neural models have the generalization ability to perform inferences. In this paper, we introduce a method for evaluating whether neural models can learn systematicity of monotonicity inference in natural language, namely, the regularity for performing arbitrary inferences with generalization on composition. We consider four aspects of monotonicity inferences and test whether the models can systematically interpret lexical and logical phenomena on different training/test splits. A series of experiments show that three neural models systematically draw inferences on unseen combinations of lexical and logical phenomena when the syntactic structures of the sentences are similar between the training and test sets. However, the performance of the models significantly decreases when the structures are slightly changed in the test set while retaining all vocabularies and constituents already appearing in the training set. This indicates that the generalization ability of neural models is limited to cases where the syntactic structures are nearly the same as those in the training set.\n",
      "----------------------------------------------------------------------------------------------------\n",
      "Theme\n",
      "Intermediate-Task Transfer Learning with Pretrained Language Models: When and Why Does It Work?\n",
      "While pretrained models such as BERT have shown large gains across natural language understanding tasks, their performance can be improved by further training the model on a data-rich intermediate task, before fine-tuning it on a target task. However, it is still poorly understood when and why intermediate-task training is beneficial for a given target task. To investigate this, we perform a large-scale study on the pretrained RoBERTa model with 110 intermediate-target task combinations. We further evaluate all trained models with 25 probing tasks meant to reveal the specific skills that drive transfer. We observe that intermediate tasks requiring high-level inference and reasoning abilities tend to work best. We also observe that target task performance is strongly correlated with higher-level abilities such as coreference resolution. However, we fail to observe more granular correlations between probing and target task performance, highlighting the need for further work on broad-coverage probing benchmarks. We also observe evidence that the forgetting of knowledge learned during pretraining may limit our analysis, highlighting the need for further work on transfer learning methods in these settings.\n",
      "----------------------------------------------------------------------------------------------------\n",
      "NLP Applications\n",
      "Rethinking Model Selection and Decoding for Keyphrase Generation with Pre-trained Sequence-to-Sequence Models\n",
      "Keyphrase Generation (KPG) is a longstanding task in NLP with widespread applications. The advent of sequence-to-sequence (seq2seq) pre-trained language models (PLMs) has ushered in a transformative era for KPG, yielding promising performance improvements. However, many design decisions remain unexplored and are often made arbitrarily. This paper undertakes a systematic analysis of the influence of model selection and decoding strategies on PLM-based KPG. We begin by elucidating why seq2seq PLMs are apt for KPG, anchored by an attention-driven hypothesis. We then establish that conventional wisdom for selecting seq2seq PLMs lacks depth: (1) merely increasing model size or performing task-specific adaptation is not parameter-efficient; (2) although combining in-domain pre-training with task adaptation benefits KPG, it does partially hinder generalization. Regarding decoding, we demonstrate that while greedy search achieves strong F1 scores, it lags in recall compared with sampling-based methods. Based on these insights, we propose DeSel, a likelihood-based decode-select algorithm for seq2seq PLMs. DeSel improves greedy search by an average of 4.7% semantic F1 across five datasets. Our collective findings pave the way for deeper future investigations into PLM-based KPG.\n",
      "----------------------------------------------------------------------------------------------------\n",
      "Phonology, Morphology and Word Segmentation\n",
      "Coding Textual Inputs Boosts the Accuracy of Neural Networks\n",
      "Natural Language Processing (NLP) tasks are usually performed word by word on textual inputs. We can use arbitrary symbols to represent the linguistic meaning of a word and use these symbols as inputs. As ``alternatives'' to a text representation, we introduce Soundex, MetaPhone, NYSIIS, logogram to NLP, and develop fixed-output-length coding and its extension using Huffman coding. Each of those codings combines different character/digital sequences and constructs a new vocabulary based on codewords. We find that the integration of those codewords with text provides more reliable inputs to Neural-Network-based NLP systems through redundancy than text-alone inputs.  Experiments demonstrate that our approach  outperforms the state-of-the-art models on the application of machine translation, language modeling, and part-of-speech tagging. The source code is available at https://github.com/abdulrafae/coding_nmt.\n",
      "----------------------------------------------------------------------------------------------------\n",
      "NLP Applications\n",
      "Data Boost: Text Data Augmentation Through Reinforcement Learning Guided Conditional Generation\n",
      "Data augmentation is proven to be effective in many NLU tasks, especially for those suffering from data scarcity. In this paper, we present a powerful and easy to deploy text augmentation framework, Data Boost, which augments data through reinforcement learning guided conditional generation. We evaluate Data Boost on three diverse text classification tasks under five different classifier architectures. The result shows that Data Boost can boost the performance of classifiers especially in low-resource data scenarios. For instance, Data Boost improves F1 for the three tasks by 8.7% on average when given only 10% of the whole data for training. We also compare Data Boost with six prior text augmentation methods. Through human evaluations (N=178), we confirm that Data Boost augmentation has comparable quality as the original data with respect to readability and class consistency.\n",
      "----------------------------------------------------------------------------------------------------\n",
      "Semantics: Lexical, Sentence level, Textual Inference and Other areas\n",
      "Leveraging Affirmative Interpretations from Negation Improves Natural Language Understanding\n",
      "Negation poses a challenge in many natural language understanding tasks. Inspired by the fact that understanding a negated statement often requires humans to infer affirmative interpretations, in this paper we show that doing so benefits models for three natural language understanding tasks. We present an automated procedure to collect pairs of sentences with negation and their affirmative interpretations, resulting in over 150,000 pairs. Experimental results show that leveraging these pairs helps (a) T5 generate affirmative interpretations from negations in a previous benchmark, and (b) a RoBERTa-based classifier solve the task of natural language inference. We also leverage our pairs to build a plug-and-play neural generator that given a negated statement generates an affirmative interpretation. Then, we incorporate the pretrained generator into a RoBERTa-based classifier for sentiment analysis and show that doing so improves the results. Crucially, our proposal does not require any manual effort.\n",
      "----------------------------------------------------------------------------------------------------\n",
      "NLP Applications\n",
      "Natural Logic-guided Autoregressive Multi-hop Document Retrieval for Fact Verification\n",
      "A key component of fact verification is the evidence retrieval, often from multiple documents. Recent approaches use dense representations and condition the retrieval of each document on the previously retrieved ones. The latter step is performed over all the documents in the collection, requiring storing their dense representations in an index, thus incurring a high memory footprint. An alternative paradigm is retrieve-and-rerank, where documents are retrieved using methods such as BM25, their sentences are reranked, and further documents are retrieved conditioned on these sentences, reducing the memory requirements. However, such approaches can be brittle as they rely on heuristics and assume hyperlinks between documents.We propose a novel retrieve-and-rerank method for multi-hop retrieval, that consists of a retriever that jointly scores documents in the knowledge source and sentences from previously retrieved documents using an autoregressive formulation and is guided by a proof system based on natural logic that dynamically terminates the retrieval process if the evidence is deemed sufficient.This method exceeds or is on par with the current state-of-the-art on FEVER, HoVer and FEVEROUS-S, while using 5 to 10 times less memory than competing systems. Evaluation on an adversarial dataset indicates improved stability of our approach compared to commonly deployed threshold-based methods. Finally, the proof system helps humans predict model decisions correctly more often than using the evidence alone.\n",
      "----------------------------------------------------------------------------------------------------\n",
      "Machine Learning for NLP\n",
      "Grounded Compositional Outputs for Adaptive Language Modeling\n",
      "Language models have emerged as a central component across NLP, and a great deal of progress depends on the ability to cheaply adapt them (e.g., through finetuning) to new domains and tasks. A language model's \\emph{vocabulary}---typically selected before training and permanently fixed later---affects its size and is part of what makes it resistant to such adaptation. Prior work has used compositional input embeddings based on surface forms to ameliorate this issue. In this work, we go one step beyond and propose a fully compositional output embedding layer for language models, which is further grounded in information from a structured lexicon (WordNet), namely semantically related words and free-text definitions. To our knowledge, the result is the first word-level language model with a size that does not depend on the training vocabulary. We evaluate the model on conventional language modeling as well as challenging cross-domain settings with an open vocabulary, finding that it matches or outperforms previous state-of-the-art output embedding methods and adaptation approaches. Our analysis attributes the improvements to sample efficiency: our model is more accurate for low-frequency words.\n",
      "----------------------------------------------------------------------------------------------------\n",
      "Efficient Methods for NLP\n",
      "Pre-train or Annotate? Domain Adaptation with a Constrained Budget\n",
      "Recent work has demonstrated that pre-training in-domain language models can boost performance when adapting to a new domain. However, the costs associated with pre-training raise an important question: given a fixed budget, what steps should an NLP practitioner take to maximize performance? In this paper, we study domain adaptation under budget constraints, and approach it as a customer choice problem between data annotation and pre-training. Specifically, we measure the annotation cost of three procedural text datasets and the pre-training cost of three in-domain language models. Then we evaluate the utility of different combinations of pre-training and data annotation under varying budget constraints to assess which combination strategy works best. We find that, for small budgets, spending all funds on annotation leads to the best performance; once the budget becomes large enough, a combination of data annotation and in-domain pre-training works more optimally. We therefore suggest that task-specific data annotation should be part of an economical strategy when adapting an NLP model to a new domain.\n",
      "----------------------------------------------------------------------------------------------------\n",
      "Machine Learning for NLP\n",
      "Efficient Long-Text Understanding with Short-Text Models\n",
      "Transformer-based pretrained language models (LMs) are ubiquitous across natural language understanding, but cannot be applied to long sequences such as stories, scientific articles, and long documents due to their quadratic complexity. While a myriad of efficient transformer variants have been proposed, they are typically based on custom implementations that require expensive pretraining from scratch. In this work, we propose SLED: SLiding-Encoder and Decoder, a simple approach for processing long sequences that re-uses and leverages battle-tested short-text pretrained LMs. Specifically, we partition the input into overlapping chunks, encode each with a short-text LM encoder and use the pretrained decoder to fuse information across chunks (fusion-in-decoder). We illustrate through controlled experiments that SLED offers a viable strategy for long text understanding and evaluate our approach on SCROLLS, a benchmark with seven datasets across a wide range of language understanding tasks. We find that SLED is competitive with specialized models that are up to 50x larger and require a dedicated and expensive pretraining step.\n",
      "----------------------------------------------------------------------------------------------------\n",
      "Machine Learning for NLP\n",
      "Using Interpretation Methods for Model Enhancement\n",
      "In the age of neural natural language processing, there are plenty of works trying to derive interpretations of neural models. Intuitively, when gold rationales exist during training, one can additionally train the model to match its interpretation with the rationales. However, this intuitive idea has not been fully explored. In this paper, we propose a framework of utilizing interpretation methods and gold rationales to enhance models. Our framework is very general in the sense that it can incorporate various interpretation methods. Previously proposed gradient-based methods can be shown as an instance of our framework. We also propose two novel instances utilizing two other types of interpretation methods, erasure/replace-based and extractor-based methods, for model enhancement. We conduct comprehensive experiments on a variety of tasks. Experimental results show that our framework is effective especially in low-resource settings in enhancing models with various interpretation methods, and our two newly-proposed methods outperform gradient-based methods in most settings. Code is available at https://github.com/Chord-Chen-30/UIMER.\n",
      "----------------------------------------------------------------------------------------------------\n",
      "Machine Learning for NLP\n",
      "Improving Transformer Models by Reordering their Sublayers\n",
      "Multilayer transformer networks consist of interleaved self-attention and feedforward sublayers. Could ordering the sublayers in a different pattern lead to better performance? We generate randomly ordered transformers and train them with the language modeling objective. We observe that some of these models are able to achieve better performance than the interleaved baseline, and that those successful variants tend to have more self-attention at the bottom and more feedforward sublayers at the top. We propose a new transformer pattern that adheres to this property, the sandwich transformer, and show that it improves perplexity on multiple word-level and character-level language modeling benchmarks, at no cost in parameters, memory, or training time. However, the sandwich reordering pattern does not guarantee performance gains across every task, as we demonstrate on machine translation models. Instead, we suggest that further exploration of task-specific sublayer reorderings is needed in order to unlock additional gains.\n",
      "----------------------------------------------------------------------------------------------------\n",
      "Theme Track: Large Language Models and the Future of NLP\n",
      "INFORM : Information eNtropy based multi-step reasoning FOR large language Models\n",
      "Large language models (LLMs) have demonstrated exceptional performance in reasoning tasks with dedicated Chain-of-Thought (CoT) prompts. Further enhancing CoT prompts with exquisite exemplars can significantly improve reasoning performance.However, the effectiveness of CoT prompts may fluctuate dramatically with different choices of in-context examples. Additionally, manual construction of rationale steps can be time-consuming, presenting challenges for the widespread adoption of CoT prompting. In this work, we propose a novel approach by introducing information entropy (IE) as a criteria on for CoT prompt selection. We extend this criterion to the CoT generation and inference stages, automatically generating CoT prompts with higher information entropy scores and adaptively determining the number of samples. These three stages together form our proposed information- entropy-based multi-step reasoning for large language models, named INFORM. Our experiments across seven reasoning benchmarks utilizing two language models(GPT-3.5-Turbo and text-davinci-003) demonstrate the superiority of INFORM both in performance and efficiency.\n",
      "----------------------------------------------------------------------------------------------------\n",
      "Theme Track: Large Language Models and the Future of NLP\n",
      "Prompting is not a substitute for probability measurements in large language models\n",
      "Prompting is now a dominant method for evaluating the linguistic knowledge of large language models (LLMs). While other methods directly read out models' probability distributions over strings, prompting requires models to access this internal information by processing linguistic input, thereby implicitly testing a new type of emergent ability: metalinguistic judgment. In this study, we compare metalinguistic prompting and direct probability measurements as ways of measuring models' linguistic knowledge. Broadly, we find that LLMs' metalinguistic judgments are inferior to quantities directly derived from representations. Furthermore, consistency gets worse as the prompt query diverges from direct measurements of next-word probabilities. Our findings suggest that negative results relying on metalinguistic prompts cannot be taken as conclusive evidence that an LLM lacks a particular linguistic generalization. Our results also highlight the value that is lost with the move to closed APIs where access to probability distributions is limited.\n",
      "----------------------------------------------------------------------------------------------------\n",
      "Machine Learning for NLP\n",
      "Making Pretrained Language Models Good Long-tailed Learners\n",
      "Prompt-tuning has shown appealing performance in few-shot classification by virtue of its capability in effectively exploiting pre-trained knowledge. This motivates us to check the hypothesis that prompt-tuning is also a promising choice for long-tailed classification, since the tail classes are intuitively few-shot ones. To achieve this aim, we conduct empirical studies to examine the hypothesis. The results demonstrate that prompt-tuning makes pretrained language models at least good long-tailed learners. For intuitions on why prompt-tuning can achieve good performance in long-tailed classification, we carry out in-depth analyses by progressively bridging the gap between prompt-tuning and commonly used finetuning. The summary is that the classifier structure and parameterization form the key to making good long-tailed learners, in comparison with the less important input structure. Finally, we verify the applicability of our finding to few-shot classification.\n",
      "----------------------------------------------------------------------------------------------------\n",
      "Machine Learning for NLP\n",
      "Are Pretrained Convolutions Better than Pretrained Transformers?\n",
      "In the era of pre-trained language models, Transformers are the de facto choice of model architectures. While recent research has shown promise in entirely convolutional, or CNN, architectures, they have not been explored using the pre-train-fine-tune paradigm. In the context of language models, are convolutional models competitive to Transformers when pre-trained? This paper investigates this research question and presents several interesting findings. Across an extensive set of experiments on 8 datasets/tasks, we find that CNN-based pre-trained models are competitive and outperform their Transformer counterpart in certain scenarios, albeit with caveats. Overall, the findings outlined in this paper suggest that conflating pre-training and architectural advances is misguided and that both advances should be considered independently. We believe our research paves the way for a healthy amount of optimism in alternative architectures.\n",
      "----------------------------------------------------------------------------------------------------\n",
      "Machine Learning for NLP\n",
      "On the importance of pre-training data volume for compact language models\n",
      "Recent advances in language modeling have led to computationally intensive and resource-demanding state-of-the-art models. In an effort towards sustainable practices, we study the impact of pre-training data volume on compact language models. Multiple BERT-based models are trained on gradually increasing amounts of French text. Through fine-tuning on the French Question Answering Dataset (FQuAD), we observe that well-performing models are obtained with as little as 100 MB of text. In addition, we show that past critically low amounts of pre-training data, an intermediate pre-training step on the task-specific corpus does not yield substantial improvements.\n",
      "----------------------------------------------------------------------------------------------------\n",
      "Multilingualism and Cross-Lingual NLP\n",
      "Improving Pretraining Techniques for Code-Switched NLP\n",
      "Pretrained models are a mainstay in modern NLP applications. Pretraining requires access to large volumes of unlabeled text. While monolingual text is readily available for many of the world's languages, access to large quantities of code-switched text (i.e., text with tokens of multiple languages interspersed within a sentence) is much more scarce. Given this resource constraint, the question of how pretraining using limited amounts of code-switched text could be altered to improve performance for code-switched NLP becomes important to tackle. In this paper, we explore different masked language modeling (MLM) pretraining techniques for code-switched text that are cognizant of language boundaries prior to masking. The language identity of the tokens can either come from human annotators, trained language classifiers, or simple relative frequency-based estimates. We also present an MLM variant by introducing a residual connection from an earlier layer in the pretrained model that uniformly boosts performance on downstream tasks. Experiments on two downstream tasks, Question Answering (QA) and Sentiment Analysis (SA), involving four code-switched language pairs (Hindi-English, Spanish-English, Tamil-English, Malayalam-English) yield relative improvements of up to 5.8 and 2.7 F1 scores on QA (Hindi-English) and SA (Tamil-English), respectively, compared to standard pretraining techniques. To understand our task improvements better, we use a series of probes to study what additional information is encoded by our pretraining techniques and also introduce an auxiliary loss function that explicitly models language identification to further aid the residual MLM variants.\n",
      "----------------------------------------------------------------------------------------------------\n",
      "Multilinguality\n",
      "Analyzing the Mono- and Cross-Lingual Pretraining Dynamics of Multilingual Language Models\n",
      "The emergent cross-lingual transfer seen in multilingual pretrained models has sparked significant interest in studying their behavior. However, because these analyses have focused on fully trained multilingual models, little is known about the dynamics of the multilingual pretraining process. We investigate when these models acquire their in-language and cross-lingual abilities by probing checkpoints taken from throughout XLM-R pretraining, using a suite of linguistic tasks. Our analysis shows that the model achieves high in-language performance early on, with lower-level linguistic skills acquired before more complex ones. In contrast, the point in pretraining when the model learns to transfer cross-lingually differs across language pairs. Interestingly, we also observe that, across many languages and tasks, the final model layer exhibits significant performance degradation over time, while linguistic knowledge propagates to lower layers of the network. Taken together, these insights highlight the complexity of multilingual pretraining and the resulting varied behavior for different languages over time.\n",
      "----------------------------------------------------------------------------------------------------\n",
      "Machine Learning for NLP\n",
      "schuBERT: Optimizing Elements of BERT\n",
      "Transformers have gradually become a key component for many state-of-the-art natural language representation models. A recent Transformer based model- BERTachieved state-of-the-art results on various natural language processing tasks, including GLUE, SQuAD v1.1, and SQuAD v2.0. This model however is computationally prohibitive and has a huge number of parameters. In this work we revisit the architecture choices of BERT in efforts to obtain a lighter model. We focus on reducing the number of parameters yet our methods can be applied towards other objectives such FLOPs or latency. We show that much efficient light BERT models can be obtained by reducing algorithmically chosen correct architecture design dimensions rather than reducing the number of Transformer encoder layers. In particular, our schuBERT gives 6.6% higher average accuracy on GLUE and SQuAD datasets as compared to BERT with three encoder layers while having the same number of parameters.\n",
      "----------------------------------------------------------------------------------------------------\n",
      "Language Generation\n",
      "CAT-Gen: Improving Robustness in NLP Models via Controlled Adversarial Text Generation\n",
      "NLP models are shown to suffer from robustness issues, i.e., a model's prediction can be easily changed under small perturbations to the input. In this work, we present a Controlled Adversarial Text Generation (CAT-Gen)  model that, given an input text, generates adversarial texts through controllable attributes that are known to be invariant to task labels.  For example, in order to attack a model for sentiment classification over product reviews, we can use the product categories as the controllable attribute which would not change the sentiment of the reviews.  Experiments on real-world NLP datasets demonstrate that our method can generate more diverse and fluent adversarial texts, compared to many existing adversarial text generation approaches. We further use our generated adversarial examples to improve models through adversarial training, and we demonstrate that our generated attacks are more robust against model re-training and different model architectures.\n",
      "----------------------------------------------------------------------------------------------------\n",
      "Semantics: Sentence Level\n",
      "Word-level Textual Adversarial Attacking as Combinatorial Optimization\n",
      "Adversarial attacks are carried out to reveal the vulnerability of deep neural networks. Textual adversarial attacking is challenging because text is discrete and a small perturbation can bring significant change to the original input. Word-level attacking, which can be regarded as a combinatorial optimization problem, is a well-studied class of textual attack methods. However, existing word-level attack models are far from perfect, largely because unsuitable search space reduction methods and inefficient optimization algorithms are employed. In this paper, we propose a novel attack model, which incorporates the sememe-based word substitution method and particle swarm optimization-based search algorithm to solve the two problems separately. We conduct exhaustive experiments to evaluate our attack model by attacking BiLSTM and BERT on three benchmark datasets. Experimental results demonstrate that our model consistently achieves much higher attack success rates and crafts more high-quality adversarial examples as compared to baseline methods. Also, further experiments show our model has higher transferability and can bring more robustness enhancement to victim models by adversarial training. All the code and data of this paper can be obtained on https://github.com/thunlp/SememePSO-Attack.\n",
      "----------------------------------------------------------------------------------------------------\n",
      "Large Language Models\n",
      "ALERT: Adapt Language Models to Reasoning Tasks\n",
      "Recent advancements in large language models have enabled them to perform well on complex tasks that require step-by-step reasoning with few-shot learning.  However, it is unclear whether these models are applying reasoning skills they have learnt during pre-training , or if they are simply memorizing their training corpus at finer granularity and have learnt to better understand their context. To address this question, we introduce~\\{pasted macro `OUR'\\}model, a benchmark and suite of analyses for evaluating reasoning skills of language models. \\{pasted macro `OUR'\\}model~ enables comparing pre-trained and finetuned models on complex tasks that require reasoning skills to solve. Our benchmark provides a test bed to asses any language model on fine-grained reasoning skills, which spans over 20 datasets and covers 10 different reasoning skills. By using \\{pasted macro `OUR'\\}model~ we further investigate \\textit{the role of finetuning}. Our extensive empirical analysis shows that language models learn more reasoning skills such as textual entailment, abductive reasoning, and analogical reasoning during the finetuning stage compared to pretraining stage. However, we also find that when language models are finetuned they tend to overfit to the prompt template, which hurts the robustness of models causing generalization problems.\n",
      "----------------------------------------------------------------------------------------------------\n",
      "Dialog and Interactive Systems\n",
      "Towards Incremental Transformers: An Empirical Analysis of Transformer Models for Incremental NLU\n",
      "Incremental processing allows interactive systems to respond based on partial inputs, which is a desirable property e.g. in dialogue agents. The currently popular Transformer architecture inherently processes sequences as a whole, abstracting away the notion of time. Recent work attempts to apply Transformers incrementally via restart-incrementality by repeatedly feeding, to an unchanged model, increasingly longer input prefixes to produce partial outputs. However, this approach is computationally costly and does not scale efficiently for long sequences. In parallel, we witness efforts to make Transformers more efficient, e.g. the Linear Transformer (LT) with a recurrence mechanism. In this work, we examine the feasibility of LT for incremental NLU in English. Our results show that the recurrent LT model has better incremental performance and faster inference speed compared to the standard Transformer and LT with restart-incrementality, at the cost of part of the non-incremental (full sequence) quality. We show that the performance drop can be mitigated by training the model to wait for right context before committing to an output and that training with input prefixes is beneficial for delivering correct partial outputs.\n",
      "----------------------------------------------------------------------------------------------------\n",
      "Ethics and NLP\n",
      "MISGENDERED: Limits of Large Language Models in Understanding Pronouns\n",
      "Content Warning: This paper contains examples of misgendering and erasure that could be offensive and potentially triggering.  Gender bias in language technologies has been widely studied, but research has mostly been restricted to a binary paradigm of gender. It is essential also to consider non-binary gender identities, as excluding them can cause further harm to an already marginalized group. In this paper, we comprehensively evaluate popular language models for their ability to correctly use English gender-neutral pronouns (e.g., singular they, them) and neo-pronouns (e.g., ze, xe, thon) that are used by individuals whose gender identity is not represented by binary pronouns. We introduce Misgendered, a framework for evaluating large language models' ability to correctly use preferred pronouns, consisting of (i) instances declaring an individual's pronoun, followed by a sentence with a missing pronoun, and (ii) an experimental setup for evaluating masked and auto-regressive language models using a unified method. When prompted out-of-the-box, language models perform poorly at correctly predicting neo-pronouns (averaging 7.6\\% accuracy) and gender-neutral pronouns (averaging 31.0\\% accuracy). This inability to generalize results from a lack of representation of non-binary pronouns in training data and memorized associations. Few-shot adaptation with explicit examples in the prompt improves the performance but plateaus at only 45.4\\% for neo-pronouns. We release the full dataset, code, and demo at https://tamannahossainkay.github.io/misgendered/.\n",
      "----------------------------------------------------------------------------------------------------\n",
      "Machine Learning for NLP\n",
      "Selecting Informative Contexts Improves Language Model Fine-tuning\n",
      "Language model fine-tuning is essential for modern natural language processing, but is computationally expensive and time-consuming. Further, the effectiveness of fine-tuning is limited by the inclusion of training examples that negatively affect performance. Here we present a general fine-tuning method that we call information gain filtration for improving the overall training efficiency and final performance of language model fine-tuning. We define the information gain of an example as the improvement on a validation metric after training on that example. A secondary learner is then trained to approximate this quantity. During fine-tuning, this learner selects informative examples and skips uninformative ones. We show that our method has consistent improvement across datasets, fine-tuning tasks, and language model architectures. For example, we achieve a median perplexity of 54.0 on a books dataset compared to 57.3 for standard fine-tuning. We present statistical evidence that offers insight into the improvements of our method over standard fine-tuning. The generality of our method leads us to propose a new paradigm for language model fine-tuning — we encourage researchers to release pretrained secondary learners on common corpora to promote efficient and effective fine-tuning, thereby improving the performance and reducing the overall energy footprint of language model fine-tuning.\n",
      "----------------------------------------------------------------------------------------------------\n",
      "Ethics and NLP\n",
      "An Empirical Analysis of Parameter-Efficient Methods for Debiasing Pre-Trained Language Models\n",
      "The increasingly large size of modern pre-trained language models not only makes them inherit more human-like biases from the training corpora, but also makes it computationally expensive to mitigate such biases. In this paper, we investigate recent parameter-efficient methods in combination with counterfactual data augmentation (CDA) for bias mitigation. We conduct extensive experiments with prefix tuning, prompt tuning, and adapter tuning on different language models and bias types to evaluate their debiasing performance and abilities to preserve the internal knowledge of a pre-trained model. We find that the parameter-efficient methods (i) are effective in mitigating gender bias, where adapter tuning is consistently the most effective one and prompt tuning is more suitable for GPT-2 than BERT, (ii) are less effective when it comes to racial and religious bias, which may be attributed to the limitations of CDA, and (iii) can perform similarly to or sometimes better than full fine-tuning with improved time and memory efficiency, as well as maintain the internal knowledge in BERT and GPT-2, evaluated via fact retrieval and downstream fine-tuning.\n",
      "----------------------------------------------------------------------------------------------------\n",
      "Theme Track: Large Language Models and the Future of NLP\n",
      "Lion: Adversarial Distillation of Proprietary Large Language Models\n",
      "The practice of transferring knowledge from a sophisticated, proprietary large language model (LLM) to a compact, open-source LLM has garnered considerable attention. Previous works have focused on a unidirectional knowledge distillation way by aligning the responses of the student model with those of the teacher model to a set of instructions. Nevertheless, they overlooked the possibility of incorporating any reciprocal\"feedback\"--identifying challenging instructions where the student model's performance falls short--to boost the student model's proficiency iteratively. To this end, we propose a novel adversarial distillation framework for a more efficient knowledge transfer. Leveraging the versatile role adaptability of LLMs, we prompt the teacher model to identify\"hard\"instructions and generate new\"hard\"instructions for the student model, creating a three-stage adversarial loop of imitation, discrimination, and generation. By applying this adversarial framework, we successfully transfer knowledge from ChatGPT to a student model (named Lion), using a mere 70k training data. Our results show that Lion-13B not only achieves comparable open-ended generation capabilities to ChatGPT but surpasses conventional state-of-the-art (SOTA) instruction-tuned models like Vicuna-13B by 55.4% in challenging zero-shot reasoning benchmarks such as BIG-Bench Hard (BBH) and 16.7% on AGIEval. Code and model can be found at https://github.com/YJiangcm/Lion.\n",
      "----------------------------------------------------------------------------------------------------\n",
      "Efficient Methods for NLP\n",
      "Let's Sample Step by Step: Adaptive-Consistency for Efficient Reasoning and Coding with LLMs\n",
      "A popular approach for improving the correctness of output from large language models (LLMs) is Self-Consistency - poll the LLM multiple times and output the most frequent solution. Existing Self-Consistency techniques always generate a constant number of samples per question, where a better approach will be to non-uniformly distribute the available budget based on the amount of agreement in the samples generated so far. In response, we introduce Adaptive-Consistency, a cost-efficient, model-agnostic technique that dynamically adjusts the number of samples per question using a lightweight stopping criterion. Our experiments over 17 reasoning and code generation datasets and three LLMs demonstrate that Adaptive-Consistency reduces sample budget by up to 7.9 times with an average accuracy drop of less than 0.1%. Our code and data are available at https://www.sample-step-by-step.info\n",
      "----------------------------------------------------------------------------------------------------\n",
      "Ethics and NLP\n",
      "Uncovering and Categorizing Social Biases in Text-to-SQL\n",
      "Large pre-trained language models are acknowledged to carry social bias towards different demographics, which can further amplify existing stereotypes in our society and cause even more harm. Text-to-SQL is an important task, models of which are mainly adopted by administrative industries, where unfair decisions may lead to catastrophic consequences. However, existing Text-to-SQL models are trained on clean, neutral datasets, such as Spider and WikiSQL. This, to some extent, cover up social bias in models under ideal conditions, which nevertheless may emerge in real application scenarios. In this work, we aim to uncover and mitigate social bias in Text-to-SQL models. We summarize the categories of social bias that may occur in structural data for Text-to-SQL models. We build test benchmarks and reveal that models with similar task accuracy can contain social bias at very different rates. We show how to take advantage of our methodology to assess and mitigate social bias in the downstream Text-to-SQL task.\n",
      "----------------------------------------------------------------------------------------------------\n",
      "Theme\n",
      "Returning the N to NLP: Towards Contextually Personalized Classification Models\n",
      "Most NLP models today treat language as universal, even though socio- and psycholingustic research shows that the communicated message is influenced by the characteristics of the speaker as well as the target audience. This paper surveys the landscape of personalization in natural language processing and related fields, and offers a path forward to mitigate the decades of deviation of the NLP tools from sociolingustic findings, allowing to flexibly process the ``natural'' language of each user rather than enforcing a uniform NLP treatment. It outlines a possible direction to incorporate these aspects into neural NLP models by means of socially contextual personalization, and proposes to shift the focus of our evaluation strategies accordingly.\n",
      "----------------------------------------------------------------------------------------------------\n",
      "Efficient Methods for NLP\n",
      "Active Instruction Tuning: Improving Cross-Task Generalization by Training on Prompt Sensitive Tasks\n",
      "Instruction tuning (IT) achieves impressive zero-shot generalization results by training large language models (LLMs) on a massive amount of diverse tasks with instructions. However, how to select new tasks to improve the performance and generalizability of IT models remains an open question. Training on all existing tasks is impractical due to prohibiting computation requirements, and randomly selecting tasks can lead to suboptimal performance. In this work, we propose active instruction tuning based on prompt uncertainty, a novel framework to identify informative tasks, and then actively tune the models on the selected tasks. We represent the informativeness of new tasks with the disagreement of the current model outputs over perturbed prompts. Our experiments on NIV2 and Self-Instruct datasets demonstrate that our method consistently outperforms other baseline strategies for task selection, achieving better out-of-distribution generalization with fewer training tasks. Additionally, we introduce a task map that categorizes and diagnoses tasks based on prompt uncertainty and prediction probability. We discover that training on ambiguous (prompt-uncertain) tasks improves generalization while training on difficult (prompt-certain and low-probability) tasks offers no benefit, underscoring the importance of task selection for instruction tuning.\n",
      "----------------------------------------------------------------------------------------------------\n",
      "Machine Learning for NLP\n",
      "How Does Selective Mechanism Improve Self-Attention Networks?\n",
      "Self-attention networks (SANs) with selective mechanism has produced substantial improvements in various NLP tasks by concentrating on a subset of input words. However, the underlying reasons for their strong performance have not been well explained. In this paper, we bridge the gap by assessing the strengths of selective SANs (SSANs), which are implemented with a flexible and universal Gumbel-Softmax. Experimental results on several representative NLP tasks, including natural language inference, semantic role labelling, and machine translation, show that SSANs consistently outperform the standard SANs. Through well-designed probing experiments, we empirically validate that the improvement of SSANs can be attributed in part to mitigating two commonly-cited weaknesses of SANs: word order encoding and structure modeling. Specifically, the selective mechanism improves SANs by paying more attention to content words that contribute to the meaning of the sentence.\n",
      "----------------------------------------------------------------------------------------------------\n",
      "Semantics: Lexical, Sentence level, Textual Inference and Other areas\n",
      "Are representations built from the ground up? An empirical examination of local composition in language models\n",
      "Compositionality, the phenomenon where the meaning of a phrase can be derived from its constituent parts, is a hallmark of human language. At the same time, many phrases are non-compositional, carrying a meaning beyond that of each part in isolation. Representing both of these types of phrases is critical for language understanding, but it is an open question whether modern language models (LMs) learn to do so; in this work we examine this question. We first formulate a problem of predicting the LM-internal representations of longer phrases given those of their constituents. We find that the representation of a parent phrase can be predicted with some accuracy given an affine transformation of its children. While we would expect the predictive accuracy to correlate with human judgments of semantic compositionality, we find this is largely not the case, indicating that LMs may not accurately distinguish between compositional and non-compositional phrases. We perform a variety of analyses, shedding light on when different varieties of LMs do and do not generate compositional representations, and discuss implications for future modeling work.\n",
      "----------------------------------------------------------------------------------------------------\n",
      "Semantics: Textual Inference and Other Areas of Semantics\n",
      "Inherent Disagreements in Human Textual Inferences\n",
      "We analyze human’s disagreements about the validity of natural language inferences. We show that, very often, disagreements are not dismissible as annotation “noise”, but rather persist as we collect more ratings and as we vary the amount of context provided to raters. We further show that the type of uncertainty captured by current state-of-the-art models for natural language inference is not reflective of the type of uncertainty present in human disagreements. We discuss implications of our results in relation to the recognizing textual entailment (RTE)/natural language inference (NLI) task. We argue for a refined evaluation objective which requires models to explicitly capture the full distribution of plausible human judgments.\n",
      "----------------------------------------------------------------------------------------------------\n",
      "Semantics: Lexical\n",
      "Decoding Symbolism in Language Models\n",
      "This work explores the feasibility of eliciting knowledge from language models (LMs) to decode symbolism, recognizing something (e.g.,roses) as a stand-in for another (e.g., love). We present our evaluative framework, Symbolism Analysis (SymbA), which compares LMs (e.g., RoBERTa, GPT-J) on different types of symbolism and analyze the outcomes along multiple metrics. Our findings suggest that conventional symbols are more reliably elicited from LMs while situated symbols are more challenging. Results also reveal the negative impact of the bias in pre-trained corpora. We further demonstrate that a simple re-ranking strategy can mitigate the bias and significantly improve model performances to be on par with human performances in some cases.\n",
      "----------------------------------------------------------------------------------------------------\n",
      "Semantics: Lexical, Sentence level, Textual Inference and Other areas\n",
      "Numeracy enhances the Literacy of Language Models\n",
      "Specialized number representations in NLP have shown improvements on numerical reasoning tasks like arithmetic word problems and masked number prediction. But humans also use numeracy to make better sense of world concepts, e.g., you can seat 5 people in your ‘room’ but not 500. Does a better grasp of numbers improve a model’s understanding of other concepts and words? This paper studies the effect of using six different number encoders on the task of masked word prediction (MWP), as a proxy for evaluating literacy. To support this investigation, we develop Wiki-Convert, a 900,000 sentence dataset annotated with numbers and units, to avoid conflating nominal and ordinal number occurrences. We find a significant improvement in MWP for sentences containing numbers, that exponent embeddings are the best number encoders, yielding over 2 points jump in prediction accuracy over a BERT baseline, and that these enhanced literacy skills also generalize to contexts without annotated numbers. We release all code at https://git.io/JuZXn.\n",
      "----------------------------------------------------------------------------------------------------\n",
      "Semantics: Sentence-level Semantics, Textual Inference and Other areas\n",
      "UnNatural Language Inference\n",
      "Recent investigations into the inner-workings of state-of-the-art large-scale pre-trained Transformer-based Natural Language Understanding (NLU) models indicate that they appear to understand human-like syntax, at least to some extent. We provide novel evidence that complicates this claim: we find that state-of-the-art Natural Language Inference (NLI) models assign the same labels to permuted examples as they do to the original, i.e. they are invariant to random word-order permutations. This behavior notably differs from that of humans; we struggle to understand the meaning of ungrammatical sentences. To measure the severity of this issue, we propose a suite of metrics and investigate which properties of particular permutations lead models to be word order invariant. For example, in MNLI dataset we find almost all (98.7%) examples contain at least one permutation which elicits the gold label. Models are even able to assign gold labels to permutations that they originally failed to predict correctly. We provide a comprehensive empirical evaluation of this phenomenon, and further show that this issue exists in pre-Transformer RNN / ConvNet based encoders, as well as across multiple languages (English and Chinese). Our code and data are available at https://github.com/facebookresearch/unlu.\n",
      "----------------------------------------------------------------------------------------------------\n",
      "Large Language Models\n",
      "Towards Understanding Chain-of-Thought Prompting: An Empirical Study of What Matters\n",
      "Chain-of-Thought (CoT) prompting can dramatically improve the multi-step reasoning abilities of large language models (LLMs). CoT explicitly encourages the LLM to generate intermediate rationales for solving a problem, by providing a series of reasoning steps in the demonstrations. Despite its success, there is still little understanding of what makes CoT prompting effective and which aspects of the demonstrated reasoning steps contribute to its performance. In this paper, we show that CoT reasoning is possible even with invalid demonstrations - prompting with invalid reasoning steps can achieve over 80-90\\% of the performance obtained using CoT under various metrics, while still generating coherent lines of reasoning during inference. Further experiments show that other aspects of the rationales, such as being relevant to the query and correctly ordering the reasoning steps, are much more important for effective CoT reasoning. Overall, these findings both deepen our understanding of CoT prompting, and open up new questions regarding LLMs' capability to learn to reason in context.\n",
      "----------------------------------------------------------------------------------------------------\n",
      "Semantics: Sentence-level Semantics, Textual Inference and Other areas\n",
      "AND does not mean OR: Using Formal Languages to Study Language Models’ Representations\n",
      "A current open question in natural language processing is to what extent language models, which are trained with access only to the form of language, are able to capture the meaning of language. This question is challenging to answer in general, as there is no clear line between meaning and form, but rather meaning constrains form in consistent ways. The goal of this study is to offer insights into a narrower but critical subquestion: Under what conditions should we expect that meaning and form covary sufficiently, such that a language model with access only to form might nonetheless succeed in emulating meaning? Focusing on several formal languages (propositional logic and a set of programming languages), we generate training corpora using a variety of motivated constraints, and measure a distributional language model’s ability to differentiate logical symbols (AND, OR, and NOT). Our findings are largely negative: none of our simulated training corpora result in models which definitively differentiate meaningfully different symbols (e.g., AND vs. OR), suggesting a limitation to the types of semantic signals that current models are able to exploit.\n",
      "----------------------------------------------------------------------------------------------------\n",
      "Machine Learning for NLP\n",
      "RoCBert: Robust Chinese Bert with Multimodal Contrastive Pretraining\n",
      "Large-scale pretrained language models have achieved SOTA results on NLP tasks. However, they have been shown vulnerable to adversarial attacks especially for logographic languages like Chinese. In this work, we propose RoCBert: a pretrained Chinese Bert that is robust to various forms of adversarial attacks like word perturbation, synonyms, typos, etc. It is pretrained with the contrastive learning objective which maximizes the label consistency under different synthesized adversarial examples. The model takes as input multimodal information including the semantic, phonetic and visual features. We show all these features areimportant to the model robustness since the attack can be performed in all the three forms. Across 5 Chinese NLU tasks, RoCBert outperforms strong baselines under three blackbox adversarial algorithms without sacrificing the performance on clean testset. It also performs the best in the toxic content detection task under human-made attacks.\n",
      "----------------------------------------------------------------------------------------------------\n",
      "Resources and Evaluation\n",
      "Large Language Models are biased to overestimate profoundness\n",
      "Recent advancements in natural language processing by large language models (LLMs), such as GPT-4, have been suggested to approach Artificial General Intelligence. And yet, it is still under dispute whether LLMs possess similar reasoning abilities to humans. This study evaluates GPT-4 and various other LLMs in judging the profoundness of mundane, motivational, and pseudo-profound statements. We found a significant statement-to-statement correlation between the LLMs and humans, irrespective of the type of statements and the prompting technique used. However, LLMs systematically overestimate the profoundness of nonsensical statements, with the exception of Tk-instruct, which uniquely underestimates the profoundness of statements. Only few-shot learning prompts, as opposed to chain-of-thought prompting, draw LLMs ratings closer to humans. Furthermore, this work provides insights into the potential biases induced by Reinforcement Learning from Human Feedback (RLHF), inducing an increase in the bias to overestimate the profoundness of statements.\n",
      "----------------------------------------------------------------------------------------------------\n",
      "Large Language Models\n",
      "Two-Stage Fine-Tuning for Improved Bias and Variance for Large Pretrained Language Models\n",
      "The bias-variance tradeoff is the idea that learning methods need to balance model complexity with data size to minimize both under-fitting and over-fitting. Recent empirical work and theoretical analysis with over-parameterized neural networks challenges the classic bias-variance trade-off notion suggesting that no such trade-off holds: as the width of the network grows, bias monotonically decreases while variance initially increases followed by a decrease. In this work, we first provide a variance decomposition-based justification criteria to examine whether large pretrained neural models in a fine-tuning setting are generalizable enough to have low bias and variance. We then perform theoretical and empirical analysis using ensemble methods explicitly designed to decrease variance due to optimization. This results in essentially a two-stage fine-tuning algorithm that first ratchets down bias and variance iteratively, and then uses a selected fixed-bias model to further reduce variance due to optimization by ensembling. We also analyze the nature of variance change with the ensemble size in low- and high-resource classes. Empirical results show that this two-stage method obtains strong results on SuperGLUE tasks and clinical information extraction tasks. Code and settings are available: https://github.com/christa60/bias-var-fine-tuning-plms.git\n",
      "----------------------------------------------------------------------------------------------------\n",
      "Multilinguality\n",
      "Language Contamination Helps Explains the Cross-lingual Capabilities of English Pretrained Models\n",
      "English pretrained language models, which make up the backbone of many modern NLP systems, require huge amounts of unlabeled training data. These models are generally presented as being trained only on English text but have been found to transfer surprisingly well to other languages. We investigate this phenomenon and find that common English pretraining corpora actually contain significant amounts of non-English text: even when less than 1% of data is not English (well within the error rate of strong language classifiers), this leads to hundreds of millions of foreign language tokens in large-scale datasets. We then demonstrate that even these small percentages of non-English data facilitate cross-lingual transfer for models trained on them, with target language performance strongly correlated to the amount of in-language data seen during pretraining. In light of these findings, we argue that no model is truly monolingual when pretrained at scale, which should be considered when evaluating cross-lingual transfer.\n",
      "----------------------------------------------------------------------------------------------------\n",
      "NLP Applications\n",
      "Which *BERT? A Survey Organizing Contextualized Encoders\n",
      "Pretrained contextualized text encoders are now a staple of the NLP community. We present a survey on language representation learning with the aim of consolidating a series of shared lessons learned across a variety of recent efforts. While significant advancements continue at a rapid pace, we find that enough has now been discovered, in different directions, that we can begin to organize advances according to common themes. Through this organization, we highlight important considerations when interpreting recent contributions and choosing which model to use.\n",
      "----------------------------------------------------------------------------------------------------\n",
      "Efficient Methods for NLP\n",
      "Model Cascading: Towards Jointly Improving Efficiency and Accuracy of NLP Systems\n",
      "Do all instances need inference through the big models for a correct prediction? Perhaps not; some instances are easy and can be answered correctly by even small capacity models. This provides opportunities for improving the computational efficiency of systems. In this work, we present an explorative study on ‘model cascading’, a simple technique that utilizes a collection of models of varying capacities to accurately yet efficiently output predictions. Through comprehensive experiments in multiple task settings that differ in the number of models available for cascading (K value), we show that cascading improves both the computational efficiency and the prediction accuracy. For instance, in K=3 setting, cascading saves up to 88.93% computation cost and consistently achieves superior prediction accuracy with an improvement of up to 2.18%. We also study the impact of introducing additional models in the cascade and show that it further increases the efficiency improvements. Finally, we hope that our work will facilitate development of efficient NLP systems making their widespread adoption in real-world applications possible.\n",
      "----------------------------------------------------------------------------------------------------\n",
      "Machine Translation and Multilinguality\n",
      "An Empirical Study on Adversarial Attack on NMT: Languages and Positions Matter\n",
      "In this paper, we empirically investigate adversarial attack on NMT from two aspects: languages (the source vs. the target language) and positions (front vs. rear). For autoregressive NMT models that generate target words from left to right, we observe that adversarial attack on the source language is more effective than on the target language, and that attacking front positions of target sentences or positions of source sentences aligned to the front positions of corresponding target sentences is more effective than attacking other positions. We further exploit the attention distribution of the victim model to attack source sentences at positions that have a strong association with front target words. Experiment results demonstrate that our attention-based adversarial attack is more effective than adversarial attacks by sampling positions randomly or according to gradients.\n",
      "----------------------------------------------------------------------------------------------------\n",
      "Large Language Models\n",
      "Should you marginalize over possible tokenizations?\n",
      "Autoregressive language models (LMs) map token sequences to probabilities. The usual practice for computing the probability of any character string (e.g. English sentences) is to first transform it into a sequence of tokens that is scored by the model. However, there are exponentially many token sequences that represent any given string. To truly compute the probability of a string one should marginalize over all tokenizations, which is typically intractable. Here, we analyze whether the practice of ignoring the marginalization is justified. To this end, we devise an importance-sampling-based algorithm that allows us to compute estimates of the marginal probabilities and compare them to the default procedure in a range of state-of-the-art models and datasets. Our results show that the gap in log-likelihood is no larger than 0.5\\% in most cases, but that it becomes more pronounced for data with long complex words.\n",
      "----------------------------------------------------------------------------------------------------\n",
      "Multilinguality and Linguistic Diversity\n",
      "Cross-Lingual Consistency of Factual Knowledge in Multilingual Language Models\n",
      "Multilingual large-scale Pretrained Language Models (PLMs) have been shown to store considerable amounts of factual knowledge, but large variations are observed across languages. With the ultimate goal of ensuring that users with different language backgrounds obtain consistent feedback from the same model, we study the cross-lingual consistency (CLC) of factual knowledge in various multilingual PLMs. To this end, we propose a Ranking-based Consistency (RankC) metric to evaluate knowledge consistency across languages independently from accuracy. Using this metric, we conduct an in-depth analysis of the determining factors for CLC, both at model level and at language-pair level. Among other results, we find that increasing model size leads to higher factual probing accuracy in most languages, but does not improve cross-lingual consistency. Finally, we conduct a case study on CLC when new factual associations are inserted in the PLMs via model editing. Results on a small sample of facts inserted in English reveal a clear pattern whereby the new piece of knowledge transfers only to languages with which English has a high RankC score.\n",
      "----------------------------------------------------------------------------------------------------\n",
      "Theme Track: Large Language Models and the Future of NLP\n",
      "MoPe: Model Perturbation based Privacy Attacks on Language Models\n",
      "Recent work has shown that Large Language Models (LLMs) can unintentionally leak sensitive information present in their training data. In this paper, we present Model Perturbations (MoPe), a new method to identify with high confidence if a given text is in the training data of a pre-trained language model, given white-box access to the models parameters. MoPe adds noise to the model in parameter space and measures the drop in log-likelihood at a given point $x$, a statistic we show approximates the trace of the Hessian matrix with respect to model parameters. Across language models ranging from $70$M to $12$B parameters, we show that MoPe is more effective than existing loss-based attacks and recently proposed perturbation-based methods. We also examine the role of training point order and model size in attack success, and empirically demonstrate that MoPe accurately approximate the trace of the Hessian in practice. Our results show that the loss of a point alone is insufficient to determine extractability -- there are training points we can recover using our method that have average loss. This casts some doubt on prior works that use the loss of a point as evidence of memorization or unlearning.\n",
      "----------------------------------------------------------------------------------------------------\n",
      "NLP Applications\n",
      "Text Embeddings Reveal (Almost) As Much As Text\n",
      "How much private information do text embeddings reveal about the original text? We investigate the problem of embedding \\textit{inversion}, reconstructing the full text represented in dense text embeddings. We frame the problem as controlled generation: generating text that, when reembedded, is close to a fixed point in latent space. We find that although a na\\\"ive model conditioned on the embedding performs poorly, a multi-step method that iteratively corrects and re-embeds text is able to recover $92\\%$ of $32\\text{-token}$ text inputs exactly. We train our model to decode text embeddings from two state-of-the-art embedding models, and also show that our model can recover important personal information (full names) from a dataset of clinical notes. Our code is available on Github: \\href{https://github.com/jxmorris12/vec2text}{github.com/jxmorris12/vec2text}.\n",
      "----------------------------------------------------------------------------------------------------\n",
      "Machine Translation and Multilinguality\n",
      "Making Monolingual Sentence Embeddings Multilingual using Knowledge Distillation\n",
      "We present an easy and efficient method to extend existing sentence embedding models to new languages. This allows to create multilingual versions from previously monolingual models. The training is based on the idea that a translated sentence should be mapped to the same location in the vector space as the original sentence. We use the original (monolingual) model to generate sentence embeddings for the source language and then train a new system on translated sentences to mimic the original model. Compared to other methods for training multilingual sentence embeddings, this approach has several advantages: It is easy to extend existing models with relatively few samples to new languages, it is easier to ensure desired properties for the vector space, and the hardware requirements for training are lower. We demonstrate the effectiveness of our approach for 50+ languages from various language families. Code to extend sentence embeddings models to more than 400 languages is publicly available.\n",
      "----------------------------------------------------------------------------------------------------\n",
      "Machine Learning for NLP\n",
      "Does the Objective Matter? Comparing Training Objectives for Pronoun Resolution\n",
      "Hard cases of pronoun resolution have been used as a long-standing benchmark for commonsense reasoning. In the recent literature, pre-trained language models have been used to obtain state-of-the-art results on pronoun resolution. Overall, four categories of training and evaluation objectives have been introduced. The variety of training datasets and pre-trained language models used in these works makes it unclear whether the choice of training objective is critical. In this work, we make a fair comparison of the performance and seed-wise stability of four models that represent the four categories of objectives. Our experiments show that the objective of sequence ranking performs the best in-domain, while the objective of semantic similarity between candidates and pronoun performs the best out-of-domain. We also observe a seed-wise instability of the model using sequence ranking, which is not the case when the other objectives are used.\n",
      "----------------------------------------------------------------------------------------------------\n",
      "Machine Translation\n",
      "Sampling-Based Approximations to Minimum Bayes Risk Decoding for Neural Machine Translation\n",
      "In NMT we search for the mode of the model distribution to form predictions. The mode and other high-probability translations found by beam search have been shown to often be inadequate in a number of ways. This prevents improving translation quality through better search, as these idiosyncratic translations end up selected by the decoding algorithm, a problem known as the beam search curse. Recently, an approximation to minimum Bayes risk (MBR) decoding has been proposed as an alternative decision rule that would likely not suffer from the same problems. We analyse this approximation and establish that it has no equivalent to the beam search curse. We then design approximations that decouple the cost of exploration from the cost of robust estimation of expected utility. This allows for much larger hypothesis spaces, which we show to be beneficial. We also show that mode-seeking strategies can aid in constructing compact sets of promising hypotheses and that MBR is effective in identifying good translations in them. We conduct experiments on three language pairs varying in amounts of resources available: English into and from German, Romanian, and Nepali.\n",
      "----------------------------------------------------------------------------------------------------\n",
      "Syntax: Tagging, Chunking and Parsing\n",
      "Representations of Syntax [MASK] Useful: Effects of Constituency and Dependency Structure in Recursive LSTMs\n",
      "Sequence-based neural networks show significant sensitivity to syntactic structure, but they still perform less well on syntactic tasks than tree-based networks. Such tree-based networks can be provided with a constituency parse, a dependency parse, or both. We evaluate which of these two representational schemes more effectively introduces biases for syntactic structure that increase performance on the subject-verb agreement prediction task. We find that a constituency-based network generalizes more robustly than a dependency-based one, and that combining the two types of structure does not yield further improvement. Finally, we show that the syntactic robustness of sequential models can be substantially improved by fine-tuning on a small amount of constructed data, suggesting that data augmentation is a viable alternative to explicit constituency structure for imparting the syntactic biases that sequential models are lacking.\n",
      "----------------------------------------------------------------------------------------------------\n",
      "Natural Language Generation\n",
      "Self-Detoxifying Language Models via Toxification Reversal\n",
      "Language model detoxification aims to minimize the risk of generating offensive or harmful content in pretrained language models (PLMs) for safer deployment. Existing methods can be roughly categorized as finetuning-based and decoding-based. However, the former is often resource-intensive, while the latter relies on additional components and potentially compromises the generation fluency. In this paper, we propose a more lightweight approach that enables the PLM itself to achieve\"self-detoxification\". Our method is built upon the observation that prepending a negative steering prompt can effectively induce PLMs to generate toxic content. At the same time, we are inspired by the recent research in the interpretability field, which formulates the evolving contextualized representations within the PLM as an information stream facilitated by the attention layers. Drawing on this idea, we devise a method to identify the toxification direction from the normal generation process to the one prompted with the negative prefix, and then steer the generation to the reversed direction by manipulating the information movement within the attention layers. Experimental results show that our approach, without any fine-tuning or extra components, can achieve comparable performance with state-of-the-art methods.\n",
      "----------------------------------------------------------------------------------------------------\n",
      "Large Language Models\n",
      "When Not to Trust Language Models: Investigating Effectiveness of Parametric and Non-Parametric Memories\n",
      "Despite their impressive performance on diverse tasks, large language models (LMs) still struggle with tasks requiring rich world knowledge, implying the difficulty of encoding a wealth of world knowledge in their parameters. This paper aims to understand LMs' strengths and limitations in memorizing factual knowledge, by conducting large-scale knowledge probing experiments on two open-domain entity-centric QA datasets: PopQA, our new dataset with 14k questions about long-tail entities, and EntityQuestions, a widely used open-domain QA dataset. We find that LMs struggle with less popular factual knowledge, and that retrieval augmentation helps significantly in these cases. Scaling, on the other hand, mainly improves memorization of popular knowledge, and fails to appreciably improve memorization of factual knowledge in the tail. Based on those findings, we devise a new method for retrieval-augmentation that improves performance and reduces inference costs by only retrieving non-parametric memories when necessary.\n",
      "----------------------------------------------------------------------------------------------------\n",
      "Theme Track\n",
      "Towards Robust Numerical Question Answering: Diagnosing Numerical Capabilities of NLP Systems\n",
      "Numerical Question Answering is the task of answering questions that require numerical capabilities. Previous works introduce general adversarial attacks to Numerical Question Answering, while not systematically exploring numerical capabilities specific to the topic. In this paper, we propose to conduct numerical capability diagnosis on a series of Numerical Question Answering systems and datasets. A series of numerical capabilities are highlighted, and corresponding dataset perturbations are designed. Empirical results indicate that existing systems are severely challenged by these perturbations. E.g., Graph2Tree experienced a 53.83% absolute accuracy drop against the “Extra” perturbation on ASDiv-a, and BART experienced 13.80% accuracy drop against the “Language” perturbation on the numerical subset of DROP. As a counteracting approach, we also investigate the effectiveness of applying perturbations as data augmentation to relieve systems’ lack of robust numerical capabilities. With experiment analysis and empirical studies, it is demonstrated that Numerical Question Answering with robust numerical capabilities is still to a large extent an open question. We discuss future directions of Numerical Question Answering and summarize guidelines on future dataset collection and system design.\n",
      "----------------------------------------------------------------------------------------------------\n",
      "Machine Translation\n",
      "Successfully Applying the Stabilized Lottery Ticket Hypothesis to the Transformer Architecture\n",
      "Sparse models require less memory for storage and enable a faster inference by reducing the necessary number of FLOPs. This is relevant both for time-critical and on-device computations using neural networks. The stabilized lottery ticket hypothesis states that networks can be pruned after none or few training iterations, using a mask computed based on the unpruned converged model. On the transformer architecture and the WMT 2014 English-to-German and English-to-French tasks, we show that stabilized lottery ticket pruning performs similar to magnitude pruning for sparsity levels of up to 85%, and propose a new combination of pruning techniques that outperforms all other techniques for even higher levels of sparsity. Furthermore, we confirm that the parameter's initial sign and not its specific value is the primary factor for successful training, and show that magnitude pruning cannot be used to find winning lottery tickets.\n",
      "----------------------------------------------------------------------------------------------------\n",
      "Machine Learning for NLP\n",
      "That Is a Suspicious Reaction!: Interpreting Logits Variation to Detect NLP Adversarial Attacks\n",
      "Adversarial attacks are a major challenge faced by current machine learning research. These purposely crafted inputs fool even the most advanced models, precluding their deployment in safety-critical applications. Extensive research in computer vision has been carried to develop reliable defense strategies. However, the same issue remains less explored in natural language processing. Our work presents a model-agnostic detector of adversarial text examples. The approach identifies patterns in the logits of the target classifier when perturbing the input text. The proposed detector improves the current state-of-the-art performance in recognizing adversarial inputs and exhibits strong generalization capabilities across different NLP models, datasets, and word-level attacks.\n",
      "----------------------------------------------------------------------------------------------------\n",
      "Large Language Models\n",
      "Knowledge Unlearning for Mitigating Privacy Risks in Language Models\n",
      "Pretrained Language Models (LMs) memorize a vast amount of knowledge during initial pretraining, including information that may violate the privacy of personal lives and identities. Previous work addressing privacy issues for LMs has mostly focused on data preprocessing and differential privacy methods, both requiring re-training the underlying LM. We propose knowledge unlearning as an alternative method to reduce privacy risks for LMs post hoc. We show that simply performing gradient ascent on target token sequences is effective at forgetting them with little to no degradation of general language modeling performances for larger-sized LMs. We also find that sequential unlearning is better than trying to unlearn all the data at once and that unlearning is highly dependent on which kind of data (domain) is forgotten. By showing comparisons with previous methods known to mitigate privacy risks for LMs, we show that our approach can give a stronger empirical privacy guarantee in scenarios where the data vulnerable to extraction attacks are known a priori while being much more efficient and robust.\n",
      "----------------------------------------------------------------------------------------------------\n",
      "Efficient Methods for NLP\n",
      "How to Train BERT with an Academic Budget\n",
      "While large language models a la BERT are used ubiquitously in NLP, pretraining them is considered a luxury that only a few well-funded industry labs can afford. How can one train such models with a more modest budget? We present a recipe for pretraining a masked language model in 24 hours using a single low-end deep learning server. We demonstrate that through a combination of software optimizations, design choices, and hyperparameter tuning, it is possible to produce models that are competitive with BERT-base on GLUE tasks at a fraction of the original pretraining cost.\n",
      "----------------------------------------------------------------------------------------------------\n",
      "Ethics and NLP\n",
      "Low Frequency Names Exhibit Bias and Overfitting in Contextualizing Language Models\n",
      "We use a dataset of U.S. first names with labels based on predominant gender and racial group to examine the effect of training corpus frequency on tokenization, contextualization, similarity to initial representation, and bias in BERT, GPT-2, T5, and XLNet. We show that predominantly female and non-white names are less frequent in the training corpora of these four language models. We find that infrequent names are more self-similar across contexts, with Spearman’s rho between frequency and self-similarity as low as -.763. Infrequent names are also less similar to initial representation, with Spearman’s rho between frequency and linear centered kernel alignment (CKA) similarity to initial representation as high as .702. Moreover, we find Spearman’s rho between racial bias and name frequency in BERT of .492, indicating that lower-frequency minority group names are more associated with unpleasantness. Representations of infrequent names undergo more processing, but are more self-similar, indicating that models rely on less context-informed representations of uncommon and minority names which are overfit to a lower number of observed contexts.\n",
      "----------------------------------------------------------------------------------------------------\n"
     ]
    },
    {
     "data": {
      "text/plain": [
       "102"
      ]
     },
     "execution_count": 331,
     "metadata": {},
     "output_type": "execute_result"
    }
   ],
   "source": [
    "from sklearn.metrics import f1_score\n",
    "\n",
    "y_pred = []\n",
    "y_true = []\n",
    "\n",
    "n = 0\n",
    "model.eval()\n",
    "with torch.no_grad():\n",
    "    for index, row in df_test.iterrows():\n",
    "        vector = row['embedding']\n",
    "        output = model(torch.tensor(vector))\n",
    "        pred = torch.argmax(output)\n",
    "        pred = int(output[3] > 0.5)\n",
    "\n",
    "        if pred and 'analysis' not in row['area'].lower():\n",
    "            n += 1\n",
    "            print(row['area'])\n",
    "            print(row['title'])\n",
    "            print(row['abstract'])\n",
    "            print('-' * 100)\n",
    "\n",
    "n"
   ]
  },
  {
   "cell_type": "code",
   "execution_count": 332,
   "id": "c899af0a-b83e-42a0-8118-6838e48774ad",
   "metadata": {},
   "outputs": [],
   "source": [
    "torch.save(model.state_dict(), './general-classifier-weights.pt')"
   ]
  }
 ],
 "metadata": {
  "kernelspec": {
   "display_name": "Python 3 (ipykernel)",
   "language": "python",
   "name": "python3"
  },
  "language_info": {
   "codemirror_mode": {
    "name": "ipython",
    "version": 3
   },
   "file_extension": ".py",
   "mimetype": "text/x-python",
   "name": "python",
   "nbconvert_exporter": "python",
   "pygments_lexer": "ipython3",
   "version": "3.11.8"
  }
 },
 "nbformat": 4,
 "nbformat_minor": 5
}
