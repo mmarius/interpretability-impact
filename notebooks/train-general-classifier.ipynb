{
 "cells": [
  {
   "cell_type": "code",
   "execution_count": 2,
   "id": "11c8f6ca-f866-4034-99b2-9b86bc24d0af",
   "metadata": {},
   "outputs": [],
   "source": [
    "import os, sys\n",
    "sys.path.append(os.path.dirname(os.getcwd()))\n",
    "import pandas as pd\n",
    "from sklearn.model_selection import train_test_split\n",
    "import numpy as np\n",
    "import torch\n",
    "import matplotlib.pyplot as plt\n",
    "import seaborn as sns\n",
    "from sklearn.metrics import confusion_matrix\n",
    "from tqdm import tqdm\n"
   ]
  },
  {
   "cell_type": "code",
   "execution_count": 82,
   "id": "53e79626-891d-4029-afc3-d2c23edfd426",
   "metadata": {},
   "outputs": [
    {
     "data": {
      "text/html": [
       "<div>\n",
       "<style scoped>\n",
       "    .dataframe tbody tr th:only-of-type {\n",
       "        vertical-align: middle;\n",
       "    }\n",
       "\n",
       "    .dataframe tbody tr th {\n",
       "        vertical-align: top;\n",
       "    }\n",
       "\n",
       "    .dataframe thead th {\n",
       "        text-align: right;\n",
       "    }\n",
       "</style>\n",
       "<table border=\"1\" class=\"dataframe\">\n",
       "  <thead>\n",
       "    <tr style=\"text-align: right;\">\n",
       "      <th></th>\n",
       "      <th>id</th>\n",
       "      <th>title</th>\n",
       "      <th>area</th>\n",
       "      <th>source</th>\n",
       "      <th>year</th>\n",
       "      <th>doi</th>\n",
       "      <th>abstract</th>\n",
       "      <th>semantic_scholar_id</th>\n",
       "    </tr>\n",
       "  </thead>\n",
       "  <tbody>\n",
       "    <tr>\n",
       "      <th>0</th>\n",
       "      <td>main.1004</td>\n",
       "      <td>AnswerFact: Fact Checking in Product Question ...</td>\n",
       "      <td>Question Answering</td>\n",
       "      <td>EMNLP</td>\n",
       "      <td>2020</td>\n",
       "      <td>10.18653/v1/2020.emnlp-main.188</td>\n",
       "      <td>Product-related question answering platforms n...</td>\n",
       "      <td>4c61df1b4b9a164fec1a34587b4fffae029cd18c</td>\n",
       "    </tr>\n",
       "    <tr>\n",
       "      <th>1</th>\n",
       "      <td>main.1006</td>\n",
       "      <td>Knowledge-Grounded Dialogue Generation with Pr...</td>\n",
       "      <td>Dialog and Interactive Systems</td>\n",
       "      <td>EMNLP</td>\n",
       "      <td>2020</td>\n",
       "      <td>10.18653/v1/2020.emnlp-main.272</td>\n",
       "      <td>We study knowledge-grounded dialogue generatio...</td>\n",
       "      <td>3447a432f724aa36595643446acda5b78943db19</td>\n",
       "    </tr>\n",
       "    <tr>\n",
       "      <th>2</th>\n",
       "      <td>main.1009</td>\n",
       "      <td>BiST: Bi-directional Spatio-Temporal Reasoning...</td>\n",
       "      <td>Dialog and Interactive Systems</td>\n",
       "      <td>EMNLP</td>\n",
       "      <td>2020</td>\n",
       "      <td>10.18653/v1/2020.emnlp-main.145</td>\n",
       "      <td>Video-grounded dialogues are very challenging ...</td>\n",
       "      <td>f4a2acfeb1705df3f430cc53ace26e1dbbbcbd16</td>\n",
       "    </tr>\n",
       "    <tr>\n",
       "      <th>3</th>\n",
       "      <td>main.1010</td>\n",
       "      <td>A Knowledge-Aware Sequence-to-Tree Network for...</td>\n",
       "      <td>NLP Applications</td>\n",
       "      <td>EMNLP</td>\n",
       "      <td>2020</td>\n",
       "      <td>10.18653/v1/2020.emnlp-main.579</td>\n",
       "      <td>With the advancements in natural language proc...</td>\n",
       "      <td>24ed85ad966823868c1694a19385d01c6ad71008</td>\n",
       "    </tr>\n",
       "    <tr>\n",
       "      <th>4</th>\n",
       "      <td>main.1011</td>\n",
       "      <td>Knowledge Association with Hyperbolic Knowledg...</td>\n",
       "      <td>Information Extraction</td>\n",
       "      <td>EMNLP</td>\n",
       "      <td>2020</td>\n",
       "      <td>10.18653/v1/2020.emnlp-main.460</td>\n",
       "      <td>Capturing associations for knowledge graphs (K...</td>\n",
       "      <td>3d61a28b9429fc8f7047fc379a0134a3765edbcb</td>\n",
       "    </tr>\n",
       "    <tr>\n",
       "      <th>...</th>\n",
       "      <td>...</td>\n",
       "      <td>...</td>\n",
       "      <td>...</td>\n",
       "      <td>...</td>\n",
       "      <td>...</td>\n",
       "      <td>...</td>\n",
       "      <td>...</td>\n",
       "      <td>...</td>\n",
       "    </tr>\n",
       "    <tr>\n",
       "      <th>9250</th>\n",
       "      <td>T4773</td>\n",
       "      <td>Rank-Aware Negative Training for Semi-Supervis...</td>\n",
       "      <td>Machine Learning for NLP</td>\n",
       "      <td>ACL</td>\n",
       "      <td>2023</td>\n",
       "      <td>10.1162/tacl_a_00574</td>\n",
       "      <td>Abstract Semi-supervised text classification-b...</td>\n",
       "      <td>79a502caa0b12573f56a7e8948459722aa891479</td>\n",
       "    </tr>\n",
       "    <tr>\n",
       "      <th>9251</th>\n",
       "      <td>T4777</td>\n",
       "      <td>Transparency Helps Reveal When Language Models...</td>\n",
       "      <td>Linguistic Theories, Cognitive Modeling, and P...</td>\n",
       "      <td>ACL</td>\n",
       "      <td>2023</td>\n",
       "      <td>10.1162/tacl_a_00565</td>\n",
       "      <td>Many current NLP systems are built from langua...</td>\n",
       "      <td>eee70790ced38b0fcf50351dbb3dcbdb582467e8</td>\n",
       "    </tr>\n",
       "    <tr>\n",
       "      <th>9252</th>\n",
       "      <td>T4803</td>\n",
       "      <td>Design Choices for Crowdsourcing Implicit Disc...</td>\n",
       "      <td>Discourse and Pragmatics</td>\n",
       "      <td>ACL</td>\n",
       "      <td>2023</td>\n",
       "      <td>10.1162/tacl_a_00586</td>\n",
       "      <td>Abstract Disagreement in natural language anno...</td>\n",
       "      <td>bf65a1b637e0f253abb8402fc9d0ab80db79aa92</td>\n",
       "    </tr>\n",
       "    <tr>\n",
       "      <th>9253</th>\n",
       "      <td>T4929</td>\n",
       "      <td>Time-and-Space-Efficient Weighted Deduction</td>\n",
       "      <td>Semantics: Sentence-level Semantics, Textual I...</td>\n",
       "      <td>ACL</td>\n",
       "      <td>2023</td>\n",
       "      <td>10.1162/tacl_a_00588</td>\n",
       "      <td>Abstract Many NLP algorithms have been describ...</td>\n",
       "      <td>f1803d124e5af7263ce656f7ccf3219eacc62b1c</td>\n",
       "    </tr>\n",
       "    <tr>\n",
       "      <th>9254</th>\n",
       "      <td>T5043</td>\n",
       "      <td>Collective Human Opinions in Semantic Textual ...</td>\n",
       "      <td>Semantics: Sentence-level Semantics, Textual I...</td>\n",
       "      <td>ACL</td>\n",
       "      <td>2023</td>\n",
       "      <td>10.1162/tacl_a_00584</td>\n",
       "      <td>Abstract Despite the subjective nature of sema...</td>\n",
       "      <td>1fc4e904ed92da4b9af30e2eb5224ebe29e470b3</td>\n",
       "    </tr>\n",
       "  </tbody>\n",
       "</table>\n",
       "<p>9255 rows × 8 columns</p>\n",
       "</div>"
      ],
      "text/plain": [
       "             id                                              title  \\\n",
       "0     main.1004  AnswerFact: Fact Checking in Product Question ...   \n",
       "1     main.1006  Knowledge-Grounded Dialogue Generation with Pr...   \n",
       "2     main.1009  BiST: Bi-directional Spatio-Temporal Reasoning...   \n",
       "3     main.1010  A Knowledge-Aware Sequence-to-Tree Network for...   \n",
       "4     main.1011  Knowledge Association with Hyperbolic Knowledg...   \n",
       "...         ...                                                ...   \n",
       "9250      T4773  Rank-Aware Negative Training for Semi-Supervis...   \n",
       "9251      T4777  Transparency Helps Reveal When Language Models...   \n",
       "9252      T4803  Design Choices for Crowdsourcing Implicit Disc...   \n",
       "9253      T4929        Time-and-Space-Efficient Weighted Deduction   \n",
       "9254      T5043  Collective Human Opinions in Semantic Textual ...   \n",
       "\n",
       "                                                   area source  year  \\\n",
       "0                                    Question Answering  EMNLP  2020   \n",
       "1                        Dialog and Interactive Systems  EMNLP  2020   \n",
       "2                        Dialog and Interactive Systems  EMNLP  2020   \n",
       "3                                      NLP Applications  EMNLP  2020   \n",
       "4                                Information Extraction  EMNLP  2020   \n",
       "...                                                 ...    ...   ...   \n",
       "9250                           Machine Learning for NLP    ACL  2023   \n",
       "9251  Linguistic Theories, Cognitive Modeling, and P...    ACL  2023   \n",
       "9252                           Discourse and Pragmatics    ACL  2023   \n",
       "9253  Semantics: Sentence-level Semantics, Textual I...    ACL  2023   \n",
       "9254  Semantics: Sentence-level Semantics, Textual I...    ACL  2023   \n",
       "\n",
       "                                  doi  \\\n",
       "0     10.18653/v1/2020.emnlp-main.188   \n",
       "1     10.18653/v1/2020.emnlp-main.272   \n",
       "2     10.18653/v1/2020.emnlp-main.145   \n",
       "3     10.18653/v1/2020.emnlp-main.579   \n",
       "4     10.18653/v1/2020.emnlp-main.460   \n",
       "...                               ...   \n",
       "9250             10.1162/tacl_a_00574   \n",
       "9251             10.1162/tacl_a_00565   \n",
       "9252             10.1162/tacl_a_00586   \n",
       "9253             10.1162/tacl_a_00588   \n",
       "9254             10.1162/tacl_a_00584   \n",
       "\n",
       "                                               abstract  \\\n",
       "0     Product-related question answering platforms n...   \n",
       "1     We study knowledge-grounded dialogue generatio...   \n",
       "2     Video-grounded dialogues are very challenging ...   \n",
       "3     With the advancements in natural language proc...   \n",
       "4     Capturing associations for knowledge graphs (K...   \n",
       "...                                                 ...   \n",
       "9250  Abstract Semi-supervised text classification-b...   \n",
       "9251  Many current NLP systems are built from langua...   \n",
       "9252  Abstract Disagreement in natural language anno...   \n",
       "9253  Abstract Many NLP algorithms have been describ...   \n",
       "9254  Abstract Despite the subjective nature of sema...   \n",
       "\n",
       "                           semantic_scholar_id  \n",
       "0     4c61df1b4b9a164fec1a34587b4fffae029cd18c  \n",
       "1     3447a432f724aa36595643446acda5b78943db19  \n",
       "2     f4a2acfeb1705df3f430cc53ace26e1dbbbcbd16  \n",
       "3     24ed85ad966823868c1694a19385d01c6ad71008  \n",
       "4     3d61a28b9429fc8f7047fc379a0134a3765edbcb  \n",
       "...                                        ...  \n",
       "9250  79a502caa0b12573f56a7e8948459722aa891479  \n",
       "9251  eee70790ced38b0fcf50351dbb3dcbdb582467e8  \n",
       "9252  bf65a1b637e0f253abb8402fc9d0ab80db79aa92  \n",
       "9253  f1803d124e5af7263ce656f7ccf3219eacc62b1c  \n",
       "9254  1fc4e904ed92da4b9af30e2eb5224ebe29e470b3  \n",
       "\n",
       "[9255 rows x 8 columns]"
      ]
     },
     "execution_count": 82,
     "metadata": {},
     "output_type": "execute_result"
    }
   ],
   "source": [
    "df = pd.read_csv('../data/cl_papers.csv', index_col=0)\n",
    "df"
   ]
  },
  {
   "cell_type": "code",
   "execution_count": 139,
   "id": "8f972d23-ab29-4a67-9c78-f18f4fdb2461",
   "metadata": {},
   "outputs": [],
   "source": [
    "mapping = {\n",
    "  'Applications': 'Applications',\n",
    "  'Cognitive Modeling and Psycholinguistics': 'Linguistic Theories and Psycholinguistics',\n",
    "  'Commonsense Reasoning': 'Commonsense Reasoning',\n",
    "  'Computational Social Science and Cultural Analytics': 'Social Science',\n",
    "  'Computational Social Science and Social Media': 'Social Science',\n",
    "  'Dialog and Interactive Systems': 'Dialogue',\n",
    "  'Dialogue and Interactive Systems': 'Dialogue',\n",
    "  'Discourse and Pragmatics': 'Discourse and Pragmatics',\n",
    "  'Discourse and Pragmatics & Ethics in NLP': 'Discourse and Pragmatics',\n",
    "  'Efficient Methods for NLP': 'Efficient Methods',\n",
    "  'Ethic Concerns:Dialogue and Interactive Systems': 'Ethics',\n",
    "  'Ethic Concerns:Ethics': 'Ethics',\n",
    "  'Ethic Concerns:Linguistic Theories, Cognitive Modeling and Psycholinguistics': 'Ethics',\n",
    "  'Ethic Concerns:Multilinguality': 'Ethics',\n",
    "  'Ethic Concerns:NLP Applications': 'Ethics',\n",
    "  'Ethic Concerns:Resources and Evaluation': 'Ethics',\n",
    "  'Ethic Concerns:Sentiment Analysis, Stylistic Analysis, and Argument Mining': 'Ethics',\n",
    "  'Ethic Concerns:Speech, Vision, Robotics, Multimodal Grounding': 'Ethics',\n",
    "  'Ethic Concerns:Unsupervised and Weakly-Supervised Methods in NLP': 'Ethics',\n",
    "  'Ethics': 'Ethics',\n",
    "  'Ethics and NLP': 'Ethics',\n",
    "  'Ethics in NLP': 'Ethics',\n",
    "  'Generation': 'Generation',\n",
    "  'Human-Centered NLP': 'Human-Centered NLP',\n",
    "  'Industry': 'Industry',\n",
    "  'Information Extraction': 'Information Extraction/Retrieval',\n",
    "  'Information Retrieval and Text Mining': 'Information Extraction/Retrieval',\n",
    "  'Interpretability and Analysis of Models for NLP': 'Interpretability and Analysis',\n",
    "  'Interpretability, Interactivity and Analysis of Models for NLP': 'Interpretability and Analysis',\n",
    "  'Interpretability, Interactivity, and Analysis of Models for NLP': 'Interpretability and Analysis',\n",
    "  'Language Generation': 'Generation',\n",
    "  'Language Grounding to Vision, Robotics and Beyond': 'Multimodality, Speech and Grounding',\n",
    "  'Language Grounding to Vision, Robotics, and Beyond': 'Multimodality, Speech and Grounding',\n",
    "  'Language Groundings, Speech and Multimodality': 'Multimodality, Speech and Grounding',\n",
    "  'Language Modeling and Analysis of Language Models': 'Interpretability and Analysis',\n",
    "  'Large Language Models': 'Large Language Models',\n",
    "  'Linguistic Diversity': 'Machine Translation and Multilinguality',\n",
    "  'Linguistic Theories, Cognitive Modeling and Psycholinguistics': 'Linguistic Theories and Psycholinguistics',\n",
    "  'Linguistic Theories, Cognitive Modeling, and Psycholinguistics': 'Linguistic Theories and Psycholinguistics',\n",
    "  'Machine Learning for NLP': 'Machine Learning',\n",
    "  'Machine Translation': 'Machine Translation and Multilinguality',\n",
    "  'Machine Translation and Multilinguality': 'Machine Translation and Multilinguality',\n",
    "  'Multidisciplinary and Area Chair COI': 'Theme',\n",
    "  'Multilingualism and Cross-Lingual NLP': 'Machine Translation and Multilinguality',\n",
    "  'Multilinguality': 'Machine Translation and Multilinguality',\n",
    "  'Multilinguality and Linguistic Diversity': 'Machine Translation and Multilinguality',\n",
    "  'NLP Applications': 'Applications',\n",
    "  'Natural Language Generation': 'Generation',\n",
    "  'Phonology, Morphology and Word Segmentation': 'Phonology, Morphology and Word Segmentation',\n",
    "  'Phonology, Morphology, and Word Segmentation': 'Phonology, Morphology and Word Segmentation',\n",
    "  'Question Answering': 'Question Answering',\n",
    "  'Resources and Evaluation': 'Resources and Evaluation',\n",
    "  'Semantics': 'Semantics',\n",
    "  'Semantics: Lexical': 'Semantics',\n",
    "  'Semantics: Lexical Semantics': 'Semantics',\n",
    "  'Semantics: Lexical, Sentence level, Document Level, Textual Inference, etc.': 'Semantics',\n",
    "  'Semantics: Lexical, Sentence level, Textual Inference and Other areas': 'Semantics',\n",
    "  'Semantics: Sentence Level': 'Semantics',\n",
    "  'Semantics: Sentence-level Semantics, Textual Inference and Other areas': 'Semantics',\n",
    "  'Semantics: Sentence-level Semantics, Textual Inference, and Other Areas': 'Semantics',\n",
    "  'Semantics: Textual Inference and Other Areas of Semantics': 'Semantics',\n",
    "  'Sentiment Analysis, Stylistic Analysis, and Argument Mining': 'Sentiment Analysis',\n",
    "  'Special Theme on Language Diversity: From Low Resource to Endangered': 'Theme',\n",
    "  'Speech and Multimodality': 'Multimodality, Speech and Grounding',\n",
    "  'Speech, Vision, Robotics, Multimodal Grounding': 'Multimodality, Speech and Grounding',\n",
    "  'Summarization': 'Summarization',\n",
    "  'Syntax, Parsing and their Applications': 'Syntax',\n",
    "  'Syntax: Tagging, Chunking and Parsing': 'Syntax',\n",
    "  'Syntax: Tagging, Chunking, and Parsing': 'Syntax',\n",
    "  'Theme': 'Theme',\n",
    "  'Theme Track': 'Theme',\n",
    "  'Theme Track: Large Language Models and the Future of NLP': 'Theme',\n",
    "  'Theme: Reality Check': 'Theme',\n",
    "  'Theory and Formalism in NLP (Linguistic and Mathematical)': 'Theory and Formalism in NLP',\n",
    "  'Unsupervised and Weakly-Supervised Methods in NLP': 'Unsupervised and Weakly-Supervised Methods in NLP',\n",
    "#### pre 2020 ###\n",
    "'Area A (Information Extraction and Question Answering) [LONG]': None,\n",
    "  'Area A from Area F (Discourse, Dialog, Summarization, Generation, Multimodal NLP) [LONG]': None,\n",
    "  'Area B (Text Mining and Information Retrieval) [LONG]': 'Information Extraction/Retrieval',\n",
    "  'Area C (Social Media, Computational Social Science, Sentiment,  Opinion) [LONG]': 'Social Science',\n",
    "  'Area D (Morphology, Syntax, Chunking, Psycholinguistics) [LONG]': 'Syntax',\n",
    "  'Area E (Semantics) [LONG]': 'Semantics',\n",
    "  'Area F (Discourse, Dialog, Summarization, Generation, Multimodal NLP) [LONG]': None,\n",
    "  'Area G (Machine Translation and Multilinguality) [LONG]': None,\n",
    "  'Area H (Machine Learning) [LONG]': 'Machine Learning',\n",
    "  'Area H or D': None,\n",
    "  'Argument Mining': None,\n",
    "  'Best Paper Session': 'Theme',\n",
    "  'Bias in Language Processing': None,\n",
    "  'Dialog System': 'Dialogue',\n",
    "  'Dialog System, Discourse': 'Dialogue',\n",
    "  'Dialog and Interactive Systems, Machine Translation and Multilinuality, Phonology, Morphology, and Word Segmentation, Speech, Vision, Robotics, Multimodal and Grounding, Tagging, Chunking, Syntax and Parsing': None,\n",
    "  'Dialog and Interactive Systems, Multilinguality': None,\n",
    "  'Dialog and Interactive Systems, Speech, Vision, Robotics, Multimodal and Grounding': None,\n",
    "  'Dialogue and Generation': None,\n",
    "  'Discourse': None,\n",
    "  'Discourse and Pragmatics, Linguistic Theories, Textual Inference, Question Answering, Summarization and Generation': None,\n",
    "  'Discourse and Pragmatics, Summarization and Generation': None,\n",
    "  'Discourse, Linguistics, Cognitive Modeling': None,\n",
    "  'Discourse, Summarization, and Generation': None,\n",
    "  'Document Analysis': None,\n",
    "  'Evaluation': 'Resources and Evaluation',\n",
    "  'Generation, Summarization': None,\n",
    "  'Inference, Reasoning': None,\n",
    "  'Information Extraction and Text Mining': 'Information Extraction/Retrieval',\n",
    "  'Information Extraction, Information Retrieval and Document Analysis, Linguistic Theories': 'Information Extraction/Retrieval',\n",
    "  'Information Extraction, Text Mining': None,\n",
    "  'Information Extraction, Text Mining and NLP Applications, Social Media and Computational Social Science, Sentiment Analysis and Argument Mining': None,\n",
    "  'Information Retrieval': None,\n",
    "  'Information Retrieval and Document Analysis': 'Information Extraction/Retrieval',\n",
    "  'Information Retrieval and Document Analysis, Lexical Semantics, Sentence-level Semantics, Machine Learning': None,\n",
    "  'Language/Document Model': None,\n",
    "  'Lexical Semantics': 'Semantics',\n",
    "  'Linguistics, Psycholinguistics and Cognitive Modeling': None,\n",
    "  'Machine Learning': 'Machine Learning',\n",
    "  'Machine Learning, Question Answering': None,\n",
    "  'Machine Translation and Mulitilinguality, Phonology, Morphology and Word Segmentation, Tagging, Chunking, Syntax and Parsing': None,\n",
    "  'Machine Translation, Multilinguality': 'Machine Translation and Multilinguality',\n",
    "  'Morphology, Tagging, Parsing': None,\n",
    "  'Multidisciplinary': None,\n",
    "  'Multilinguality and Morphology': None,\n",
    "  'Multimodal': 'Multimodality, Speech and Grounding',\n",
    "  'Neural Machine Translation': 'Machine Translation and Multilinguality',\n",
    "  'Parsing': None,\n",
    "  'Parsing, Morphology': None,\n",
    "  'Phonology, Word Segmentation, and Parsing': None,\n",
    "  'Question Answering, Textual Inference and Other Areas of Semantics': None,\n",
    "  'Reasoning': 'Commonsense Reasoning',\n",
    "  'Reasoning and Question Answering': 'Question Answering',\n",
    "  'Resource, Annotation': 'Resources and Evaluation',\n",
    "  'Semantic Parsing': 'Semantics',\n",
    "  'Sentence-level Semantics': 'Semantics',\n",
    "  'Sentence-level semantics': 'Semantics',\n",
    "  'Sentiment': 'Sentiment Analysis',\n",
    "  'Sentiment Analysis and Argument Mining': 'Sentiment Analysis',\n",
    "  'Sentiment Analysis and Argument Mining, Lexical Semantics, Sentence-level Semantics': 'Sentiment Analysis',\n",
    "  'Sentiment and Social Media': None,\n",
    "  'Social Media': 'Social Science',\n",
    "  'Social Media and Computational Social Science': 'Social Science',\n",
    "  'Social Media and Computational Social Science, Text Mining and NLP Applications': None,\n",
    "  'Speech, Vision, Robotics, Multimodal and Grounding': 'Multimodality, Speech and Grounding',\n",
    "  'Summarization and Generation': None,\n",
    "  'Summarization, Social Media': None,\n",
    "  'Syntax, Parsing, and Linguistic Theories': None,\n",
    "  'Tagging, Chunking, Syntax and Parsing': None,\n",
    "  'Text Mining and Applications': 'Applications',\n",
    "  'Text Mining and NLP Applications': 'Applications',\n",
    "  'Textual Inference and Other Areas of Semantics': 'Semantics',\n",
    "  'Vision': 'Multimodality, Speech and Grounding',\n",
    "  'Vision, Linguistics, Resource and Evaluation': None,\n",
    "  'Vision, Multimodal, Grounding, Speech': 'Multimodality, Speech and Grounding',\n",
    "  'Vision, Robotics, Multimodal, Grounding and Speech': 'Multimodality, Speech and Grounding',\n",
    "  'Visual and Multimodal Question Answering': 'Multimodality, Speech and Grounding',\n",
    "  'Word Semantics': 'Semantics',\n",
    "  'Word-level Semantics': 'Semantics',\n",
    "}\n",
    "\n",
    "dropped_tracks = [\n",
    "    'Theme',\n",
    "    'Discourse and Pragmatics',\n",
    "    'Large Language Models',\n",
    "    'Industry',\n",
    "    'Phonology, Morphology and Word Segmentation',\n",
    "    'Commonsense Reasoning',\n",
    "    'Human-Centered NLP',\n",
    "    'Unsupervised and Weakly-Supervised Methods in NLP',\n",
    "    'Theory and Formalism in NLP',\n",
    "    'Efficient Methods',\n",
    "    'Linguistic Theories and Psycholinguistics',\n",
    "    'Resources and Evaluation',\n",
    "    'Semantics',\n",
    "    'Syntax',\n",
    "    'Applications',\n",
    "    #'Ethics',\n",
    "    'Sentiment Analysis'\n",
    "]"
   ]
  },
  {
   "cell_type": "code",
   "execution_count": 148,
   "id": "cab94ac0-adae-4bf4-8fa1-f3427358588e",
   "metadata": {},
   "outputs": [
    {
     "name": "stdout",
     "output_type": "stream",
     "text": [
      "         Information Extraction/Retrieval & 674 \\\\\n",
      "         Machine Translation and Multilinguality & 594 \\\\\n",
      "         Machine Learning & 557 \\\\\n",
      "         Applications & 516 \\\\\n",
      "         Dialogue & 487 \\\\\n",
      "         Interpretability and Analysis & 477 \\\\\n",
      "         Semantics & 456 \\\\\n",
      "         Resources and Evaluation & 423 \\\\\n",
      "         Multimodality, Speech and Grounding & 389 \\\\\n",
      "         Generation & 361 \\\\\n",
      "         Question Answering & 334 \\\\\n",
      "         Sentiment Analysis & 258 \\\\\n",
      "         Summarization & 244 \\\\\n",
      "         Theme & 188 \\\\\n",
      "         Social Science & 178 \\\\\n",
      "         Ethics & 130 \\\\\n",
      "         Syntax & 121 \\\\\n",
      "         Efficient Methods & 113 \\\\\n",
      "         Linguistic Theories and Psycholinguistics & 106 \\\\\n",
      "         Discourse and Pragmatics & 84 \\\\\n",
      "         Large Language Models & 83 \\\\\n",
      "         Industry & 76 \\\\\n",
      "         Phonology, Morphology and Word Segmentation & 72 \\\\\n",
      "         Commonsense Reasoning & 32 \\\\\n",
      "         Human-Centered NLP & 18 \\\\\n",
      "         Unsupervised and Weakly-Supervised Methods in NLP & 17 \\\\\n",
      "         Theory and Formalism in NLP & 6 \\\\\n"
     ]
    }
   ],
   "source": [
    "df['track'] = df['area'].map(mapping)\n",
    "for track, count in df[df['year'] >= 2020]['track'].value_counts(dropna=False).items():\n",
    "    print(f'         {track} & {count} \\\\\\\\')\n"
   ]
  },
  {
   "cell_type": "code",
   "execution_count": 141,
   "id": "e25571d7-adad-4158-9651-45e8527d7bbb",
   "metadata": {},
   "outputs": [
    {
     "data": {
      "text/plain": [
       "area\n",
       "Area F (Discourse, Dialog, Summarization, Generation, Multimodal NLP) [LONG]                                                                                                                                       85\n",
       "Area A (Information Extraction and Question Answering) [LONG]                                                                                                                                                      70\n",
       "Area G (Machine Translation and Multilinguality) [LONG]                                                                                                                                                            56\n",
       "Dialog and Interactive Systems, Speech, Vision, Robotics, Multimodal and Grounding                                                                                                                                 47\n",
       "Discourse and Pragmatics, Linguistic Theories, Textual Inference, Question Answering, Summarization and Generation                                                                                                 46\n",
       "Social Media and Computational Social Science, Text Mining and NLP Applications                                                                                                                                    46\n",
       "Machine Translation and Mulitilinguality, Phonology, Morphology and Word Segmentation, Tagging, Chunking, Syntax and Parsing                                                                                       44\n",
       "Information Extraction, Text Mining and NLP Applications, Social Media and Computational Social Science, Sentiment Analysis and Argument Mining                                                                    43\n",
       "Dialog and Interactive Systems, Machine Translation and Multilinuality, Phonology, Morphology, and Word Segmentation, Speech, Vision, Robotics, Multimodal and Grounding, Tagging, Chunking, Syntax and Parsing    41\n",
       "Information Retrieval and Document Analysis, Lexical Semantics, Sentence-level Semantics, Machine Learning                                                                                                         41\n",
       "Discourse and Pragmatics, Summarization and Generation                                                                                                                                                             39\n",
       "Question Answering, Textual Inference and Other Areas of Semantics                                                                                                                                                 39\n",
       "Document Analysis                                                                                                                                                                                                  35\n",
       "Tagging, Chunking, Syntax and Parsing                                                                                                                                                                              34\n",
       "Information Extraction, Text Mining                                                                                                                                                                                25\n",
       "Dialog and Interactive Systems, Multilinguality                                                                                                                                                                    16\n",
       "Summarization, Social Media                                                                                                                                                                                        13\n",
       "Morphology, Tagging, Parsing                                                                                                                                                                                       12\n",
       "Multidisciplinary                                                                                                                                                                                                  12\n",
       "Discourse, Linguistics, Cognitive Modeling                                                                                                                                                                          8\n",
       "Name: count, dtype: int64"
      ]
     },
     "execution_count": 141,
     "metadata": {},
     "output_type": "execute_result"
    }
   ],
   "source": [
    "df[pd.isna(df['track'])]['area'].value_counts().head(20)\n"
   ]
  },
  {
   "cell_type": "code",
   "execution_count": 95,
   "id": "cfe99532-362c-4cd2-a8e7-8514fb8d1da3",
   "metadata": {},
   "outputs": [
    {
     "data": {
      "text/html": [
       "<div>\n",
       "<style scoped>\n",
       "    .dataframe tbody tr th:only-of-type {\n",
       "        vertical-align: middle;\n",
       "    }\n",
       "\n",
       "    .dataframe tbody tr th {\n",
       "        vertical-align: top;\n",
       "    }\n",
       "\n",
       "    .dataframe thead th {\n",
       "        text-align: right;\n",
       "    }\n",
       "</style>\n",
       "<table border=\"1\" class=\"dataframe\">\n",
       "  <thead>\n",
       "    <tr style=\"text-align: right;\">\n",
       "      <th></th>\n",
       "      <th>id</th>\n",
       "      <th>title</th>\n",
       "      <th>area</th>\n",
       "      <th>source</th>\n",
       "      <th>year</th>\n",
       "      <th>doi</th>\n",
       "      <th>abstract</th>\n",
       "      <th>semantic_scholar_id</th>\n",
       "      <th>track</th>\n",
       "    </tr>\n",
       "  </thead>\n",
       "  <tbody>\n",
       "    <tr>\n",
       "      <th>0</th>\n",
       "      <td>main.1004</td>\n",
       "      <td>AnswerFact: Fact Checking in Product Question ...</td>\n",
       "      <td>Question Answering</td>\n",
       "      <td>EMNLP</td>\n",
       "      <td>2020</td>\n",
       "      <td>10.18653/v1/2020.emnlp-main.188</td>\n",
       "      <td>Product-related question answering platforms n...</td>\n",
       "      <td>4c61df1b4b9a164fec1a34587b4fffae029cd18c</td>\n",
       "      <td>Question Answering</td>\n",
       "    </tr>\n",
       "    <tr>\n",
       "      <th>1</th>\n",
       "      <td>main.1006</td>\n",
       "      <td>Knowledge-Grounded Dialogue Generation with Pr...</td>\n",
       "      <td>Dialog and Interactive Systems</td>\n",
       "      <td>EMNLP</td>\n",
       "      <td>2020</td>\n",
       "      <td>10.18653/v1/2020.emnlp-main.272</td>\n",
       "      <td>We study knowledge-grounded dialogue generatio...</td>\n",
       "      <td>3447a432f724aa36595643446acda5b78943db19</td>\n",
       "      <td>Dialogue</td>\n",
       "    </tr>\n",
       "    <tr>\n",
       "      <th>2</th>\n",
       "      <td>main.1009</td>\n",
       "      <td>BiST: Bi-directional Spatio-Temporal Reasoning...</td>\n",
       "      <td>Dialog and Interactive Systems</td>\n",
       "      <td>EMNLP</td>\n",
       "      <td>2020</td>\n",
       "      <td>10.18653/v1/2020.emnlp-main.145</td>\n",
       "      <td>Video-grounded dialogues are very challenging ...</td>\n",
       "      <td>f4a2acfeb1705df3f430cc53ace26e1dbbbcbd16</td>\n",
       "      <td>Dialogue</td>\n",
       "    </tr>\n",
       "    <tr>\n",
       "      <th>3</th>\n",
       "      <td>main.1010</td>\n",
       "      <td>A Knowledge-Aware Sequence-to-Tree Network for...</td>\n",
       "      <td>NLP Applications</td>\n",
       "      <td>EMNLP</td>\n",
       "      <td>2020</td>\n",
       "      <td>10.18653/v1/2020.emnlp-main.579</td>\n",
       "      <td>With the advancements in natural language proc...</td>\n",
       "      <td>24ed85ad966823868c1694a19385d01c6ad71008</td>\n",
       "      <td>Applications</td>\n",
       "    </tr>\n",
       "    <tr>\n",
       "      <th>4</th>\n",
       "      <td>main.1011</td>\n",
       "      <td>Knowledge Association with Hyperbolic Knowledg...</td>\n",
       "      <td>Information Extraction</td>\n",
       "      <td>EMNLP</td>\n",
       "      <td>2020</td>\n",
       "      <td>10.18653/v1/2020.emnlp-main.460</td>\n",
       "      <td>Capturing associations for knowledge graphs (K...</td>\n",
       "      <td>3d61a28b9429fc8f7047fc379a0134a3765edbcb</td>\n",
       "      <td>Information Extraction/Retrieval</td>\n",
       "    </tr>\n",
       "    <tr>\n",
       "      <th>...</th>\n",
       "      <td>...</td>\n",
       "      <td>...</td>\n",
       "      <td>...</td>\n",
       "      <td>...</td>\n",
       "      <td>...</td>\n",
       "      <td>...</td>\n",
       "      <td>...</td>\n",
       "      <td>...</td>\n",
       "      <td>...</td>\n",
       "    </tr>\n",
       "    <tr>\n",
       "      <th>9250</th>\n",
       "      <td>T4773</td>\n",
       "      <td>Rank-Aware Negative Training for Semi-Supervis...</td>\n",
       "      <td>Machine Learning for NLP</td>\n",
       "      <td>ACL</td>\n",
       "      <td>2023</td>\n",
       "      <td>10.1162/tacl_a_00574</td>\n",
       "      <td>Abstract Semi-supervised text classification-b...</td>\n",
       "      <td>79a502caa0b12573f56a7e8948459722aa891479</td>\n",
       "      <td>Machine Learning</td>\n",
       "    </tr>\n",
       "    <tr>\n",
       "      <th>9251</th>\n",
       "      <td>T4777</td>\n",
       "      <td>Transparency Helps Reveal When Language Models...</td>\n",
       "      <td>Linguistic Theories, Cognitive Modeling, and P...</td>\n",
       "      <td>ACL</td>\n",
       "      <td>2023</td>\n",
       "      <td>10.1162/tacl_a_00565</td>\n",
       "      <td>Many current NLP systems are built from langua...</td>\n",
       "      <td>eee70790ced38b0fcf50351dbb3dcbdb582467e8</td>\n",
       "      <td>Linguistic Theories and Psycholinguistics</td>\n",
       "    </tr>\n",
       "    <tr>\n",
       "      <th>9252</th>\n",
       "      <td>T4803</td>\n",
       "      <td>Design Choices for Crowdsourcing Implicit Disc...</td>\n",
       "      <td>Discourse and Pragmatics</td>\n",
       "      <td>ACL</td>\n",
       "      <td>2023</td>\n",
       "      <td>10.1162/tacl_a_00586</td>\n",
       "      <td>Abstract Disagreement in natural language anno...</td>\n",
       "      <td>bf65a1b637e0f253abb8402fc9d0ab80db79aa92</td>\n",
       "      <td>Discourse and Pragmatics</td>\n",
       "    </tr>\n",
       "    <tr>\n",
       "      <th>9253</th>\n",
       "      <td>T4929</td>\n",
       "      <td>Time-and-Space-Efficient Weighted Deduction</td>\n",
       "      <td>Semantics: Sentence-level Semantics, Textual I...</td>\n",
       "      <td>ACL</td>\n",
       "      <td>2023</td>\n",
       "      <td>10.1162/tacl_a_00588</td>\n",
       "      <td>Abstract Many NLP algorithms have been describ...</td>\n",
       "      <td>f1803d124e5af7263ce656f7ccf3219eacc62b1c</td>\n",
       "      <td>Semantics</td>\n",
       "    </tr>\n",
       "    <tr>\n",
       "      <th>9254</th>\n",
       "      <td>T5043</td>\n",
       "      <td>Collective Human Opinions in Semantic Textual ...</td>\n",
       "      <td>Semantics: Sentence-level Semantics, Textual I...</td>\n",
       "      <td>ACL</td>\n",
       "      <td>2023</td>\n",
       "      <td>10.1162/tacl_a_00584</td>\n",
       "      <td>Abstract Despite the subjective nature of sema...</td>\n",
       "      <td>1fc4e904ed92da4b9af30e2eb5224ebe29e470b3</td>\n",
       "      <td>Semantics</td>\n",
       "    </tr>\n",
       "  </tbody>\n",
       "</table>\n",
       "<p>6994 rows × 9 columns</p>\n",
       "</div>"
      ],
      "text/plain": [
       "             id                                              title  \\\n",
       "0     main.1004  AnswerFact: Fact Checking in Product Question ...   \n",
       "1     main.1006  Knowledge-Grounded Dialogue Generation with Pr...   \n",
       "2     main.1009  BiST: Bi-directional Spatio-Temporal Reasoning...   \n",
       "3     main.1010  A Knowledge-Aware Sequence-to-Tree Network for...   \n",
       "4     main.1011  Knowledge Association with Hyperbolic Knowledg...   \n",
       "...         ...                                                ...   \n",
       "9250      T4773  Rank-Aware Negative Training for Semi-Supervis...   \n",
       "9251      T4777  Transparency Helps Reveal When Language Models...   \n",
       "9252      T4803  Design Choices for Crowdsourcing Implicit Disc...   \n",
       "9253      T4929        Time-and-Space-Efficient Weighted Deduction   \n",
       "9254      T5043  Collective Human Opinions in Semantic Textual ...   \n",
       "\n",
       "                                                   area source  year  \\\n",
       "0                                    Question Answering  EMNLP  2020   \n",
       "1                        Dialog and Interactive Systems  EMNLP  2020   \n",
       "2                        Dialog and Interactive Systems  EMNLP  2020   \n",
       "3                                      NLP Applications  EMNLP  2020   \n",
       "4                                Information Extraction  EMNLP  2020   \n",
       "...                                                 ...    ...   ...   \n",
       "9250                           Machine Learning for NLP    ACL  2023   \n",
       "9251  Linguistic Theories, Cognitive Modeling, and P...    ACL  2023   \n",
       "9252                           Discourse and Pragmatics    ACL  2023   \n",
       "9253  Semantics: Sentence-level Semantics, Textual I...    ACL  2023   \n",
       "9254  Semantics: Sentence-level Semantics, Textual I...    ACL  2023   \n",
       "\n",
       "                                  doi  \\\n",
       "0     10.18653/v1/2020.emnlp-main.188   \n",
       "1     10.18653/v1/2020.emnlp-main.272   \n",
       "2     10.18653/v1/2020.emnlp-main.145   \n",
       "3     10.18653/v1/2020.emnlp-main.579   \n",
       "4     10.18653/v1/2020.emnlp-main.460   \n",
       "...                               ...   \n",
       "9250             10.1162/tacl_a_00574   \n",
       "9251             10.1162/tacl_a_00565   \n",
       "9252             10.1162/tacl_a_00586   \n",
       "9253             10.1162/tacl_a_00588   \n",
       "9254             10.1162/tacl_a_00584   \n",
       "\n",
       "                                               abstract  \\\n",
       "0     Product-related question answering platforms n...   \n",
       "1     We study knowledge-grounded dialogue generatio...   \n",
       "2     Video-grounded dialogues are very challenging ...   \n",
       "3     With the advancements in natural language proc...   \n",
       "4     Capturing associations for knowledge graphs (K...   \n",
       "...                                                 ...   \n",
       "9250  Abstract Semi-supervised text classification-b...   \n",
       "9251  Many current NLP systems are built from langua...   \n",
       "9252  Abstract Disagreement in natural language anno...   \n",
       "9253  Abstract Many NLP algorithms have been describ...   \n",
       "9254  Abstract Despite the subjective nature of sema...   \n",
       "\n",
       "                           semantic_scholar_id  \\\n",
       "0     4c61df1b4b9a164fec1a34587b4fffae029cd18c   \n",
       "1     3447a432f724aa36595643446acda5b78943db19   \n",
       "2     f4a2acfeb1705df3f430cc53ace26e1dbbbcbd16   \n",
       "3     24ed85ad966823868c1694a19385d01c6ad71008   \n",
       "4     3d61a28b9429fc8f7047fc379a0134a3765edbcb   \n",
       "...                                        ...   \n",
       "9250  79a502caa0b12573f56a7e8948459722aa891479   \n",
       "9251  eee70790ced38b0fcf50351dbb3dcbdb582467e8   \n",
       "9252  bf65a1b637e0f253abb8402fc9d0ab80db79aa92   \n",
       "9253  f1803d124e5af7263ce656f7ccf3219eacc62b1c   \n",
       "9254  1fc4e904ed92da4b9af30e2eb5224ebe29e470b3   \n",
       "\n",
       "                                          track  \n",
       "0                            Question Answering  \n",
       "1                                      Dialogue  \n",
       "2                                      Dialogue  \n",
       "3                                  Applications  \n",
       "4              Information Extraction/Retrieval  \n",
       "...                                         ...  \n",
       "9250                           Machine Learning  \n",
       "9251  Linguistic Theories and Psycholinguistics  \n",
       "9252                   Discourse and Pragmatics  \n",
       "9253                                  Semantics  \n",
       "9254                                  Semantics  \n",
       "\n",
       "[6994 rows x 9 columns]"
      ]
     },
     "execution_count": 95,
     "metadata": {},
     "output_type": "execute_result"
    }
   ],
   "source": [
    "df_2020 = df[df['year'] >= 2020].copy()\n",
    "df_2020['track'] = df_2020['area'].map(mapping)\n",
    "df_2020"
   ]
  },
  {
   "cell_type": "code",
   "execution_count": 96,
   "id": "7d405db3-fd79-483a-821c-3ba456261d8d",
   "metadata": {},
   "outputs": [
    {
     "data": {
      "text/plain": [
       "track\n",
       "Other                                      2569\n",
       "Information Extraction/Retrieval            674\n",
       "Machine Translation and Multilinguality     594\n",
       "Machine Learning                            557\n",
       "Dialogue                                    487\n",
       "Interpretability and Analysis               477\n",
       "Multimodality, Speech and Grounding         389\n",
       "Generation                                  361\n",
       "Question Answering                          334\n",
       "Summarization                               244\n",
       "Social Science                              178\n",
       "Ethics                                      130\n",
       "Name: count, dtype: int64"
      ]
     },
     "execution_count": 96,
     "metadata": {},
     "output_type": "execute_result"
    }
   ],
   "source": [
    "df_2020['track'] = df_2020['area'].map(mapping)\n",
    "df_2020['track'] = df_2020['track'].apply(lambda track: 'Other' if track in dropped_tracks else track)\n",
    "df_2020['track'].value_counts()"
   ]
  },
  {
   "cell_type": "code",
   "execution_count": null,
   "id": "887fd320-c38a-4896-866c-f29325a5cff0",
   "metadata": {},
   "outputs": [],
   "source": []
  },
  {
   "cell_type": "markdown",
   "id": "8d07a70a-de3b-45d6-b512-4ea5d76acdbc",
   "metadata": {},
   "source": [
    "# Computing embeddings"
   ]
  },
  {
   "cell_type": "code",
   "execution_count": 97,
   "id": "caa965e6-7c6b-4154-8d0d-eb12f3d890f7",
   "metadata": {},
   "outputs": [
    {
     "ename": "SyntaxError",
     "evalue": "invalid syntax (1318151793.py, line 4)",
     "output_type": "error",
     "traceback": [
      "\u001b[0;36m  Cell \u001b[0;32mIn[97], line 4\u001b[0;36m\u001b[0m\n\u001b[0;31m    tqdm.pandas()t\u001b[0m\n\u001b[0m                 ^\u001b[0m\n\u001b[0;31mSyntaxError\u001b[0m\u001b[0;31m:\u001b[0m invalid syntax\n"
     ]
    }
   ],
   "source": [
    "from transformers import AutoTokenizer\n",
    "from adapters import AutoAdapterModel\n",
    "from tqdm import tqdm\n",
    "tqdm.pandas()t\n",
    "\n",
    "tokenizer = AutoTokenizer.from_pretrained('allenai/specter2_base')\n",
    "\n",
    "model = AutoAdapterModel.from_pretrained(\"allenai/specter2_base\")\n",
    "adapter_name = model.load_adapter(\"allenai/specter2_classification\", source=\"hf\", set_active=True)\n",
    "\n",
    "def get_embedding(paper_row):\n",
    "    text = paper_row['title'] + tokenizer.sep_token + paper_row['abstract']\n",
    "    inputs = tokenizer(text,\n",
    "                       padding=True,\n",
    "                       truncation=True,\n",
    "                       return_tensors=\"pt\",\n",
    "                       return_token_type_ids=False,\n",
    "                       max_length=2048)\n",
    "    output = model(**inputs)\n",
    "    embeddings = output.last_hidden_state[:, 0, :][0].detach().numpy()\n",
    "    return embeddings\n",
    "\n",
    "df_2020['embedding'] = df_2020.progress_apply(get_embedding, axis=1)"
   ]
  },
  {
   "cell_type": "code",
   "execution_count": 98,
   "id": "9ea340b0-8b4c-402f-940a-d05c949ce85d",
   "metadata": {},
   "outputs": [
    {
     "ename": "KeyError",
     "evalue": "'embedding'",
     "output_type": "error",
     "traceback": [
      "\u001b[0;31m---------------------------------------------------------------------------\u001b[0m",
      "\u001b[0;31mKeyError\u001b[0m                                  Traceback (most recent call last)",
      "File \u001b[0;32m~/miniconda3/envs/interpretability-impact/lib/python3.11/site-packages/pandas/core/indexes/base.py:3805\u001b[0m, in \u001b[0;36mIndex.get_loc\u001b[0;34m(self, key)\u001b[0m\n\u001b[1;32m   3804\u001b[0m \u001b[38;5;28;01mtry\u001b[39;00m:\n\u001b[0;32m-> 3805\u001b[0m     \u001b[38;5;28;01mreturn\u001b[39;00m \u001b[38;5;28;43mself\u001b[39;49m\u001b[38;5;241;43m.\u001b[39;49m\u001b[43m_engine\u001b[49m\u001b[38;5;241;43m.\u001b[39;49m\u001b[43mget_loc\u001b[49m\u001b[43m(\u001b[49m\u001b[43mcasted_key\u001b[49m\u001b[43m)\u001b[49m\n\u001b[1;32m   3806\u001b[0m \u001b[38;5;28;01mexcept\u001b[39;00m \u001b[38;5;167;01mKeyError\u001b[39;00m \u001b[38;5;28;01mas\u001b[39;00m err:\n",
      "File \u001b[0;32mindex.pyx:167\u001b[0m, in \u001b[0;36mpandas._libs.index.IndexEngine.get_loc\u001b[0;34m()\u001b[0m\n",
      "File \u001b[0;32mindex.pyx:196\u001b[0m, in \u001b[0;36mpandas._libs.index.IndexEngine.get_loc\u001b[0;34m()\u001b[0m\n",
      "File \u001b[0;32mpandas/_libs/hashtable_class_helper.pxi:7081\u001b[0m, in \u001b[0;36mpandas._libs.hashtable.PyObjectHashTable.get_item\u001b[0;34m()\u001b[0m\n",
      "File \u001b[0;32mpandas/_libs/hashtable_class_helper.pxi:7089\u001b[0m, in \u001b[0;36mpandas._libs.hashtable.PyObjectHashTable.get_item\u001b[0;34m()\u001b[0m\n",
      "\u001b[0;31mKeyError\u001b[0m: 'embedding'",
      "\nThe above exception was the direct cause of the following exception:\n",
      "\u001b[0;31mKeyError\u001b[0m                                  Traceback (most recent call last)",
      "Cell \u001b[0;32mIn[98], line 9\u001b[0m\n\u001b[1;32m      6\u001b[0m SEED \u001b[38;5;241m=\u001b[39m \u001b[38;5;241m42\u001b[39m\n\u001b[1;32m      7\u001b[0m SPLIT \u001b[38;5;241m=\u001b[39m \u001b[38;5;241m0.2\u001b[39m\n\u001b[0;32m----> 9\u001b[0m X \u001b[38;5;241m=\u001b[39m np\u001b[38;5;241m.\u001b[39mstack(\u001b[43mdf_2020\u001b[49m\u001b[43m[\u001b[49m\u001b[38;5;124;43m'\u001b[39;49m\u001b[38;5;124;43membedding\u001b[39;49m\u001b[38;5;124;43m'\u001b[39;49m\u001b[43m]\u001b[49m\u001b[38;5;241m.\u001b[39mvalues)\n\u001b[1;32m     11\u001b[0m label_encoder \u001b[38;5;241m=\u001b[39m LabelEncoder()\n\u001b[1;32m     12\u001b[0m y \u001b[38;5;241m=\u001b[39m df_2020[\u001b[38;5;124m'\u001b[39m\u001b[38;5;124mtrack\u001b[39m\u001b[38;5;124m'\u001b[39m]\u001b[38;5;241m.\u001b[39mvalues\n",
      "File \u001b[0;32m~/miniconda3/envs/interpretability-impact/lib/python3.11/site-packages/pandas/core/frame.py:4090\u001b[0m, in \u001b[0;36mDataFrame.__getitem__\u001b[0;34m(self, key)\u001b[0m\n\u001b[1;32m   4088\u001b[0m \u001b[38;5;28;01mif\u001b[39;00m \u001b[38;5;28mself\u001b[39m\u001b[38;5;241m.\u001b[39mcolumns\u001b[38;5;241m.\u001b[39mnlevels \u001b[38;5;241m>\u001b[39m \u001b[38;5;241m1\u001b[39m:\n\u001b[1;32m   4089\u001b[0m     \u001b[38;5;28;01mreturn\u001b[39;00m \u001b[38;5;28mself\u001b[39m\u001b[38;5;241m.\u001b[39m_getitem_multilevel(key)\n\u001b[0;32m-> 4090\u001b[0m indexer \u001b[38;5;241m=\u001b[39m \u001b[38;5;28;43mself\u001b[39;49m\u001b[38;5;241;43m.\u001b[39;49m\u001b[43mcolumns\u001b[49m\u001b[38;5;241;43m.\u001b[39;49m\u001b[43mget_loc\u001b[49m\u001b[43m(\u001b[49m\u001b[43mkey\u001b[49m\u001b[43m)\u001b[49m\n\u001b[1;32m   4091\u001b[0m \u001b[38;5;28;01mif\u001b[39;00m is_integer(indexer):\n\u001b[1;32m   4092\u001b[0m     indexer \u001b[38;5;241m=\u001b[39m [indexer]\n",
      "File \u001b[0;32m~/miniconda3/envs/interpretability-impact/lib/python3.11/site-packages/pandas/core/indexes/base.py:3812\u001b[0m, in \u001b[0;36mIndex.get_loc\u001b[0;34m(self, key)\u001b[0m\n\u001b[1;32m   3807\u001b[0m     \u001b[38;5;28;01mif\u001b[39;00m \u001b[38;5;28misinstance\u001b[39m(casted_key, \u001b[38;5;28mslice\u001b[39m) \u001b[38;5;129;01mor\u001b[39;00m (\n\u001b[1;32m   3808\u001b[0m         \u001b[38;5;28misinstance\u001b[39m(casted_key, abc\u001b[38;5;241m.\u001b[39mIterable)\n\u001b[1;32m   3809\u001b[0m         \u001b[38;5;129;01mand\u001b[39;00m \u001b[38;5;28many\u001b[39m(\u001b[38;5;28misinstance\u001b[39m(x, \u001b[38;5;28mslice\u001b[39m) \u001b[38;5;28;01mfor\u001b[39;00m x \u001b[38;5;129;01min\u001b[39;00m casted_key)\n\u001b[1;32m   3810\u001b[0m     ):\n\u001b[1;32m   3811\u001b[0m         \u001b[38;5;28;01mraise\u001b[39;00m InvalidIndexError(key)\n\u001b[0;32m-> 3812\u001b[0m     \u001b[38;5;28;01mraise\u001b[39;00m \u001b[38;5;167;01mKeyError\u001b[39;00m(key) \u001b[38;5;28;01mfrom\u001b[39;00m \u001b[38;5;21;01merr\u001b[39;00m\n\u001b[1;32m   3813\u001b[0m \u001b[38;5;28;01mexcept\u001b[39;00m \u001b[38;5;167;01mTypeError\u001b[39;00m:\n\u001b[1;32m   3814\u001b[0m     \u001b[38;5;66;03m# If we have a listlike key, _check_indexing_error will raise\u001b[39;00m\n\u001b[1;32m   3815\u001b[0m     \u001b[38;5;66;03m#  InvalidIndexError. Otherwise we fall through and re-raise\u001b[39;00m\n\u001b[1;32m   3816\u001b[0m     \u001b[38;5;66;03m#  the TypeError.\u001b[39;00m\n\u001b[1;32m   3817\u001b[0m     \u001b[38;5;28mself\u001b[39m\u001b[38;5;241m.\u001b[39m_check_indexing_error(key)\n",
      "\u001b[0;31mKeyError\u001b[0m: 'embedding'"
     ]
    }
   ],
   "source": [
    "from sklearn.model_selection import train_test_split\n",
    "from sklearn.preprocessing import LabelEncoder\n",
    "import numpy as np\n",
    "import torch\n",
    "\n",
    "SEED = 42\n",
    "SPLIT = 0.2\n",
    "\n",
    "X = np.stack(df_2020['embedding'].values)\n",
    "\n",
    "label_encoder = LabelEncoder()\n",
    "y = df_2020['track'].values\n",
    "y = label_encoder.fit_transform(y)\n",
    "y = torch.tensor(y, dtype=torch.long)\n",
    "\n",
    "indices = np.arange(len(df_2020))\n",
    "train_indices, test_indices = train_test_split(indices, test_size=SPLIT, random_state=SEED)\n",
    "\n",
    "X_train, X_test = X[train_indices], X[test_indices]\n",
    "y_train, y_test = y[train_indices], y[test_indices]\n",
    "\n",
    "df_train, df_test = df_2020.iloc[train_indices], df_2020.iloc[test_indices]"
   ]
  },
  {
   "cell_type": "code",
   "execution_count": null,
   "id": "18e96a47-f9f2-4981-9284-e9170f051b7a",
   "metadata": {},
   "outputs": [],
   "source": [
    "X_train = torch.tensor(X_train, dtype=torch.float32)\n",
    "X_test = torch.tensor(X_test, dtype=torch.float32)\n",
    "y_train = torch.tensor(y_train, dtype=torch.long)\n",
    "y_test = torch.tensor(y_test, dtype=torch.long)\n",
    "\n",
    "\n",
    "# we are augmenting the test data with blackboxnlp papers\n",
    "blackbox_df = pd.read_csv('../data/blackbox_papers.csv', index_col=0)\n",
    "\n",
    "X_blackbox = np.stack(blackbox_df['embedding'].values) \n",
    "X_blackbox = torch.stack([torch.tensor(np.fromstring(x[1:-1], sep='\\n'), dtype=torch.float32) for x in X_blackbox])\n",
    "\n",
    "y_blackbox = blackbox_df['interpretability'].values\n",
    "y_blackbox = torch.tensor([label_encoder.transform(['Interpretability and Analysis'])[0] if label else 0 for label in y_blackbox], dtype=torch.long)\n",
    "X_augmented_train = torch.cat((X_train, X_blackbox), dim=0)\n",
    "y_augmented_train = torch.cat((y_train, y_blackbox), dim=0)\n"
   ]
  },
  {
   "cell_type": "code",
   "execution_count": null,
   "id": "61dc547d-18d1-4041-91cf-d6805ad0d807",
   "metadata": {},
   "outputs": [],
   "source": [
    "import torch\n",
    "import torch.nn as nn\n",
    "import torch.optim as optim\n",
    "\n",
    "\n",
    "class MLPClassifier(nn.Module):\n",
    "    def __init__(self, input_size, hidden_size, num_classes):\n",
    "        super(MLPClassifier, self).__init__()\n",
    "        self.fc1 = nn.Linear(input_size, hidden_size)\n",
    "        self.relu = nn.ReLU()\n",
    "        self.fc2 = nn.Linear(hidden_size, num_classes)\n",
    "\n",
    "\n",
    "    def forward(self, x):\n",
    "        out = self.fc1(x)\n",
    "        out = self.relu(out)\n",
    "        out = self.fc2(out)\n",
    "        out = torch.softmax(out, dim=-1)\n",
    "        return out\n"
   ]
  },
  {
   "cell_type": "code",
   "execution_count": 99,
   "id": "0ea3d9c7-b17a-4070-972b-5dbec70e0fb5",
   "metadata": {},
   "outputs": [],
   "source": [
    "HIDDEN_SIZE = 400 \n",
    "BATCH_SIZE = 250\n",
    "LR = 0.0005\n",
    "INPUT_SIZE = X_train.shape[1]\n",
    "OUTPUT_SIZE = max(y_train) + 1"
   ]
  },
  {
   "cell_type": "code",
   "execution_count": 100,
   "id": "36ea7b10-b4a4-49ef-a45c-d5b5260c61fb",
   "metadata": {},
   "outputs": [
    {
     "name": "stderr",
     "output_type": "stream",
     "text": [
      "/var/folders/jd/xcxq41xd1bx5jvgpwp14tr940000gn/T/ipykernel_2939/2059565078.py:5: UserWarning:\n",
      "\n",
      "To copy construct from a tensor, it is recommended to use sourceTensor.clone().detach() or sourceTensor.clone().detach().requires_grad_(True), rather than torch.tensor(sourceTensor).\n",
      "\n",
      "/var/folders/jd/xcxq41xd1bx5jvgpwp14tr940000gn/T/ipykernel_2939/2059565078.py:6: UserWarning:\n",
      "\n",
      "To copy construct from a tensor, it is recommended to use sourceTensor.clone().detach() or sourceTensor.clone().detach().requires_grad_(True), rather than torch.tensor(sourceTensor).\n",
      "\n",
      "/var/folders/jd/xcxq41xd1bx5jvgpwp14tr940000gn/T/ipykernel_2939/2059565078.py:22: UserWarning:\n",
      "\n",
      "To copy construct from a tensor, it is recommended to use sourceTensor.clone().detach() or sourceTensor.clone().detach().requires_grad_(True), rather than torch.tensor(sourceTensor).\n",
      "\n",
      "/var/folders/jd/xcxq41xd1bx5jvgpwp14tr940000gn/T/ipykernel_2939/2059565078.py:23: UserWarning:\n",
      "\n",
      "To copy construct from a tensor, it is recommended to use sourceTensor.clone().detach() or sourceTensor.clone().detach().requires_grad_(True), rather than torch.tensor(sourceTensor).\n",
      "\n"
     ]
    }
   ],
   "source": [
    "from torch.utils.data import DataLoader, TensorDataset, WeightedRandomSampler\n",
    "import torch\n",
    "import numpy as np\n",
    "\n",
    "X_train_tensor = torch.tensor(X_augmented_train, dtype=torch.float32)\n",
    "y_train_tensor = torch.tensor(X_augmented_train, dtype=torch.long)\n",
    "\n",
    "train_dataset = TensorDataset(X_augmented_train, y_augmented_train)\n",
    "\n",
    "class_sample_count = np.array([len(np.where(y_train == t)[0]) for t in np.unique(y_augmented_train)])\n",
    "class_weights = 1. / class_sample_count\n",
    "class_weights[label_encoder.transform(['Other'])[0]]*=2\n",
    "#class_weights[label_encoder.transform(['Interpretability and Analysis'])[0]]*=2\n",
    "samples_weights = np.array([class_weights[t] for t in y_train])\n",
    "samples_weights = torch.from_numpy(samples_weights)\n",
    "samples_weights = samples_weights.double()\n",
    "\n",
    "sampler = WeightedRandomSampler(samples_weights, len(samples_weights))\n",
    "\n",
    "train_loader = DataLoader(train_dataset, batch_size=BATCH_SIZE, sampler=sampler)\n",
    "\n",
    "X_test_tensor = torch.tensor(X_test, dtype=torch.float32)\n",
    "y_test_tensor = torch.tensor(y_test, dtype=torch.long)\n",
    "\n",
    "test_dataset = TensorDataset(X_test_tensor, y_test_tensor)\n",
    "test_loader = DataLoader(test_dataset, batch_size=BATCH_SIZE, shuffle=False)\n"
   ]
  },
  {
   "cell_type": "code",
   "execution_count": 101,
   "id": "46689b4b-3ef2-4173-a054-ec53ada94f1a",
   "metadata": {},
   "outputs": [
    {
     "name": "stderr",
     "output_type": "stream",
     "text": [
      "100%|███████████████████████████████████████████████████████████████████████████████████████████████████████████████████████████████████████████████████████████████████████████████████████████████████████████████████████████████████████████| 40/40 [00:01<00:00, 20.25it/s]\n"
     ]
    },
    {
     "data": {
      "image/png": "[encoded data removed]",
      "text/plain": [
       "<Figure size 800x800 with 2 Axes>"
      ]
     },
     "metadata": {},
     "output_type": "display_data"
    },
    {
     "name": "stdout",
     "output_type": "stream",
     "text": [
      "F1 macroScore: 0.60547447033784\n",
      "F1 microScore: 0.6054324517512509\n"
     ]
    }
   ],
   "source": [
    "import matplotlib.pyplot as plt\n",
    "import seaborn as sns\n",
    "from sklearn.metrics import confusion_matrix, f1_score\n",
    "from tqdm import tqdm\n",
    "\n",
    "model = MLPClassifier(INPUT_SIZE, HIDDEN_SIZE, OUTPUT_SIZE)\n",
    "criterion = nn.CrossEntropyLoss()\n",
    "optimizer = optim.Adam(model.parameters(), lr=LR)\n",
    "scheduler = optim.lr_scheduler.ExponentialLR(optimizer, gamma=0.995)\n",
    "EPOCHS = 40\n",
    "SEED = 42\n",
    "torch.manual_seed(SEED)\n",
    "torch.use_deterministic_algorithms(True)\n",
    "\n",
    "for epoch in tqdm(range(EPOCHS)):\n",
    "    model.train()\n",
    "    for i, (inputs, labels) in enumerate(train_loader):\n",
    "        outputs = model(inputs)\n",
    "        _, predicted = torch.max(outputs, 1)\n",
    "        loss = criterion(outputs, labels)\n",
    "        optimizer.zero_grad()\n",
    "        loss.backward()\n",
    "        optimizer.step()\n",
    "    scheduler.step()\n",
    "    \n",
    "y_pred = []\n",
    "y_true = []\n",
    "\n",
    "model.eval()\n",
    "with torch.no_grad():\n",
    "    for inputs, labels in test_loader:\n",
    "        inputs, labels = inputs.float(), labels.float()\n",
    "        outputs = model(inputs)\n",
    "        max_probs, predicted = torch.max(outputs, 1)\n",
    "        \n",
    "        y_pred.extend(predicted.numpy())\n",
    "        y_true.extend(labels.numpy())\n",
    "cm = confusion_matrix(y_true, y_pred)\n",
    "labels = label_encoder.inverse_transform(list(range(OUTPUT_SIZE)))\n",
    "fig, ax = plt.subplots(figsize=(8, 8))\n",
    "sns.heatmap(cm, annot=True, fmt='d', ax=ax, cmap='Blues', square=True)\n",
    "ax.set_xlabel('Predicted Labels')\n",
    "ax.set_ylabel('True Labels')\n",
    "ax.set_title('Confusion Matrix')\n",
    "plt.show()\n",
    "score = f1_score(y_true, y_pred, average='macro')\n",
    "print(\"F1 macroScore:\", score)\n",
    "score = f1_score(y_true, y_pred, average='micro')\n",
    "print(\"F1 microScore:\", score)\n"
   ]
  },
  {
   "cell_type": "code",
   "execution_count": 149,
   "id": "06b3b236-6176-4448-ad69-7e6e11af3b6e",
   "metadata": {},
   "outputs": [
    {
     "data": {
      "application/vnd.plotly.v1+json": {
       "config": {
        "plotlyServerURL": "https://plot.ly"
       },
       "data": [
        {
         "colorscale": [
          [
           0,
           "rgb(247,251,255)"
          ],
          [
           0.125,
           "rgb(222,235,247)"
          ],
          [
           0.25,
           "rgb(198,219,239)"
          ],
          [
           0.375,
           "rgb(158,202,225)"
          ],
          [
           0.5,
           "rgb(107,174,214)"
          ],
          [
           0.625,
           "rgb(66,146,198)"
          ],
          [
           0.75,
           "rgb(33,113,181)"
          ],
          [
           0.875,
           "rgb(8,81,156)"
          ],
          [
           1,
           "rgb(8,48,107)"
          ]
         ],
         "reversescale": false,
         "showscale": false,
         "type": "heatmap",
         "x": [
          "Dialogue",
          "Ethics",
          "Generation",
          "Information Extraction/Retrieval",
          "Interpretability and Analysis",
          "Machine Learning",
          "Machine Translation and Multilinguality",
          "Multimodality, Speech and Grounding",
          "Question Answering",
          "Social Science",
          "Summarization",
          "Other"
         ],
         "y": [
          "Dialogue",
          "Ethics",
          "Generation",
          "Information Extraction/Retrieval",
          "Interpretability and Analysis",
          "Machine Learning",
          "Machine Translation and Multilinguality",
          "Multimodality, Speech and Grounding",
          "Question Answering",
          "Social Science",
          "Summarization",
          "Other"
         ],
         "z": [
          [
           92,
           0,
           1,
           4,
           0,
           1,
           0,
           6,
           4,
           1,
           0,
           5
          ],
          [
           2,
           19,
           0,
           0,
           1,
           1,
           1,
           1,
           0,
           3,
           0,
           4
          ],
          [
           3,
           3,
           49,
           1,
           0,
           3,
           1,
           1,
           3,
           2,
           6,
           4
          ],
          [
           3,
           0,
           0,
           106,
           0,
           15,
           2,
           3,
           2,
           3,
           0,
           14
          ],
          [
           1,
           7,
           1,
           1,
           42,
           22,
           2,
           2,
           7,
           3,
           0,
           15
          ],
          [
           4,
           0,
           7,
           10,
           8,
           64,
           4,
           0,
           5,
           0,
           0,
           10
          ],
          [
           2,
           0,
           1,
           2,
           2,
           6,
           92,
           2,
           0,
           1,
           0,
           6
          ],
          [
           2,
           0,
           1,
           0,
           0,
           1,
           2,
           37,
           1,
           2,
           0,
           3
          ],
          [
           0,
           0,
           1,
           1,
           1,
           1,
           0,
           1,
           61,
           0,
           1,
           5
          ],
          [
           0,
           2,
           0,
           0,
           0,
           1,
           1,
           1,
           0,
           22,
           0,
           5
          ],
          [
           1,
           0,
           3,
           0,
           0,
           0,
           0,
           2,
           2,
           1,
           46,
           1
          ],
          [
           24,
           10,
           34,
           39,
           30,
           41,
           14,
           14,
           24,
           32,
           12,
           217
          ]
         ]
        }
       ],
       "layout": {
        "annotations": [
         {
          "font": {
           "color": "#000000"
          },
          "showarrow": false,
          "text": "92",
          "x": "Dialogue",
          "xref": "x",
          "y": "Dialogue",
          "yref": "y"
         },
         {
          "font": {
           "color": "#000000"
          },
          "showarrow": false,
          "text": "0",
          "x": "Ethics",
          "xref": "x",
          "y": "Dialogue",
          "yref": "y"
         },
         {
          "font": {
           "color": "#000000"
          },
          "showarrow": false,
          "text": "1",
          "x": "Generation",
          "xref": "x",
          "y": "Dialogue",
          "yref": "y"
         },
         {
          "font": {
           "color": "#000000"
          },
          "showarrow": false,
          "text": "4",
          "x": "Information Extraction/Retrieval",
          "xref": "x",
          "y": "Dialogue",
          "yref": "y"
         },
         {
          "font": {
           "color": "#000000"
          },
          "showarrow": false,
          "text": "0",
          "x": "Interpretability and Analysis",
          "xref": "x",
          "y": "Dialogue",
          "yref": "y"
         },
         {
          "font": {
           "color": "#000000"
          },
          "showarrow": false,
          "text": "1",
          "x": "Machine Learning",
          "xref": "x",
          "y": "Dialogue",
          "yref": "y"
         },
         {
          "font": {
           "color": "#000000"
          },
          "showarrow": false,
          "text": "0",
          "x": "Machine Translation and Multilinguality",
          "xref": "x",
          "y": "Dialogue",
          "yref": "y"
         },
         {
          "font": {
           "color": "#000000"
          },
          "showarrow": false,
          "text": "6",
          "x": "Multimodality, Speech and Grounding",
          "xref": "x",
          "y": "Dialogue",
          "yref": "y"
         },
         {
          "font": {
           "color": "#000000"
          },
          "showarrow": false,
          "text": "4",
          "x": "Question Answering",
          "xref": "x",
          "y": "Dialogue",
          "yref": "y"
         },
         {
          "font": {
           "color": "#000000"
          },
          "showarrow": false,
          "text": "1",
          "x": "Social Science",
          "xref": "x",
          "y": "Dialogue",
          "yref": "y"
         },
         {
          "font": {
           "color": "#000000"
          },
          "showarrow": false,
          "text": "0",
          "x": "Summarization",
          "xref": "x",
          "y": "Dialogue",
          "yref": "y"
         },
         {
          "font": {
           "color": "#000000"
          },
          "showarrow": false,
          "text": "5",
          "x": "Other",
          "xref": "x",
          "y": "Dialogue",
          "yref": "y"
         },
         {
          "font": {
           "color": "#000000"
          },
          "showarrow": false,
          "text": "2",
          "x": "Dialogue",
          "xref": "x",
          "y": "Ethics",
          "yref": "y"
         },
         {
          "font": {
           "color": "#000000"
          },
          "showarrow": false,
          "text": "19",
          "x": "Ethics",
          "xref": "x",
          "y": "Ethics",
          "yref": "y"
         },
         {
          "font": {
           "color": "#000000"
          },
          "showarrow": false,
          "text": "0",
          "x": "Generation",
          "xref": "x",
          "y": "Ethics",
          "yref": "y"
         },
         {
          "font": {
           "color": "#000000"
          },
          "showarrow": false,
          "text": "0",
          "x": "Information Extraction/Retrieval",
          "xref": "x",
          "y": "Ethics",
          "yref": "y"
         },
         {
          "font": {
           "color": "#000000"
          },
          "showarrow": false,
          "text": "1",
          "x": "Interpretability and Analysis",
          "xref": "x",
          "y": "Ethics",
          "yref": "y"
         },
         {
          "font": {
           "color": "#000000"
          },
          "showarrow": false,
          "text": "1",
          "x": "Machine Learning",
          "xref": "x",
          "y": "Ethics",
          "yref": "y"
         },
         {
          "font": {
           "color": "#000000"
          },
          "showarrow": false,
          "text": "1",
          "x": "Machine Translation and Multilinguality",
          "xref": "x",
          "y": "Ethics",
          "yref": "y"
         },
         {
          "font": {
           "color": "#000000"
          },
          "showarrow": false,
          "text": "1",
          "x": "Multimodality, Speech and Grounding",
          "xref": "x",
          "y": "Ethics",
          "yref": "y"
         },
         {
          "font": {
           "color": "#000000"
          },
          "showarrow": false,
          "text": "0",
          "x": "Question Answering",
          "xref": "x",
          "y": "Ethics",
          "yref": "y"
         },
         {
          "font": {
           "color": "#000000"
          },
          "showarrow": false,
          "text": "3",
          "x": "Social Science",
          "xref": "x",
          "y": "Ethics",
          "yref": "y"
         },
         {
          "font": {
           "color": "#000000"
          },
          "showarrow": false,
          "text": "0",
          "x": "Summarization",
          "xref": "x",
          "y": "Ethics",
          "yref": "y"
         },
         {
          "font": {
           "color": "#000000"
          },
          "showarrow": false,
          "text": "4",
          "x": "Other",
          "xref": "x",
          "y": "Ethics",
          "yref": "y"
         },
         {
          "font": {
           "color": "#000000"
          },
          "showarrow": false,
          "text": "3",
          "x": "Dialogue",
          "xref": "x",
          "y": "Generation",
          "yref": "y"
         },
         {
          "font": {
           "color": "#000000"
          },
          "showarrow": false,
          "text": "3",
          "x": "Ethics",
          "xref": "x",
          "y": "Generation",
          "yref": "y"
         },
         {
          "font": {
           "color": "#000000"
          },
          "showarrow": false,
          "text": "49",
          "x": "Generation",
          "xref": "x",
          "y": "Generation",
          "yref": "y"
         },
         {
          "font": {
           "color": "#000000"
          },
          "showarrow": false,
          "text": "1",
          "x": "Information Extraction/Retrieval",
          "xref": "x",
          "y": "Generation",
          "yref": "y"
         },
         {
          "font": {
           "color": "#000000"
          },
          "showarrow": false,
          "text": "0",
          "x": "Interpretability and Analysis",
          "xref": "x",
          "y": "Generation",
          "yref": "y"
         },
         {
          "font": {
           "color": "#000000"
          },
          "showarrow": false,
          "text": "3",
          "x": "Machine Learning",
          "xref": "x",
          "y": "Generation",
          "yref": "y"
         },
         {
          "font": {
           "color": "#000000"
          },
          "showarrow": false,
          "text": "1",
          "x": "Machine Translation and Multilinguality",
          "xref": "x",
          "y": "Generation",
          "yref": "y"
         },
         {
          "font": {
           "color": "#000000"
          },
          "showarrow": false,
          "text": "1",
          "x": "Multimodality, Speech and Grounding",
          "xref": "x",
          "y": "Generation",
          "yref": "y"
         },
         {
          "font": {
           "color": "#000000"
          },
          "showarrow": false,
          "text": "3",
          "x": "Question Answering",
          "xref": "x",
          "y": "Generation",
          "yref": "y"
         },
         {
          "font": {
           "color": "#000000"
          },
          "showarrow": false,
          "text": "2",
          "x": "Social Science",
          "xref": "x",
          "y": "Generation",
          "yref": "y"
         },
         {
          "font": {
           "color": "#000000"
          },
          "showarrow": false,
          "text": "6",
          "x": "Summarization",
          "xref": "x",
          "y": "Generation",
          "yref": "y"
         },
         {
          "font": {
           "color": "#000000"
          },
          "showarrow": false,
          "text": "4",
          "x": "Other",
          "xref": "x",
          "y": "Generation",
          "yref": "y"
         },
         {
          "font": {
           "color": "#000000"
          },
          "showarrow": false,
          "text": "3",
          "x": "Dialogue",
          "xref": "x",
          "y": "Information Extraction/Retrieval",
          "yref": "y"
         },
         {
          "font": {
           "color": "#000000"
          },
          "showarrow": false,
          "text": "0",
          "x": "Ethics",
          "xref": "x",
          "y": "Information Extraction/Retrieval",
          "yref": "y"
         },
         {
          "font": {
           "color": "#000000"
          },
          "showarrow": false,
          "text": "0",
          "x": "Generation",
          "xref": "x",
          "y": "Information Extraction/Retrieval",
          "yref": "y"
         },
         {
          "font": {
           "color": "#000000"
          },
          "showarrow": false,
          "text": "106",
          "x": "Information Extraction/Retrieval",
          "xref": "x",
          "y": "Information Extraction/Retrieval",
          "yref": "y"
         },
         {
          "font": {
           "color": "#000000"
          },
          "showarrow": false,
          "text": "0",
          "x": "Interpretability and Analysis",
          "xref": "x",
          "y": "Information Extraction/Retrieval",
          "yref": "y"
         },
         {
          "font": {
           "color": "#000000"
          },
          "showarrow": false,
          "text": "15",
          "x": "Machine Learning",
          "xref": "x",
          "y": "Information Extraction/Retrieval",
          "yref": "y"
         },
         {
          "font": {
           "color": "#000000"
          },
          "showarrow": false,
          "text": "2",
          "x": "Machine Translation and Multilinguality",
          "xref": "x",
          "y": "Information Extraction/Retrieval",
          "yref": "y"
         },
         {
          "font": {
           "color": "#000000"
          },
          "showarrow": false,
          "text": "3",
          "x": "Multimodality, Speech and Grounding",
          "xref": "x",
          "y": "Information Extraction/Retrieval",
          "yref": "y"
         },
         {
          "font": {
           "color": "#000000"
          },
          "showarrow": false,
          "text": "2",
          "x": "Question Answering",
          "xref": "x",
          "y": "Information Extraction/Retrieval",
          "yref": "y"
         },
         {
          "font": {
           "color": "#000000"
          },
          "showarrow": false,
          "text": "3",
          "x": "Social Science",
          "xref": "x",
          "y": "Information Extraction/Retrieval",
          "yref": "y"
         },
         {
          "font": {
           "color": "#000000"
          },
          "showarrow": false,
          "text": "0",
          "x": "Summarization",
          "xref": "x",
          "y": "Information Extraction/Retrieval",
          "yref": "y"
         },
         {
          "font": {
           "color": "#000000"
          },
          "showarrow": false,
          "text": "14",
          "x": "Other",
          "xref": "x",
          "y": "Information Extraction/Retrieval",
          "yref": "y"
         },
         {
          "font": {
           "color": "#000000"
          },
          "showarrow": false,
          "text": "1",
          "x": "Dialogue",
          "xref": "x",
          "y": "Interpretability and Analysis",
          "yref": "y"
         },
         {
          "font": {
           "color": "#000000"
          },
          "showarrow": false,
          "text": "7",
          "x": "Ethics",
          "xref": "x",
          "y": "Interpretability and Analysis",
          "yref": "y"
         },
         {
          "font": {
           "color": "#000000"
          },
          "showarrow": false,
          "text": "1",
          "x": "Generation",
          "xref": "x",
          "y": "Interpretability and Analysis",
          "yref": "y"
         },
         {
          "font": {
           "color": "#000000"
          },
          "showarrow": false,
          "text": "1",
          "x": "Information Extraction/Retrieval",
          "xref": "x",
          "y": "Interpretability and Analysis",
          "yref": "y"
         },
         {
          "font": {
           "color": "#000000"
          },
          "showarrow": false,
          "text": "42",
          "x": "Interpretability and Analysis",
          "xref": "x",
          "y": "Interpretability and Analysis",
          "yref": "y"
         },
         {
          "font": {
           "color": "#000000"
          },
          "showarrow": false,
          "text": "22",
          "x": "Machine Learning",
          "xref": "x",
          "y": "Interpretability and Analysis",
          "yref": "y"
         },
         {
          "font": {
           "color": "#000000"
          },
          "showarrow": false,
          "text": "2",
          "x": "Machine Translation and Multilinguality",
          "xref": "x",
          "y": "Interpretability and Analysis",
          "yref": "y"
         },
         {
          "font": {
           "color": "#000000"
          },
          "showarrow": false,
          "text": "2",
          "x": "Multimodality, Speech and Grounding",
          "xref": "x",
          "y": "Interpretability and Analysis",
          "yref": "y"
         },
         {
          "font": {
           "color": "#000000"
          },
          "showarrow": false,
          "text": "7",
          "x": "Question Answering",
          "xref": "x",
          "y": "Interpretability and Analysis",
          "yref": "y"
         },
         {
          "font": {
           "color": "#000000"
          },
          "showarrow": false,
          "text": "3",
          "x": "Social Science",
          "xref": "x",
          "y": "Interpretability and Analysis",
          "yref": "y"
         },
         {
          "font": {
           "color": "#000000"
          },
          "showarrow": false,
          "text": "0",
          "x": "Summarization",
          "xref": "x",
          "y": "Interpretability and Analysis",
          "yref": "y"
         },
         {
          "font": {
           "color": "#000000"
          },
          "showarrow": false,
          "text": "15",
          "x": "Other",
          "xref": "x",
          "y": "Interpretability and Analysis",
          "yref": "y"
         },
         {
          "font": {
           "color": "#000000"
          },
          "showarrow": false,
          "text": "4",
          "x": "Dialogue",
          "xref": "x",
          "y": "Machine Learning",
          "yref": "y"
         },
         {
          "font": {
           "color": "#000000"
          },
          "showarrow": false,
          "text": "0",
          "x": "Ethics",
          "xref": "x",
          "y": "Machine Learning",
          "yref": "y"
         },
         {
          "font": {
           "color": "#000000"
          },
          "showarrow": false,
          "text": "7",
          "x": "Generation",
          "xref": "x",
          "y": "Machine Learning",
          "yref": "y"
         },
         {
          "font": {
           "color": "#000000"
          },
          "showarrow": false,
          "text": "10",
          "x": "Information Extraction/Retrieval",
          "xref": "x",
          "y": "Machine Learning",
          "yref": "y"
         },
         {
          "font": {
           "color": "#000000"
          },
          "showarrow": false,
          "text": "8",
          "x": "Interpretability and Analysis",
          "xref": "x",
          "y": "Machine Learning",
          "yref": "y"
         },
         {
          "font": {
           "color": "#000000"
          },
          "showarrow": false,
          "text": "64",
          "x": "Machine Learning",
          "xref": "x",
          "y": "Machine Learning",
          "yref": "y"
         },
         {
          "font": {
           "color": "#000000"
          },
          "showarrow": false,
          "text": "4",
          "x": "Machine Translation and Multilinguality",
          "xref": "x",
          "y": "Machine Learning",
          "yref": "y"
         },
         {
          "font": {
           "color": "#000000"
          },
          "showarrow": false,
          "text": "0",
          "x": "Multimodality, Speech and Grounding",
          "xref": "x",
          "y": "Machine Learning",
          "yref": "y"
         },
         {
          "font": {
           "color": "#000000"
          },
          "showarrow": false,
          "text": "5",
          "x": "Question Answering",
          "xref": "x",
          "y": "Machine Learning",
          "yref": "y"
         },
         {
          "font": {
           "color": "#000000"
          },
          "showarrow": false,
          "text": "0",
          "x": "Social Science",
          "xref": "x",
          "y": "Machine Learning",
          "yref": "y"
         },
         {
          "font": {
           "color": "#000000"
          },
          "showarrow": false,
          "text": "0",
          "x": "Summarization",
          "xref": "x",
          "y": "Machine Learning",
          "yref": "y"
         },
         {
          "font": {
           "color": "#000000"
          },
          "showarrow": false,
          "text": "10",
          "x": "Other",
          "xref": "x",
          "y": "Machine Learning",
          "yref": "y"
         },
         {
          "font": {
           "color": "#000000"
          },
          "showarrow": false,
          "text": "2",
          "x": "Dialogue",
          "xref": "x",
          "y": "Machine Translation and Multilinguality",
          "yref": "y"
         },
         {
          "font": {
           "color": "#000000"
          },
          "showarrow": false,
          "text": "0",
          "x": "Ethics",
          "xref": "x",
          "y": "Machine Translation and Multilinguality",
          "yref": "y"
         },
         {
          "font": {
           "color": "#000000"
          },
          "showarrow": false,
          "text": "1",
          "x": "Generation",
          "xref": "x",
          "y": "Machine Translation and Multilinguality",
          "yref": "y"
         },
         {
          "font": {
           "color": "#000000"
          },
          "showarrow": false,
          "text": "2",
          "x": "Information Extraction/Retrieval",
          "xref": "x",
          "y": "Machine Translation and Multilinguality",
          "yref": "y"
         },
         {
          "font": {
           "color": "#000000"
          },
          "showarrow": false,
          "text": "2",
          "x": "Interpretability and Analysis",
          "xref": "x",
          "y": "Machine Translation and Multilinguality",
          "yref": "y"
         },
         {
          "font": {
           "color": "#000000"
          },
          "showarrow": false,
          "text": "6",
          "x": "Machine Learning",
          "xref": "x",
          "y": "Machine Translation and Multilinguality",
          "yref": "y"
         },
         {
          "font": {
           "color": "#000000"
          },
          "showarrow": false,
          "text": "92",
          "x": "Machine Translation and Multilinguality",
          "xref": "x",
          "y": "Machine Translation and Multilinguality",
          "yref": "y"
         },
         {
          "font": {
           "color": "#000000"
          },
          "showarrow": false,
          "text": "2",
          "x": "Multimodality, Speech and Grounding",
          "xref": "x",
          "y": "Machine Translation and Multilinguality",
          "yref": "y"
         },
         {
          "font": {
           "color": "#000000"
          },
          "showarrow": false,
          "text": "0",
          "x": "Question Answering",
          "xref": "x",
          "y": "Machine Translation and Multilinguality",
          "yref": "y"
         },
         {
          "font": {
           "color": "#000000"
          },
          "showarrow": false,
          "text": "1",
          "x": "Social Science",
          "xref": "x",
          "y": "Machine Translation and Multilinguality",
          "yref": "y"
         },
         {
          "font": {
           "color": "#000000"
          },
          "showarrow": false,
          "text": "0",
          "x": "Summarization",
          "xref": "x",
          "y": "Machine Translation and Multilinguality",
          "yref": "y"
         },
         {
          "font": {
           "color": "#000000"
          },
          "showarrow": false,
          "text": "6",
          "x": "Other",
          "xref": "x",
          "y": "Machine Translation and Multilinguality",
          "yref": "y"
         },
         {
          "font": {
           "color": "#000000"
          },
          "showarrow": false,
          "text": "2",
          "x": "Dialogue",
          "xref": "x",
          "y": "Multimodality, Speech and Grounding",
          "yref": "y"
         },
         {
          "font": {
           "color": "#000000"
          },
          "showarrow": false,
          "text": "0",
          "x": "Ethics",
          "xref": "x",
          "y": "Multimodality, Speech and Grounding",
          "yref": "y"
         },
         {
          "font": {
           "color": "#000000"
          },
          "showarrow": false,
          "text": "1",
          "x": "Generation",
          "xref": "x",
          "y": "Multimodality, Speech and Grounding",
          "yref": "y"
         },
         {
          "font": {
           "color": "#000000"
          },
          "showarrow": false,
          "text": "0",
          "x": "Information Extraction/Retrieval",
          "xref": "x",
          "y": "Multimodality, Speech and Grounding",
          "yref": "y"
         },
         {
          "font": {
           "color": "#000000"
          },
          "showarrow": false,
          "text": "0",
          "x": "Interpretability and Analysis",
          "xref": "x",
          "y": "Multimodality, Speech and Grounding",
          "yref": "y"
         },
         {
          "font": {
           "color": "#000000"
          },
          "showarrow": false,
          "text": "1",
          "x": "Machine Learning",
          "xref": "x",
          "y": "Multimodality, Speech and Grounding",
          "yref": "y"
         },
         {
          "font": {
           "color": "#000000"
          },
          "showarrow": false,
          "text": "2",
          "x": "Machine Translation and Multilinguality",
          "xref": "x",
          "y": "Multimodality, Speech and Grounding",
          "yref": "y"
         },
         {
          "font": {
           "color": "#000000"
          },
          "showarrow": false,
          "text": "37",
          "x": "Multimodality, Speech and Grounding",
          "xref": "x",
          "y": "Multimodality, Speech and Grounding",
          "yref": "y"
         },
         {
          "font": {
           "color": "#000000"
          },
          "showarrow": false,
          "text": "1",
          "x": "Question Answering",
          "xref": "x",
          "y": "Multimodality, Speech and Grounding",
          "yref": "y"
         },
         {
          "font": {
           "color": "#000000"
          },
          "showarrow": false,
          "text": "2",
          "x": "Social Science",
          "xref": "x",
          "y": "Multimodality, Speech and Grounding",
          "yref": "y"
         },
         {
          "font": {
           "color": "#000000"
          },
          "showarrow": false,
          "text": "0",
          "x": "Summarization",
          "xref": "x",
          "y": "Multimodality, Speech and Grounding",
          "yref": "y"
         },
         {
          "font": {
           "color": "#000000"
          },
          "showarrow": false,
          "text": "3",
          "x": "Other",
          "xref": "x",
          "y": "Multimodality, Speech and Grounding",
          "yref": "y"
         },
         {
          "font": {
           "color": "#000000"
          },
          "showarrow": false,
          "text": "0",
          "x": "Dialogue",
          "xref": "x",
          "y": "Question Answering",
          "yref": "y"
         },
         {
          "font": {
           "color": "#000000"
          },
          "showarrow": false,
          "text": "0",
          "x": "Ethics",
          "xref": "x",
          "y": "Question Answering",
          "yref": "y"
         },
         {
          "font": {
           "color": "#000000"
          },
          "showarrow": false,
          "text": "1",
          "x": "Generation",
          "xref": "x",
          "y": "Question Answering",
          "yref": "y"
         },
         {
          "font": {
           "color": "#000000"
          },
          "showarrow": false,
          "text": "1",
          "x": "Information Extraction/Retrieval",
          "xref": "x",
          "y": "Question Answering",
          "yref": "y"
         },
         {
          "font": {
           "color": "#000000"
          },
          "showarrow": false,
          "text": "1",
          "x": "Interpretability and Analysis",
          "xref": "x",
          "y": "Question Answering",
          "yref": "y"
         },
         {
          "font": {
           "color": "#000000"
          },
          "showarrow": false,
          "text": "1",
          "x": "Machine Learning",
          "xref": "x",
          "y": "Question Answering",
          "yref": "y"
         },
         {
          "font": {
           "color": "#000000"
          },
          "showarrow": false,
          "text": "0",
          "x": "Machine Translation and Multilinguality",
          "xref": "x",
          "y": "Question Answering",
          "yref": "y"
         },
         {
          "font": {
           "color": "#000000"
          },
          "showarrow": false,
          "text": "1",
          "x": "Multimodality, Speech and Grounding",
          "xref": "x",
          "y": "Question Answering",
          "yref": "y"
         },
         {
          "font": {
           "color": "#000000"
          },
          "showarrow": false,
          "text": "61",
          "x": "Question Answering",
          "xref": "x",
          "y": "Question Answering",
          "yref": "y"
         },
         {
          "font": {
           "color": "#000000"
          },
          "showarrow": false,
          "text": "0",
          "x": "Social Science",
          "xref": "x",
          "y": "Question Answering",
          "yref": "y"
         },
         {
          "font": {
           "color": "#000000"
          },
          "showarrow": false,
          "text": "1",
          "x": "Summarization",
          "xref": "x",
          "y": "Question Answering",
          "yref": "y"
         },
         {
          "font": {
           "color": "#000000"
          },
          "showarrow": false,
          "text": "5",
          "x": "Other",
          "xref": "x",
          "y": "Question Answering",
          "yref": "y"
         },
         {
          "font": {
           "color": "#000000"
          },
          "showarrow": false,
          "text": "0",
          "x": "Dialogue",
          "xref": "x",
          "y": "Social Science",
          "yref": "y"
         },
         {
          "font": {
           "color": "#000000"
          },
          "showarrow": false,
          "text": "2",
          "x": "Ethics",
          "xref": "x",
          "y": "Social Science",
          "yref": "y"
         },
         {
          "font": {
           "color": "#000000"
          },
          "showarrow": false,
          "text": "0",
          "x": "Generation",
          "xref": "x",
          "y": "Social Science",
          "yref": "y"
         },
         {
          "font": {
           "color": "#000000"
          },
          "showarrow": false,
          "text": "0",
          "x": "Information Extraction/Retrieval",
          "xref": "x",
          "y": "Social Science",
          "yref": "y"
         },
         {
          "font": {
           "color": "#000000"
          },
          "showarrow": false,
          "text": "0",
          "x": "Interpretability and Analysis",
          "xref": "x",
          "y": "Social Science",
          "yref": "y"
         },
         {
          "font": {
           "color": "#000000"
          },
          "showarrow": false,
          "text": "1",
          "x": "Machine Learning",
          "xref": "x",
          "y": "Social Science",
          "yref": "y"
         },
         {
          "font": {
           "color": "#000000"
          },
          "showarrow": false,
          "text": "1",
          "x": "Machine Translation and Multilinguality",
          "xref": "x",
          "y": "Social Science",
          "yref": "y"
         },
         {
          "font": {
           "color": "#000000"
          },
          "showarrow": false,
          "text": "1",
          "x": "Multimodality, Speech and Grounding",
          "xref": "x",
          "y": "Social Science",
          "yref": "y"
         },
         {
          "font": {
           "color": "#000000"
          },
          "showarrow": false,
          "text": "0",
          "x": "Question Answering",
          "xref": "x",
          "y": "Social Science",
          "yref": "y"
         },
         {
          "font": {
           "color": "#000000"
          },
          "showarrow": false,
          "text": "22",
          "x": "Social Science",
          "xref": "x",
          "y": "Social Science",
          "yref": "y"
         },
         {
          "font": {
           "color": "#000000"
          },
          "showarrow": false,
          "text": "0",
          "x": "Summarization",
          "xref": "x",
          "y": "Social Science",
          "yref": "y"
         },
         {
          "font": {
           "color": "#000000"
          },
          "showarrow": false,
          "text": "5",
          "x": "Other",
          "xref": "x",
          "y": "Social Science",
          "yref": "y"
         },
         {
          "font": {
           "color": "#000000"
          },
          "showarrow": false,
          "text": "1",
          "x": "Dialogue",
          "xref": "x",
          "y": "Summarization",
          "yref": "y"
         },
         {
          "font": {
           "color": "#000000"
          },
          "showarrow": false,
          "text": "0",
          "x": "Ethics",
          "xref": "x",
          "y": "Summarization",
          "yref": "y"
         },
         {
          "font": {
           "color": "#000000"
          },
          "showarrow": false,
          "text": "3",
          "x": "Generation",
          "xref": "x",
          "y": "Summarization",
          "yref": "y"
         },
         {
          "font": {
           "color": "#000000"
          },
          "showarrow": false,
          "text": "0",
          "x": "Information Extraction/Retrieval",
          "xref": "x",
          "y": "Summarization",
          "yref": "y"
         },
         {
          "font": {
           "color": "#000000"
          },
          "showarrow": false,
          "text": "0",
          "x": "Interpretability and Analysis",
          "xref": "x",
          "y": "Summarization",
          "yref": "y"
         },
         {
          "font": {
           "color": "#000000"
          },
          "showarrow": false,
          "text": "0",
          "x": "Machine Learning",
          "xref": "x",
          "y": "Summarization",
          "yref": "y"
         },
         {
          "font": {
           "color": "#000000"
          },
          "showarrow": false,
          "text": "0",
          "x": "Machine Translation and Multilinguality",
          "xref": "x",
          "y": "Summarization",
          "yref": "y"
         },
         {
          "font": {
           "color": "#000000"
          },
          "showarrow": false,
          "text": "2",
          "x": "Multimodality, Speech and Grounding",
          "xref": "x",
          "y": "Summarization",
          "yref": "y"
         },
         {
          "font": {
           "color": "#000000"
          },
          "showarrow": false,
          "text": "2",
          "x": "Question Answering",
          "xref": "x",
          "y": "Summarization",
          "yref": "y"
         },
         {
          "font": {
           "color": "#000000"
          },
          "showarrow": false,
          "text": "1",
          "x": "Social Science",
          "xref": "x",
          "y": "Summarization",
          "yref": "y"
         },
         {
          "font": {
           "color": "#000000"
          },
          "showarrow": false,
          "text": "46",
          "x": "Summarization",
          "xref": "x",
          "y": "Summarization",
          "yref": "y"
         },
         {
          "font": {
           "color": "#000000"
          },
          "showarrow": false,
          "text": "1",
          "x": "Other",
          "xref": "x",
          "y": "Summarization",
          "yref": "y"
         },
         {
          "font": {
           "color": "#000000"
          },
          "showarrow": false,
          "text": "24",
          "x": "Dialogue",
          "xref": "x",
          "y": "Other",
          "yref": "y"
         },
         {
          "font": {
           "color": "#000000"
          },
          "showarrow": false,
          "text": "10",
          "x": "Ethics",
          "xref": "x",
          "y": "Other",
          "yref": "y"
         },
         {
          "font": {
           "color": "#000000"
          },
          "showarrow": false,
          "text": "34",
          "x": "Generation",
          "xref": "x",
          "y": "Other",
          "yref": "y"
         },
         {
          "font": {
           "color": "#000000"
          },
          "showarrow": false,
          "text": "39",
          "x": "Information Extraction/Retrieval",
          "xref": "x",
          "y": "Other",
          "yref": "y"
         },
         {
          "font": {
           "color": "#000000"
          },
          "showarrow": false,
          "text": "30",
          "x": "Interpretability and Analysis",
          "xref": "x",
          "y": "Other",
          "yref": "y"
         },
         {
          "font": {
           "color": "#000000"
          },
          "showarrow": false,
          "text": "41",
          "x": "Machine Learning",
          "xref": "x",
          "y": "Other",
          "yref": "y"
         },
         {
          "font": {
           "color": "#000000"
          },
          "showarrow": false,
          "text": "14",
          "x": "Machine Translation and Multilinguality",
          "xref": "x",
          "y": "Other",
          "yref": "y"
         },
         {
          "font": {
           "color": "#000000"
          },
          "showarrow": false,
          "text": "14",
          "x": "Multimodality, Speech and Grounding",
          "xref": "x",
          "y": "Other",
          "yref": "y"
         },
         {
          "font": {
           "color": "#000000"
          },
          "showarrow": false,
          "text": "24",
          "x": "Question Answering",
          "xref": "x",
          "y": "Other",
          "yref": "y"
         },
         {
          "font": {
           "color": "#000000"
          },
          "showarrow": false,
          "text": "32",
          "x": "Social Science",
          "xref": "x",
          "y": "Other",
          "yref": "y"
         },
         {
          "font": {
           "color": "#000000"
          },
          "showarrow": false,
          "text": "12",
          "x": "Summarization",
          "xref": "x",
          "y": "Other",
          "yref": "y"
         },
         {
          "font": {
           "color": "#FFFFFF"
          },
          "showarrow": false,
          "text": "217",
          "x": "Other",
          "xref": "x",
          "y": "Other",
          "yref": "y"
         }
        ],
        "autosize": true,
        "template": {
         "data": {
          "bar": [
           {
            "error_x": {
             "color": "#2a3f5f"
            },
            "error_y": {
             "color": "#2a3f5f"
            },
            "marker": {
             "line": {
              "color": "#E5ECF6",
              "width": 0.5
             },
             "pattern": {
              "fillmode": "overlay",
              "size": 10,
              "solidity": 0.2
             }
            },
            "type": "bar"
           }
          ],
          "barpolar": [
           {
            "marker": {
             "line": {
              "color": "#E5ECF6",
              "width": 0.5
             },
             "pattern": {
              "fillmode": "overlay",
              "size": 10,
              "solidity": 0.2
             }
            },
            "type": "barpolar"
           }
          ],
          "carpet": [
           {
            "aaxis": {
             "endlinecolor": "#2a3f5f",
             "gridcolor": "white",
             "linecolor": "white",
             "minorgridcolor": "white",
             "startlinecolor": "#2a3f5f"
            },
            "baxis": {
             "endlinecolor": "#2a3f5f",
             "gridcolor": "white",
             "linecolor": "white",
             "minorgridcolor": "white",
             "startlinecolor": "#2a3f5f"
            },
            "type": "carpet"
           }
          ],
          "choropleth": [
           {
            "colorbar": {
             "outlinewidth": 0,
             "ticks": ""
            },
            "type": "choropleth"
           }
          ],
          "contour": [
           {
            "colorbar": {
             "outlinewidth": 0,
             "ticks": ""
            },
            "colorscale": [
             [
              0,
              "#0d0887"
             ],
             [
              0.1111111111111111,
              "#46039f"
             ],
             [
              0.2222222222222222,
              "#7201a8"
             ],
             [
              0.3333333333333333,
              "#9c179e"
             ],
             [
              0.4444444444444444,
              "#bd3786"
             ],
             [
              0.5555555555555556,
              "#d8576b"
             ],
             [
              0.6666666666666666,
              "#ed7953"
             ],
             [
              0.7777777777777778,
              "#fb9f3a"
             ],
             [
              0.8888888888888888,
              "#fdca26"
             ],
             [
              1,
              "#f0f921"
             ]
            ],
            "type": "contour"
           }
          ],
          "contourcarpet": [
           {
            "colorbar": {
             "outlinewidth": 0,
             "ticks": ""
            },
            "type": "contourcarpet"
           }
          ],
          "heatmap": [
           {
            "colorbar": {
             "outlinewidth": 0,
             "ticks": ""
            },
            "colorscale": [
             [
              0,
              "#0d0887"
             ],
             [
              0.1111111111111111,
              "#46039f"
             ],
             [
              0.2222222222222222,
              "#7201a8"
             ],
             [
              0.3333333333333333,
              "#9c179e"
             ],
             [
              0.4444444444444444,
              "#bd3786"
             ],
             [
              0.5555555555555556,
              "#d8576b"
             ],
             [
              0.6666666666666666,
              "#ed7953"
             ],
             [
              0.7777777777777778,
              "#fb9f3a"
             ],
             [
              0.8888888888888888,
              "#fdca26"
             ],
             [
              1,
              "#f0f921"
             ]
            ],
            "type": "heatmap"
           }
          ],
          "heatmapgl": [
           {
            "colorbar": {
             "outlinewidth": 0,
             "ticks": ""
            },
            "colorscale": [
             [
              0,
              "#0d0887"
             ],
             [
              0.1111111111111111,
              "#46039f"
             ],
             [
              0.2222222222222222,
              "#7201a8"
             ],
             [
              0.3333333333333333,
              "#9c179e"
             ],
             [
              0.4444444444444444,
              "#bd3786"
             ],
             [
              0.5555555555555556,
              "#d8576b"
             ],
             [
              0.6666666666666666,
              "#ed7953"
             ],
             [
              0.7777777777777778,
              "#fb9f3a"
             ],
             [
              0.8888888888888888,
              "#fdca26"
             ],
             [
              1,
              "#f0f921"
             ]
            ],
            "type": "heatmapgl"
           }
          ],
          "histogram": [
           {
            "marker": {
             "pattern": {
              "fillmode": "overlay",
              "size": 10,
              "solidity": 0.2
             }
            },
            "type": "histogram"
           }
          ],
          "histogram2d": [
           {
            "colorbar": {
             "outlinewidth": 0,
             "ticks": ""
            },
            "colorscale": [
             [
              0,
              "#0d0887"
             ],
             [
              0.1111111111111111,
              "#46039f"
             ],
             [
              0.2222222222222222,
              "#7201a8"
             ],
             [
              0.3333333333333333,
              "#9c179e"
             ],
             [
              0.4444444444444444,
              "#bd3786"
             ],
             [
              0.5555555555555556,
              "#d8576b"
             ],
             [
              0.6666666666666666,
              "#ed7953"
             ],
             [
              0.7777777777777778,
              "#fb9f3a"
             ],
             [
              0.8888888888888888,
              "#fdca26"
             ],
             [
              1,
              "#f0f921"
             ]
            ],
            "type": "histogram2d"
           }
          ],
          "histogram2dcontour": [
           {
            "colorbar": {
             "outlinewidth": 0,
             "ticks": ""
            },
            "colorscale": [
             [
              0,
              "#0d0887"
             ],
             [
              0.1111111111111111,
              "#46039f"
             ],
             [
              0.2222222222222222,
              "#7201a8"
             ],
             [
              0.3333333333333333,
              "#9c179e"
             ],
             [
              0.4444444444444444,
              "#bd3786"
             ],
             [
              0.5555555555555556,
              "#d8576b"
             ],
             [
              0.6666666666666666,
              "#ed7953"
             ],
             [
              0.7777777777777778,
              "#fb9f3a"
             ],
             [
              0.8888888888888888,
              "#fdca26"
             ],
             [
              1,
              "#f0f921"
             ]
            ],
            "type": "histogram2dcontour"
           }
          ],
          "mesh3d": [
           {
            "colorbar": {
             "outlinewidth": 0,
             "ticks": ""
            },
            "type": "mesh3d"
           }
          ],
          "parcoords": [
           {
            "line": {
             "colorbar": {
              "outlinewidth": 0,
              "ticks": ""
             }
            },
            "type": "parcoords"
           }
          ],
          "pie": [
           {
            "automargin": true,
            "type": "pie"
           }
          ],
          "scatter": [
           {
            "fillpattern": {
             "fillmode": "overlay",
             "size": 10,
             "solidity": 0.2
            },
            "type": "scatter"
           }
          ],
          "scatter3d": [
           {
            "line": {
             "colorbar": {
              "outlinewidth": 0,
              "ticks": ""
             }
            },
            "marker": {
             "colorbar": {
              "outlinewidth": 0,
              "ticks": ""
             }
            },
            "type": "scatter3d"
           }
          ],
          "scattercarpet": [
           {
            "marker": {
             "colorbar": {
              "outlinewidth": 0,
              "ticks": ""
             }
            },
            "type": "scattercarpet"
           }
          ],
          "scattergeo": [
           {
            "marker": {
             "colorbar": {
              "outlinewidth": 0,
              "ticks": ""
             }
            },
            "type": "scattergeo"
           }
          ],
          "scattergl": [
           {
            "marker": {
             "colorbar": {
              "outlinewidth": 0,
              "ticks": ""
             }
            },
            "type": "scattergl"
           }
          ],
          "scattermapbox": [
           {
            "marker": {
             "colorbar": {
              "outlinewidth": 0,
              "ticks": ""
             }
            },
            "type": "scattermapbox"
           }
          ],
          "scatterpolar": [
           {
            "marker": {
             "colorbar": {
              "outlinewidth": 0,
              "ticks": ""
             }
            },
            "type": "scatterpolar"
           }
          ],
          "scatterpolargl": [
           {
            "marker": {
             "colorbar": {
              "outlinewidth": 0,
              "ticks": ""
             }
            },
            "type": "scatterpolargl"
           }
          ],
          "scatterternary": [
           {
            "marker": {
             "colorbar": {
              "outlinewidth": 0,
              "ticks": ""
             }
            },
            "type": "scatterternary"
           }
          ],
          "surface": [
           {
            "colorbar": {
             "outlinewidth": 0,
             "ticks": ""
            },
            "colorscale": [
             [
              0,
              "#0d0887"
             ],
             [
              0.1111111111111111,
              "#46039f"
             ],
             [
              0.2222222222222222,
              "#7201a8"
             ],
             [
              0.3333333333333333,
              "#9c179e"
             ],
             [
              0.4444444444444444,
              "#bd3786"
             ],
             [
              0.5555555555555556,
              "#d8576b"
             ],
             [
              0.6666666666666666,
              "#ed7953"
             ],
             [
              0.7777777777777778,
              "#fb9f3a"
             ],
             [
              0.8888888888888888,
              "#fdca26"
             ],
             [
              1,
              "#f0f921"
             ]
            ],
            "type": "surface"
           }
          ],
          "table": [
           {
            "cells": {
             "fill": {
              "color": "#EBF0F8"
             },
             "line": {
              "color": "white"
             }
            },
            "header": {
             "fill": {
              "color": "#C8D4E3"
             },
             "line": {
              "color": "white"
             }
            },
            "type": "table"
           }
          ]
         },
         "layout": {
          "annotationdefaults": {
           "arrowcolor": "#2a3f5f",
           "arrowhead": 0,
           "arrowwidth": 1
          },
          "autotypenumbers": "strict",
          "coloraxis": {
           "colorbar": {
            "outlinewidth": 0,
            "ticks": ""
           }
          },
          "colorscale": {
           "diverging": [
            [
             0,
             "#8e0152"
            ],
            [
             0.1,
             "#c51b7d"
            ],
            [
             0.2,
             "#de77ae"
            ],
            [
             0.3,
             "#f1b6da"
            ],
            [
             0.4,
             "#fde0ef"
            ],
            [
             0.5,
             "#f7f7f7"
            ],
            [
             0.6,
             "#e6f5d0"
            ],
            [
             0.7,
             "#b8e186"
            ],
            [
             0.8,
             "#7fbc41"
            ],
            [
             0.9,
             "#4d9221"
            ],
            [
             1,
             "#276419"
            ]
           ],
           "sequential": [
            [
             0,
             "#0d0887"
            ],
            [
             0.1111111111111111,
             "#46039f"
            ],
            [
             0.2222222222222222,
             "#7201a8"
            ],
            [
             0.3333333333333333,
             "#9c179e"
            ],
            [
             0.4444444444444444,
             "#bd3786"
            ],
            [
             0.5555555555555556,
             "#d8576b"
            ],
            [
             0.6666666666666666,
             "#ed7953"
            ],
            [
             0.7777777777777778,
             "#fb9f3a"
            ],
            [
             0.8888888888888888,
             "#fdca26"
            ],
            [
             1,
             "#f0f921"
            ]
           ],
           "sequentialminus": [
            [
             0,
             "#0d0887"
            ],
            [
             0.1111111111111111,
             "#46039f"
            ],
            [
             0.2222222222222222,
             "#7201a8"
            ],
            [
             0.3333333333333333,
             "#9c179e"
            ],
            [
             0.4444444444444444,
             "#bd3786"
            ],
            [
             0.5555555555555556,
             "#d8576b"
            ],
            [
             0.6666666666666666,
             "#ed7953"
            ],
            [
             0.7777777777777778,
             "#fb9f3a"
            ],
            [
             0.8888888888888888,
             "#fdca26"
            ],
            [
             1,
             "#f0f921"
            ]
           ]
          },
          "colorway": [
           "#636efa",
           "#EF553B",
           "#00cc96",
           "#ab63fa",
           "#FFA15A",
           "#19d3f3",
           "#FF6692",
           "#B6E880",
           "#FF97FF",
           "#FECB52"
          ],
          "font": {
           "color": "#2a3f5f"
          },
          "geo": {
           "bgcolor": "white",
           "lakecolor": "white",
           "landcolor": "#E5ECF6",
           "showlakes": true,
           "showland": true,
           "subunitcolor": "white"
          },
          "hoverlabel": {
           "align": "left"
          },
          "hovermode": "closest",
          "mapbox": {
           "style": "light"
          },
          "paper_bgcolor": "white",
          "plot_bgcolor": "#E5ECF6",
          "polar": {
           "angularaxis": {
            "gridcolor": "white",
            "linecolor": "white",
            "ticks": ""
           },
           "bgcolor": "#E5ECF6",
           "radialaxis": {
            "gridcolor": "white",
            "linecolor": "white",
            "ticks": ""
           }
          },
          "scene": {
           "xaxis": {
            "backgroundcolor": "#E5ECF6",
            "gridcolor": "white",
            "gridwidth": 2,
            "linecolor": "white",
            "showbackground": true,
            "ticks": "",
            "zerolinecolor": "white"
           },
           "yaxis": {
            "backgroundcolor": "#E5ECF6",
            "gridcolor": "white",
            "gridwidth": 2,
            "linecolor": "white",
            "showbackground": true,
            "ticks": "",
            "zerolinecolor": "white"
           },
           "zaxis": {
            "backgroundcolor": "#E5ECF6",
            "gridcolor": "white",
            "gridwidth": 2,
            "linecolor": "white",
            "showbackground": true,
            "ticks": "",
            "zerolinecolor": "white"
           }
          },
          "shapedefaults": {
           "line": {
            "color": "#2a3f5f"
           }
          },
          "ternary": {
           "aaxis": {
            "gridcolor": "white",
            "linecolor": "white",
            "ticks": ""
           },
           "baxis": {
            "gridcolor": "white",
            "linecolor": "white",
            "ticks": ""
           },
           "bgcolor": "#E5ECF6",
           "caxis": {
            "gridcolor": "white",
            "linecolor": "white",
            "ticks": ""
           }
          },
          "title": {
           "x": 0.05
          },
          "xaxis": {
           "automargin": true,
           "gridcolor": "white",
           "linecolor": "white",
           "ticks": "",
           "title": {
            "standoff": 15
           },
           "zerolinecolor": "white",
           "zerolinewidth": 2
          },
          "yaxis": {
           "automargin": true,
           "gridcolor": "white",
           "linecolor": "white",
           "ticks": "",
           "title": {
            "standoff": 15
           },
           "zerolinecolor": "white",
           "zerolinewidth": 2
          }
         }
        },
        "title": {
         "text": "Confusion Matrix"
        },
        "xaxis": {
         "autorange": true,
         "dtick": 1,
         "gridcolor": "rgb(0, 0, 0)",
         "range": [
          -0.5,
          11.5
         ],
         "side": "bottom",
         "ticks": "",
         "title": {
          "text": "Predicted Labels"
         },
         "type": "category"
        },
        "yaxis": {
         "autorange": true,
         "dtick": 1,
         "range": [
          -1.4315068493150684,
          12.431506849315069
         ],
         "ticks": "",
         "ticksuffix": "  ",
         "title": {
          "text": "True Labels"
         },
         "type": "category"
        }
       }
      },
      "image/png": "[encoded data removed]",
      "text/html": [
       "<div>                            <div id=\"5ded8b9d-718e-46b6-8f72-af7128b724e2\" class=\"plotly-graph-div\" style=\"height:700px; width:100%;\"></div>            <script type=\"text/javascript\">                require([\"plotly\"], function(Plotly) {                    window.PLOTLYENV=window.PLOTLYENV || {};                                    if (document.getElementById(\"5ded8b9d-718e-46b6-8f72-af7128b724e2\")) {                    Plotly.newPlot(                        \"5ded8b9d-718e-46b6-8f72-af7128b724e2\",                        [{\"colorscale\":[[0.0,\"rgb(247,251,255)\"],[0.125,\"rgb(222,235,247)\"],[0.25,\"rgb(198,219,239)\"],[0.375,\"rgb(158,202,225)\"],[0.5,\"rgb(107,174,214)\"],[0.625,\"rgb(66,146,198)\"],[0.75,\"rgb(33,113,181)\"],[0.875,\"rgb(8,81,156)\"],[1.0,\"rgb(8,48,107)\"]],\"reversescale\":false,\"showscale\":false,\"x\":[\"Dialogue\",\"Ethics\",\"Generation\",\"Information Extraction\\u002fRetrieval\",\"Interpretability and Analysis\",\"Machine Learning\",\"Machine Translation and Multilinguality\",\"Multimodality, Speech and Grounding\",\"Question Answering\",\"Social Science\",\"Summarization\",\"Other\"],\"y\":[\"Dialogue\",\"Ethics\",\"Generation\",\"Information Extraction\\u002fRetrieval\",\"Interpretability and Analysis\",\"Machine Learning\",\"Machine Translation and Multilinguality\",\"Multimodality, Speech and Grounding\",\"Question Answering\",\"Social Science\",\"Summarization\",\"Other\"],\"z\":[[92,0,1,4,0,1,0,6,4,1,0,5],[2,19,0,0,1,1,1,1,0,3,0,4],[3,3,49,1,0,3,1,1,3,2,6,4],[3,0,0,106,0,15,2,3,2,3,0,14],[1,7,1,1,42,22,2,2,7,3,0,15],[4,0,7,10,8,64,4,0,5,0,0,10],[2,0,1,2,2,6,92,2,0,1,0,6],[2,0,1,0,0,1,2,37,1,2,0,3],[0,0,1,1,1,1,0,1,61,0,1,5],[0,2,0,0,0,1,1,1,0,22,0,5],[1,0,3,0,0,0,0,2,2,1,46,1],[24,10,34,39,30,41,14,14,24,32,12,217]],\"type\":\"heatmap\"}],                        {\"annotations\":[{\"font\":{\"color\":\"#000000\"},\"showarrow\":false,\"text\":\"92\",\"x\":\"Dialogue\",\"xref\":\"x\",\"y\":\"Dialogue\",\"yref\":\"y\"},{\"font\":{\"color\":\"#000000\"},\"showarrow\":false,\"text\":\"0\",\"x\":\"Ethics\",\"xref\":\"x\",\"y\":\"Dialogue\",\"yref\":\"y\"},{\"font\":{\"color\":\"#000000\"},\"showarrow\":false,\"text\":\"1\",\"x\":\"Generation\",\"xref\":\"x\",\"y\":\"Dialogue\",\"yref\":\"y\"},{\"font\":{\"color\":\"#000000\"},\"showarrow\":false,\"text\":\"4\",\"x\":\"Information Extraction\\u002fRetrieval\",\"xref\":\"x\",\"y\":\"Dialogue\",\"yref\":\"y\"},{\"font\":{\"color\":\"#000000\"},\"showarrow\":false,\"text\":\"0\",\"x\":\"Interpretability and Analysis\",\"xref\":\"x\",\"y\":\"Dialogue\",\"yref\":\"y\"},{\"font\":{\"color\":\"#000000\"},\"showarrow\":false,\"text\":\"1\",\"x\":\"Machine Learning\",\"xref\":\"x\",\"y\":\"Dialogue\",\"yref\":\"y\"},{\"font\":{\"color\":\"#000000\"},\"showarrow\":false,\"text\":\"0\",\"x\":\"Machine Translation and Multilinguality\",\"xref\":\"x\",\"y\":\"Dialogue\",\"yref\":\"y\"},{\"font\":{\"color\":\"#000000\"},\"showarrow\":false,\"text\":\"6\",\"x\":\"Multimodality, Speech and Grounding\",\"xref\":\"x\",\"y\":\"Dialogue\",\"yref\":\"y\"},{\"font\":{\"color\":\"#000000\"},\"showarrow\":false,\"text\":\"4\",\"x\":\"Question Answering\",\"xref\":\"x\",\"y\":\"Dialogue\",\"yref\":\"y\"},{\"font\":{\"color\":\"#000000\"},\"showarrow\":false,\"text\":\"1\",\"x\":\"Social Science\",\"xref\":\"x\",\"y\":\"Dialogue\",\"yref\":\"y\"},{\"font\":{\"color\":\"#000000\"},\"showarrow\":false,\"text\":\"0\",\"x\":\"Summarization\",\"xref\":\"x\",\"y\":\"Dialogue\",\"yref\":\"y\"},{\"font\":{\"color\":\"#000000\"},\"showarrow\":false,\"text\":\"5\",\"x\":\"Other\",\"xref\":\"x\",\"y\":\"Dialogue\",\"yref\":\"y\"},{\"font\":{\"color\":\"#000000\"},\"showarrow\":false,\"text\":\"2\",\"x\":\"Dialogue\",\"xref\":\"x\",\"y\":\"Ethics\",\"yref\":\"y\"},{\"font\":{\"color\":\"#000000\"},\"showarrow\":false,\"text\":\"19\",\"x\":\"Ethics\",\"xref\":\"x\",\"y\":\"Ethics\",\"yref\":\"y\"},{\"font\":{\"color\":\"#000000\"},\"showarrow\":false,\"text\":\"0\",\"x\":\"Generation\",\"xref\":\"x\",\"y\":\"Ethics\",\"yref\":\"y\"},{\"font\":{\"color\":\"#000000\"},\"showarrow\":false,\"text\":\"0\",\"x\":\"Information Extraction\\u002fRetrieval\",\"xref\":\"x\",\"y\":\"Ethics\",\"yref\":\"y\"},{\"font\":{\"color\":\"#000000\"},\"showarrow\":false,\"text\":\"1\",\"x\":\"Interpretability and Analysis\",\"xref\":\"x\",\"y\":\"Ethics\",\"yref\":\"y\"},{\"font\":{\"color\":\"#000000\"},\"showarrow\":false,\"text\":\"1\",\"x\":\"Machine Learning\",\"xref\":\"x\",\"y\":\"Ethics\",\"yref\":\"y\"},{\"font\":{\"color\":\"#000000\"},\"showarrow\":false,\"text\":\"1\",\"x\":\"Machine Translation and Multilinguality\",\"xref\":\"x\",\"y\":\"Ethics\",\"yref\":\"y\"},{\"font\":{\"color\":\"#000000\"},\"showarrow\":false,\"text\":\"1\",\"x\":\"Multimodality, Speech and Grounding\",\"xref\":\"x\",\"y\":\"Ethics\",\"yref\":\"y\"},{\"font\":{\"color\":\"#000000\"},\"showarrow\":false,\"text\":\"0\",\"x\":\"Question Answering\",\"xref\":\"x\",\"y\":\"Ethics\",\"yref\":\"y\"},{\"font\":{\"color\":\"#000000\"},\"showarrow\":false,\"text\":\"3\",\"x\":\"Social Science\",\"xref\":\"x\",\"y\":\"Ethics\",\"yref\":\"y\"},{\"font\":{\"color\":\"#000000\"},\"showarrow\":false,\"text\":\"0\",\"x\":\"Summarization\",\"xref\":\"x\",\"y\":\"Ethics\",\"yref\":\"y\"},{\"font\":{\"color\":\"#000000\"},\"showarrow\":false,\"text\":\"4\",\"x\":\"Other\",\"xref\":\"x\",\"y\":\"Ethics\",\"yref\":\"y\"},{\"font\":{\"color\":\"#000000\"},\"showarrow\":false,\"text\":\"3\",\"x\":\"Dialogue\",\"xref\":\"x\",\"y\":\"Generation\",\"yref\":\"y\"},{\"font\":{\"color\":\"#000000\"},\"showarrow\":false,\"text\":\"3\",\"x\":\"Ethics\",\"xref\":\"x\",\"y\":\"Generation\",\"yref\":\"y\"},{\"font\":{\"color\":\"#000000\"},\"showarrow\":false,\"text\":\"49\",\"x\":\"Generation\",\"xref\":\"x\",\"y\":\"Generation\",\"yref\":\"y\"},{\"font\":{\"color\":\"#000000\"},\"showarrow\":false,\"text\":\"1\",\"x\":\"Information Extraction\\u002fRetrieval\",\"xref\":\"x\",\"y\":\"Generation\",\"yref\":\"y\"},{\"font\":{\"color\":\"#000000\"},\"showarrow\":false,\"text\":\"0\",\"x\":\"Interpretability and Analysis\",\"xref\":\"x\",\"y\":\"Generation\",\"yref\":\"y\"},{\"font\":{\"color\":\"#000000\"},\"showarrow\":false,\"text\":\"3\",\"x\":\"Machine Learning\",\"xref\":\"x\",\"y\":\"Generation\",\"yref\":\"y\"},{\"font\":{\"color\":\"#000000\"},\"showarrow\":false,\"text\":\"1\",\"x\":\"Machine Translation and Multilinguality\",\"xref\":\"x\",\"y\":\"Generation\",\"yref\":\"y\"},{\"font\":{\"color\":\"#000000\"},\"showarrow\":false,\"text\":\"1\",\"x\":\"Multimodality, Speech and Grounding\",\"xref\":\"x\",\"y\":\"Generation\",\"yref\":\"y\"},{\"font\":{\"color\":\"#000000\"},\"showarrow\":false,\"text\":\"3\",\"x\":\"Question Answering\",\"xref\":\"x\",\"y\":\"Generation\",\"yref\":\"y\"},{\"font\":{\"color\":\"#000000\"},\"showarrow\":false,\"text\":\"2\",\"x\":\"Social Science\",\"xref\":\"x\",\"y\":\"Generation\",\"yref\":\"y\"},{\"font\":{\"color\":\"#000000\"},\"showarrow\":false,\"text\":\"6\",\"x\":\"Summarization\",\"xref\":\"x\",\"y\":\"Generation\",\"yref\":\"y\"},{\"font\":{\"color\":\"#000000\"},\"showarrow\":false,\"text\":\"4\",\"x\":\"Other\",\"xref\":\"x\",\"y\":\"Generation\",\"yref\":\"y\"},{\"font\":{\"color\":\"#000000\"},\"showarrow\":false,\"text\":\"3\",\"x\":\"Dialogue\",\"xref\":\"x\",\"y\":\"Information Extraction\\u002fRetrieval\",\"yref\":\"y\"},{\"font\":{\"color\":\"#000000\"},\"showarrow\":false,\"text\":\"0\",\"x\":\"Ethics\",\"xref\":\"x\",\"y\":\"Information Extraction\\u002fRetrieval\",\"yref\":\"y\"},{\"font\":{\"color\":\"#000000\"},\"showarrow\":false,\"text\":\"0\",\"x\":\"Generation\",\"xref\":\"x\",\"y\":\"Information Extraction\\u002fRetrieval\",\"yref\":\"y\"},{\"font\":{\"color\":\"#000000\"},\"showarrow\":false,\"text\":\"106\",\"x\":\"Information Extraction\\u002fRetrieval\",\"xref\":\"x\",\"y\":\"Information Extraction\\u002fRetrieval\",\"yref\":\"y\"},{\"font\":{\"color\":\"#000000\"},\"showarrow\":false,\"text\":\"0\",\"x\":\"Interpretability and Analysis\",\"xref\":\"x\",\"y\":\"Information Extraction\\u002fRetrieval\",\"yref\":\"y\"},{\"font\":{\"color\":\"#000000\"},\"showarrow\":false,\"text\":\"15\",\"x\":\"Machine Learning\",\"xref\":\"x\",\"y\":\"Information Extraction\\u002fRetrieval\",\"yref\":\"y\"},{\"font\":{\"color\":\"#000000\"},\"showarrow\":false,\"text\":\"2\",\"x\":\"Machine Translation and Multilinguality\",\"xref\":\"x\",\"y\":\"Information Extraction\\u002fRetrieval\",\"yref\":\"y\"},{\"font\":{\"color\":\"#000000\"},\"showarrow\":false,\"text\":\"3\",\"x\":\"Multimodality, Speech and Grounding\",\"xref\":\"x\",\"y\":\"Information Extraction\\u002fRetrieval\",\"yref\":\"y\"},{\"font\":{\"color\":\"#000000\"},\"showarrow\":false,\"text\":\"2\",\"x\":\"Question Answering\",\"xref\":\"x\",\"y\":\"Information Extraction\\u002fRetrieval\",\"yref\":\"y\"},{\"font\":{\"color\":\"#000000\"},\"showarrow\":false,\"text\":\"3\",\"x\":\"Social Science\",\"xref\":\"x\",\"y\":\"Information Extraction\\u002fRetrieval\",\"yref\":\"y\"},{\"font\":{\"color\":\"#000000\"},\"showarrow\":false,\"text\":\"0\",\"x\":\"Summarization\",\"xref\":\"x\",\"y\":\"Information Extraction\\u002fRetrieval\",\"yref\":\"y\"},{\"font\":{\"color\":\"#000000\"},\"showarrow\":false,\"text\":\"14\",\"x\":\"Other\",\"xref\":\"x\",\"y\":\"Information Extraction\\u002fRetrieval\",\"yref\":\"y\"},{\"font\":{\"color\":\"#000000\"},\"showarrow\":false,\"text\":\"1\",\"x\":\"Dialogue\",\"xref\":\"x\",\"y\":\"Interpretability and Analysis\",\"yref\":\"y\"},{\"font\":{\"color\":\"#000000\"},\"showarrow\":false,\"text\":\"7\",\"x\":\"Ethics\",\"xref\":\"x\",\"y\":\"Interpretability and Analysis\",\"yref\":\"y\"},{\"font\":{\"color\":\"#000000\"},\"showarrow\":false,\"text\":\"1\",\"x\":\"Generation\",\"xref\":\"x\",\"y\":\"Interpretability and Analysis\",\"yref\":\"y\"},{\"font\":{\"color\":\"#000000\"},\"showarrow\":false,\"text\":\"1\",\"x\":\"Information Extraction\\u002fRetrieval\",\"xref\":\"x\",\"y\":\"Interpretability and Analysis\",\"yref\":\"y\"},{\"font\":{\"color\":\"#000000\"},\"showarrow\":false,\"text\":\"42\",\"x\":\"Interpretability and Analysis\",\"xref\":\"x\",\"y\":\"Interpretability and Analysis\",\"yref\":\"y\"},{\"font\":{\"color\":\"#000000\"},\"showarrow\":false,\"text\":\"22\",\"x\":\"Machine Learning\",\"xref\":\"x\",\"y\":\"Interpretability and Analysis\",\"yref\":\"y\"},{\"font\":{\"color\":\"#000000\"},\"showarrow\":false,\"text\":\"2\",\"x\":\"Machine Translation and Multilinguality\",\"xref\":\"x\",\"y\":\"Interpretability and Analysis\",\"yref\":\"y\"},{\"font\":{\"color\":\"#000000\"},\"showarrow\":false,\"text\":\"2\",\"x\":\"Multimodality, Speech and Grounding\",\"xref\":\"x\",\"y\":\"Interpretability and Analysis\",\"yref\":\"y\"},{\"font\":{\"color\":\"#000000\"},\"showarrow\":false,\"text\":\"7\",\"x\":\"Question Answering\",\"xref\":\"x\",\"y\":\"Interpretability and Analysis\",\"yref\":\"y\"},{\"font\":{\"color\":\"#000000\"},\"showarrow\":false,\"text\":\"3\",\"x\":\"Social Science\",\"xref\":\"x\",\"y\":\"Interpretability and Analysis\",\"yref\":\"y\"},{\"font\":{\"color\":\"#000000\"},\"showarrow\":false,\"text\":\"0\",\"x\":\"Summarization\",\"xref\":\"x\",\"y\":\"Interpretability and Analysis\",\"yref\":\"y\"},{\"font\":{\"color\":\"#000000\"},\"showarrow\":false,\"text\":\"15\",\"x\":\"Other\",\"xref\":\"x\",\"y\":\"Interpretability and Analysis\",\"yref\":\"y\"},{\"font\":{\"color\":\"#000000\"},\"showarrow\":false,\"text\":\"4\",\"x\":\"Dialogue\",\"xref\":\"x\",\"y\":\"Machine Learning\",\"yref\":\"y\"},{\"font\":{\"color\":\"#000000\"},\"showarrow\":false,\"text\":\"0\",\"x\":\"Ethics\",\"xref\":\"x\",\"y\":\"Machine Learning\",\"yref\":\"y\"},{\"font\":{\"color\":\"#000000\"},\"showarrow\":false,\"text\":\"7\",\"x\":\"Generation\",\"xref\":\"x\",\"y\":\"Machine Learning\",\"yref\":\"y\"},{\"font\":{\"color\":\"#000000\"},\"showarrow\":false,\"text\":\"10\",\"x\":\"Information Extraction\\u002fRetrieval\",\"xref\":\"x\",\"y\":\"Machine Learning\",\"yref\":\"y\"},{\"font\":{\"color\":\"#000000\"},\"showarrow\":false,\"text\":\"8\",\"x\":\"Interpretability and Analysis\",\"xref\":\"x\",\"y\":\"Machine Learning\",\"yref\":\"y\"},{\"font\":{\"color\":\"#000000\"},\"showarrow\":false,\"text\":\"64\",\"x\":\"Machine Learning\",\"xref\":\"x\",\"y\":\"Machine Learning\",\"yref\":\"y\"},{\"font\":{\"color\":\"#000000\"},\"showarrow\":false,\"text\":\"4\",\"x\":\"Machine Translation and Multilinguality\",\"xref\":\"x\",\"y\":\"Machine Learning\",\"yref\":\"y\"},{\"font\":{\"color\":\"#000000\"},\"showarrow\":false,\"text\":\"0\",\"x\":\"Multimodality, Speech and Grounding\",\"xref\":\"x\",\"y\":\"Machine Learning\",\"yref\":\"y\"},{\"font\":{\"color\":\"#000000\"},\"showarrow\":false,\"text\":\"5\",\"x\":\"Question Answering\",\"xref\":\"x\",\"y\":\"Machine Learning\",\"yref\":\"y\"},{\"font\":{\"color\":\"#000000\"},\"showarrow\":false,\"text\":\"0\",\"x\":\"Social Science\",\"xref\":\"x\",\"y\":\"Machine Learning\",\"yref\":\"y\"},{\"font\":{\"color\":\"#000000\"},\"showarrow\":false,\"text\":\"0\",\"x\":\"Summarization\",\"xref\":\"x\",\"y\":\"Machine Learning\",\"yref\":\"y\"},{\"font\":{\"color\":\"#000000\"},\"showarrow\":false,\"text\":\"10\",\"x\":\"Other\",\"xref\":\"x\",\"y\":\"Machine Learning\",\"yref\":\"y\"},{\"font\":{\"color\":\"#000000\"},\"showarrow\":false,\"text\":\"2\",\"x\":\"Dialogue\",\"xref\":\"x\",\"y\":\"Machine Translation and Multilinguality\",\"yref\":\"y\"},{\"font\":{\"color\":\"#000000\"},\"showarrow\":false,\"text\":\"0\",\"x\":\"Ethics\",\"xref\":\"x\",\"y\":\"Machine Translation and Multilinguality\",\"yref\":\"y\"},{\"font\":{\"color\":\"#000000\"},\"showarrow\":false,\"text\":\"1\",\"x\":\"Generation\",\"xref\":\"x\",\"y\":\"Machine Translation and Multilinguality\",\"yref\":\"y\"},{\"font\":{\"color\":\"#000000\"},\"showarrow\":false,\"text\":\"2\",\"x\":\"Information Extraction\\u002fRetrieval\",\"xref\":\"x\",\"y\":\"Machine Translation and Multilinguality\",\"yref\":\"y\"},{\"font\":{\"color\":\"#000000\"},\"showarrow\":false,\"text\":\"2\",\"x\":\"Interpretability and Analysis\",\"xref\":\"x\",\"y\":\"Machine Translation and Multilinguality\",\"yref\":\"y\"},{\"font\":{\"color\":\"#000000\"},\"showarrow\":false,\"text\":\"6\",\"x\":\"Machine Learning\",\"xref\":\"x\",\"y\":\"Machine Translation and Multilinguality\",\"yref\":\"y\"},{\"font\":{\"color\":\"#000000\"},\"showarrow\":false,\"text\":\"92\",\"x\":\"Machine Translation and Multilinguality\",\"xref\":\"x\",\"y\":\"Machine Translation and Multilinguality\",\"yref\":\"y\"},{\"font\":{\"color\":\"#000000\"},\"showarrow\":false,\"text\":\"2\",\"x\":\"Multimodality, Speech and Grounding\",\"xref\":\"x\",\"y\":\"Machine Translation and Multilinguality\",\"yref\":\"y\"},{\"font\":{\"color\":\"#000000\"},\"showarrow\":false,\"text\":\"0\",\"x\":\"Question Answering\",\"xref\":\"x\",\"y\":\"Machine Translation and Multilinguality\",\"yref\":\"y\"},{\"font\":{\"color\":\"#000000\"},\"showarrow\":false,\"text\":\"1\",\"x\":\"Social Science\",\"xref\":\"x\",\"y\":\"Machine Translation and Multilinguality\",\"yref\":\"y\"},{\"font\":{\"color\":\"#000000\"},\"showarrow\":false,\"text\":\"0\",\"x\":\"Summarization\",\"xref\":\"x\",\"y\":\"Machine Translation and Multilinguality\",\"yref\":\"y\"},{\"font\":{\"color\":\"#000000\"},\"showarrow\":false,\"text\":\"6\",\"x\":\"Other\",\"xref\":\"x\",\"y\":\"Machine Translation and Multilinguality\",\"yref\":\"y\"},{\"font\":{\"color\":\"#000000\"},\"showarrow\":false,\"text\":\"2\",\"x\":\"Dialogue\",\"xref\":\"x\",\"y\":\"Multimodality, Speech and Grounding\",\"yref\":\"y\"},{\"font\":{\"color\":\"#000000\"},\"showarrow\":false,\"text\":\"0\",\"x\":\"Ethics\",\"xref\":\"x\",\"y\":\"Multimodality, Speech and Grounding\",\"yref\":\"y\"},{\"font\":{\"color\":\"#000000\"},\"showarrow\":false,\"text\":\"1\",\"x\":\"Generation\",\"xref\":\"x\",\"y\":\"Multimodality, Speech and Grounding\",\"yref\":\"y\"},{\"font\":{\"color\":\"#000000\"},\"showarrow\":false,\"text\":\"0\",\"x\":\"Information Extraction\\u002fRetrieval\",\"xref\":\"x\",\"y\":\"Multimodality, Speech and Grounding\",\"yref\":\"y\"},{\"font\":{\"color\":\"#000000\"},\"showarrow\":false,\"text\":\"0\",\"x\":\"Interpretability and Analysis\",\"xref\":\"x\",\"y\":\"Multimodality, Speech and Grounding\",\"yref\":\"y\"},{\"font\":{\"color\":\"#000000\"},\"showarrow\":false,\"text\":\"1\",\"x\":\"Machine Learning\",\"xref\":\"x\",\"y\":\"Multimodality, Speech and Grounding\",\"yref\":\"y\"},{\"font\":{\"color\":\"#000000\"},\"showarrow\":false,\"text\":\"2\",\"x\":\"Machine Translation and Multilinguality\",\"xref\":\"x\",\"y\":\"Multimodality, Speech and Grounding\",\"yref\":\"y\"},{\"font\":{\"color\":\"#000000\"},\"showarrow\":false,\"text\":\"37\",\"x\":\"Multimodality, Speech and Grounding\",\"xref\":\"x\",\"y\":\"Multimodality, Speech and Grounding\",\"yref\":\"y\"},{\"font\":{\"color\":\"#000000\"},\"showarrow\":false,\"text\":\"1\",\"x\":\"Question Answering\",\"xref\":\"x\",\"y\":\"Multimodality, Speech and Grounding\",\"yref\":\"y\"},{\"font\":{\"color\":\"#000000\"},\"showarrow\":false,\"text\":\"2\",\"x\":\"Social Science\",\"xref\":\"x\",\"y\":\"Multimodality, Speech and Grounding\",\"yref\":\"y\"},{\"font\":{\"color\":\"#000000\"},\"showarrow\":false,\"text\":\"0\",\"x\":\"Summarization\",\"xref\":\"x\",\"y\":\"Multimodality, Speech and Grounding\",\"yref\":\"y\"},{\"font\":{\"color\":\"#000000\"},\"showarrow\":false,\"text\":\"3\",\"x\":\"Other\",\"xref\":\"x\",\"y\":\"Multimodality, Speech and Grounding\",\"yref\":\"y\"},{\"font\":{\"color\":\"#000000\"},\"showarrow\":false,\"text\":\"0\",\"x\":\"Dialogue\",\"xref\":\"x\",\"y\":\"Question Answering\",\"yref\":\"y\"},{\"font\":{\"color\":\"#000000\"},\"showarrow\":false,\"text\":\"0\",\"x\":\"Ethics\",\"xref\":\"x\",\"y\":\"Question Answering\",\"yref\":\"y\"},{\"font\":{\"color\":\"#000000\"},\"showarrow\":false,\"text\":\"1\",\"x\":\"Generation\",\"xref\":\"x\",\"y\":\"Question Answering\",\"yref\":\"y\"},{\"font\":{\"color\":\"#000000\"},\"showarrow\":false,\"text\":\"1\",\"x\":\"Information Extraction\\u002fRetrieval\",\"xref\":\"x\",\"y\":\"Question Answering\",\"yref\":\"y\"},{\"font\":{\"color\":\"#000000\"},\"showarrow\":false,\"text\":\"1\",\"x\":\"Interpretability and Analysis\",\"xref\":\"x\",\"y\":\"Question Answering\",\"yref\":\"y\"},{\"font\":{\"color\":\"#000000\"},\"showarrow\":false,\"text\":\"1\",\"x\":\"Machine Learning\",\"xref\":\"x\",\"y\":\"Question Answering\",\"yref\":\"y\"},{\"font\":{\"color\":\"#000000\"},\"showarrow\":false,\"text\":\"0\",\"x\":\"Machine Translation and Multilinguality\",\"xref\":\"x\",\"y\":\"Question Answering\",\"yref\":\"y\"},{\"font\":{\"color\":\"#000000\"},\"showarrow\":false,\"text\":\"1\",\"x\":\"Multimodality, Speech and Grounding\",\"xref\":\"x\",\"y\":\"Question Answering\",\"yref\":\"y\"},{\"font\":{\"color\":\"#000000\"},\"showarrow\":false,\"text\":\"61\",\"x\":\"Question Answering\",\"xref\":\"x\",\"y\":\"Question Answering\",\"yref\":\"y\"},{\"font\":{\"color\":\"#000000\"},\"showarrow\":false,\"text\":\"0\",\"x\":\"Social Science\",\"xref\":\"x\",\"y\":\"Question Answering\",\"yref\":\"y\"},{\"font\":{\"color\":\"#000000\"},\"showarrow\":false,\"text\":\"1\",\"x\":\"Summarization\",\"xref\":\"x\",\"y\":\"Question Answering\",\"yref\":\"y\"},{\"font\":{\"color\":\"#000000\"},\"showarrow\":false,\"text\":\"5\",\"x\":\"Other\",\"xref\":\"x\",\"y\":\"Question Answering\",\"yref\":\"y\"},{\"font\":{\"color\":\"#000000\"},\"showarrow\":false,\"text\":\"0\",\"x\":\"Dialogue\",\"xref\":\"x\",\"y\":\"Social Science\",\"yref\":\"y\"},{\"font\":{\"color\":\"#000000\"},\"showarrow\":false,\"text\":\"2\",\"x\":\"Ethics\",\"xref\":\"x\",\"y\":\"Social Science\",\"yref\":\"y\"},{\"font\":{\"color\":\"#000000\"},\"showarrow\":false,\"text\":\"0\",\"x\":\"Generation\",\"xref\":\"x\",\"y\":\"Social Science\",\"yref\":\"y\"},{\"font\":{\"color\":\"#000000\"},\"showarrow\":false,\"text\":\"0\",\"x\":\"Information Extraction\\u002fRetrieval\",\"xref\":\"x\",\"y\":\"Social Science\",\"yref\":\"y\"},{\"font\":{\"color\":\"#000000\"},\"showarrow\":false,\"text\":\"0\",\"x\":\"Interpretability and Analysis\",\"xref\":\"x\",\"y\":\"Social Science\",\"yref\":\"y\"},{\"font\":{\"color\":\"#000000\"},\"showarrow\":false,\"text\":\"1\",\"x\":\"Machine Learning\",\"xref\":\"x\",\"y\":\"Social Science\",\"yref\":\"y\"},{\"font\":{\"color\":\"#000000\"},\"showarrow\":false,\"text\":\"1\",\"x\":\"Machine Translation and Multilinguality\",\"xref\":\"x\",\"y\":\"Social Science\",\"yref\":\"y\"},{\"font\":{\"color\":\"#000000\"},\"showarrow\":false,\"text\":\"1\",\"x\":\"Multimodality, Speech and Grounding\",\"xref\":\"x\",\"y\":\"Social Science\",\"yref\":\"y\"},{\"font\":{\"color\":\"#000000\"},\"showarrow\":false,\"text\":\"0\",\"x\":\"Question Answering\",\"xref\":\"x\",\"y\":\"Social Science\",\"yref\":\"y\"},{\"font\":{\"color\":\"#000000\"},\"showarrow\":false,\"text\":\"22\",\"x\":\"Social Science\",\"xref\":\"x\",\"y\":\"Social Science\",\"yref\":\"y\"},{\"font\":{\"color\":\"#000000\"},\"showarrow\":false,\"text\":\"0\",\"x\":\"Summarization\",\"xref\":\"x\",\"y\":\"Social Science\",\"yref\":\"y\"},{\"font\":{\"color\":\"#000000\"},\"showarrow\":false,\"text\":\"5\",\"x\":\"Other\",\"xref\":\"x\",\"y\":\"Social Science\",\"yref\":\"y\"},{\"font\":{\"color\":\"#000000\"},\"showarrow\":false,\"text\":\"1\",\"x\":\"Dialogue\",\"xref\":\"x\",\"y\":\"Summarization\",\"yref\":\"y\"},{\"font\":{\"color\":\"#000000\"},\"showarrow\":false,\"text\":\"0\",\"x\":\"Ethics\",\"xref\":\"x\",\"y\":\"Summarization\",\"yref\":\"y\"},{\"font\":{\"color\":\"#000000\"},\"showarrow\":false,\"text\":\"3\",\"x\":\"Generation\",\"xref\":\"x\",\"y\":\"Summarization\",\"yref\":\"y\"},{\"font\":{\"color\":\"#000000\"},\"showarrow\":false,\"text\":\"0\",\"x\":\"Information Extraction\\u002fRetrieval\",\"xref\":\"x\",\"y\":\"Summarization\",\"yref\":\"y\"},{\"font\":{\"color\":\"#000000\"},\"showarrow\":false,\"text\":\"0\",\"x\":\"Interpretability and Analysis\",\"xref\":\"x\",\"y\":\"Summarization\",\"yref\":\"y\"},{\"font\":{\"color\":\"#000000\"},\"showarrow\":false,\"text\":\"0\",\"x\":\"Machine Learning\",\"xref\":\"x\",\"y\":\"Summarization\",\"yref\":\"y\"},{\"font\":{\"color\":\"#000000\"},\"showarrow\":false,\"text\":\"0\",\"x\":\"Machine Translation and Multilinguality\",\"xref\":\"x\",\"y\":\"Summarization\",\"yref\":\"y\"},{\"font\":{\"color\":\"#000000\"},\"showarrow\":false,\"text\":\"2\",\"x\":\"Multimodality, Speech and Grounding\",\"xref\":\"x\",\"y\":\"Summarization\",\"yref\":\"y\"},{\"font\":{\"color\":\"#000000\"},\"showarrow\":false,\"text\":\"2\",\"x\":\"Question Answering\",\"xref\":\"x\",\"y\":\"Summarization\",\"yref\":\"y\"},{\"font\":{\"color\":\"#000000\"},\"showarrow\":false,\"text\":\"1\",\"x\":\"Social Science\",\"xref\":\"x\",\"y\":\"Summarization\",\"yref\":\"y\"},{\"font\":{\"color\":\"#000000\"},\"showarrow\":false,\"text\":\"46\",\"x\":\"Summarization\",\"xref\":\"x\",\"y\":\"Summarization\",\"yref\":\"y\"},{\"font\":{\"color\":\"#000000\"},\"showarrow\":false,\"text\":\"1\",\"x\":\"Other\",\"xref\":\"x\",\"y\":\"Summarization\",\"yref\":\"y\"},{\"font\":{\"color\":\"#000000\"},\"showarrow\":false,\"text\":\"24\",\"x\":\"Dialogue\",\"xref\":\"x\",\"y\":\"Other\",\"yref\":\"y\"},{\"font\":{\"color\":\"#000000\"},\"showarrow\":false,\"text\":\"10\",\"x\":\"Ethics\",\"xref\":\"x\",\"y\":\"Other\",\"yref\":\"y\"},{\"font\":{\"color\":\"#000000\"},\"showarrow\":false,\"text\":\"34\",\"x\":\"Generation\",\"xref\":\"x\",\"y\":\"Other\",\"yref\":\"y\"},{\"font\":{\"color\":\"#000000\"},\"showarrow\":false,\"text\":\"39\",\"x\":\"Information Extraction\\u002fRetrieval\",\"xref\":\"x\",\"y\":\"Other\",\"yref\":\"y\"},{\"font\":{\"color\":\"#000000\"},\"showarrow\":false,\"text\":\"30\",\"x\":\"Interpretability and Analysis\",\"xref\":\"x\",\"y\":\"Other\",\"yref\":\"y\"},{\"font\":{\"color\":\"#000000\"},\"showarrow\":false,\"text\":\"41\",\"x\":\"Machine Learning\",\"xref\":\"x\",\"y\":\"Other\",\"yref\":\"y\"},{\"font\":{\"color\":\"#000000\"},\"showarrow\":false,\"text\":\"14\",\"x\":\"Machine Translation and Multilinguality\",\"xref\":\"x\",\"y\":\"Other\",\"yref\":\"y\"},{\"font\":{\"color\":\"#000000\"},\"showarrow\":false,\"text\":\"14\",\"x\":\"Multimodality, Speech and Grounding\",\"xref\":\"x\",\"y\":\"Other\",\"yref\":\"y\"},{\"font\":{\"color\":\"#000000\"},\"showarrow\":false,\"text\":\"24\",\"x\":\"Question Answering\",\"xref\":\"x\",\"y\":\"Other\",\"yref\":\"y\"},{\"font\":{\"color\":\"#000000\"},\"showarrow\":false,\"text\":\"32\",\"x\":\"Social Science\",\"xref\":\"x\",\"y\":\"Other\",\"yref\":\"y\"},{\"font\":{\"color\":\"#000000\"},\"showarrow\":false,\"text\":\"12\",\"x\":\"Summarization\",\"xref\":\"x\",\"y\":\"Other\",\"yref\":\"y\"},{\"font\":{\"color\":\"#FFFFFF\"},\"showarrow\":false,\"text\":\"217\",\"x\":\"Other\",\"xref\":\"x\",\"y\":\"Other\",\"yref\":\"y\"}],\"xaxis\":{\"dtick\":1,\"gridcolor\":\"rgb(0, 0, 0)\",\"side\":\"bottom\",\"ticks\":\"\",\"title\":{\"text\":\"Predicted Labels\"}},\"yaxis\":{\"dtick\":1,\"ticks\":\"\",\"ticksuffix\":\"  \",\"title\":{\"text\":\"True Labels\"}},\"template\":{\"data\":{\"histogram2dcontour\":[{\"type\":\"histogram2dcontour\",\"colorbar\":{\"outlinewidth\":0,\"ticks\":\"\"},\"colorscale\":[[0.0,\"#0d0887\"],[0.1111111111111111,\"#46039f\"],[0.2222222222222222,\"#7201a8\"],[0.3333333333333333,\"#9c179e\"],[0.4444444444444444,\"#bd3786\"],[0.5555555555555556,\"#d8576b\"],[0.6666666666666666,\"#ed7953\"],[0.7777777777777778,\"#fb9f3a\"],[0.8888888888888888,\"#fdca26\"],[1.0,\"#f0f921\"]]}],\"choropleth\":[{\"type\":\"choropleth\",\"colorbar\":{\"outlinewidth\":0,\"ticks\":\"\"}}],\"histogram2d\":[{\"type\":\"histogram2d\",\"colorbar\":{\"outlinewidth\":0,\"ticks\":\"\"},\"colorscale\":[[0.0,\"#0d0887\"],[0.1111111111111111,\"#46039f\"],[0.2222222222222222,\"#7201a8\"],[0.3333333333333333,\"#9c179e\"],[0.4444444444444444,\"#bd3786\"],[0.5555555555555556,\"#d8576b\"],[0.6666666666666666,\"#ed7953\"],[0.7777777777777778,\"#fb9f3a\"],[0.8888888888888888,\"#fdca26\"],[1.0,\"#f0f921\"]]}],\"heatmap\":[{\"type\":\"heatmap\",\"colorbar\":{\"outlinewidth\":0,\"ticks\":\"\"},\"colorscale\":[[0.0,\"#0d0887\"],[0.1111111111111111,\"#46039f\"],[0.2222222222222222,\"#7201a8\"],[0.3333333333333333,\"#9c179e\"],[0.4444444444444444,\"#bd3786\"],[0.5555555555555556,\"#d8576b\"],[0.6666666666666666,\"#ed7953\"],[0.7777777777777778,\"#fb9f3a\"],[0.8888888888888888,\"#fdca26\"],[1.0,\"#f0f921\"]]}],\"heatmapgl\":[{\"type\":\"heatmapgl\",\"colorbar\":{\"outlinewidth\":0,\"ticks\":\"\"},\"colorscale\":[[0.0,\"#0d0887\"],[0.1111111111111111,\"#46039f\"],[0.2222222222222222,\"#7201a8\"],[0.3333333333333333,\"#9c179e\"],[0.4444444444444444,\"#bd3786\"],[0.5555555555555556,\"#d8576b\"],[0.6666666666666666,\"#ed7953\"],[0.7777777777777778,\"#fb9f3a\"],[0.8888888888888888,\"#fdca26\"],[1.0,\"#f0f921\"]]}],\"contourcarpet\":[{\"type\":\"contourcarpet\",\"colorbar\":{\"outlinewidth\":0,\"ticks\":\"\"}}],\"contour\":[{\"type\":\"contour\",\"colorbar\":{\"outlinewidth\":0,\"ticks\":\"\"},\"colorscale\":[[0.0,\"#0d0887\"],[0.1111111111111111,\"#46039f\"],[0.2222222222222222,\"#7201a8\"],[0.3333333333333333,\"#9c179e\"],[0.4444444444444444,\"#bd3786\"],[0.5555555555555556,\"#d8576b\"],[0.6666666666666666,\"#ed7953\"],[0.7777777777777778,\"#fb9f3a\"],[0.8888888888888888,\"#fdca26\"],[1.0,\"#f0f921\"]]}],\"surface\":[{\"type\":\"surface\",\"colorbar\":{\"outlinewidth\":0,\"ticks\":\"\"},\"colorscale\":[[0.0,\"#0d0887\"],[0.1111111111111111,\"#46039f\"],[0.2222222222222222,\"#7201a8\"],[0.3333333333333333,\"#9c179e\"],[0.4444444444444444,\"#bd3786\"],[0.5555555555555556,\"#d8576b\"],[0.6666666666666666,\"#ed7953\"],[0.7777777777777778,\"#fb9f3a\"],[0.8888888888888888,\"#fdca26\"],[1.0,\"#f0f921\"]]}],\"mesh3d\":[{\"type\":\"mesh3d\",\"colorbar\":{\"outlinewidth\":0,\"ticks\":\"\"}}],\"scatter\":[{\"fillpattern\":{\"fillmode\":\"overlay\",\"size\":10,\"solidity\":0.2},\"type\":\"scatter\"}],\"parcoords\":[{\"type\":\"parcoords\",\"line\":{\"colorbar\":{\"outlinewidth\":0,\"ticks\":\"\"}}}],\"scatterpolargl\":[{\"type\":\"scatterpolargl\",\"marker\":{\"colorbar\":{\"outlinewidth\":0,\"ticks\":\"\"}}}],\"bar\":[{\"error_x\":{\"color\":\"#2a3f5f\"},\"error_y\":{\"color\":\"#2a3f5f\"},\"marker\":{\"line\":{\"color\":\"#E5ECF6\",\"width\":0.5},\"pattern\":{\"fillmode\":\"overlay\",\"size\":10,\"solidity\":0.2}},\"type\":\"bar\"}],\"scattergeo\":[{\"type\":\"scattergeo\",\"marker\":{\"colorbar\":{\"outlinewidth\":0,\"ticks\":\"\"}}}],\"scatterpolar\":[{\"type\":\"scatterpolar\",\"marker\":{\"colorbar\":{\"outlinewidth\":0,\"ticks\":\"\"}}}],\"histogram\":[{\"marker\":{\"pattern\":{\"fillmode\":\"overlay\",\"size\":10,\"solidity\":0.2}},\"type\":\"histogram\"}],\"scattergl\":[{\"type\":\"scattergl\",\"marker\":{\"colorbar\":{\"outlinewidth\":0,\"ticks\":\"\"}}}],\"scatter3d\":[{\"type\":\"scatter3d\",\"line\":{\"colorbar\":{\"outlinewidth\":0,\"ticks\":\"\"}},\"marker\":{\"colorbar\":{\"outlinewidth\":0,\"ticks\":\"\"}}}],\"scattermapbox\":[{\"type\":\"scattermapbox\",\"marker\":{\"colorbar\":{\"outlinewidth\":0,\"ticks\":\"\"}}}],\"scatterternary\":[{\"type\":\"scatterternary\",\"marker\":{\"colorbar\":{\"outlinewidth\":0,\"ticks\":\"\"}}}],\"scattercarpet\":[{\"type\":\"scattercarpet\",\"marker\":{\"colorbar\":{\"outlinewidth\":0,\"ticks\":\"\"}}}],\"carpet\":[{\"aaxis\":{\"endlinecolor\":\"#2a3f5f\",\"gridcolor\":\"white\",\"linecolor\":\"white\",\"minorgridcolor\":\"white\",\"startlinecolor\":\"#2a3f5f\"},\"baxis\":{\"endlinecolor\":\"#2a3f5f\",\"gridcolor\":\"white\",\"linecolor\":\"white\",\"minorgridcolor\":\"white\",\"startlinecolor\":\"#2a3f5f\"},\"type\":\"carpet\"}],\"table\":[{\"cells\":{\"fill\":{\"color\":\"#EBF0F8\"},\"line\":{\"color\":\"white\"}},\"header\":{\"fill\":{\"color\":\"#C8D4E3\"},\"line\":{\"color\":\"white\"}},\"type\":\"table\"}],\"barpolar\":[{\"marker\":{\"line\":{\"color\":\"#E5ECF6\",\"width\":0.5},\"pattern\":{\"fillmode\":\"overlay\",\"size\":10,\"solidity\":0.2}},\"type\":\"barpolar\"}],\"pie\":[{\"automargin\":true,\"type\":\"pie\"}]},\"layout\":{\"autotypenumbers\":\"strict\",\"colorway\":[\"#636efa\",\"#EF553B\",\"#00cc96\",\"#ab63fa\",\"#FFA15A\",\"#19d3f3\",\"#FF6692\",\"#B6E880\",\"#FF97FF\",\"#FECB52\"],\"font\":{\"color\":\"#2a3f5f\"},\"hovermode\":\"closest\",\"hoverlabel\":{\"align\":\"left\"},\"paper_bgcolor\":\"white\",\"plot_bgcolor\":\"#E5ECF6\",\"polar\":{\"bgcolor\":\"#E5ECF6\",\"angularaxis\":{\"gridcolor\":\"white\",\"linecolor\":\"white\",\"ticks\":\"\"},\"radialaxis\":{\"gridcolor\":\"white\",\"linecolor\":\"white\",\"ticks\":\"\"}},\"ternary\":{\"bgcolor\":\"#E5ECF6\",\"aaxis\":{\"gridcolor\":\"white\",\"linecolor\":\"white\",\"ticks\":\"\"},\"baxis\":{\"gridcolor\":\"white\",\"linecolor\":\"white\",\"ticks\":\"\"},\"caxis\":{\"gridcolor\":\"white\",\"linecolor\":\"white\",\"ticks\":\"\"}},\"coloraxis\":{\"colorbar\":{\"outlinewidth\":0,\"ticks\":\"\"}},\"colorscale\":{\"sequential\":[[0.0,\"#0d0887\"],[0.1111111111111111,\"#46039f\"],[0.2222222222222222,\"#7201a8\"],[0.3333333333333333,\"#9c179e\"],[0.4444444444444444,\"#bd3786\"],[0.5555555555555556,\"#d8576b\"],[0.6666666666666666,\"#ed7953\"],[0.7777777777777778,\"#fb9f3a\"],[0.8888888888888888,\"#fdca26\"],[1.0,\"#f0f921\"]],\"sequentialminus\":[[0.0,\"#0d0887\"],[0.1111111111111111,\"#46039f\"],[0.2222222222222222,\"#7201a8\"],[0.3333333333333333,\"#9c179e\"],[0.4444444444444444,\"#bd3786\"],[0.5555555555555556,\"#d8576b\"],[0.6666666666666666,\"#ed7953\"],[0.7777777777777778,\"#fb9f3a\"],[0.8888888888888888,\"#fdca26\"],[1.0,\"#f0f921\"]],\"diverging\":[[0,\"#8e0152\"],[0.1,\"#c51b7d\"],[0.2,\"#de77ae\"],[0.3,\"#f1b6da\"],[0.4,\"#fde0ef\"],[0.5,\"#f7f7f7\"],[0.6,\"#e6f5d0\"],[0.7,\"#b8e186\"],[0.8,\"#7fbc41\"],[0.9,\"#4d9221\"],[1,\"#276419\"]]},\"xaxis\":{\"gridcolor\":\"white\",\"linecolor\":\"white\",\"ticks\":\"\",\"title\":{\"standoff\":15},\"zerolinecolor\":\"white\",\"automargin\":true,\"zerolinewidth\":2},\"yaxis\":{\"gridcolor\":\"white\",\"linecolor\":\"white\",\"ticks\":\"\",\"title\":{\"standoff\":15},\"zerolinecolor\":\"white\",\"automargin\":true,\"zerolinewidth\":2},\"scene\":{\"xaxis\":{\"backgroundcolor\":\"#E5ECF6\",\"gridcolor\":\"white\",\"linecolor\":\"white\",\"showbackground\":true,\"ticks\":\"\",\"zerolinecolor\":\"white\",\"gridwidth\":2},\"yaxis\":{\"backgroundcolor\":\"#E5ECF6\",\"gridcolor\":\"white\",\"linecolor\":\"white\",\"showbackground\":true,\"ticks\":\"\",\"zerolinecolor\":\"white\",\"gridwidth\":2},\"zaxis\":{\"backgroundcolor\":\"#E5ECF6\",\"gridcolor\":\"white\",\"linecolor\":\"white\",\"showbackground\":true,\"ticks\":\"\",\"zerolinecolor\":\"white\",\"gridwidth\":2}},\"shapedefaults\":{\"line\":{\"color\":\"#2a3f5f\"}},\"annotationdefaults\":{\"arrowcolor\":\"#2a3f5f\",\"arrowhead\":0,\"arrowwidth\":1},\"geo\":{\"bgcolor\":\"white\",\"landcolor\":\"#E5ECF6\",\"subunitcolor\":\"white\",\"showland\":true,\"showlakes\":true,\"lakecolor\":\"white\"},\"title\":{\"x\":0.05},\"mapbox\":{\"style\":\"light\"}}},\"title\":{\"text\":\"Confusion Matrix\"},\"height\":700},                        {\"responsive\": true}                    ).then(function(){\n",
       "                            \n",
       "var gd = document.getElementById('5ded8b9d-718e-46b6-8f72-af7128b724e2');\n",
       "var x = new MutationObserver(function (mutations, observer) {{\n",
       "        var display = window.getComputedStyle(gd).display;\n",
       "        if (!display || display === 'none') {{\n",
       "            console.log([gd, 'removed!']);\n",
       "            Plotly.purge(gd);\n",
       "            observer.disconnect();\n",
       "        }}\n",
       "}});\n",
       "\n",
       "// Listen for the removal of the full notebook cells\n",
       "var notebookContainer = gd.closest('#notebook-container');\n",
       "if (notebookContainer) {{\n",
       "    x.observe(notebookContainer, {childList: true});\n",
       "}}\n",
       "\n",
       "// Listen for the clearing of the current output cell\n",
       "var outputEl = gd.closest('.output');\n",
       "if (outputEl) {{\n",
       "    x.observe(outputEl, {childList: true});\n",
       "}}\n",
       "\n",
       "                        })                };                });            </script>        </div>"
      ]
     },
     "metadata": {},
     "output_type": "display_data"
    },
    {
     "name": "stdout",
     "output_type": "stream",
     "text": [
      "F1 Macro Score: 0.60547447033784\n",
      "F1 Micro Score: 0.6054324517512509\n"
     ]
    }
   ],
   "source": [
    "import plotly.express as px\n",
    "import plotly.figure_factory as ff\n",
    "import numpy as np\n",
    "from sklearn.metrics import confusion_matrix, f1_score\n",
    "\n",
    "cm = confusion_matrix(y_true, y_pred)\n",
    "labels = list(label_encoder.inverse_transform(list(range(OUTPUT_SIZE))))\n",
    "\n",
    "other_label = 'Other'\n",
    "sorted_labels = sorted([label for label in labels if label != other_label])\n",
    "sorted_labels.append(other_label)\n",
    "\n",
    "label_to_sorted_index = {label: index for index, label in enumerate(sorted_labels)}\n",
    "sorted_cm = np.zeros_like(cm)\n",
    "\n",
    "for i, label1 in enumerate(labels):\n",
    "    for j, label2 in enumerate(labels):\n",
    "        sorted_i = label_to_sorted_index[label1]\n",
    "        sorted_j = label_to_sorted_index[label2]\n",
    "        sorted_cm[sorted_i, sorted_j] = cm[i, j]\n",
    "\n",
    "fig = ff.create_annotated_heatmap(\n",
    "    z=sorted_cm, \n",
    "    x=sorted_labels, \n",
    "    y=sorted_labels, \n",
    "    colorscale='Blues'\n",
    ")\n",
    "\n",
    "fig.update_layout(\n",
    "    title='Confusion Matrix',\n",
    "    xaxis=dict(title='Predicted Labels', side='bottom'),\n",
    "    yaxis=dict(title='True Labels'),\n",
    "    height=700\n",
    ")\n",
    "\n",
    "fig.show()\n",
    "\n",
    "score_macro = f1_score(y_true, y_pred, average='macro')\n",
    "print(\"F1 Macro Score:\", score_macro)\n",
    "score_micro = f1_score(y_true, y_pred, average='micro')\n",
    "print(\"F1 Micro Score:\", score_micro)\n"
   ]
  },
  {
   "cell_type": "code",
   "execution_count": 155,
   "id": "70500a56-1a20-4efc-a3bc-28a98f6660cc",
   "metadata": {},
   "outputs": [],
   "source": [
    "import json\n",
    "\n",
    "y_true = np.array(y_true).tolist()\n",
    "y_pred = np.array(y_pred).tolist()\n",
    "\n",
    "with open('../paper_plots/classifier-evals.json', 'w') as f:\n",
    "    json.dump({'y_true': y_true, 'y_pred': y_pred, 'sorted_labels': labels}, f)"
   ]
  },
  {
   "cell_type": "code",
   "execution_count": 77,
   "id": "55f51b96-605b-467c-80e1-27e21e6b9f95",
   "metadata": {},
   "outputs": [
    {
     "name": "stdout",
     "output_type": "stream",
     "text": [
      "Discourse and Pragmatics\n",
      "Facilitating Contrastive Learning of Discourse Relational Senses by Exploiting the Hierarchy of Sense Relations\n",
      "Implicit discourse relation recognition is a challenging task that involves identifying the sense or senses that hold between two adjacent spans of text, in the absense of an explicit connective between them. In both PDTB-2 (prasad et al., 2008) and PDTB-3 (Webber et al., 2019), discourse relational senses are organized into a three-level hierarchy ranging from four broad top-level senses, to more specific senses below them. Most previous work on implicitf discourse relation recognition have used the sense hierarchy simply to indicate what sense labels were available. Here we do more — incorporating the sense hierarchy into the recognition process itself and using it to select the negative examples used in contrastive learning. With no additional effort, the approach achieves state-of-the-art performance on the task. Our code is released inhttps://github.com/wanqiulong 0923/Contrastive_IDRR.\n",
      "----------------------------------------------------------------------------------------------------\n",
      "Ethics and NLP\n",
      "It’s Morphin’ Time! Combating Linguistic Discrimination with Inflectional Perturbations\n",
      "Training on only perfect Standard English corpora predisposes pre-trained neural networks to discriminate against minorities from non-standard linguistic backgrounds (e.g., African American Vernacular English, Colloquial Singapore English, etc.). We perturb the inflectional morphology of words to craft plausible and semantically similar adversarial examples that expose these biases in popular NLP models, e.g., BERT and Transformer, and show that adversarially fine-tuning them for a single epoch significantly improves robustness without sacrificing performance on clean data.\n",
      "----------------------------------------------------------------------------------------------------\n",
      "Efficient Methods for NLP\n",
      "An Empirical Study on the Transferability of Transformer Modules in Parameter-efficient Fine-tuning\n",
      "Parameter-efficient fine-tuning has garnered lots of attention in recent studies.On this subject, we investigate the capability of different transformer modules in transferring knowledge from a pre-trained model to a downstream task. Our empirical results suggest that every transformer module is a winning ticket such that fine-tuning the specific module while the rest of the network is frozen achieves a comparable performance to the full fine-tuning case. Among different modules in LMs, LayerNorms exhibit a significant capacity for transfer learning to the extent that with only 0.003% updateable parameters in the layer-wise analysis, they can show acceptable performance on various target tasks.We argue that the performance of LayerNorms could be attributed to their high-magnitude weights compared to other components in a pre-trained model.\n",
      "----------------------------------------------------------------------------------------------------\n",
      "Multidisciplinary and Area Chair COI\n",
      "Linguistic Dependencies and Statistical Dependence\n",
      "Are pairs of words that tend to occur together also likely to stand in a linguistic dependency? This empirical question is motivated by a long history of literature in cognitive science, psycholinguistics, and NLP. In this work we contribute an extensive analysis of the relationship between linguistic dependencies and statistical dependence between words. Improving on previous work, we introduce the use of large pretrained language models to compute contextualized estimates of the pointwise mutual information between words (CPMI). For multiple models and languages, we extract dependency trees which maximize CPMI, and compare to gold standard linguistic dependencies. Overall, we find that CPMI dependencies achieve an unlabelled undirected attachment score of at most \\approx 0.5. While far above chance, and consistently above a non-contextualized PMI baseline, this score is generally comparable to a simple baseline formed by connecting adjacent words. We analyze which kinds of linguistic dependencies are best captured in CPMI dependencies, and also find marked differences between the estimates of the large pretrained language models, illustrating how their different training schemes affect the type of dependencies they capture.\n",
      "----------------------------------------------------------------------------------------------------\n",
      "Semantics: Lexical, Sentence level, Textual Inference and Other areas\n",
      "Looking at the Overlooked: An Analysis on the Word-Overlap Bias in Natural Language Inference\n",
      "It has been shown that NLI models are usually biased with respect to the word-overlap between the premise and the hypothesis, as they take this feature as a primary cue for predicting the entailment label. In this paper, we focus on an overlooked aspect of the overlap bias in the NLI models: the reverse word-overlap bias. Our experimental results demonstrate that current NLI systems are also highly biased towards the non-entailment label on instances with low overlap and that existing debiasing methods, which are reportedly successful on challenge datasets, are generally ineffective in addressing this category of bias.Through a set of analyses, we investigate the reasons for the emergence of the overlap bias and the role of minority examples in mitigating this bias.For the former, we find that the word overlap bias does not stem from pre-training, and in the latter, we observe that in contrast to the accepted assumption, eliminating minority examples does not affect the generalizability of debiasing methods with respect to the overlap bias.\n",
      "----------------------------------------------------------------------------------------------------\n",
      "Resources and Evaluation\n",
      "Do LLMs Understand Social Knowledge? Evaluating the Sociability of Large Language Models with SocKET Benchmark\n",
      "Large language models (LLMs) have been shown to perform well at a variety of syntactic, discourse, and reasoning tasks. While LLMs are increasingly deployed in many forms including conversational agents that interact with humans, we lack a grounded benchmark to measure how well LLMs understand \\textit{social} language. Here, we introduce a new theory-driven benchmark, SocKET, that contains 58 NLP tasks testing social knowledge which we group into five categories: humor&sarcasm, offensiveness, sentiment&emotion, and trustworthiness. In tests on the benchmark, we demonstrate that current models attain only moderate performance but reveal significant potential for task transfer among different types and categories of tasks, which were predicted from theory. Through zero-shot evaluations, we show that pretrained models already possess some innate but limited capabilities of social language understanding and training on one category of tasks can improve zero-shot testing on others. Our benchmark provides a systematic way to analyze model performance on an important dimension of language and points to clear room for improvement to build more socially-aware LLMs. The associated resources are released at https://github.com/minjechoi/SOCKET.\n",
      "----------------------------------------------------------------------------------------------------\n",
      "Machine Learning for NLP\n",
      "Null It Out: Guarding Protected Attributes by Iterative Nullspace Projection\n",
      "The ability to control for the kinds of information encoded in neural representation has a variety of use cases, especially in light of the challenge of interpreting these models. We present Iterative Null-space Projection (INLP), a novel method for removing information from neural representations. Our method is based on repeated training of linear classifiers that predict a certain property we aim to remove, followed by projection of the representations on their null-space. By doing so, the classifiers become oblivious to that target property, making it hard to linearly separate the data according to it. While applicable for multiple uses, we evaluate our method on bias and fairness use-cases, and show that our method is able to mitigate bias in word embeddings, as well as to increase fairness in a setting of multi-class classification.\n",
      "----------------------------------------------------------------------------------------------------\n",
      "Large Language Models\n",
      "Data Curation Alone Can Stabilize In-context Learning\n",
      "In-context learning (ICL) enables large language models (LLMs) to perform new tasks by prompting them with a sequence of training examples. However, it is known that ICL is very sensitive to the choice of training examples: randomly sampling examples from a training set leads to high variance in performance. In this paper, we show that carefully curating a subset of training data greatly stabilizes ICL performance without any other changes to the ICL algorithm (e.g., prompt retrieval or calibration). We introduce two methods to choose training subsets---both score training examples individually, then select the highest-scoring ones. CondAcc scores a training example by its average dev-set ICL accuracy when combined with random training examples, while Datamodels learns linear regressors that estimate how the presence of each training example influences LLM outputs.  Across five tasks and two LLMs, sampling from stable subsets selected by CondAcc and Datamodels improves average accuracy over sampling from the entire training set by 7.7\\% and 6.3\\%, respectively. Surprisingly, the stable subset examples are not especially diverse in content or low in perplexity, in contrast with other work suggesting that diversity and perplexity are important when prompting LLMs.\n",
      "----------------------------------------------------------------------------------------------------\n",
      "Large Language Models\n",
      "Token-wise Decomposition of Autoregressive Language Model Hidden States for Analyzing Model Predictions\n",
      "While there is much recent interest in studying why Transformer-based large language models make predictions the way they do, the complex computations performed within each layer have made their behavior somewhat opaque. To mitigate this opacity, this work presents a linear decomposition of final hidden states from autoregressive language models based on each initial input token, which is exact for virtually all contemporary Transformer architectures. This decomposition allows the definition of probability distributions that ablate the contribution of specific input tokens, which can be used to analyze their influence on model probabilities over a sequence of upcoming words with only one forward pass from the model. Using the change in next-word probability as a measure of importance, this work first examines which context words make the biggest contribution to language model predictions. Regression experiments suggest that Transformer-based language models rely primarily on collocational associations, followed by linguistic factors such as syntactic dependencies and coreference relationships in making next-word predictions. Additionally, analyses using these measures to predict syntactic dependencies and coreferent mention spans show that collocational association and repetitions of the same token largely explain the language models' predictions on these tasks.\n",
      "----------------------------------------------------------------------------------------------------\n",
      "Large Language Models\n",
      "Latent Positional Information is in the Self-Attention Variance of Transformer Language Models Without Positional Embeddings\n",
      "The use of positional embeddings in transformer language models is widely accepted. However, recent research has called into question the necessity of such embeddings. We further extend this inquiry by demonstrating that a randomly initialized and frozen transformer language model, devoid of positional embeddings, inherently encodes strong positional information through the shrinkage of self-attention variance. To quantify this variance, we derive the underlying distribution of each step within a transformer layer. Through empirical validation using a fully pretrained model, we show that the variance shrinkage effect still persists after extensive gradient updates. Our findings serve to justify the decision to discard positional embeddings and thus facilitate more efficient pretraining of transformer language models.\n",
      "----------------------------------------------------------------------------------------------------\n",
      "Semantics: Lexical Semantics\n",
      "BERT is to NLP what AlexNet is to CV: Can Pre-Trained Language Models Identify Analogies?\n",
      "Analogies play a central role in human commonsense reasoning. The ability to recognize analogies such as “eye is to seeing what ear is to hearing”, sometimes referred to as analogical proportions, shape how we structure knowledge and understand language. Surprisingly, however, the task of identifying such analogies has not yet received much attention in the language model era. In this paper, we analyze the capabilities of transformer-based language models on this unsupervised task, using benchmarks obtained from educational settings, as well as more commonly used datasets. We find that off-the-shelf language models can identify analogies to a certain extent, but struggle with abstract and complex relations, and results are highly sensitive to model architecture and hyperparameters. Overall the best results were obtained with GPT-2 and RoBERTa, while configurations using BERT were not able to outperform word embedding models. Our results raise important questions for future work about how, and to what extent, pre-trained language models capture knowledge about abstract semantic relations.\n",
      "----------------------------------------------------------------------------------------------------\n",
      "Efficient Methods for NLP\n",
      "Beyond Preserved Accuracy: Evaluating Loyalty and Robustness of BERT Compression\n",
      "Recent studies on compression of pretrained language models (e.g., BERT) usually use preserved accuracy as the metric for evaluation. In this paper, we propose two new metrics, label loyalty and probability loyalty that measure how closely a compressed model (i.e., student) mimics the original model (i.e., teacher). We also explore the effect of compression with regard to robustness under adversarial attacks. We benchmark quantization, pruning, knowledge distillation and progressive module replacing with loyalty and robustness. By combining multiple compression techniques, we provide a practical strategy to achieve better accuracy, loyalty and robustness.\n",
      "----------------------------------------------------------------------------------------------------\n",
      "Machine Learning for NLP\n",
      "SPECTRA: Sparse Structured Text Rationalization\n",
      "Selective rationalization aims to produce decisions along with rationales (e.g., text highlights or word alignments between two sentences). Commonly, rationales are modeled as stochastic binary masks, requiring sampling-based gradient estimators, which complicates training and requires careful hyperparameter tuning. Sparse attention mechanisms are a deterministic alternative, but they lack a way to regularize the rationale extraction (e.g., to control the sparsity of a text highlight or the number of alignments). In this paper, we present a unified framework for deterministic extraction of structured explanations via constrained inference on a factor graph, forming a differentiable layer. Our approach greatly eases training and rationale regularization, generally outperforming previous work on what comes to performance and plausibility of the extracted rationales. We further provide a comparative study of stochastic and deterministic methods for rationale extraction for classification and natural language inference tasks, jointly assessing their predictive power, quality of the explanations, and model variability.\n",
      "----------------------------------------------------------------------------------------------------\n",
      "Theme: Reality Check\n",
      "Controlling Learned Effects to Reduce Spurious Correlations in Text Classifiers\n",
      "To address the problem of NLP classifiers learning  spurious correlations between training features and target labels, a common approach is to make the model's predictions invariant to these features. However, this can be counter-productive when the features have a non-zero causal effect on the target label and thus are important for prediction. Therefore, using methods from the causal inference literature, we propose an algorithm to regularize the learnt effect of the features on the model's prediction to the estimated effect of feature on label. This results in an automated augmentation method that leverages the estimated effect of a feature to appropriately change the labels for new augmented inputs. On toxicity and IMDB review datasets, the proposed algorithm minimises spurious correlations and improves the minority group (i.e., samples breaking spurious correlations) accuracy, while also improving the total accuracy compared to standard training.\n",
      "----------------------------------------------------------------------------------------------------\n",
      "Linguistic Theories, Cognitive Modeling and Psycholinguistics\n",
      "Do Transformer Models Show Similar Attention Patterns to Task-Specific Human Gaze?\n",
      "Learned self-attention functions in state-of-the-art NLP models often correlate with human attention. We investigate whether self-attention in large-scale pre-trained language models is as predictive of human eye fixation patterns during task-reading as classical cognitive models of human attention. We compare attention functions across two task-specific reading datasets for sentiment analysis and relation extraction. We find the predictiveness of large-scale pre-trained self-attention for human attention depends on ‘what is in the tail’, e.g., the syntactic nature of rare contexts.Further, we observe that task-specific fine-tuning does not increase the correlation with human task-specific reading. Through an input reduction experiment we give complementary insights on the sparsity and fidelity trade-off, showing that lower-entropy attention vectors are more faithful.\n",
      "----------------------------------------------------------------------------------------------------\n",
      "Large Language Models\n",
      "ThinkSum: Probabilistic reasoning over sets using large language models\n",
      "Large language models (LLMs) have a substantial capacity for high-level analogical reasoning: reproducing patterns in linear text that occur in their training data (zero-shot evaluation) or in the provided context (few-shot in-context learning). However, recent studies show that even the more advanced LLMs fail in scenarios that require reasoning over multiple objects or facts and making sequences of logical deductions. We propose a two-stage probabilistic inference paradigm, ThinkSum, which reasons over sets of objects or facts in a structured manner. In the first stage (Think -- retrieval of associations), a LLM is queried in parallel over a set of phrases extracted from the prompt or an auxiliary model call. In the second stage (Sum -- probabilistic inference or reasoning), the results of these queries are aggregated to make the final prediction. We demonstrate the possibilities and advantages of ThinkSum on the BIG-bench suite of LLM evaluation tasks, achieving improvements over the state of the art using GPT-family models on thirteen difficult tasks, often with far smaller model variants. We also compare and contrast ThinkSum with other proposed modifications to direct prompting of LLMs, such as variants of chain-of-thought prompting. Our results suggest that because the probabilistic inference in ThinkSum is performed outside of calls to the LLM, ThinkSum is less sensitive to prompt design, yields more interpretable predictions, and can be flexibly combined with latent variable models to extract structured knowledge from LLMs. Overall, our proposed paradigm represents a promising approach for enhancing the reasoning capabilities of LLMs.\n",
      "----------------------------------------------------------------------------------------------------\n",
      "Cognitive Modeling and Psycholinguistics\n",
      "Recurrent Neural Network Language Models Always Learn English-Like Relative Clause Attachment\n",
      "A standard approach to evaluating language models analyzes how models assign probabilities to valid versus invalid syntactic constructions (i.e. is a grammatical sentence more probable than an ungrammatical sentence). Our work uses ambiguous relative clause attachment to extend such evaluations to cases of multiple simultaneous valid interpretations, where stark grammaticality differences are absent. We compare model performance in English and Spanish to show that non-linguistic biases in RNN LMs advantageously overlap with syntactic structure in English but not Spanish. Thus, English models may appear to acquire human-like syntactic preferences, while models trained on Spanish fail to acquire comparable human-like preferences. We conclude by relating these results to broader concerns about the relationship between comprehension (i.e. typical language model use cases) and production (which generates the training data for language models), suggesting that necessary linguistic biases are not present in the training signal at all.\n",
      "----------------------------------------------------------------------------------------------------\n",
      "Cognitive Modeling and Psycholinguistics\n",
      "A Systematic Assessment of Syntactic Generalization in Neural Language Models\n",
      "While state-of-the-art neural network models continue to achieve lower perplexity scores on language modeling benchmarks, it remains unknown whether optimizing for broad-coverage predictive performance leads to human-like syntactic knowledge. Furthermore, existing work has not provided a clear picture about the model properties required to produce proper syntactic generalizations. We present a systematic evaluation of the syntactic knowledge of neural language models, testing 20 combinations of model types and data sizes on a set of 34 English-language syntactic test suites. We find substantial differences in syntactic generalization performance by model architecture, with sequential models underperforming other architectures. Factorially manipulating model architecture and training dataset size (1M-40M words), we find that variability in syntactic generalization performance is substantially greater by architecture than by dataset size for the corpora tested in our experiments. Our results also reveal a dissociation between perplexity and syntactic generalization performance.\n",
      "----------------------------------------------------------------------------------------------------\n",
      "Question Answering\n",
      "How Much Knowledge Can You Pack Into the Parameters of a Language Model?\n",
      "It has recently been observed that neural language models trained on unstructured text can implicitly store and retrieve knowledge using natural language queries. In this short paper, we measure the practical utility of this approach by fine-tuning pre-trained models to answer questions without access to any external context or knowledge. We show that this approach scales with model size and performs competitively with open-domain systems that explicitly retrieve answers from an external knowledge source when answering questions. To facilitate reproducibility and future work, we release our code and trained models.\n",
      "----------------------------------------------------------------------------------------------------\n",
      "Semantics: Textual Inference and Other Areas of Semantics\n",
      "Do Neural Models Learn Systematicity of Monotonicity Inference in Natural Language?\n",
      "Despite the success of language models using neural networks, it remains unclear to what extent neural models have the generalization ability to perform inferences. In this paper, we introduce a method for evaluating whether neural models can learn systematicity of monotonicity inference in natural language, namely, the regularity for performing arbitrary inferences with generalization on composition. We consider four aspects of monotonicity inferences and test whether the models can systematically interpret lexical and logical phenomena on different training/test splits. A series of experiments show that three neural models systematically draw inferences on unseen combinations of lexical and logical phenomena when the syntactic structures of the sentences are similar between the training and test sets. However, the performance of the models significantly decreases when the structures are slightly changed in the test set while retaining all vocabularies and constituents already appearing in the training set. This indicates that the generalization ability of neural models is limited to cases where the syntactic structures are nearly the same as those in the training set.\n",
      "----------------------------------------------------------------------------------------------------\n",
      "Theme\n",
      "Intermediate-Task Transfer Learning with Pretrained Language Models: When and Why Does It Work?\n",
      "While pretrained models such as BERT have shown large gains across natural language understanding tasks, their performance can be improved by further training the model on a data-rich intermediate task, before fine-tuning it on a target task. However, it is still poorly understood when and why intermediate-task training is beneficial for a given target task. To investigate this, we perform a large-scale study on the pretrained RoBERTa model with 110 intermediate-target task combinations. We further evaluate all trained models with 25 probing tasks meant to reveal the specific skills that drive transfer. We observe that intermediate tasks requiring high-level inference and reasoning abilities tend to work best. We also observe that target task performance is strongly correlated with higher-level abilities such as coreference resolution. However, we fail to observe more granular correlations between probing and target task performance, highlighting the need for further work on broad-coverage probing benchmarks. We also observe evidence that the forgetting of knowledge learned during pretraining may limit our analysis, highlighting the need for further work on transfer learning methods in these settings.\n",
      "----------------------------------------------------------------------------------------------------\n",
      "Semantics: Lexical\n",
      "Does GPT-3 Grasp Metaphors? Identifying Metaphor Mappings with Generative Language Models\n",
      "Conceptual metaphors present a powerful cognitive vehicle to transfer knowledge structures from a source to a target domain.  Prior neural approaches focus on detecting whether natural language sequences are metaphoric or literal. We believe that to truly probe metaphoric knowledge in pre-trained language models, their capability to detect this transfer should be investigated.  To this end, this paper proposes to probe the ability of GPT-3 to detect metaphoric language and predict the metaphor's source domain without any pre-set domains. We experiment with different training sample configurations for fine-tuning and few-shot prompting on two distinct datasets. When provided 12 few-shot samples in the prompt, GPT-3 generates the correct source domain for a new sample with an accuracy of 65.15\\% in English and 34.65\\% in Spanish. GPT's most common error is a hallucinated source domain for which no indicator is present in the sentence. Other common errors include identifying a sequence as literal even though a metaphor is present and predicting the wrong source domain based on specific words in the sequence that are not metaphorically related to the target domain.\n",
      "----------------------------------------------------------------------------------------------------\n",
      "Theme Track: Large Language Models and the Future of NLP\n",
      "Prompting is not a substitute for probability measurements in large language models\n",
      "Prompting is now a dominant method for evaluating the linguistic knowledge of large language models (LLMs). While other methods directly read out models' probability distributions over strings, prompting requires models to access this internal information by processing linguistic input, thereby implicitly testing a new type of emergent ability: metalinguistic judgment. In this study, we compare metalinguistic prompting and direct probability measurements as ways of measuring models' linguistic knowledge. Broadly, we find that LLMs' metalinguistic judgments are inferior to quantities directly derived from representations. Furthermore, consistency gets worse as the prompt query diverges from direct measurements of next-word probabilities. Our findings suggest that negative results relying on metalinguistic prompts cannot be taken as conclusive evidence that an LLM lacks a particular linguistic generalization. Our results also highlight the value that is lost with the move to closed APIs where access to probability distributions is limited.\n",
      "----------------------------------------------------------------------------------------------------\n",
      "Machine Learning for NLP\n",
      "Making Pretrained Language Models Good Long-tailed Learners\n",
      "Prompt-tuning has shown appealing performance in few-shot classification by virtue of its capability in effectively exploiting pre-trained knowledge. This motivates us to check the hypothesis that prompt-tuning is also a promising choice for long-tailed classification, since the tail classes are intuitively few-shot ones. To achieve this aim, we conduct empirical studies to examine the hypothesis. The results demonstrate that prompt-tuning makes pretrained language models at least good long-tailed learners. For intuitions on why prompt-tuning can achieve good performance in long-tailed classification, we carry out in-depth analyses by progressively bridging the gap between prompt-tuning and commonly used finetuning. The summary is that the classifier structure and parameterization form the key to making good long-tailed learners, in comparison with the less important input structure. Finally, we verify the applicability of our finding to few-shot classification.\n",
      "----------------------------------------------------------------------------------------------------\n",
      "Machine Learning for NLP\n",
      "Are Pretrained Convolutions Better than Pretrained Transformers?\n",
      "In the era of pre-trained language models, Transformers are the de facto choice of model architectures. While recent research has shown promise in entirely convolutional, or CNN, architectures, they have not been explored using the pre-train-fine-tune paradigm. In the context of language models, are convolutional models competitive to Transformers when pre-trained? This paper investigates this research question and presents several interesting findings. Across an extensive set of experiments on 8 datasets/tasks, we find that CNN-based pre-trained models are competitive and outperform their Transformer counterpart in certain scenarios, albeit with caveats. Overall, the findings outlined in this paper suggest that conflating pre-training and architectural advances is misguided and that both advances should be considered independently. We believe our research paves the way for a healthy amount of optimism in alternative architectures.\n",
      "----------------------------------------------------------------------------------------------------\n",
      "Multilinguality\n",
      "Analyzing the Mono- and Cross-Lingual Pretraining Dynamics of Multilingual Language Models\n",
      "The emergent cross-lingual transfer seen in multilingual pretrained models has sparked significant interest in studying their behavior. However, because these analyses have focused on fully trained multilingual models, little is known about the dynamics of the multilingual pretraining process. We investigate when these models acquire their in-language and cross-lingual abilities by probing checkpoints taken from throughout XLM-R pretraining, using a suite of linguistic tasks. Our analysis shows that the model achieves high in-language performance early on, with lower-level linguistic skills acquired before more complex ones. In contrast, the point in pretraining when the model learns to transfer cross-lingually differs across language pairs. Interestingly, we also observe that, across many languages and tasks, the final model layer exhibits significant performance degradation over time, while linguistic knowledge propagates to lower layers of the network. Taken together, these insights highlight the complexity of multilingual pretraining and the resulting varied behavior for different languages over time.\n",
      "----------------------------------------------------------------------------------------------------\n",
      "Machine Learning for NLP\n",
      "Is the Best Better? Bayesian Statistical Model Comparison for Natural Language Processing\n",
      "Recent work raises concerns about the use of standard splits to compare natural language processing models. We propose a Bayesian statistical model comparison technique which uses k-fold cross-validation across multiple data sets to estimate the likelihood that one model will outperform the other, or that the two will produce practically equivalent results. We use this technique to rank six English part-of-speech taggers across two data sets and three evaluation metrics.\n",
      "----------------------------------------------------------------------------------------------------\n",
      "Theme\n",
      "Returning the N to NLP: Towards Contextually Personalized Classification Models\n",
      "Most NLP models today treat language as universal, even though socio- and psycholingustic research shows that the communicated message is influenced by the characteristics of the speaker as well as the target audience. This paper surveys the landscape of personalization in natural language processing and related fields, and offers a path forward to mitigate the decades of deviation of the NLP tools from sociolingustic findings, allowing to flexibly process the ``natural'' language of each user rather than enforcing a uniform NLP treatment. It outlines a possible direction to incorporate these aspects into neural NLP models by means of socially contextual personalization, and proposes to shift the focus of our evaluation strategies accordingly.\n",
      "----------------------------------------------------------------------------------------------------\n",
      "Semantics: Lexical, Sentence level, Textual Inference and Other areas\n",
      "Are representations built from the ground up? An empirical examination of local composition in language models\n",
      "Compositionality, the phenomenon where the meaning of a phrase can be derived from its constituent parts, is a hallmark of human language. At the same time, many phrases are non-compositional, carrying a meaning beyond that of each part in isolation. Representing both of these types of phrases is critical for language understanding, but it is an open question whether modern language models (LMs) learn to do so; in this work we examine this question. We first formulate a problem of predicting the LM-internal representations of longer phrases given those of their constituents. We find that the representation of a parent phrase can be predicted with some accuracy given an affine transformation of its children. While we would expect the predictive accuracy to correlate with human judgments of semantic compositionality, we find this is largely not the case, indicating that LMs may not accurately distinguish between compositional and non-compositional phrases. We perform a variety of analyses, shedding light on when different varieties of LMs do and do not generate compositional representations, and discuss implications for future modeling work.\n",
      "----------------------------------------------------------------------------------------------------\n",
      "Semantics: Lexical\n",
      "Decoding Symbolism in Language Models\n",
      "This work explores the feasibility of eliciting knowledge from language models (LMs) to decode symbolism, recognizing something (e.g.,roses) as a stand-in for another (e.g., love). We present our evaluative framework, Symbolism Analysis (SymbA), which compares LMs (e.g., RoBERTa, GPT-J) on different types of symbolism and analyze the outcomes along multiple metrics. Our findings suggest that conventional symbols are more reliably elicited from LMs while situated symbols are more challenging. Results also reveal the negative impact of the bias in pre-trained corpora. We further demonstrate that a simple re-ranking strategy can mitigate the bias and significantly improve model performances to be on par with human performances in some cases.\n",
      "----------------------------------------------------------------------------------------------------\n",
      "Semantics: Sentence-level Semantics, Textual Inference and Other areas\n",
      "UnNatural Language Inference\n",
      "Recent investigations into the inner-workings of state-of-the-art large-scale pre-trained Transformer-based Natural Language Understanding (NLU) models indicate that they appear to understand human-like syntax, at least to some extent. We provide novel evidence that complicates this claim: we find that state-of-the-art Natural Language Inference (NLI) models assign the same labels to permuted examples as they do to the original, i.e. they are invariant to random word-order permutations. This behavior notably differs from that of humans; we struggle to understand the meaning of ungrammatical sentences. To measure the severity of this issue, we propose a suite of metrics and investigate which properties of particular permutations lead models to be word order invariant. For example, in MNLI dataset we find almost all (98.7%) examples contain at least one permutation which elicits the gold label. Models are even able to assign gold labels to permutations that they originally failed to predict correctly. We provide a comprehensive empirical evaluation of this phenomenon, and further show that this issue exists in pre-Transformer RNN / ConvNet based encoders, as well as across multiple languages (English and Chinese). Our code and data are available at https://github.com/facebookresearch/unlu.\n",
      "----------------------------------------------------------------------------------------------------\n",
      "Large Language Models\n",
      "Towards Understanding Chain-of-Thought Prompting: An Empirical Study of What Matters\n",
      "Chain-of-Thought (CoT) prompting can dramatically improve the multi-step reasoning abilities of large language models (LLMs). CoT explicitly encourages the LLM to generate intermediate rationales for solving a problem, by providing a series of reasoning steps in the demonstrations. Despite its success, there is still little understanding of what makes CoT prompting effective and which aspects of the demonstrated reasoning steps contribute to its performance. In this paper, we show that CoT reasoning is possible even with invalid demonstrations - prompting with invalid reasoning steps can achieve over 80-90\\% of the performance obtained using CoT under various metrics, while still generating coherent lines of reasoning during inference. Further experiments show that other aspects of the rationales, such as being relevant to the query and correctly ordering the reasoning steps, are much more important for effective CoT reasoning. Overall, these findings both deepen our understanding of CoT prompting, and open up new questions regarding LLMs' capability to learn to reason in context.\n",
      "----------------------------------------------------------------------------------------------------\n",
      "Semantics: Sentence-level Semantics, Textual Inference and Other areas\n",
      "AND does not mean OR: Using Formal Languages to Study Language Models’ Representations\n",
      "A current open question in natural language processing is to what extent language models, which are trained with access only to the form of language, are able to capture the meaning of language. This question is challenging to answer in general, as there is no clear line between meaning and form, but rather meaning constrains form in consistent ways. The goal of this study is to offer insights into a narrower but critical subquestion: Under what conditions should we expect that meaning and form covary sufficiently, such that a language model with access only to form might nonetheless succeed in emulating meaning? Focusing on several formal languages (propositional logic and a set of programming languages), we generate training corpora using a variety of motivated constraints, and measure a distributional language model’s ability to differentiate logical symbols (AND, OR, and NOT). Our findings are largely negative: none of our simulated training corpora result in models which definitively differentiate meaningfully different symbols (e.g., AND vs. OR), suggesting a limitation to the types of semantic signals that current models are able to exploit.\n",
      "----------------------------------------------------------------------------------------------------\n",
      "NLP Applications\n",
      "Which *BERT? A Survey Organizing Contextualized Encoders\n",
      "Pretrained contextualized text encoders are now a staple of the NLP community. We present a survey on language representation learning with the aim of consolidating a series of shared lessons learned across a variety of recent efforts. While significant advancements continue at a rapid pace, we find that enough has now been discovered, in different directions, that we can begin to organize advances according to common themes. Through this organization, we highlight important considerations when interpreting recent contributions and choosing which model to use.\n",
      "----------------------------------------------------------------------------------------------------\n",
      "Machine Translation and Multilinguality\n",
      "An Empirical Study on Adversarial Attack on NMT: Languages and Positions Matter\n",
      "In this paper, we empirically investigate adversarial attack on NMT from two aspects: languages (the source vs. the target language) and positions (front vs. rear). For autoregressive NMT models that generate target words from left to right, we observe that adversarial attack on the source language is more effective than on the target language, and that attacking front positions of target sentences or positions of source sentences aligned to the front positions of corresponding target sentences is more effective than attacking other positions. We further exploit the attention distribution of the victim model to attack source sentences at positions that have a strong association with front target words. Experiment results demonstrate that our attention-based adversarial attack is more effective than adversarial attacks by sampling positions randomly or according to gradients.\n",
      "----------------------------------------------------------------------------------------------------\n",
      "Large Language Models\n",
      "Should you marginalize over possible tokenizations?\n",
      "Autoregressive language models (LMs) map token sequences to probabilities. The usual practice for computing the probability of any character string (e.g. English sentences) is to first transform it into a sequence of tokens that is scored by the model. However, there are exponentially many token sequences that represent any given string. To truly compute the probability of a string one should marginalize over all tokenizations, which is typically intractable. Here, we analyze whether the practice of ignoring the marginalization is justified. To this end, we devise an importance-sampling-based algorithm that allows us to compute estimates of the marginal probabilities and compare them to the default procedure in a range of state-of-the-art models and datasets. Our results show that the gap in log-likelihood is no larger than 0.5\\% in most cases, but that it becomes more pronounced for data with long complex words.\n",
      "----------------------------------------------------------------------------------------------------\n",
      "NLP Applications\n",
      "Text Embeddings Reveal (Almost) As Much As Text\n",
      "How much private information do text embeddings reveal about the original text? We investigate the problem of embedding \\textit{inversion}, reconstructing the full text represented in dense text embeddings. We frame the problem as controlled generation: generating text that, when reembedded, is close to a fixed point in latent space. We find that although a na\\\"ive model conditioned on the embedding performs poorly, a multi-step method that iteratively corrects and re-embeds text is able to recover $92\\%$ of $32\\text{-token}$ text inputs exactly. We train our model to decode text embeddings from two state-of-the-art embedding models, and also show that our model can recover important personal information (full names) from a dataset of clinical notes. Our code is available on Github: \\href{https://github.com/jxmorris12/vec2text}{github.com/jxmorris12/vec2text}.\n",
      "----------------------------------------------------------------------------------------------------\n",
      "Syntax: Tagging, Chunking and Parsing\n",
      "Representations of Syntax [MASK] Useful: Effects of Constituency and Dependency Structure in Recursive LSTMs\n",
      "Sequence-based neural networks show significant sensitivity to syntactic structure, but they still perform less well on syntactic tasks than tree-based networks. Such tree-based networks can be provided with a constituency parse, a dependency parse, or both. We evaluate which of these two representational schemes more effectively introduces biases for syntactic structure that increase performance on the subject-verb agreement prediction task. We find that a constituency-based network generalizes more robustly than a dependency-based one, and that combining the two types of structure does not yield further improvement. Finally, we show that the syntactic robustness of sequential models can be substantially improved by fine-tuning on a small amount of constructed data, suggesting that data augmentation is a viable alternative to explicit constituency structure for imparting the syntactic biases that sequential models are lacking.\n",
      "----------------------------------------------------------------------------------------------------\n",
      "Machine Learning for NLP\n",
      "That Is a Suspicious Reaction!: Interpreting Logits Variation to Detect NLP Adversarial Attacks\n",
      "Adversarial attacks are a major challenge faced by current machine learning research. These purposely crafted inputs fool even the most advanced models, precluding their deployment in safety-critical applications. Extensive research in computer vision has been carried to develop reliable defense strategies. However, the same issue remains less explored in natural language processing. Our work presents a model-agnostic detector of adversarial text examples. The approach identifies patterns in the logits of the target classifier when perturbing the input text. The proposed detector improves the current state-of-the-art performance in recognizing adversarial inputs and exhibits strong generalization capabilities across different NLP models, datasets, and word-level attacks.\n",
      "----------------------------------------------------------------------------------------------------\n"
     ]
    },
    {
     "data": {
      "text/plain": [
       "39"
      ]
     },
     "execution_count": 77,
     "metadata": {},
     "output_type": "execute_result"
    }
   ],
   "source": [
    "from sklearn.metrics import f1_score\n",
    "\n",
    "y_pred = []\n",
    "y_true = []\n",
    "\n",
    "n = 0\n",
    "model.eval()\n",
    "with torch.no_grad():\n",
    "    for index, row in df_test.iterrows():\n",
    "        vector = row['embedding']\n",
    "        output = model(torch.tensor(vector))\n",
    "        pred = torch.argmax(output)\n",
    "        pred = int(output[4] > 0.5)\n",
    "\n",
    "        if pred and 'analysis' not in row['area'].lower():\n",
    "            n += 1\n",
    "            print(row['area'])\n",
    "            print(row['title'])\n",
    "            print(row['abstract'])\n",
    "            print('-' * 100)\n",
    "\n",
    "n"
   ]
  },
  {
   "cell_type": "code",
   "execution_count": 78,
   "id": "c899af0a-b83e-42a0-8118-6838e48774ad",
   "metadata": {},
   "outputs": [],
   "source": [
    "torch.save(model.state_dict(), './general-classifier-weights.pt')"
   ]
  }
 ],
 "metadata": {
  "kernelspec": {
   "display_name": "Python 3 (ipykernel)",
   "language": "python",
   "name": "python3"
  },
  "language_info": {
   "codemirror_mode": {
    "name": "ipython",
    "version": 3
   },
   "file_extension": ".py",
   "mimetype": "text/x-python",
   "name": "python",
   "nbconvert_exporter": "python",
   "pygments_lexer": "ipython3",
   "version": "3.11.8"
  }
 },
 "nbformat": 4,
 "nbformat_minor": 5
}
